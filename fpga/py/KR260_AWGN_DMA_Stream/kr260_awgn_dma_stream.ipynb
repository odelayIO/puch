{
 "cells": [
  {
   "cell_type": "markdown",
   "metadata": {},
   "source": [
    "## KR260 AWGN DMA Stream\n",
    "\n",
    "\n",
    "### Plot function for use in this notebook\n",
    "The first code block below defines a function that we will use for plotting data throughout this notebook. Note that the function has a `n_samples` argument so that we can limit the number of samples to plot. Plotting more than a few thousand samples can be very slow and consume a lot of RAM.\n",
    "\n",
    "### Requirements\n",
    "Install the following:\n",
    "\n",
    "```bash\n",
    "pip install ipympl\n",
    "pip install ipywidgets\n",
    "pip install jupyter_bokeh\n",
    "```"
   ]
  },
  {
   "cell_type": "markdown",
   "metadata": {},
   "source": [
    "# Initilize\n",
    "\n",
    "#### Bokeh Plot Function"
   ]
  },
  {
   "cell_type": "code",
   "execution_count": 62,
   "metadata": {},
   "outputs": [],
   "source": [
    "from bokeh.plotting import figure, output_file, show\n",
    "from bokeh.io import output_notebook, show\n",
    "import numpy as np\n",
    "import math\n",
    "\n",
    "\n",
    "def plot_time(in_signal,out_signal=None):\n",
    "    t = np.linspace(0,len(in_signal),len(in_signal))\n",
    "    output_notebook()\n",
    "    p = figure(title = \"Input & Output Signal\")\n",
    "    \n",
    "    if out_signal is not None:\n",
    "        p.line(t,out_signal,legend_label=\"Output Signal\",line_color=\"red\",line_width=1)\n",
    "    p.line(t,in_signal,legend_label=\"Input Signal\",line_color=\"blue\",line_width=3)\n",
    "    show(p)"
   ]
  },
  {
   "cell_type": "markdown",
   "metadata": {},
   "source": [
    "#### Load Overlay"
   ]
  },
  {
   "cell_type": "code",
   "execution_count": 63,
   "metadata": {},
   "outputs": [],
   "source": [
    "from pynq import Overlay\n",
    "from pynq import allocate\n",
    "from pynq import MMIO\n",
    "import pynq.lib.dma\n",
    "import time\n",
    "\n",
    "#import Python library from repo:\n",
    "import sys\n",
    "sys.path.append('/home/root/jupyter_notebooks/puch/')\n",
    "import fpga.py.puch\n",
    "import fpga.lib.timestamp.sw.timestamp_regmap\n",
    "import fpga.lib.led_reg.sw.led_regmap\n",
    "import fpga.lib.HLS_QPSK_Demod.sw.qpsk_regmap\n",
    "\n",
    "\n",
    "# Load the overlay\n",
    "overlay = Overlay('../../overlays/KR260_AWGN_DMA_Stream/kr260_awgn_dma_stream.bit')\n",
    "\n",
    "# Assign blocks to short vars\n",
    "dma          = overlay.axi_dma_0\n",
    "led_module   = overlay.led_reg_0\n",
    "timestamp    = overlay.Timestamp_0\n",
    "awgn         = overlay.gng_top_0"
   ]
  },
  {
   "cell_type": "markdown",
   "metadata": {},
   "source": [
    "##### Print out the register map for DMA and HLS Gain Blocks"
   ]
  },
  {
   "cell_type": "code",
   "execution_count": null,
   "metadata": {},
   "outputs": [],
   "source": [
    "overlay.ip_dict"
   ]
  },
  {
   "cell_type": "code",
   "execution_count": null,
   "metadata": {},
   "outputs": [],
   "source": [
    "dma.register_map"
   ]
  },
  {
   "cell_type": "markdown",
   "metadata": {},
   "source": [
    "##### Display Time Stamp Register\n",
    "The time stamp is burned into the FPGA during the build process"
   ]
  },
  {
   "cell_type": "code",
   "execution_count": 52,
   "metadata": {},
   "outputs": [
    {
     "name": "stdout",
     "output_type": "stream",
     "text": [
      "FPGA Build Timestamp:  2025/2/13 16:25:19\n"
     ]
    }
   ],
   "source": [
    "print(\"FPGA Build Timestamp:  \" + puch.get_timestamp_str(timestamp))"
   ]
  },
  {
   "cell_type": "markdown",
   "metadata": {},
   "source": [
    "##### Toggle USER_LED[1:0] on/off"
   ]
  },
  {
   "cell_type": "code",
   "execution_count": 91,
   "metadata": {},
   "outputs": [],
   "source": [
    "for i in range(10):\n",
    "    led_module.mmio.write(led_regmap.RegMap.USER_LEDS_ADDR,0x1)\n",
    "    time.sleep(0.25)\n",
    "    led_module.mmio.write(led_regmap.RegMap.USER_LEDS_ADDR,0x2)\n",
    "    time.sleep(0.25)\n",
    "led_module.mmio.write(led_regmap.RegMap.USER_LEDS_ADDR,0x0)"
   ]
  },
  {
   "cell_type": "markdown",
   "metadata": {},
   "source": [
    "##### Display AWGN Block Parameters"
   ]
  },
  {
   "cell_type": "code",
   "execution_count": 4,
   "metadata": {},
   "outputs": [
    {
     "name": "stdout",
     "output_type": "stream",
     "text": [
      "Noise Gain = 0\n",
      "Noise Gain = 4\n",
      "AWGN Enable = 0\n",
      "AWGN Enable = 1\n"
     ]
    }
   ],
   "source": [
    "print(\"Noise Gain = \" + str(awgn.read(awgn_regmap.RegMap.AWGN_NOISE_GAIN_ADDR)))\n",
    "awgn.write(awgn_regmap.RegMap.AWGN_NOISE_GAIN_ADDR,4)\n",
    "print(\"Noise Gain = \" + str(awgn.read(awgn_regmap.RegMap.AWGN_NOISE_GAIN_ADDR)))\n",
    "print(\"AWGN Enable = \" + str(awgn.read(awgn_regmap.RegMap.AWGN_ENABLE_ADDR)))\n",
    "awgn.write(awgn_regmap.RegMap.AWGN_ENABLE_ADDR,1)\n",
    "print(\"AWGN Enable = \" + str(awgn.read(awgn_regmap.RegMap.AWGN_ENABLE_ADDR)))"
   ]
  },
  {
   "cell_type": "code",
   "execution_count": 53,
   "metadata": {},
   "outputs": [
    {
     "name": "stdout",
     "output_type": "stream",
     "text": [
      "F_IN : (16, 14)\n",
      "F_OUT : (16, 14)\n",
      "F_AWGN : (16, 11)\n"
     ]
    },
    {
     "data": {
      "text/plain": [
       "int"
      ]
     },
     "execution_count": 53,
     "metadata": {},
     "output_type": "execute_result"
    }
   ],
   "source": [
    "#awgn.write(gain_module.register_map.gain.address,4)\n",
    "tBits, fBits = puch.get_format(awgn,awgn_regmap.RegMap.F_IN_ADDR)\n",
    "print(\"F_IN : (\" + str(tBits) + \", \" + str(fBits) + \")\")\n",
    "tBits, fBits = puch.get_format(awgn,awgn_regmap.RegMap.F_OUT_ADDR)\n",
    "print(\"F_OUT : (\" + str(tBits) + \", \" + str(fBits) + \")\")\n",
    "tBits, fBits = puch.get_format(awgn,awgn_regmap.RegMap.F_AWGN_ADDR)\n",
    "print(\"F_AWGN : (\" + str(tBits) + \", \" + str(fBits) + \")\")\n",
    "\n",
    "type(fBits)"
   ]
  },
  {
   "cell_type": "markdown",
   "metadata": {},
   "source": [
    "### DMA Transfer the Sample buffer from ARM Processor to the AWGN FPGA Module, and plot"
   ]
  },
  {
   "cell_type": "code",
   "execution_count": 91,
   "metadata": {},
   "outputs": [
    {
     "name": "stdout",
     "output_type": "stream",
     "text": [
      "Number of samples:  2000\n",
      "AWGN Gain           : 0.07958984375\n",
      "AWGN Enable         : 1\n",
      "DMA Transfer Size   : 2000\n",
      "AWGN I Sat          : 0\n",
      "AWGN Q Sat          : 0\n",
      "DMA Transfer Execution Time  : 0.0016543865203857422  sec\n"
     ]
    },
    {
     "data": {
      "text/html": [
       "<style>\n",
       "        .bk-notebook-logo {\n",
       "            display: block;\n",
       "            width: 20px;\n",
       "            height: 20px;\n",
       "            background-image: url(data:image/png;base64,iVBORw0KGgoAAAANSUhEUgAAABQAAAAUCAYAAACNiR0NAAAABHNCSVQICAgIfAhkiAAAAAlwSFlzAAALEgAACxIB0t1+/AAAABx0RVh0U29mdHdhcmUAQWRvYmUgRmlyZXdvcmtzIENTNui8sowAAAOkSURBVDiNjZRtaJVlGMd/1/08zzln5zjP1LWcU9N0NkN8m2CYjpgQYQXqSs0I84OLIC0hkEKoPtiH3gmKoiJDU7QpLgoLjLIQCpEsNJ1vqUOdO7ppbuec5+V+rj4ctwzd8IIbbi6u+8f1539dt3A78eXC7QizUF7gyV1fD1Yqg4JWz84yffhm0qkFqBogB9rM8tZdtwVsPUhWhGcFJngGeWrPzHm5oaMmkfEg1usvLFyc8jLRqDOMru7AyC8saQr7GG7f5fvDeH7Ej8CM66nIF+8yngt6HWaKh7k49Soy9nXurCi1o3qUbS3zWfrYeQDTB/Qj6kX6Ybhw4B+bOYoLKCC9H3Nu/leUTZ1JdRWkkn2ldcCamzrcf47KKXdAJllSlxAOkRgyHsGC/zRday5Qld9DyoM4/q/rUoy/CXh3jzOu3bHUVZeU+DEn8FInkPBFlu3+nW3Nw0mk6vCDiWg8CeJaxEwuHS3+z5RgY+YBR6V1Z1nxSOfoaPa4LASWxxdNp+VWTk7+4vzaou8v8PN+xo+KY2xsw6une2frhw05CTYOmQvsEhjhWjn0bmXPjpE1+kplmmkP3suftwTubK9Vq22qKmrBhpY4jvd5afdRA3wGjFAgcnTK2s4hY0/GPNIb0nErGMCRxWOOX64Z8RAC4oCXdklmEvcL8o0BfkNK4lUg9HTl+oPlQxdNo3Mg4Nv175e/1LDGzZen30MEjRUtmXSfiTVu1kK8W4txyV6BMKlbgk3lMwYCiusNy9fVfvvwMxv8Ynl6vxoByANLTWplvuj/nF9m2+PDtt1eiHPBr1oIfhCChQMBw6Aw0UulqTKZdfVvfG7VcfIqLG9bcldL/+pdWTLxLUy8Qq38heUIjh4XlzZxzQm19lLFlr8vdQ97rjZVOLf8nclzckbcD4wxXMidpX30sFd37Fv/GtwwhzhxGVAprjbg0gCAEeIgwCZyTV2Z1REEW8O4py0wsjeloKoMr6iCY6dP92H6Vw/oTyICIthibxjm/DfN9lVz8IqtqKYLUXfoKVMVQVVJOElGjrnnUt9T9wbgp8AyYKaGlqingHZU/uG2NTZSVqwHQTWkx9hxjkpWDaCg6Ckj5qebgBVbT3V3NNXMSiWSDdGV3hrtzla7J+duwPOToIg42ChPQOQjspnSlp1V+Gjdged7+8UN5CRAV7a5EdFNwCjEaBR27b3W890TE7g24NAP/mMDXRWrGoFPQI9ls/MWO2dWFAar/xcOIImbbpA3zgAAAABJRU5ErkJggg==);\n",
       "        }\n",
       "    </style>\n",
       "    <div>\n",
       "        <a href=\"https://bokeh.org\" target=\"_blank\" class=\"bk-notebook-logo\"></a>\n",
       "        <span id=\"f5ce2526-bbba-4031-b9d3-12e4c4c9a58e\">Loading BokehJS ...</span>\n",
       "    </div>\n"
      ]
     },
     "metadata": {},
     "output_type": "display_data"
    },
    {
     "data": {
      "application/javascript": [
       "(function(root) {\n",
       "  function now() {\n",
       "    return new Date();\n",
       "  }\n",
       "\n",
       "  const force = true;\n",
       "\n",
       "  if (typeof root._bokeh_onload_callbacks === \"undefined\" || force === true) {\n",
       "    root._bokeh_onload_callbacks = [];\n",
       "    root._bokeh_is_loading = undefined;\n",
       "  }\n",
       "\n",
       "const JS_MIME_TYPE = 'application/javascript';\n",
       "  const HTML_MIME_TYPE = 'text/html';\n",
       "  const EXEC_MIME_TYPE = 'application/vnd.bokehjs_exec.v0+json';\n",
       "  const CLASS_NAME = 'output_bokeh rendered_html';\n",
       "\n",
       "  /**\n",
       "   * Render data to the DOM node\n",
       "   */\n",
       "  function render(props, node) {\n",
       "    const script = document.createElement(\"script\");\n",
       "    node.appendChild(script);\n",
       "  }\n",
       "\n",
       "  /**\n",
       "   * Handle when an output is cleared or removed\n",
       "   */\n",
       "  function handleClearOutput(event, handle) {\n",
       "    function drop(id) {\n",
       "      const view = Bokeh.index.get_by_id(id)\n",
       "      if (view != null) {\n",
       "        view.model.document.clear()\n",
       "        Bokeh.index.delete(view)\n",
       "      }\n",
       "    }\n",
       "\n",
       "    const cell = handle.cell;\n",
       "\n",
       "    const id = cell.output_area._bokeh_element_id;\n",
       "    const server_id = cell.output_area._bokeh_server_id;\n",
       "\n",
       "    // Clean up Bokeh references\n",
       "    if (id != null) {\n",
       "      drop(id)\n",
       "    }\n",
       "\n",
       "    if (server_id !== undefined) {\n",
       "      // Clean up Bokeh references\n",
       "      const cmd_clean = \"from bokeh.io.state import curstate; print(curstate().uuid_to_server['\" + server_id + \"'].get_sessions()[0].document.roots[0]._id)\";\n",
       "      cell.notebook.kernel.execute(cmd_clean, {\n",
       "        iopub: {\n",
       "          output: function(msg) {\n",
       "            const id = msg.content.text.trim()\n",
       "            drop(id)\n",
       "          }\n",
       "        }\n",
       "      });\n",
       "      // Destroy server and session\n",
       "      const cmd_destroy = \"import bokeh.io.notebook as ion; ion.destroy_server('\" + server_id + \"')\";\n",
       "      cell.notebook.kernel.execute(cmd_destroy);\n",
       "    }\n",
       "  }\n",
       "\n",
       "  /**\n",
       "   * Handle when a new output is added\n",
       "   */\n",
       "  function handleAddOutput(event, handle) {\n",
       "    const output_area = handle.output_area;\n",
       "    const output = handle.output;\n",
       "\n",
       "    // limit handleAddOutput to display_data with EXEC_MIME_TYPE content only\n",
       "    if ((output.output_type != \"display_data\") || (!Object.prototype.hasOwnProperty.call(output.data, EXEC_MIME_TYPE))) {\n",
       "      return\n",
       "    }\n",
       "\n",
       "    const toinsert = output_area.element.find(\".\" + CLASS_NAME.split(' ')[0]);\n",
       "\n",
       "    if (output.metadata[EXEC_MIME_TYPE][\"id\"] !== undefined) {\n",
       "      toinsert[toinsert.length - 1].firstChild.textContent = output.data[JS_MIME_TYPE];\n",
       "      // store reference to embed id on output_area\n",
       "      output_area._bokeh_element_id = output.metadata[EXEC_MIME_TYPE][\"id\"];\n",
       "    }\n",
       "    if (output.metadata[EXEC_MIME_TYPE][\"server_id\"] !== undefined) {\n",
       "      const bk_div = document.createElement(\"div\");\n",
       "      bk_div.innerHTML = output.data[HTML_MIME_TYPE];\n",
       "      const script_attrs = bk_div.children[0].attributes;\n",
       "      for (let i = 0; i < script_attrs.length; i++) {\n",
       "        toinsert[toinsert.length - 1].firstChild.setAttribute(script_attrs[i].name, script_attrs[i].value);\n",
       "        toinsert[toinsert.length - 1].firstChild.textContent = bk_div.children[0].textContent\n",
       "      }\n",
       "      // store reference to server id on output_area\n",
       "      output_area._bokeh_server_id = output.metadata[EXEC_MIME_TYPE][\"server_id\"];\n",
       "    }\n",
       "  }\n",
       "\n",
       "  function register_renderer(events, OutputArea) {\n",
       "\n",
       "    function append_mime(data, metadata, element) {\n",
       "      // create a DOM node to render to\n",
       "      const toinsert = this.create_output_subarea(\n",
       "        metadata,\n",
       "        CLASS_NAME,\n",
       "        EXEC_MIME_TYPE\n",
       "      );\n",
       "      this.keyboard_manager.register_events(toinsert);\n",
       "      // Render to node\n",
       "      const props = {data: data, metadata: metadata[EXEC_MIME_TYPE]};\n",
       "      render(props, toinsert[toinsert.length - 1]);\n",
       "      element.append(toinsert);\n",
       "      return toinsert\n",
       "    }\n",
       "\n",
       "    /* Handle when an output is cleared or removed */\n",
       "    events.on('clear_output.CodeCell', handleClearOutput);\n",
       "    events.on('delete.Cell', handleClearOutput);\n",
       "\n",
       "    /* Handle when a new output is added */\n",
       "    events.on('output_added.OutputArea', handleAddOutput);\n",
       "\n",
       "    /**\n",
       "     * Register the mime type and append_mime function with output_area\n",
       "     */\n",
       "    OutputArea.prototype.register_mime_type(EXEC_MIME_TYPE, append_mime, {\n",
       "      /* Is output safe? */\n",
       "      safe: true,\n",
       "      /* Index of renderer in `output_area.display_order` */\n",
       "      index: 0\n",
       "    });\n",
       "  }\n",
       "\n",
       "  // register the mime type if in Jupyter Notebook environment and previously unregistered\n",
       "  if (root.Jupyter !== undefined) {\n",
       "    const events = require('base/js/events');\n",
       "    const OutputArea = require('notebook/js/outputarea').OutputArea;\n",
       "\n",
       "    if (OutputArea.prototype.mime_types().indexOf(EXEC_MIME_TYPE) == -1) {\n",
       "      register_renderer(events, OutputArea);\n",
       "    }\n",
       "  }\n",
       "  if (typeof (root._bokeh_timeout) === \"undefined\" || force === true) {\n",
       "    root._bokeh_timeout = Date.now() + 5000;\n",
       "    root._bokeh_failed_load = false;\n",
       "  }\n",
       "\n",
       "  const NB_LOAD_WARNING = {'data': {'text/html':\n",
       "     \"<div style='background-color: #fdd'>\\n\"+\n",
       "     \"<p>\\n\"+\n",
       "     \"BokehJS does not appear to have successfully loaded. If loading BokehJS from CDN, this \\n\"+\n",
       "     \"may be due to a slow or bad network connection. Possible fixes:\\n\"+\n",
       "     \"</p>\\n\"+\n",
       "     \"<ul>\\n\"+\n",
       "     \"<li>re-rerun `output_notebook()` to attempt to load from CDN again, or</li>\\n\"+\n",
       "     \"<li>use INLINE resources instead, as so:</li>\\n\"+\n",
       "     \"</ul>\\n\"+\n",
       "     \"<code>\\n\"+\n",
       "     \"from bokeh.resources import INLINE\\n\"+\n",
       "     \"output_notebook(resources=INLINE)\\n\"+\n",
       "     \"</code>\\n\"+\n",
       "     \"</div>\"}};\n",
       "\n",
       "  function display_loaded() {\n",
       "    const el = document.getElementById(\"f5ce2526-bbba-4031-b9d3-12e4c4c9a58e\");\n",
       "    if (el != null) {\n",
       "      el.textContent = \"BokehJS is loading...\";\n",
       "    }\n",
       "    if (root.Bokeh !== undefined) {\n",
       "      if (el != null) {\n",
       "        el.textContent = \"BokehJS \" + root.Bokeh.version + \" successfully loaded.\";\n",
       "      }\n",
       "    } else if (Date.now() < root._bokeh_timeout) {\n",
       "      setTimeout(display_loaded, 100)\n",
       "    }\n",
       "  }\n",
       "\n",
       "  function run_callbacks() {\n",
       "    try {\n",
       "      root._bokeh_onload_callbacks.forEach(function(callback) {\n",
       "        if (callback != null)\n",
       "          callback();\n",
       "      });\n",
       "    } finally {\n",
       "      delete root._bokeh_onload_callbacks\n",
       "    }\n",
       "    console.debug(\"Bokeh: all callbacks have finished\");\n",
       "  }\n",
       "\n",
       "  function load_libs(css_urls, js_urls, callback) {\n",
       "    if (css_urls == null) css_urls = [];\n",
       "    if (js_urls == null) js_urls = [];\n",
       "\n",
       "    root._bokeh_onload_callbacks.push(callback);\n",
       "    if (root._bokeh_is_loading > 0) {\n",
       "      console.debug(\"Bokeh: BokehJS is being loaded, scheduling callback at\", now());\n",
       "      return null;\n",
       "    }\n",
       "    if (js_urls == null || js_urls.length === 0) {\n",
       "      run_callbacks();\n",
       "      return null;\n",
       "    }\n",
       "    console.debug(\"Bokeh: BokehJS not loaded, scheduling load and callback at\", now());\n",
       "    root._bokeh_is_loading = css_urls.length + js_urls.length;\n",
       "\n",
       "    function on_load() {\n",
       "      root._bokeh_is_loading--;\n",
       "      if (root._bokeh_is_loading === 0) {\n",
       "        console.debug(\"Bokeh: all BokehJS libraries/stylesheets loaded\");\n",
       "        run_callbacks()\n",
       "      }\n",
       "    }\n",
       "\n",
       "    function on_error(url) {\n",
       "      console.error(\"failed to load \" + url);\n",
       "    }\n",
       "\n",
       "    for (let i = 0; i < css_urls.length; i++) {\n",
       "      const url = css_urls[i];\n",
       "      const element = document.createElement(\"link\");\n",
       "      element.onload = on_load;\n",
       "      element.onerror = on_error.bind(null, url);\n",
       "      element.rel = \"stylesheet\";\n",
       "      element.type = \"text/css\";\n",
       "      element.href = url;\n",
       "      console.debug(\"Bokeh: injecting link tag for BokehJS stylesheet: \", url);\n",
       "      document.body.appendChild(element);\n",
       "    }\n",
       "\n",
       "    for (let i = 0; i < js_urls.length; i++) {\n",
       "      const url = js_urls[i];\n",
       "      const element = document.createElement('script');\n",
       "      element.onload = on_load;\n",
       "      element.onerror = on_error.bind(null, url);\n",
       "      element.async = false;\n",
       "      element.src = url;\n",
       "      console.debug(\"Bokeh: injecting script tag for BokehJS library: \", url);\n",
       "      document.head.appendChild(element);\n",
       "    }\n",
       "  };\n",
       "\n",
       "  function inject_raw_css(css) {\n",
       "    const element = document.createElement(\"style\");\n",
       "    element.appendChild(document.createTextNode(css));\n",
       "    document.body.appendChild(element);\n",
       "  }\n",
       "\n",
       "  const js_urls = [\"https://cdn.bokeh.org/bokeh/release/bokeh-3.3.0.min.js\", \"https://cdn.bokeh.org/bokeh/release/bokeh-gl-3.3.0.min.js\", \"https://cdn.bokeh.org/bokeh/release/bokeh-widgets-3.3.0.min.js\", \"https://cdn.bokeh.org/bokeh/release/bokeh-tables-3.3.0.min.js\", \"https://cdn.bokeh.org/bokeh/release/bokeh-mathjax-3.3.0.min.js\"];\n",
       "  const css_urls = [];\n",
       "\n",
       "  const inline_js = [    function(Bokeh) {\n",
       "      Bokeh.set_log_level(\"info\");\n",
       "    },\n",
       "function(Bokeh) {\n",
       "    }\n",
       "  ];\n",
       "\n",
       "  function run_inline_js() {\n",
       "    if (root.Bokeh !== undefined || force === true) {\n",
       "          for (let i = 0; i < inline_js.length; i++) {\n",
       "      inline_js[i].call(root, root.Bokeh);\n",
       "    }\n",
       "if (force === true) {\n",
       "        display_loaded();\n",
       "      }} else if (Date.now() < root._bokeh_timeout) {\n",
       "      setTimeout(run_inline_js, 100);\n",
       "    } else if (!root._bokeh_failed_load) {\n",
       "      console.log(\"Bokeh: BokehJS failed to load within specified timeout.\");\n",
       "      root._bokeh_failed_load = true;\n",
       "    } else if (force !== true) {\n",
       "      const cell = $(document.getElementById(\"f5ce2526-bbba-4031-b9d3-12e4c4c9a58e\")).parents('.cell').data().cell;\n",
       "      cell.output_area.append_execute_result(NB_LOAD_WARNING)\n",
       "    }\n",
       "  }\n",
       "\n",
       "  if (root._bokeh_is_loading === 0) {\n",
       "    console.debug(\"Bokeh: BokehJS loaded, going straight to plotting\");\n",
       "    run_inline_js();\n",
       "  } else {\n",
       "    load_libs(css_urls, js_urls, function() {\n",
       "      console.debug(\"Bokeh: BokehJS plotting callback run at\", now());\n",
       "      run_inline_js();\n",
       "    });\n",
       "  }\n",
       "}(window));"
      ],
      "application/vnd.bokehjs_load.v0+json": "(function(root) {\n  function now() {\n    return new Date();\n  }\n\n  const force = true;\n\n  if (typeof root._bokeh_onload_callbacks === \"undefined\" || force === true) {\n    root._bokeh_onload_callbacks = [];\n    root._bokeh_is_loading = undefined;\n  }\n\n\n  if (typeof (root._bokeh_timeout) === \"undefined\" || force === true) {\n    root._bokeh_timeout = Date.now() + 5000;\n    root._bokeh_failed_load = false;\n  }\n\n  const NB_LOAD_WARNING = {'data': {'text/html':\n     \"<div style='background-color: #fdd'>\\n\"+\n     \"<p>\\n\"+\n     \"BokehJS does not appear to have successfully loaded. If loading BokehJS from CDN, this \\n\"+\n     \"may be due to a slow or bad network connection. Possible fixes:\\n\"+\n     \"</p>\\n\"+\n     \"<ul>\\n\"+\n     \"<li>re-rerun `output_notebook()` to attempt to load from CDN again, or</li>\\n\"+\n     \"<li>use INLINE resources instead, as so:</li>\\n\"+\n     \"</ul>\\n\"+\n     \"<code>\\n\"+\n     \"from bokeh.resources import INLINE\\n\"+\n     \"output_notebook(resources=INLINE)\\n\"+\n     \"</code>\\n\"+\n     \"</div>\"}};\n\n  function display_loaded() {\n    const el = document.getElementById(\"f5ce2526-bbba-4031-b9d3-12e4c4c9a58e\");\n    if (el != null) {\n      el.textContent = \"BokehJS is loading...\";\n    }\n    if (root.Bokeh !== undefined) {\n      if (el != null) {\n        el.textContent = \"BokehJS \" + root.Bokeh.version + \" successfully loaded.\";\n      }\n    } else if (Date.now() < root._bokeh_timeout) {\n      setTimeout(display_loaded, 100)\n    }\n  }\n\n  function run_callbacks() {\n    try {\n      root._bokeh_onload_callbacks.forEach(function(callback) {\n        if (callback != null)\n          callback();\n      });\n    } finally {\n      delete root._bokeh_onload_callbacks\n    }\n    console.debug(\"Bokeh: all callbacks have finished\");\n  }\n\n  function load_libs(css_urls, js_urls, callback) {\n    if (css_urls == null) css_urls = [];\n    if (js_urls == null) js_urls = [];\n\n    root._bokeh_onload_callbacks.push(callback);\n    if (root._bokeh_is_loading > 0) {\n      console.debug(\"Bokeh: BokehJS is being loaded, scheduling callback at\", now());\n      return null;\n    }\n    if (js_urls == null || js_urls.length === 0) {\n      run_callbacks();\n      return null;\n    }\n    console.debug(\"Bokeh: BokehJS not loaded, scheduling load and callback at\", now());\n    root._bokeh_is_loading = css_urls.length + js_urls.length;\n\n    function on_load() {\n      root._bokeh_is_loading--;\n      if (root._bokeh_is_loading === 0) {\n        console.debug(\"Bokeh: all BokehJS libraries/stylesheets loaded\");\n        run_callbacks()\n      }\n    }\n\n    function on_error(url) {\n      console.error(\"failed to load \" + url);\n    }\n\n    for (let i = 0; i < css_urls.length; i++) {\n      const url = css_urls[i];\n      const element = document.createElement(\"link\");\n      element.onload = on_load;\n      element.onerror = on_error.bind(null, url);\n      element.rel = \"stylesheet\";\n      element.type = \"text/css\";\n      element.href = url;\n      console.debug(\"Bokeh: injecting link tag for BokehJS stylesheet: \", url);\n      document.body.appendChild(element);\n    }\n\n    for (let i = 0; i < js_urls.length; i++) {\n      const url = js_urls[i];\n      const element = document.createElement('script');\n      element.onload = on_load;\n      element.onerror = on_error.bind(null, url);\n      element.async = false;\n      element.src = url;\n      console.debug(\"Bokeh: injecting script tag for BokehJS library: \", url);\n      document.head.appendChild(element);\n    }\n  };\n\n  function inject_raw_css(css) {\n    const element = document.createElement(\"style\");\n    element.appendChild(document.createTextNode(css));\n    document.body.appendChild(element);\n  }\n\n  const js_urls = [\"https://cdn.bokeh.org/bokeh/release/bokeh-3.3.0.min.js\", \"https://cdn.bokeh.org/bokeh/release/bokeh-gl-3.3.0.min.js\", \"https://cdn.bokeh.org/bokeh/release/bokeh-widgets-3.3.0.min.js\", \"https://cdn.bokeh.org/bokeh/release/bokeh-tables-3.3.0.min.js\", \"https://cdn.bokeh.org/bokeh/release/bokeh-mathjax-3.3.0.min.js\"];\n  const css_urls = [];\n\n  const inline_js = [    function(Bokeh) {\n      Bokeh.set_log_level(\"info\");\n    },\nfunction(Bokeh) {\n    }\n  ];\n\n  function run_inline_js() {\n    if (root.Bokeh !== undefined || force === true) {\n          for (let i = 0; i < inline_js.length; i++) {\n      inline_js[i].call(root, root.Bokeh);\n    }\nif (force === true) {\n        display_loaded();\n      }} else if (Date.now() < root._bokeh_timeout) {\n      setTimeout(run_inline_js, 100);\n    } else if (!root._bokeh_failed_load) {\n      console.log(\"Bokeh: BokehJS failed to load within specified timeout.\");\n      root._bokeh_failed_load = true;\n    } else if (force !== true) {\n      const cell = $(document.getElementById(\"f5ce2526-bbba-4031-b9d3-12e4c4c9a58e\")).parents('.cell').data().cell;\n      cell.output_area.append_execute_result(NB_LOAD_WARNING)\n    }\n  }\n\n  if (root._bokeh_is_loading === 0) {\n    console.debug(\"Bokeh: BokehJS loaded, going straight to plotting\");\n    run_inline_js();\n  } else {\n    load_libs(css_urls, js_urls, function() {\n      console.debug(\"Bokeh: BokehJS plotting callback run at\", now());\n      run_inline_js();\n    });\n  }\n}(window));"
     },
     "metadata": {},
     "output_type": "display_data"
    },
    {
     "data": {
      "text/html": [
       "\n",
       "  <div id=\"dd634d37-1f99-432e-b84a-96a71423ad78\" data-root-id=\"p3439\" style=\"display: contents;\"></div>\n"
      ]
     },
     "metadata": {},
     "output_type": "display_data"
    },
    {
     "data": {
      "application/javascript": [
       "(function(root) {\n",
       "  function embed_document(root) {\n",
       "  const docs_json = {\"60a63ef9-7ad4-418e-9eb2-cea3411e9462\":{\"version\":\"3.3.0\",\"title\":\"Bokeh Application\",\"roots\":[{\"type\":\"object\",\"name\":\"Figure\",\"id\":\"p3439\",\"attributes\":{\"x_range\":{\"type\":\"object\",\"name\":\"DataRange1d\",\"id\":\"p3440\"},\"y_range\":{\"type\":\"object\",\"name\":\"DataRange1d\",\"id\":\"p3441\"},\"x_scale\":{\"type\":\"object\",\"name\":\"LinearScale\",\"id\":\"p3449\"},\"y_scale\":{\"type\":\"object\",\"name\":\"LinearScale\",\"id\":\"p3450\"},\"title\":{\"type\":\"object\",\"name\":\"Title\",\"id\":\"p3442\",\"attributes\":{\"text\":\"Input & Output Signal\"}},\"renderers\":[{\"type\":\"object\",\"name\":\"GlyphRenderer\",\"id\":\"p3474\",\"attributes\":{\"data_source\":{\"type\":\"object\",\"name\":\"ColumnDataSource\",\"id\":\"p3468\",\"attributes\":{\"selected\":{\"type\":\"object\",\"name\":\"Selection\",\"id\":\"p3469\",\"attributes\":{\"indices\":[],\"line_indices\":[]}},\"selection_policy\":{\"type\":\"object\",\"name\":\"UnionRenderers\",\"id\":\"p3470\"},\"data\":{\"type\":\"map\",\"entries\":[[\"x\",{\"type\":\"ndarray\",\"array\":{\"type\":\"bytes\",\"data\":\"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\"},\"shape\":[2000],\"dtype\":\"float64\",\"order\":\"little\"}],[\"y\",[0.03564453125,0.01544189453125,-0.10821533203125,0.05426025390625,0.12249755859375,0.054443359375,0.0152587890625,0.02777099609375,0.040283203125,0.05279541015625,0.06524658203125,0.07769775390625,0.09014892578125,0.1025390625,0.11492919921875,0.1273193359375,0.1396484375,0.15191650390625,0.2481689453125,0.2115478515625,0.3463134765625,0.29937744140625,0.25,0.25860595703125,0.2418212890625,0.3084716796875,0.3194580078125,0.242431640625,0.3099365234375,0.37786865234375,0.45892333984375,0.3377685546875,0.426513671875,0.29986572265625,0.38311767578125,0.44818115234375,0.46148681640625,0.5958251953125,0.46783447265625,0.42822265625,0.42755126953125,0.396484375,0.45184326171875,0.583740234375,0.521728515625,0.5426025390625,0.51318359375,0.51629638671875,0.5364990234375,0.5877685546875,0.4783935546875,0.561279296875,0.625,0.68084716796875,0.717529296875,0.62078857421875,0.65679931640625,0.57354736328125,0.73968505859375,0.7568359375,0.76116943359375,0.683349609375,0.77001953125,0.65631103515625,0.81500244140625,0.78118896484375,0.79168701171875,0.76690673828125,0.60968017578125,0.70965576171875,0.8798828125,0.6666259765625,0.8424072265625,0.83056640625,0.777587890625,0.8162841796875,0.8724365234375,0.868408203125,0.85986328125,0.6607666015625,0.89117431640625,0.8099365234375,0.87554931640625,0.9014892578125,0.85406494140625,0.79864501953125,0.75872802734375,0.95111083984375,0.925048828125,0.91204833984375,0.927734375,0.88519287109375,0.80877685546875,0.87091064453125,0.972412109375,0.92779541015625,0.910888671875,1.022216796875,0.87701416015625,1.00665283203125,0.9876708984375,0.957275390625,0.935546875,1.01910400390625,0.99853515625,0.81231689453125,0.93011474609375,1.0096435546875,1.00897216796875,0.83819580078125,0.98809814453125,0.88885498046875,1.03546142578125,1.0565185546875,0.91473388671875,0.9583740234375,1.00872802734375,1.05352783203125,1.0458984375,1.02398681640625,0.95159912109375,0.99334716796875,0.908935546875,1.0137939453125,0.8782958984375,0.9951171875,1.0091552734375,1.0509033203125,1.164306640625,1.01239013671875,1.02142333984375,1.07379150390625,0.99169921875,1.01251220703125,0.95892333984375,0.9686279296875,1.10418701171875,0.9930419921875,1.04815673828125,1.11053466796875,1.05401611328125,0.95294189453125,1.09002685546875,1.0355224609375,1.01116943359375,0.94952392578125,0.96044921875,0.99127197265625,0.9580078125,0.889892578125,0.9154052734375,1.09210205078125,0.98883056640625,0.862548828125,0.883056640625,0.82769775390625,1.045654296875,0.83673095703125,0.80145263671875,0.99310302734375,0.9521484375,0.98773193359375,0.916259765625,1.00384521484375,0.84661865234375,0.69317626953125,0.82965087890625,0.8165283203125,0.86090087890625,0.8446044921875,0.87261962890625,0.7442626953125,0.8291015625,0.779052734375,0.8040771484375,0.7249755859375,0.837646484375,0.75390625,0.7803955078125,0.8731689453125,0.87109375,0.80242919921875,0.64727783203125,0.65753173828125,0.77801513671875,0.77581787109375,0.67633056640625,0.68853759765625,0.716796875,0.817626953125,0.61517333984375,0.71826171875,0.60736083984375,0.70928955078125,0.61236572265625,0.61199951171875,0.554931640625,0.68328857421875,0.67041015625,0.568115234375,0.6971435546875,0.6356201171875,0.4305419921875,0.59979248046875,0.56494140625,0.4591064453125,0.577880859375,0.452880859375,0.40155029296875,0.50146484375,0.48907470703125,0.49072265625,0.53326416015625,0.3682861328125,0.52740478515625,0.48773193359375,0.35675048828125,0.30914306640625,0.425048828125,0.3748779296875,0.36322021484375,0.32855224609375,0.2459716796875,0.318115234375,0.1998291015625,0.1951904296875,0.3531494140625,0.28302001953125,0.234375,0.28179931640625,0.1558837890625,0.1807861328125,0.2979736328125,0.14361572265625,0.3232421875,0.1595458984375,0.12615966796875,0.287109375,0.08770751953125,0.17926025390625,0.31768798828125,0.00543212890625,0.201904296875,0.04144287109375,-0.0682373046875,0.117431640625,0.11956787109375,0.10601806640625,-0.00860595703125,-0.04266357421875,-0.01513671875,-0.16143798828125,0.04962158203125,0.08099365234375,-0.06927490234375,-0.168212890625,0.1004638671875,-0.06488037109375,-0.009521484375,-0.14703369140625,-0.18780517578125,-0.26470947265625,-0.22393798828125,-0.25439453125,-0.26727294921875,-0.2952880859375,-0.0126953125,-0.24322509765625,-0.1715087890625,-0.2310791015625,-0.2569580078125,-0.19830322265625,-0.283203125,-0.31915283203125,-0.0626220703125,-0.3651123046875,-0.1719970703125,-0.271728515625,-0.2611083984375,-0.48626708984375,-0.43841552734375,-0.3026123046875,-0.355224609375,-0.34918212890625,-0.25616455078125,-0.40179443359375,-0.40240478515625,-0.3995361328125,-0.53472900390625,-0.6513671875,-0.53643798828125,-0.42041015625,-0.44696044921875,-0.568115234375,-0.550048828125,-0.5333251953125,-0.45556640625,-0.50213623046875,-0.6302490234375,-0.6424560546875,-0.5531005859375,-0.465576171875,-0.431640625,-0.66131591796875,-0.725341796875,-0.56512451171875,-0.48199462890625,-0.59112548828125,-0.50677490234375,-0.75732421875,-0.56683349609375,-0.703369140625,-0.6103515625,-0.67047119140625,-0.77935791015625,-0.68499755859375,-0.75115966796875,-0.62530517578125,-0.85382080078125,-0.69403076171875,-0.6669921875,-0.7481689453125,-0.8126220703125,-0.85107421875,-0.909423828125,-0.8123779296875,-0.8031005859375,-0.860107421875,-0.8955078125,-0.8966064453125,-0.98199462890625,-1.0164794921875,-0.78424072265625,-0.9649658203125,-0.82183837890625,-0.91046142578125,-0.87933349609375,-1.01605224609375,-0.909423828125,-0.93060302734375,-0.9443359375,-0.93597412109375,-0.87957763671875,-0.83721923828125,-0.984130859375,-0.76617431640625,-1.009033203125,-0.968994140625,-0.97320556640625,-0.89044189453125,-0.9383544921875,-0.930908203125,-0.97802734375,-0.80865478515625,-0.9462890625,-0.83770751953125,-0.90130615234375,-1.0555419921875,-0.98162841796875,-0.92266845703125,-1.03936767578125,-1.13592529296875,-0.97149658203125,-1.1180419921875,-1.05291748046875,-0.9910888671875,-1.08734130859375,-1.09503173828125,-0.99072265625,-1.02154541015625,-1.11370849609375,-0.96307373046875,-0.910888671875,-0.9752197265625,-1.0399169921875,-1.03515625,-1.0804443359375,-0.9503173828125,-1.116943359375,-0.95281982421875,-1.03509521484375,-1.01226806640625,-0.947265625,-1.04522705078125,-1.02435302734375,-1.0482177734375,-1.12664794921875,-1.1546630859375,-0.85919189453125,-1.04510498046875,-0.95489501953125,-0.96905517578125,-0.99285888671875,-1.0179443359375,-1.03900146484375,-0.96319580078125,-0.9716796875,-0.99176025390625,-0.833984375,-0.987548828125,-0.8602294921875,-0.86846923828125,-1.03668212890625,-1.003173828125,-0.887939453125,-0.91607666015625,-0.906005859375,-1.07257080078125,-0.82000732421875,-0.89300537109375,-0.90283203125,-0.80316162109375,-0.911376953125,-0.87396240234375,-0.88323974609375,-0.83624267578125,-0.80621337890625,-0.8409423828125,-0.87554931640625,-0.8035888671875,-0.86334228515625,-0.8482666015625,-0.80419921875,-0.858154296875,-0.9837646484375,-0.7445068359375,-0.876220703125,-0.677734375,-0.7427978515625,-0.7603759765625,-0.73974609375,-0.83514404296875,-0.70587158203125,-0.70147705078125,-0.84881591796875,-0.85589599609375,-0.69244384765625,-0.77105712890625,-0.70703125,-0.603759765625,-0.59222412109375,-0.689453125,-0.68109130859375,-0.73028564453125,-0.57379150390625,-0.63983154296875,-0.472412109375,-0.52899169921875,-0.4873046875,-0.540283203125,-0.5457763671875,-0.5799560546875,-0.6092529296875,-0.56219482421875,-0.51953125,-0.5264892578125,-0.482666015625,-0.451416015625,-0.48651123046875,-0.60546875,-0.41778564453125,-0.50146484375,-0.42047119140625,-0.5045166015625,-0.30035400390625,-0.41253662109375,-0.40997314453125,-0.53668212890625,-0.375732421875,-0.4197998046875,-0.42132568359375,-0.35931396484375,-0.4246826171875,-0.449462890625,-0.2222900390625,-0.3895263671875,-0.3477783203125,-0.18096923828125,-0.1611328125,-0.23736572265625,-0.2008056640625,-0.2149658203125,-0.2584228515625,-0.21197509765625,-0.21533203125,-0.1839599609375,-0.29852294921875,-0.185546875,-0.27178955078125,-0.09088134765625,-0.16436767578125,-0.26715087890625,-0.012451171875,-0.02825927734375,-0.2305908203125,-0.037353515625,-0.08831787109375,-0.02838134765625,0.03155517578125,0.12225341796875,-0.03759765625,0.04473876953125,0.07733154296875,0.07525634765625,0.02581787109375,0.046142578125,0.0196533203125,0.05364990234375,0.024658203125,0.00933837890625,-0.01141357421875,0.12799072265625,0.03302001953125,0.25244140625,0.07440185546875,-0.0157470703125,0.2412109375,0.17974853515625,0.3673095703125,0.2066650390625,0.2882080078125,0.16021728515625,0.2041015625,0.31085205078125,0.3658447265625,0.2161865234375,0.3018798828125,0.362548828125,0.3597412109375,0.34320068359375,0.42816162109375,0.2996826171875,0.401123046875,0.37701416015625,0.38262939453125,0.45989990234375,0.51568603515625,0.3048095703125,0.40728759765625,0.4931640625,0.50860595703125,0.54150390625,0.55633544921875,0.517822265625,0.483642578125,0.5631103515625,0.43115234375,0.54949951171875,0.6199951171875,0.6180419921875,0.6859130859375,0.605224609375,0.654296875,0.62762451171875,0.605224609375,0.69256591796875,0.69146728515625,0.67266845703125,0.58489990234375,0.66357421875,0.68060302734375,0.742431640625,0.615234375,0.72271728515625,0.70660400390625,0.84222412109375,0.73455810546875,0.83966064453125,0.79473876953125,0.92889404296875,0.728515625,0.9918212890625,0.8199462890625,0.8056640625,0.909912109375,0.9222412109375,0.7611083984375,0.863037109375,0.80908203125,0.8419189453125,0.97515869140625,0.7030029296875,1.12115478515625,0.7540283203125,1.04449462890625,0.97735595703125,0.88519287109375,0.77874755859375,1.083251953125,0.83929443359375,0.94384765625,0.95404052734375,0.90350341796875,0.88360595703125,1.014404296875,0.98785400390625,0.997802734375,1.059814453125,1.11090087890625,0.88848876953125,0.8934326171875,0.864501953125,0.884765625,1.17974853515625,0.890625,0.91094970703125,1.05023193359375,0.8665771484375,0.97772216796875,0.89385986328125,0.98272705078125,0.85955810546875,1.03594970703125,0.9964599609375,1.00408935546875,0.9940185546875,1.01947021484375,0.98663330078125,0.88525390625,1.10601806640625,1.07366943359375,0.94451904296875,1.054443359375,0.9937744140625,1.1224365234375,0.87353515625,0.9461669921875,0.9957275390625,1.025634765625,1.04071044921875,0.95941162109375,1.01568603515625,1.07275390625,0.93438720703125,0.97698974609375,0.8900146484375,0.97332763671875,0.9822998046875,1.02471923828125,0.90740966796875,1.02960205078125,0.84405517578125,0.94940185546875,0.9930419921875,0.84027099609375,0.89776611328125,0.87939453125,1.00347900390625,0.978515625,0.930419921875,0.9832763671875,0.92022705078125,0.99566650390625,0.947509765625,1.045166015625,0.98101806640625,0.998779296875,1.02325439453125,0.91961669921875,0.83929443359375,0.8388671875,1.00482177734375,0.841064453125,0.77923583984375,0.97552490234375,0.83380126953125,0.77886962890625,0.9488525390625,1.01470947265625,0.9969482421875,0.71636962890625,0.8272705078125,0.7958984375,0.835205078125,0.9124755859375,0.8363037109375,0.802978515625,0.83251953125,0.7535400390625,0.6710205078125,0.873046875,0.79217529296875,0.84112548828125,0.70538330078125,0.69989013671875,0.68304443359375,0.63092041015625,0.83551025390625,0.6943359375,0.571044921875,0.66107177734375,0.78564453125,0.72406005859375,0.57550048828125,0.67291259765625,0.73016357421875,0.561279296875,0.51336669921875,0.5537109375,0.624755859375,0.7073974609375,0.5570068359375,0.6473388671875,0.65740966796875,0.5087890625,0.4073486328125,0.434814453125,0.658447265625,0.71649169921875,0.33056640625,0.52618408203125,0.3427734375,0.38824462890625,0.4322509765625,0.34722900390625,0.46673583984375,0.49591064453125,0.47369384765625,0.247802734375,0.5242919921875,0.31634521484375,0.39251708984375,0.4500732421875,0.200439453125,0.4068603515625,0.2904052734375,0.3433837890625,0.32208251953125,0.2333984375,0.10797119140625,0.2486572265625,0.2203369140625,0.1929931640625,0.12310791015625,0.26171875,0.1815185546875,0.10467529296875,0.1298828125,0.37872314453125,0.19244384765625,-0.04559326171875,0.25250244140625,0.198486328125,0.21429443359375,0.1119384765625,0.111083984375,0.08001708984375,0.15338134765625,0.00750732421875,0.04083251953125,-0.0986328125,-0.11456298828125,0.03594970703125,0.00140380859375,-0.12249755859375,0.070068359375,-0.0123291015625,-0.00433349609375,0.082275390625,-0.26617431640625,-0.09356689453125,-0.16461181640625,-0.10870361328125,-0.1826171875,-0.22869873046875,-0.2371826171875,-0.26171875,-0.22613525390625,-0.2525634765625,-0.3702392578125,-0.2227783203125,-0.21002197265625,-0.33251953125,-0.33477783203125,-0.3868408203125,-0.3314208984375,-0.3565673828125,-0.371337890625,-0.2547607421875,-0.45159912109375,-0.23480224609375,-0.1800537109375,-0.400634765625,-0.42877197265625,-0.48175048828125,-0.41400146484375,-0.54644775390625,-0.5250244140625,-0.34967041015625,-0.5576171875,-0.47003173828125,-0.41552734375,-0.54266357421875,-0.601806640625,-0.448486328125,-0.7613525390625,-0.49755859375,-0.56512451171875,-0.6541748046875,-0.5936279296875,-0.7816162109375,-0.569091796875,-0.603515625,-0.69793701171875,-0.690673828125,-0.63299560546875,-0.70855712890625,-0.71807861328125,-0.65032958984375,-0.818359375,-0.73138427734375,-0.770263671875,-0.64599609375,-0.68463134765625,-0.74566650390625,-0.78509521484375,-0.74578857421875,-0.63311767578125,-0.91339111328125,-0.78582763671875,-0.7685546875,-0.7847900390625,-0.7344970703125,-0.75732421875,-0.696044921875,-0.9578857421875,-0.9329833984375,-0.820068359375,-0.9130859375,-0.8463134765625,-0.74713134765625,-0.8685302734375,-0.87115478515625,-0.9659423828125,-0.92633056640625,-0.89923095703125,-0.84417724609375,-1.02874755859375,-0.729248046875,-0.87249755859375,-1.0126953125,-0.88275146484375,-0.68426513671875,-0.77618408203125,-0.789306640625,-0.86822509765625,-0.989990234375,-1.072021484375,-1.04986572265625,-1.08038330078125,-1.0614013671875,-0.885498046875,-1.00146484375,-1.03179931640625,-0.80322265625,-0.91534423828125,-1.02142333984375,-0.9144287109375,-1.08709716796875,-1.04034423828125,-1.01495361328125,-0.88592529296875,-0.95733642578125,-1.0496826171875,-0.94403076171875,-1.0345458984375,-0.99652099609375,-1.04522705078125,-0.91552734375,-1.11138916015625,-1.04974365234375,-0.97137451171875,-1.024658203125,-1.0274658203125,-0.9197998046875,-0.93310546875,-1.1942138671875,-1.0811767578125,-0.945068359375,-0.99139404296875,-0.93499755859375,-1.06353759765625,-1.00341796875,-1.04180908203125,-1.07073974609375,-1.0106201171875,-1.08563232421875,-1.0296630859375,-0.92413330078125,-0.87518310546875,-0.97442626953125,-1.12579345703125,-0.96112060546875,-0.9906005859375,-0.78607177734375,-0.98565673828125,-0.8740234375,-1.01861572265625,-0.98388671875,-1.119384765625,-0.9569091796875,-0.94317626953125,-0.88287353515625,-0.895263671875,-0.949462890625,-0.88824462890625,-0.994384765625,-0.90264892578125,-0.90838623046875,-0.87103271484375,-1.00244140625,-0.95062255859375,-0.977783203125,-0.96820068359375,-0.91839599609375,-0.91436767578125,-0.78765869140625,-0.9771728515625,-0.91021728515625,-0.6947021484375,-0.78326416015625,-0.9981689453125,-0.73779296875,-0.783447265625,-0.7020263671875,-0.8890380859375,-0.589111328125,-0.60888671875,-0.7388916015625,-0.9239501953125,-0.90673828125,-0.70428466796875,-0.81427001953125,-0.75762939453125,-0.64324951171875,-0.77044677734375,-0.70953369140625,-0.75103759765625,-0.72265625,-0.664794921875,-0.67181396484375,-0.6943359375,-0.65228271484375,-0.69024658203125,-0.54156494140625,-0.77752685546875,-0.753662109375,-0.47528076171875,-0.59765625,-0.698486328125,-0.6199951171875,-0.6058349609375,-0.5184326171875,-0.49188232421875,-0.552734375,-0.5806884765625,-0.537353515625,-0.578369140625,-0.48602294921875,-0.52587890625,-0.56671142578125,-0.41357421875,-0.41754150390625,-0.3790283203125,-0.39996337890625,-0.37738037109375,-0.50177001953125,-0.47467041015625,-0.327392578125,-0.4451904296875,-0.34075927734375,-0.36663818359375,-0.2337646484375,-0.395751953125,-0.3746337890625,-0.1468505859375,-0.1500244140625,-0.18536376953125,-0.283203125,-0.20318603515625,-0.4434814453125,-0.1119384765625,-0.2677001953125,-0.21295166015625,-0.22412109375,-0.1112060546875,-0.18914794921875,-0.10302734375,-0.21710205078125,-0.14263916015625,-0.06427001953125,-0.03863525390625,-0.114013671875,0.01275634765625,-0.1910400390625,-0.067138671875,-0.09515380859375,-0.15093994140625,0.05157470703125,0.00360107421875,0.10986328125,-0.08563232421875,-0.05499267578125,0.02886962890625,0.03851318359375,-0.049560546875,0.1295166015625,0.13079833984375,0.174072265625,0.10064697265625,0.01300048828125,0.19097900390625,-0.03436279296875,0.24365234375,0.03680419921875,0.1361083984375,0.05224609375,0.21783447265625,0.2984619140625,0.1968994140625,0.3175048828125,0.21881103515625,0.2353515625,0.19757080078125,0.2784423828125,0.3797607421875,0.2344970703125,0.426025390625,0.3455810546875,0.37103271484375,0.39495849609375,0.4705810546875,0.433837890625,0.40435791015625,0.44610595703125,0.29974365234375,0.43853759765625,0.5675048828125,0.48785400390625,0.38916015625,0.60626220703125,0.52685546875,0.41619873046875,0.550537109375,0.538330078125,0.5616455078125,0.58349609375,0.41766357421875,0.5950927734375,0.4554443359375,0.5291748046875,0.480712890625,0.70556640625,0.54949951171875,0.656982421875,0.74627685546875,0.74371337890625,0.59698486328125,0.71136474609375,0.6083984375,0.64300537109375,0.650634765625,0.82763671875,0.70269775390625,0.74517822265625,0.73187255859375,0.58270263671875,0.69757080078125,0.68292236328125,0.79266357421875,0.67236328125,0.6627197265625,0.8043212890625,0.74609375,0.826416015625,0.8001708984375,0.7435302734375,0.740478515625,0.9873046875,0.8204345703125,0.84136962890625,0.8094482421875,0.90484619140625,0.9688720703125,0.92242431640625,0.86016845703125,0.96087646484375,0.76263427734375,0.978759765625,1.02630615234375,1.02490234375,0.88519287109375,1.00506591796875,0.96514892578125,0.933349609375,0.84527587890625,0.718994140625,0.964111328125,1.03472900390625,0.96856689453125,0.9691162109375,0.920166015625,0.98974609375,0.95025634765625,0.96044921875,0.90264892578125,0.93255615234375,0.9871826171875,1.04022216796875,1.01251220703125,0.93438720703125,0.97332763671875,0.94366455078125,1.1258544921875,1.00701904296875,1.0159912109375,1.04779052734375,0.93731689453125,1.0205078125,0.99468994140625,0.99310302734375,1.01678466796875,0.886474609375,1.0821533203125,1.1195068359375,1.00244140625,0.8616943359375,1.0006103515625,0.971435546875,1.05877685546875,1.06634521484375,0.94342041015625,1.00830078125,0.88507080078125,1.04925537109375,1.0657958984375,0.92938232421875,1.0667724609375,0.94219970703125,0.99139404296875,0.95831298828125,1.07354736328125,1.01385498046875,1.1312255859375,1.04095458984375,0.88165283203125,0.91748046875,1.07965087890625,0.962890625,0.860595703125,0.8734130859375,1.09552001953125,0.87066650390625,0.862060546875,1.006591796875,0.85406494140625,0.948974609375,1.06866455078125,1.10125732421875,0.79241943359375,0.982421875,1.07855224609375,0.809814453125,0.97454833984375,0.86907958984375,0.80841064453125,0.94146728515625,0.8941650390625,0.72515869140625,0.8031005859375,0.83648681640625,0.8487548828125,0.80322265625,0.738525390625,0.9520263671875,0.7523193359375,0.752685546875,0.69873046875,0.9317626953125,0.6929931640625,0.71240234375,0.81805419921875,0.87725830078125,0.73077392578125,0.73944091796875,0.63958740234375,0.85113525390625,0.79010009765625,0.6689453125,0.531494140625,0.68450927734375,0.74755859375,0.64105224609375,0.66290283203125,0.76080322265625,0.55389404296875,0.668212890625,0.63983154296875,0.5673828125,0.569580078125,0.5189208984375,0.6522216796875,0.6297607421875,0.67498779296875,0.38671875,0.6065673828125,0.550537109375,0.620361328125,0.46014404296875,0.3974609375,0.53692626953125,0.482421875,0.44293212890625,0.4005126953125,0.55621337890625,0.45892333984375,0.27813720703125,0.49176025390625,0.429443359375,0.3831787109375,0.18157958984375,0.40765380859375,0.3363037109375,0.357666015625,0.2432861328125,0.3670654296875,0.1685791015625,0.37579345703125,0.40087890625,0.17486572265625,0.2178955078125,0.1968994140625,0.4034423828125,0.19683837890625,0.1259765625,0.1053466796875,0.05389404296875,0.14599609375,0.01788330078125,0.19976806640625,0.12384033203125,0.18023681640625,-0.018798828125,0.04730224609375,-0.1370849609375,0.121826171875,0.06439208984375,0.06207275390625,0.03289794921875,0.05889892578125,-0.08056640625,0.11834716796875,0.11944580078125,0.01019287109375,-0.20452880859375,-0.027099609375,-0.1431884765625,-0.11859130859375,-0.214111328125,-0.15191650390625,0.01336669921875,-0.11529541015625,-0.19805908203125,-0.2578125,-0.06072998046875,-0.1898193359375,-0.24560546875,-0.13922119140625,-0.1617431640625,-0.2442626953125,-0.2125244140625,-0.26568603515625,-0.30615234375,-0.15509033203125,-0.1553955078125,-0.3665771484375,-0.4434814453125,-0.334228515625,-0.4862060546875,-0.39349365234375,-0.48919677734375,-0.4364013671875,-0.267822265625,-0.41705322265625,-0.60723876953125,-0.41790771484375,-0.54302978515625,-0.5709228515625,-0.34039306640625,-0.47314453125,-0.52423095703125,-0.3916015625,-0.59490966796875,-0.579345703125,-0.540771484375,-0.6392822265625,-0.5341796875,-0.59783935546875,-0.7015380859375,-0.6595458984375,-0.5648193359375,-0.707275390625,-0.59033203125,-0.59735107421875,-0.757080078125,-0.46453857421875,-0.73541259765625,-0.70733642578125,-0.54583740234375,-0.68994140625,-0.64642333984375,-0.636962890625,-0.71923828125,-0.66802978515625,-0.72662353515625,-0.76165771484375,-0.70965576171875,-0.81427001953125,-0.89825439453125,-0.79559326171875,-0.74267578125,-0.6817626953125,-0.7154541015625,-0.7158203125,-0.861083984375,-0.8748779296875,-0.7635498046875,-0.817138671875,-0.79638671875,-0.9117431640625,-0.88140869140625,-0.8016357421875,-0.94586181640625,-0.8878173828125,-0.89263916015625,-0.82696533203125,-0.87982177734375,-0.96038818359375,-0.970947265625,-0.89691162109375,-1.10595703125,-0.85589599609375,-0.88299560546875,-0.92999267578125,-0.918212890625,-0.90533447265625,-0.914794921875,-0.892822265625,-0.79595947265625,-1.06182861328125,-0.9022216796875,-0.856689453125,-0.990234375,-0.95953369140625,-0.85009765625,-0.91290283203125,-0.90130615234375,-0.9027099609375,-1.00018310546875,-1.01788330078125,-1.07647705078125,-0.88836669921875,-1.00714111328125,-1.0819091796875,-1.02557373046875,-1.0838623046875,-1.25189208984375,-0.96514892578125,-1.1181640625,-0.98492431640625,-0.89300537109375,-0.90692138671875,-0.972412109375,-1.0347900390625,-0.9520263671875,-0.95068359375,-1.0189208984375,-0.9444580078125,-0.995849609375,-1.01385498046875,-0.90570068359375,-0.92779541015625,-0.9521484375,-0.98028564453125,-1.02386474609375,-1.0535888671875,-0.97039794921875,-1.0003662109375,-0.96807861328125,-0.95477294921875,-0.95391845703125,-0.87823486328125,-0.95623779296875,-1.0159912109375,-1.03509521484375,-0.88702392578125,-1.07373046875,-0.88970947265625,-0.99072265625,-0.905517578125,-1.0330810546875,-0.93341064453125,-0.96343994140625,-0.876220703125,-0.825439453125,-0.81256103515625,-0.955810546875,-0.87677001953125,-0.90203857421875,-0.85101318359375,-0.99560546875,-0.83880615234375,-0.854248046875,-0.81097412109375,-0.81488037109375,-0.83184814453125,-0.76910400390625,-0.7950439453125,-0.88970947265625,-0.7303466796875,-0.91607666015625,-1.0147705078125,-0.92236328125,-0.771240234375,-0.9134521484375,-0.7078857421875,-0.799560546875,-0.8505859375,-0.7462158203125,-0.7593994140625,-0.826171875,-0.78924560546875,-0.78936767578125,-0.62725830078125,-0.72430419921875,-0.71575927734375,-0.79058837890625,-0.67877197265625,-0.552734375,-0.669189453125,-0.69134521484375,-0.67529296875,-0.66448974609375,-0.56964111328125,-0.68267822265625,-0.78192138671875,-0.739990234375,-0.48992919921875,-0.5830078125,-0.561279296875,-0.7640380859375,-0.6072998046875,-0.4520263671875,-0.63055419921875,-0.5419921875,-0.3385009765625,-0.434326171875,-0.467529296875,-0.47039794921875,-0.43798828125,-0.43243408203125,-0.5419921875,-0.55084228515625,-0.5089111328125,-0.46148681640625,-0.35540771484375,-0.33917236328125,-0.40582275390625,-0.454833984375,-0.4056396484375,-0.38323974609375,-0.35394287109375,-0.3499755859375,-0.458251953125,-0.2315673828125,-0.2581787109375,-0.2218017578125,-0.42022705078125,-0.2265625,-0.26422119140625,-0.2183837890625,-0.2227783203125,-0.3516845703125,-0.17340087890625,-0.169921875,-0.2322998046875,-0.06805419921875,-0.2421875,-0.12237548828125,-0.13873291015625,-0.01300048828125,-0.13629150390625,-0.058837890625,-0.15570068359375,-0.0465087890625,-0.066162109375,-0.02142333984375,0.01751708984375,-0.14031982421875,0.09393310546875,-0.0849609375,0.03497314453125,-0.05987548828125,-0.02874755859375,0.07220458984375,0.043212890625,0.1827392578125,0.14642333984375,0.087158203125,0.02984619140625,0.05694580078125,0.12554931640625,0.04327392578125,0.14404296875,0.13787841796875,0.1741943359375,0.13427734375,0.18560791015625,0.3052978515625,0.2476806640625,0.2535400390625,0.37408447265625,0.25927734375,0.19024658203125,0.2061767578125,0.2913818359375,0.2305908203125,0.244384765625,0.4461669921875,0.31390380859375,0.38226318359375,0.4017333984375,0.313232421875,0.31060791015625,0.42364501953125,0.47210693359375,0.54693603515625,0.3927001953125,0.41265869140625,0.41650390625,0.44464111328125,0.51611328125,0.43817138671875,0.614990234375,0.648681640625,0.5206298828125,0.45751953125,0.58172607421875,0.4227294921875,0.5780029296875,0.6697998046875,0.493408203125,0.66357421875,0.69354248046875,0.548583984375,0.62908935546875,0.51763916015625,0.63311767578125,0.75579833984375,0.72265625,0.66253662109375,0.735107421875,0.67626953125,0.66363525390625,0.71441650390625,0.77386474609375,0.71942138671875,0.62628173828125,0.78448486328125,0.84832763671875,0.763671875,0.5987548828125,0.6949462890625,0.78564453125,0.749755859375,0.8704833984375,0.7982177734375,0.928466796875,0.8349609375,0.9215087890625,0.82427978515625,0.8074951171875,0.70269775390625,0.8482666015625,0.88775634765625,0.88116455078125,0.82318115234375,0.95062255859375,0.940673828125,0.86712646484375,0.859375,0.88079833984375,1.02850341796875,0.80938720703125,0.938232421875,0.92047119140625,0.813232421875,0.906494140625,0.89361572265625,1.00225830078125,0.7689208984375,1.059326171875,0.939453125,1.06304931640625,1.0849609375,0.93096923828125,0.96673583984375,1.0501708984375,0.89520263671875,0.98468017578125,1.09844970703125,1.03826904296875,0.92755126953125,1.0657958984375,1.13690185546875,1.1580810546875,0.97601318359375,0.90606689453125,0.86865234375,1.02886962890625,1.03216552734375,1.03289794921875,1.031494140625,0.9473876953125,0.9603271484375,1.0478515625,1.0052490234375,0.9957275390625,0.895263671875,1.11102294921875,0.95599365234375,1.02642822265625,0.99462890625,1.12384033203125,1.02239990234375,0.9071044921875,1.04998779296875,0.9124755859375,1.11749267578125,0.94744873046875,0.89678955078125,0.97735595703125,1.10614013671875,0.9241943359375,0.90179443359375,0.97296142578125,0.9453125,0.94293212890625,1.11669921875,0.894775390625,0.9193115234375,0.90411376953125,0.98931884765625,0.898193359375,0.861572265625,0.94049072265625,0.893310546875,0.95147705078125,0.95526123046875,0.87103271484375,0.93798828125,0.92864990234375,1.034912109375,0.73431396484375,0.85003662109375,1.00665283203125,0.86968994140625,0.7769775390625,0.79400634765625,0.7376708984375,0.79010009765625,0.6495361328125,0.86181640625,0.794189453125,0.8299560546875,0.9007568359375,0.868408203125,0.7568359375,0.8033447265625,0.8858642578125,0.73046875,0.59735107421875,0.79180908203125,0.80059814453125,0.54412841796875,0.86614990234375,0.63775634765625,0.86822509765625,0.76123046875,0.646728515625,0.66448974609375,0.796875,0.80462646484375,0.68878173828125,0.67340087890625,0.51239013671875,0.793701171875,0.63446044921875,0.59716796875,0.606201171875,0.6292724609375,0.4906005859375,0.5828857421875,0.50213623046875,0.5166015625,0.4547119140625,0.352783203125,0.584716796875,0.54412841796875,0.45654296875,0.49053955078125,0.37451171875,0.41851806640625,0.2906494140625,0.38970947265625,0.34271240234375,0.47393798828125,0.39410400390625,0.418212890625,0.4324951171875,0.42327880859375,0.38909912109375,0.3973388671875,0.422607421875,0.2052001953125,0.1654052734375,0.5206298828125,0.23419189453125,0.2353515625,0.27545166015625,0.2891845703125,0.2237548828125,0.3145751953125,0.20172119140625,0.1318359375,0.1683349609375,0.18426513671875,0.2744140625,0.17559814453125,0.11236572265625,0.08770751953125,0.16265869140625,0.114990234375,0.12591552734375,-0.0531005859375,0.094970703125,0.16937255859375,0.09478759765625,0.05877685546875,0.08526611328125,0.0927734375,0.01629638671875,0.08135986328125,-0.04937744140625,-0.09368896484375,-0.098388671875,-0.0684814453125,-0.12249755859375,-0.210693359375,-0.20025634765625,0.03778076171875,-0.10455322265625,-0.14874267578125,-0.19677734375,-0.25067138671875,-0.1658935546875,-0.23095703125,-0.14068603515625,-0.2794189453125,-0.3111572265625,-0.3795166015625,-0.26959228515625,-0.08984375,-0.32940673828125,-0.3482666015625,-0.4232177734375,-0.3453369140625,-0.415771484375,-0.3704833984375,-0.37005615234375,-0.42620849609375,-0.4666748046875,-0.452880859375,-0.54888916015625,-0.45294189453125,-0.42962646484375,-0.36285400390625,-0.4005126953125,-0.36138916015625,-0.68408203125,-0.53692626953125,-0.49365234375,-0.59490966796875,-0.514404296875,-0.562255859375,-0.3814697265625,-0.47802734375,-0.67449951171875,-0.7117919921875,-0.5579833984375,-0.6605224609375,-0.523193359375,-0.54052734375,-0.57879638671875,-0.634521484375,-0.58856201171875,-0.64898681640625,-0.56768798828125,-0.63665771484375,-0.60302734375,-0.51507568359375,-0.789306640625,-0.59716796875,-0.72906494140625,-0.61334228515625,-0.85784912109375,-0.64129638671875,-0.60284423828125,-0.78497314453125,-0.80291748046875,-0.75634765625,-0.7691650390625,-0.7803955078125,-0.623046875,-0.766845703125,-0.7899169921875,-0.9310302734375,-0.850830078125,-0.85986328125,-0.8682861328125,-0.84869384765625,-0.8426513671875,-0.85699462890625,-0.9595947265625,-0.83062744140625,-0.85284423828125,-0.81634521484375,-1.12689208984375,-0.914794921875,-0.86077880859375,-0.9453125,-1.00482177734375,-0.88348388671875,-0.94757080078125,-1.058837890625,-0.87213134765625,-0.937744140625,-0.834716796875,-0.93853759765625,-0.99493408203125,-0.9110107421875,-1.064208984375,-1.01611328125,-0.95953369140625,-0.9287109375,-1.08917236328125,-1.01605224609375,-0.9676513671875,-0.81903076171875,-0.93780517578125,-1.00372314453125,-0.95623779296875,-0.89923095703125,-0.9168701171875,-1.05926513671875,-1.1199951171875,-0.90618896484375,-1.06378173828125,-1.05224609375,-0.97174072265625,-1.05316162109375,-1.03582763671875,-0.976806640625,-0.9635009765625,-0.9500732421875,-1.0673828125,-0.8533935546875,-1.0435791015625,-0.974853515625,-1.07537841796875,-1.00872802734375,-0.93756103515625,-0.99365234375,-1.11602783203125,-1.01458740234375,-1.0902099609375,-0.96551513671875,-1.0223388671875,-0.90167236328125,-0.99627685546875,-1.10430908203125,-1.15411376953125,-1.05682373046875,-1.0789794921875,-0.94085693359375,-0.98516845703125,-0.9072265625,-0.94635009765625,-0.87255859375,-0.911376953125,-0.8836669921875,-0.98028564453125,-0.98443603515625,-1.020751953125,-0.947021484375,-0.86431884765625,-0.938720703125,-0.90509033203125,-0.98553466796875,-1.00433349609375,-0.8037109375,-0.85540771484375,-1.034423828125,-0.85101318359375,-0.65765380859375,-0.88946533203125,-0.88385009765625,-0.9659423828125,-0.99957275390625,-0.8270263671875,-0.97320556640625,-0.9698486328125,-0.80322265625,-0.721923828125,-0.8289794921875,-0.8538818359375,-0.814208984375,-0.64501953125,-0.7994384765625,-0.7296142578125,-0.88427734375,-0.69989013671875,-0.59405517578125,-0.69122314453125,-0.86737060546875,-0.76312255859375,-0.69439697265625,-0.58795166015625,-0.724609375,-0.732177734375,-0.70355224609375,-0.712890625,-0.62591552734375,-0.83868408203125,-0.76470947265625,-0.54559326171875,-0.726318359375,-0.61248779296875,-0.5888671875,-0.611572265625,-0.5360107421875,-0.6253662109375,-0.4637451171875,-0.56365966796875,-0.7099609375,-0.4024658203125,-0.497802734375,-0.415771484375,-0.47088623046875,-0.58447265625,-0.53546142578125,-0.4384765625,-0.43267822265625,-0.3487548828125,-0.34283447265625,-0.38275146484375,-0.43194580078125,-0.48736572265625,-0.406005859375,-0.2156982421875,-0.37396240234375,-0.34954833984375,-0.3875732421875,-0.323974609375,-0.4307861328125,-0.4359130859375,-0.2384033203125,-0.33233642578125,-0.4462890625,-0.28179931640625,-0.2481689453125,-0.0518798828125,-0.1002197265625,-0.17437744140625,-0.21044921875,-0.1932373046875,-0.27703857421875,-0.27978515625,-0.17510986328125,-0.11724853515625,-0.14385986328125,-0.18902587890625,-0.125732421875,-0.02972412109375,-0.0743408203125,-0.130615234375,-0.04779052734375,-0.10162353515625,-0.02313232421875,0.06805419921875]]]}}},\"view\":{\"type\":\"object\",\"name\":\"CDSView\",\"id\":\"p3475\",\"attributes\":{\"filter\":{\"type\":\"object\",\"name\":\"AllIndices\",\"id\":\"p3476\"}}},\"glyph\":{\"type\":\"object\",\"name\":\"Line\",\"id\":\"p3471\",\"attributes\":{\"x\":{\"type\":\"field\",\"field\":\"x\"},\"y\":{\"type\":\"field\",\"field\":\"y\"},\"line_color\":\"red\"}},\"nonselection_glyph\":{\"type\":\"object\",\"name\":\"Line\",\"id\":\"p3472\",\"attributes\":{\"x\":{\"type\":\"field\",\"field\":\"x\"},\"y\":{\"type\":\"field\",\"field\":\"y\"},\"line_color\":\"red\",\"line_alpha\":0.1}},\"muted_glyph\":{\"type\":\"object\",\"name\":\"Line\",\"id\":\"p3473\",\"attributes\":{\"x\":{\"type\":\"field\",\"field\":\"x\"},\"y\":{\"type\":\"field\",\"field\":\"y\"},\"line_color\":\"red\",\"line_alpha\":0.2}}}},{\"type\":\"object\",\"name\":\"GlyphRenderer\",\"id\":\"p3485\",\"attributes\":{\"data_source\":{\"type\":\"object\",\"name\":\"ColumnDataSource\",\"id\":\"p3479\",\"attributes\":{\"selected\":{\"type\":\"object\",\"name\":\"Selection\",\"id\":\"p3480\",\"attributes\":{\"indices\":[],\"line_indices\":[]}},\"selection_policy\":{\"type\":\"object\",\"name\":\"UnionRenderers\",\"id\":\"p3481\"},\"data\":{\"type\":\"map\",\"entries\":[[\"x\",{\"type\":\"ndarray\",\"array\":{\"type\":\"bytes\",\"data\":\"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\"},\"shape\":[2000],\"dtype\":\"float64\",\"order\":\"little\"}],[\"y\",{\"type\":\"ndarray\",\"array\":{\"type\":\"bytes\",\"data\":\"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\"},\"shape\":[2000],\"dtype\":\"float64\",\"order\":\"little\"}]]}}},\"view\":{\"type\":\"object\",\"name\":\"CDSView\",\"id\":\"p3486\",\"attributes\":{\"filter\":{\"type\":\"object\",\"name\":\"AllIndices\",\"id\":\"p3487\"}}},\"glyph\":{\"type\":\"object\",\"name\":\"Line\",\"id\":\"p3482\",\"attributes\":{\"x\":{\"type\":\"field\",\"field\":\"x\"},\"y\":{\"type\":\"field\",\"field\":\"y\"},\"line_color\":\"blue\",\"line_width\":3}},\"nonselection_glyph\":{\"type\":\"object\",\"name\":\"Line\",\"id\":\"p3483\",\"attributes\":{\"x\":{\"type\":\"field\",\"field\":\"x\"},\"y\":{\"type\":\"field\",\"field\":\"y\"},\"line_color\":\"blue\",\"line_alpha\":0.1,\"line_width\":3}},\"muted_glyph\":{\"type\":\"object\",\"name\":\"Line\",\"id\":\"p3484\",\"attributes\":{\"x\":{\"type\":\"field\",\"field\":\"x\"},\"y\":{\"type\":\"field\",\"field\":\"y\"},\"line_color\":\"blue\",\"line_alpha\":0.2,\"line_width\":3}}}}],\"toolbar\":{\"type\":\"object\",\"name\":\"Toolbar\",\"id\":\"p3448\",\"attributes\":{\"tools\":[{\"type\":\"object\",\"name\":\"PanTool\",\"id\":\"p3461\"},{\"type\":\"object\",\"name\":\"WheelZoomTool\",\"id\":\"p3462\",\"attributes\":{\"renderers\":\"auto\"}},{\"type\":\"object\",\"name\":\"BoxZoomTool\",\"id\":\"p3463\",\"attributes\":{\"overlay\":{\"type\":\"object\",\"name\":\"BoxAnnotation\",\"id\":\"p3464\",\"attributes\":{\"syncable\":false,\"level\":\"overlay\",\"visible\":false,\"left_units\":\"canvas\",\"right_units\":\"canvas\",\"top_units\":\"canvas\",\"bottom_units\":\"canvas\",\"line_color\":\"black\",\"line_alpha\":1.0,\"line_width\":2,\"line_dash\":[4,4],\"fill_color\":\"lightgrey\",\"fill_alpha\":0.5}}}},{\"type\":\"object\",\"name\":\"SaveTool\",\"id\":\"p3465\"},{\"type\":\"object\",\"name\":\"ResetTool\",\"id\":\"p3466\"},{\"type\":\"object\",\"name\":\"HelpTool\",\"id\":\"p3467\"}]}},\"left\":[{\"type\":\"object\",\"name\":\"LinearAxis\",\"id\":\"p3456\",\"attributes\":{\"ticker\":{\"type\":\"object\",\"name\":\"BasicTicker\",\"id\":\"p3457\",\"attributes\":{\"mantissas\":[1,2,5]}},\"formatter\":{\"type\":\"object\",\"name\":\"BasicTickFormatter\",\"id\":\"p3458\"},\"major_label_policy\":{\"type\":\"object\",\"name\":\"AllLabels\",\"id\":\"p3459\"}}}],\"below\":[{\"type\":\"object\",\"name\":\"LinearAxis\",\"id\":\"p3451\",\"attributes\":{\"ticker\":{\"type\":\"object\",\"name\":\"BasicTicker\",\"id\":\"p3452\",\"attributes\":{\"mantissas\":[1,2,5]}},\"formatter\":{\"type\":\"object\",\"name\":\"BasicTickFormatter\",\"id\":\"p3453\"},\"major_label_policy\":{\"type\":\"object\",\"name\":\"AllLabels\",\"id\":\"p3454\"}}}],\"center\":[{\"type\":\"object\",\"name\":\"Grid\",\"id\":\"p3455\",\"attributes\":{\"axis\":{\"id\":\"p3451\"}}},{\"type\":\"object\",\"name\":\"Grid\",\"id\":\"p3460\",\"attributes\":{\"dimension\":1,\"axis\":{\"id\":\"p3456\"}}},{\"type\":\"object\",\"name\":\"Legend\",\"id\":\"p3477\",\"attributes\":{\"items\":[{\"type\":\"object\",\"name\":\"LegendItem\",\"id\":\"p3478\",\"attributes\":{\"label\":{\"type\":\"value\",\"value\":\"Output Signal\"},\"renderers\":[{\"id\":\"p3474\"}]}},{\"type\":\"object\",\"name\":\"LegendItem\",\"id\":\"p3488\",\"attributes\":{\"label\":{\"type\":\"value\",\"value\":\"Input Signal\"},\"renderers\":[{\"id\":\"p3485\"}]}}]}}]}}]}};\n",
       "  const render_items = [{\"docid\":\"60a63ef9-7ad4-418e-9eb2-cea3411e9462\",\"roots\":{\"p3439\":\"dd634d37-1f99-432e-b84a-96a71423ad78\"},\"root_ids\":[\"p3439\"]}];\n",
       "  root.Bokeh.embed.embed_items_notebook(docs_json, render_items);\n",
       "  }\n",
       "  if (root.Bokeh !== undefined) {\n",
       "    embed_document(root);\n",
       "  } else {\n",
       "    let attempts = 0;\n",
       "    const timer = setInterval(function(root) {\n",
       "      if (root.Bokeh !== undefined) {\n",
       "        clearInterval(timer);\n",
       "        embed_document(root);\n",
       "      } else {\n",
       "        attempts++;\n",
       "        if (attempts > 100) {\n",
       "          clearInterval(timer);\n",
       "          console.log(\"Bokeh: ERROR: Unable to run BokehJS code because BokehJS library is missing\");\n",
       "        }\n",
       "      }\n",
       "    }, 10, root)\n",
       "  }\n",
       "})(window);"
      ],
      "application/vnd.bokehjs_exec.v0+json": ""
     },
     "metadata": {
      "application/vnd.bokehjs_exec.v0+json": {
       "id": "p3439"
      }
     },
     "output_type": "display_data"
    }
   ],
   "source": [
    "awgn_gain = 0.08\n",
    "\n",
    "# Generate input samples\n",
    "fin_tBits, fin_fBits = puch.get_format(awgn,awgn_regmap.RegMap.F_IN_ADDR)\n",
    "fout_tBits, fout_fBits = puch.get_format(awgn,awgn_regmap.RegMap.F_OUT_ADDR)\n",
    "awgn_tBits, awgn_fBits = puch.get_format(awgn,awgn_regmap.RegMap.F_AWGN_ADDR)\n",
    "\n",
    "#n = 1024\n",
    "#samples = np.ones(n) * 2**(fin_fBits)\n",
    "#samples = samples.astype(np.int32)\n",
    "\n",
    "# Create Sine Wave\n",
    "T = 0.00002\n",
    "# Sampling frequency\n",
    "fs = 100e6\n",
    "# Number of samples\n",
    "n = int(T * fs)\n",
    "# Time vector in seconds\n",
    "t = np.linspace(0, T, n, endpoint=False)\n",
    "# Samples of the signal\n",
    "samples = np.sin(0.2e6*2*np.pi*t) \n",
    "# Convert samples to 32-bit integers\n",
    "print('Number of samples: ',len(samples))\n",
    "samples = samples * 2**(fin_fBits)\n",
    "samples = samples.astype(np.int32)\n",
    "#plot_time(samples)\n",
    "\n",
    "# Read Gain Register\n",
    "\n",
    "awgn.write(awgn_regmap.RegMap.AWGN_NOISE_GAIN_ADDR,int(awgn_gain*(2**awgn_fBits)))\n",
    "awgn.write(awgn_regmap.RegMap.AWGN_ENABLE_ADDR,1)\n",
    "\n",
    "awgn_en_reg = awgn.read(awgn_regmap.RegMap.AWGN_ENABLE_ADDR)\n",
    "\n",
    "print(\"AWGN Gain           : \" + str(awgn.read(awgn_regmap.RegMap.AWGN_NOISE_GAIN_ADDR)/(2**awgn_fBits)))\n",
    "print(\"AWGN Enable         : \" + str(awgn_en_reg & 0x1))\n",
    "print(\"DMA Transfer Size   : \" + str(len(samples)))\n",
    "print(\"AWGN I Sat          : \" + str((awgn_en_reg >> 1) & 0x1))\n",
    "print(\"AWGN Q Sat          : \" + str((awgn_en_reg >> 2) & 0x1))\n",
    "\n",
    "# Allocate buffers for the input and output signals\n",
    "in_buffer = allocate(shape=(len(samples),), dtype=np.int32)\n",
    "out_buffer = allocate(shape=(len(samples),), dtype=np.int32)\n",
    "\n",
    "# Copy the samples to the in_buffer\n",
    "np.copyto(in_buffer,samples)\n",
    "\n",
    "# Trigger the DMA transfer and wait for the result\n",
    "import time\n",
    "start_time = time.time()\n",
    "dma.sendchannel.transfer(in_buffer)\n",
    "#print('Submit sending the transfer into in_buffer')\n",
    "dma.recvchannel.transfer(out_buffer)\n",
    "#print('Submit receiving the transfer from out_buffer')\n",
    "dma.sendchannel.wait()\n",
    "#print('Done Sending the transfer to in_buffer')\n",
    "dma.recvchannel.wait()\n",
    "#print('Done receiving the transfer from out_buffer')\n",
    "stop_time = time.time()\n",
    "hw_exec_time = stop_time-start_time\n",
    "\n",
    "print('DMA Transfer Execution Time  :',hw_exec_time,' sec')\n",
    "\n",
    "# Plot to the notebook\n",
    "#plot_time(t,samples,2000,out_signal=out_buffer)\n",
    "\n",
    "# Free the buffers\n",
    "in_buffer.close()\n",
    "out_buffer.close()\n",
    "t = (out_buffer & 0xFFFF)\n",
    "out_fp = []\n",
    "for x in t:\n",
    "    if(x>(2**(fout_tBits-1))):\n",
    "          x = x - (2**(fout_tBits))\n",
    "    out_fp.append(x/(2**fout_fBits))\n",
    "plot_time(samples/(2**fout_fBits),out_fp)\n",
    "\n"
   ]
  },
  {
   "cell_type": "code",
   "execution_count": 97,
   "metadata": {},
   "outputs": [
    {
     "ename": "AttributeError",
     "evalue": "'_RegAwgn_enable' object has no attribute 'sat_i_ch'",
     "output_type": "error",
     "traceback": [
      "\u001b[0;31m---------------------------------------------------------------------------\u001b[0m",
      "\u001b[0;31mAttributeError\u001b[0m                            Traceback (most recent call last)",
      "Input \u001b[0;32mIn [97]\u001b[0m, in \u001b[0;36m<cell line: 3>\u001b[0;34m()\u001b[0m\n\u001b[1;32m      1\u001b[0m sat \u001b[38;5;241m=\u001b[39m awgn_regmap\u001b[38;5;241m.\u001b[39m_RegAwgn_enable(awgn_regmap\u001b[38;5;241m.\u001b[39mRegMap)\n\u001b[0;32m----> 3\u001b[0m \u001b[43msat\u001b[49m\u001b[38;5;241;43m.\u001b[39;49m\u001b[43msat_i_ch\u001b[49m()\n",
      "\u001b[0;31mAttributeError\u001b[0m: '_RegAwgn_enable' object has no attribute 'sat_i_ch'"
     ]
    }
   ],
   "source": [
    "sat = awgn_regmap._RegAwgn_enable(awgn_regmap.RegMap)\n",
    "\n",
    "sat.sat_i_ch"
   ]
  },
  {
   "cell_type": "code",
   "execution_count": 79,
   "metadata": {},
   "outputs": [
    {
     "ename": "AttributeError",
     "evalue": "type object 'RegMap' has no attribute 'AWGN_ENABLE_SAT_I_CH_POS'",
     "output_type": "error",
     "traceback": [
      "\u001b[0;31m---------------------------------------------------------------------------\u001b[0m",
      "\u001b[0;31mAttributeError\u001b[0m                            Traceback (most recent call last)",
      "Input \u001b[0;32mIn [79]\u001b[0m, in \u001b[0;36m<cell line: 2>\u001b[0;34m()\u001b[0m\n\u001b[1;32m      1\u001b[0m awgn_en_reg \u001b[38;5;241m=\u001b[39m awgn\u001b[38;5;241m.\u001b[39mread(awgn_regmap\u001b[38;5;241m.\u001b[39mRegMap\u001b[38;5;241m.\u001b[39mAWGN_ENABLE_ADDR)\n\u001b[0;32m----> 2\u001b[0m \u001b[38;5;28mprint\u001b[39m(\u001b[38;5;124m\"\u001b[39m\u001b[38;5;124mAWGN I Sat          : \u001b[39m\u001b[38;5;124m\"\u001b[39m \u001b[38;5;241m+\u001b[39m \u001b[38;5;28mstr\u001b[39m((awgn_en_reg \u001b[38;5;241m>>\u001b[39m \u001b[43mawgn_regmap\u001b[49m\u001b[38;5;241;43m.\u001b[39;49m\u001b[43mRegMap\u001b[49m\u001b[38;5;241;43m.\u001b[39;49m\u001b[43mAWGN_ENABLE_SAT_I_CH_POS\u001b[49m) \u001b[38;5;241m&\u001b[39m awgn_regmap\u001b[38;5;241m.\u001b[39mRegMap\u001b[38;5;241m.\u001b[39mAWGN_ENABLE_SAT_Q_CH_MSK))\n",
      "\u001b[0;31mAttributeError\u001b[0m: type object 'RegMap' has no attribute 'AWGN_ENABLE_SAT_I_CH_POS'"
     ]
    }
   ],
   "source": [
    "awgn_en_reg = awgn.read(awgn_regmap.RegMap.AWGN_ENABLE_ADDR)\n",
    "print(\"AWGN I Sat          : \" + str((awgn_en_reg >> awgn_regmap.RegMap.AWGN_ENABLE_SAT_I_CH_POS) & awgn_regmap.RegMap.AWGN_ENABLE_SAT_Q_CH_MSK))"
   ]
  },
  {
   "cell_type": "code",
   "execution_count": 82,
   "metadata": {},
   "outputs": [],
   "source": [
    "a = awgn_regmap.RegMap"
   ]
  },
  {
   "cell_type": "code",
   "execution_count": null,
   "metadata": {},
   "outputs": [],
   "source": [
    "a."
   ]
  }
 ],
 "metadata": {
  "kernelspec": {
   "display_name": "Python 3 (ipykernel)",
   "language": "python",
   "name": "python3"
  },
  "language_info": {
   "codemirror_mode": {
    "name": "ipython",
    "version": 3
   },
   "file_extension": ".py",
   "mimetype": "text/x-python",
   "name": "python",
   "nbconvert_exporter": "python",
   "pygments_lexer": "ipython3",
   "version": "3.10.12"
  }
 },
 "nbformat": 4,
 "nbformat_minor": 4
}
