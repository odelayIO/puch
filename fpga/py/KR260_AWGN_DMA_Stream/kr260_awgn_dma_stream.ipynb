{
 "cells": [
  {
   "cell_type": "markdown",
   "metadata": {},
   "source": [
    "## KR260 AWGN DMA Stream\n",
    "\n",
    "\n",
    "### Plot function for use in this notebook\n",
    "The first code block below defines a function that we will use for plotting data throughout this notebook. Note that the function has a `n_samples` argument so that we can limit the number of samples to plot. Plotting more than a few thousand samples can be very slow and consume a lot of RAM.\n",
    "\n",
    "### Requirements\n",
    "Install the following:\n",
    "\n",
    "```bash\n",
    "pip install ipympl\n",
    "pip install ipywidgets\n",
    "pip install jupyter_bokeh\n",
    "```"
   ]
  },
  {
   "cell_type": "markdown",
   "metadata": {},
   "source": [
    "# Initilize\n",
    "\n",
    "#### Bokeh Plot Function"
   ]
  },
  {
   "cell_type": "code",
   "execution_count": 1,
   "metadata": {},
   "outputs": [],
   "source": [
    "from bokeh.plotting import figure, output_file, show\n",
    "from bokeh.io import output_notebook, show\n",
    "import numpy as np\n",
    "import math\n",
    "\n",
    "\n",
    "def plot_time(in_signal,out_signal=None):\n",
    "    t = np.linspace(0,len(in_signal),len(in_signal))\n",
    "    output_notebook()\n",
    "    p = figure(title = \"Input & Output Signal\")\n",
    "    \n",
    "    if out_signal is not None:\n",
    "        p.line(t,out_signal,legend_label=\"Output Signal\",line_color=\"red\",line_width=1)\n",
    "    p.line(t,in_signal,legend_label=\"Input Signal\",line_color=\"blue\",line_width=3)\n",
    "    show(p)"
   ]
  },
  {
   "cell_type": "markdown",
   "metadata": {},
   "source": [
    "#### Load Overlay"
   ]
  },
  {
   "cell_type": "code",
   "execution_count": 5,
   "metadata": {},
   "outputs": [],
   "source": [
    "from pynq import Overlay\n",
    "from pynq import allocate\n",
    "from pynq import MMIO\n",
    "import pynq.lib.dma\n",
    "import time\n",
    "\n",
    "#import Python library from repo:\n",
    "import sys\n",
    "sys.path.append('/home/root/jupyter_notebooks/puch/FixedGain_tlast_debug')\n",
    "import fpga.py.puch as puch\n",
    "import fpga.lib.timestamp.sw.timestamp_regmap as timestamp_regmap\n",
    "import fpga.lib.led_reg.sw.led_regmap as led_regmap\n",
    "import fpga.lib.AWGN_GNG.sw.awgn_regmap as awgn_regmap\n",
    "\n",
    "\n",
    "# Load the overlay\n",
    "overlay = Overlay('../../overlays/KR260_AWGN_DMA_Stream/output/kr260_awgn_dma_stream.bit')\n",
    "\n",
    "# Assign blocks to short vars\n",
    "dma          = overlay.axi_dma_0\n",
    "led_module   = overlay.led_reg_0\n",
    "timestamp    = overlay.Timestamp_0\n",
    "awgn         = overlay.gng_top_0"
   ]
  },
  {
   "cell_type": "markdown",
   "metadata": {},
   "source": [
    "##### Print out the register map for DMA and HLS Gain Blocks"
   ]
  },
  {
   "cell_type": "code",
   "execution_count": null,
   "metadata": {},
   "outputs": [],
   "source": [
    "overlay.ip_dict"
   ]
  },
  {
   "cell_type": "code",
   "execution_count": null,
   "metadata": {},
   "outputs": [],
   "source": [
    "dma.register_map"
   ]
  },
  {
   "cell_type": "markdown",
   "metadata": {},
   "source": [
    "##### Display Time Stamp Register\n",
    "The time stamp is burned into the FPGA during the build process"
   ]
  },
  {
   "cell_type": "code",
   "execution_count": 6,
   "metadata": {},
   "outputs": [
    {
     "name": "stdout",
     "output_type": "stream",
     "text": [
      "FPGA Build Timestamp:  2025/4/5 8:39:37\n"
     ]
    }
   ],
   "source": [
    "print(\"FPGA Build Timestamp:  \" + puch.get_timestamp_str(timestamp))"
   ]
  },
  {
   "cell_type": "markdown",
   "metadata": {},
   "source": [
    "##### Toggle USER_LED[1:0] on/off"
   ]
  },
  {
   "cell_type": "code",
   "execution_count": 7,
   "metadata": {},
   "outputs": [],
   "source": [
    "for i in range(10):\n",
    "    led_module.mmio.write(led_regmap.RegMap.USER_LEDS_ADDR,0x1)\n",
    "    time.sleep(0.25)\n",
    "    led_module.mmio.write(led_regmap.RegMap.USER_LEDS_ADDR,0x2)\n",
    "    time.sleep(0.25)\n",
    "led_module.mmio.write(led_regmap.RegMap.USER_LEDS_ADDR,0x0)"
   ]
  },
  {
   "cell_type": "markdown",
   "metadata": {},
   "source": [
    "##### Display AWGN Block Parameters"
   ]
  },
  {
   "cell_type": "code",
   "execution_count": 8,
   "metadata": {},
   "outputs": [
    {
     "name": "stdout",
     "output_type": "stream",
     "text": [
      "Noise Gain = 0\n",
      "Noise Gain = 4\n",
      "AWGN Enable = 0\n",
      "AWGN Enable = 1\n"
     ]
    }
   ],
   "source": [
    "print(\"Noise Gain = \" + str(awgn.read(awgn_regmap.RegMap.AWGN_NOISE_GAIN_ADDR)))\n",
    "awgn.write(awgn_regmap.RegMap.AWGN_NOISE_GAIN_ADDR,4)\n",
    "print(\"Noise Gain = \" + str(awgn.read(awgn_regmap.RegMap.AWGN_NOISE_GAIN_ADDR)))\n",
    "print(\"AWGN Enable = \" + str(awgn.read(awgn_regmap.RegMap.AWGN_ENABLE_ADDR)))\n",
    "awgn.write(awgn_regmap.RegMap.AWGN_ENABLE_ADDR,1)\n",
    "print(\"AWGN Enable = \" + str(awgn.read(awgn_regmap.RegMap.AWGN_ENABLE_ADDR)))"
   ]
  },
  {
   "cell_type": "code",
   "execution_count": 9,
   "metadata": {},
   "outputs": [
    {
     "name": "stdout",
     "output_type": "stream",
     "text": [
      "F_IN : (16, 14)\n",
      "F_OUT : (16, 14)\n",
      "F_AWGN : (16, 11)\n"
     ]
    },
    {
     "data": {
      "text/plain": [
       "int"
      ]
     },
     "execution_count": 9,
     "metadata": {},
     "output_type": "execute_result"
    }
   ],
   "source": [
    "#awgn.write(gain_module.register_map.gain.address,4)\n",
    "tBits, fBits = puch.get_format(awgn,awgn_regmap.RegMap.F_IN_ADDR)\n",
    "print(\"F_IN : (\" + str(tBits) + \", \" + str(fBits) + \")\")\n",
    "tBits, fBits = puch.get_format(awgn,awgn_regmap.RegMap.F_OUT_ADDR)\n",
    "print(\"F_OUT : (\" + str(tBits) + \", \" + str(fBits) + \")\")\n",
    "tBits, fBits = puch.get_format(awgn,awgn_regmap.RegMap.F_AWGN_ADDR)\n",
    "print(\"F_AWGN : (\" + str(tBits) + \", \" + str(fBits) + \")\")\n",
    "\n",
    "type(fBits)"
   ]
  },
  {
   "cell_type": "markdown",
   "metadata": {},
   "source": [
    "### DMA Transfer the Sample buffer from ARM Processor to the AWGN FPGA Module, and plot"
   ]
  },
  {
   "cell_type": "code",
   "execution_count": 22,
   "metadata": {},
   "outputs": [
    {
     "name": "stdout",
     "output_type": "stream",
     "text": [
      "Number of samples:  2000\n",
      "AWGN Gain           : 0.07958984375\n",
      "AWGN Enable         : 1\n",
      "DMA Transfer Size   : 2000\n",
      "AWGN I Sat          : 0\n",
      "AWGN Q Sat          : 0\n",
      "DMA Transfer Execution Time  : 0.0017862319946289062  sec\n"
     ]
    },
    {
     "data": {
      "text/html": [
       "<style>\n",
       "        .bk-notebook-logo {\n",
       "            display: block;\n",
       "            width: 20px;\n",
       "            height: 20px;\n",
       "            background-image: url(data:image/png;base64,iVBORw0KGgoAAAANSUhEUgAAABQAAAAUCAYAAACNiR0NAAAABHNCSVQICAgIfAhkiAAAAAlwSFlzAAALEgAACxIB0t1+/AAAABx0RVh0U29mdHdhcmUAQWRvYmUgRmlyZXdvcmtzIENTNui8sowAAAOkSURBVDiNjZRtaJVlGMd/1/08zzln5zjP1LWcU9N0NkN8m2CYjpgQYQXqSs0I84OLIC0hkEKoPtiH3gmKoiJDU7QpLgoLjLIQCpEsNJ1vqUOdO7ppbuec5+V+rj4ctwzd8IIbbi6u+8f1539dt3A78eXC7QizUF7gyV1fD1Yqg4JWz84yffhm0qkFqBogB9rM8tZdtwVsPUhWhGcFJngGeWrPzHm5oaMmkfEg1usvLFyc8jLRqDOMru7AyC8saQr7GG7f5fvDeH7Ej8CM66nIF+8yngt6HWaKh7k49Soy9nXurCi1o3qUbS3zWfrYeQDTB/Qj6kX6Ybhw4B+bOYoLKCC9H3Nu/leUTZ1JdRWkkn2ldcCamzrcf47KKXdAJllSlxAOkRgyHsGC/zRday5Qld9DyoM4/q/rUoy/CXh3jzOu3bHUVZeU+DEn8FInkPBFlu3+nW3Nw0mk6vCDiWg8CeJaxEwuHS3+z5RgY+YBR6V1Z1nxSOfoaPa4LASWxxdNp+VWTk7+4vzaou8v8PN+xo+KY2xsw6une2frhw05CTYOmQvsEhjhWjn0bmXPjpE1+kplmmkP3suftwTubK9Vq22qKmrBhpY4jvd5afdRA3wGjFAgcnTK2s4hY0/GPNIb0nErGMCRxWOOX64Z8RAC4oCXdklmEvcL8o0BfkNK4lUg9HTl+oPlQxdNo3Mg4Nv175e/1LDGzZen30MEjRUtmXSfiTVu1kK8W4txyV6BMKlbgk3lMwYCiusNy9fVfvvwMxv8Ynl6vxoByANLTWplvuj/nF9m2+PDtt1eiHPBr1oIfhCChQMBw6Aw0UulqTKZdfVvfG7VcfIqLG9bcldL/+pdWTLxLUy8Qq38heUIjh4XlzZxzQm19lLFlr8vdQ97rjZVOLf8nclzckbcD4wxXMidpX30sFd37Fv/GtwwhzhxGVAprjbg0gCAEeIgwCZyTV2Z1REEW8O4py0wsjeloKoMr6iCY6dP92H6Vw/oTyICIthibxjm/DfN9lVz8IqtqKYLUXfoKVMVQVVJOElGjrnnUt9T9wbgp8AyYKaGlqingHZU/uG2NTZSVqwHQTWkx9hxjkpWDaCg6Ckj5qebgBVbT3V3NNXMSiWSDdGV3hrtzla7J+duwPOToIg42ChPQOQjspnSlp1V+Gjdged7+8UN5CRAV7a5EdFNwCjEaBR27b3W890TE7g24NAP/mMDXRWrGoFPQI9ls/MWO2dWFAar/xcOIImbbpA3zgAAAABJRU5ErkJggg==);\n",
       "        }\n",
       "    </style>\n",
       "    <div>\n",
       "        <a href=\"https://bokeh.org\" target=\"_blank\" class=\"bk-notebook-logo\"></a>\n",
       "        <span id=\"b1b3073d-bd78-4d29-bba5-120a0013dcab\">Loading BokehJS ...</span>\n",
       "    </div>\n"
      ]
     },
     "metadata": {},
     "output_type": "display_data"
    },
    {
     "data": {
      "application/javascript": [
       "(function(root) {\n",
       "  function now() {\n",
       "    return new Date();\n",
       "  }\n",
       "\n",
       "  const force = true;\n",
       "\n",
       "  if (typeof root._bokeh_onload_callbacks === \"undefined\" || force === true) {\n",
       "    root._bokeh_onload_callbacks = [];\n",
       "    root._bokeh_is_loading = undefined;\n",
       "  }\n",
       "\n",
       "const JS_MIME_TYPE = 'application/javascript';\n",
       "  const HTML_MIME_TYPE = 'text/html';\n",
       "  const EXEC_MIME_TYPE = 'application/vnd.bokehjs_exec.v0+json';\n",
       "  const CLASS_NAME = 'output_bokeh rendered_html';\n",
       "\n",
       "  /**\n",
       "   * Render data to the DOM node\n",
       "   */\n",
       "  function render(props, node) {\n",
       "    const script = document.createElement(\"script\");\n",
       "    node.appendChild(script);\n",
       "  }\n",
       "\n",
       "  /**\n",
       "   * Handle when an output is cleared or removed\n",
       "   */\n",
       "  function handleClearOutput(event, handle) {\n",
       "    function drop(id) {\n",
       "      const view = Bokeh.index.get_by_id(id)\n",
       "      if (view != null) {\n",
       "        view.model.document.clear()\n",
       "        Bokeh.index.delete(view)\n",
       "      }\n",
       "    }\n",
       "\n",
       "    const cell = handle.cell;\n",
       "\n",
       "    const id = cell.output_area._bokeh_element_id;\n",
       "    const server_id = cell.output_area._bokeh_server_id;\n",
       "\n",
       "    // Clean up Bokeh references\n",
       "    if (id != null) {\n",
       "      drop(id)\n",
       "    }\n",
       "\n",
       "    if (server_id !== undefined) {\n",
       "      // Clean up Bokeh references\n",
       "      const cmd_clean = \"from bokeh.io.state import curstate; print(curstate().uuid_to_server['\" + server_id + \"'].get_sessions()[0].document.roots[0]._id)\";\n",
       "      cell.notebook.kernel.execute(cmd_clean, {\n",
       "        iopub: {\n",
       "          output: function(msg) {\n",
       "            const id = msg.content.text.trim()\n",
       "            drop(id)\n",
       "          }\n",
       "        }\n",
       "      });\n",
       "      // Destroy server and session\n",
       "      const cmd_destroy = \"import bokeh.io.notebook as ion; ion.destroy_server('\" + server_id + \"')\";\n",
       "      cell.notebook.kernel.execute(cmd_destroy);\n",
       "    }\n",
       "  }\n",
       "\n",
       "  /**\n",
       "   * Handle when a new output is added\n",
       "   */\n",
       "  function handleAddOutput(event, handle) {\n",
       "    const output_area = handle.output_area;\n",
       "    const output = handle.output;\n",
       "\n",
       "    // limit handleAddOutput to display_data with EXEC_MIME_TYPE content only\n",
       "    if ((output.output_type != \"display_data\") || (!Object.prototype.hasOwnProperty.call(output.data, EXEC_MIME_TYPE))) {\n",
       "      return\n",
       "    }\n",
       "\n",
       "    const toinsert = output_area.element.find(\".\" + CLASS_NAME.split(' ')[0]);\n",
       "\n",
       "    if (output.metadata[EXEC_MIME_TYPE][\"id\"] !== undefined) {\n",
       "      toinsert[toinsert.length - 1].firstChild.textContent = output.data[JS_MIME_TYPE];\n",
       "      // store reference to embed id on output_area\n",
       "      output_area._bokeh_element_id = output.metadata[EXEC_MIME_TYPE][\"id\"];\n",
       "    }\n",
       "    if (output.metadata[EXEC_MIME_TYPE][\"server_id\"] !== undefined) {\n",
       "      const bk_div = document.createElement(\"div\");\n",
       "      bk_div.innerHTML = output.data[HTML_MIME_TYPE];\n",
       "      const script_attrs = bk_div.children[0].attributes;\n",
       "      for (let i = 0; i < script_attrs.length; i++) {\n",
       "        toinsert[toinsert.length - 1].firstChild.setAttribute(script_attrs[i].name, script_attrs[i].value);\n",
       "        toinsert[toinsert.length - 1].firstChild.textContent = bk_div.children[0].textContent\n",
       "      }\n",
       "      // store reference to server id on output_area\n",
       "      output_area._bokeh_server_id = output.metadata[EXEC_MIME_TYPE][\"server_id\"];\n",
       "    }\n",
       "  }\n",
       "\n",
       "  function register_renderer(events, OutputArea) {\n",
       "\n",
       "    function append_mime(data, metadata, element) {\n",
       "      // create a DOM node to render to\n",
       "      const toinsert = this.create_output_subarea(\n",
       "        metadata,\n",
       "        CLASS_NAME,\n",
       "        EXEC_MIME_TYPE\n",
       "      );\n",
       "      this.keyboard_manager.register_events(toinsert);\n",
       "      // Render to node\n",
       "      const props = {data: data, metadata: metadata[EXEC_MIME_TYPE]};\n",
       "      render(props, toinsert[toinsert.length - 1]);\n",
       "      element.append(toinsert);\n",
       "      return toinsert\n",
       "    }\n",
       "\n",
       "    /* Handle when an output is cleared or removed */\n",
       "    events.on('clear_output.CodeCell', handleClearOutput);\n",
       "    events.on('delete.Cell', handleClearOutput);\n",
       "\n",
       "    /* Handle when a new output is added */\n",
       "    events.on('output_added.OutputArea', handleAddOutput);\n",
       "\n",
       "    /**\n",
       "     * Register the mime type and append_mime function with output_area\n",
       "     */\n",
       "    OutputArea.prototype.register_mime_type(EXEC_MIME_TYPE, append_mime, {\n",
       "      /* Is output safe? */\n",
       "      safe: true,\n",
       "      /* Index of renderer in `output_area.display_order` */\n",
       "      index: 0\n",
       "    });\n",
       "  }\n",
       "\n",
       "  // register the mime type if in Jupyter Notebook environment and previously unregistered\n",
       "  if (root.Jupyter !== undefined) {\n",
       "    const events = require('base/js/events');\n",
       "    const OutputArea = require('notebook/js/outputarea').OutputArea;\n",
       "\n",
       "    if (OutputArea.prototype.mime_types().indexOf(EXEC_MIME_TYPE) == -1) {\n",
       "      register_renderer(events, OutputArea);\n",
       "    }\n",
       "  }\n",
       "  if (typeof (root._bokeh_timeout) === \"undefined\" || force === true) {\n",
       "    root._bokeh_timeout = Date.now() + 5000;\n",
       "    root._bokeh_failed_load = false;\n",
       "  }\n",
       "\n",
       "  const NB_LOAD_WARNING = {'data': {'text/html':\n",
       "     \"<div style='background-color: #fdd'>\\n\"+\n",
       "     \"<p>\\n\"+\n",
       "     \"BokehJS does not appear to have successfully loaded. If loading BokehJS from CDN, this \\n\"+\n",
       "     \"may be due to a slow or bad network connection. Possible fixes:\\n\"+\n",
       "     \"</p>\\n\"+\n",
       "     \"<ul>\\n\"+\n",
       "     \"<li>re-rerun `output_notebook()` to attempt to load from CDN again, or</li>\\n\"+\n",
       "     \"<li>use INLINE resources instead, as so:</li>\\n\"+\n",
       "     \"</ul>\\n\"+\n",
       "     \"<code>\\n\"+\n",
       "     \"from bokeh.resources import INLINE\\n\"+\n",
       "     \"output_notebook(resources=INLINE)\\n\"+\n",
       "     \"</code>\\n\"+\n",
       "     \"</div>\"}};\n",
       "\n",
       "  function display_loaded() {\n",
       "    const el = document.getElementById(\"b1b3073d-bd78-4d29-bba5-120a0013dcab\");\n",
       "    if (el != null) {\n",
       "      el.textContent = \"BokehJS is loading...\";\n",
       "    }\n",
       "    if (root.Bokeh !== undefined) {\n",
       "      if (el != null) {\n",
       "        el.textContent = \"BokehJS \" + root.Bokeh.version + \" successfully loaded.\";\n",
       "      }\n",
       "    } else if (Date.now() < root._bokeh_timeout) {\n",
       "      setTimeout(display_loaded, 100)\n",
       "    }\n",
       "  }\n",
       "\n",
       "  function run_callbacks() {\n",
       "    try {\n",
       "      root._bokeh_onload_callbacks.forEach(function(callback) {\n",
       "        if (callback != null)\n",
       "          callback();\n",
       "      });\n",
       "    } finally {\n",
       "      delete root._bokeh_onload_callbacks\n",
       "    }\n",
       "    console.debug(\"Bokeh: all callbacks have finished\");\n",
       "  }\n",
       "\n",
       "  function load_libs(css_urls, js_urls, callback) {\n",
       "    if (css_urls == null) css_urls = [];\n",
       "    if (js_urls == null) js_urls = [];\n",
       "\n",
       "    root._bokeh_onload_callbacks.push(callback);\n",
       "    if (root._bokeh_is_loading > 0) {\n",
       "      console.debug(\"Bokeh: BokehJS is being loaded, scheduling callback at\", now());\n",
       "      return null;\n",
       "    }\n",
       "    if (js_urls == null || js_urls.length === 0) {\n",
       "      run_callbacks();\n",
       "      return null;\n",
       "    }\n",
       "    console.debug(\"Bokeh: BokehJS not loaded, scheduling load and callback at\", now());\n",
       "    root._bokeh_is_loading = css_urls.length + js_urls.length;\n",
       "\n",
       "    function on_load() {\n",
       "      root._bokeh_is_loading--;\n",
       "      if (root._bokeh_is_loading === 0) {\n",
       "        console.debug(\"Bokeh: all BokehJS libraries/stylesheets loaded\");\n",
       "        run_callbacks()\n",
       "      }\n",
       "    }\n",
       "\n",
       "    function on_error(url) {\n",
       "      console.error(\"failed to load \" + url);\n",
       "    }\n",
       "\n",
       "    for (let i = 0; i < css_urls.length; i++) {\n",
       "      const url = css_urls[i];\n",
       "      const element = document.createElement(\"link\");\n",
       "      element.onload = on_load;\n",
       "      element.onerror = on_error.bind(null, url);\n",
       "      element.rel = \"stylesheet\";\n",
       "      element.type = \"text/css\";\n",
       "      element.href = url;\n",
       "      console.debug(\"Bokeh: injecting link tag for BokehJS stylesheet: \", url);\n",
       "      document.body.appendChild(element);\n",
       "    }\n",
       "\n",
       "    for (let i = 0; i < js_urls.length; i++) {\n",
       "      const url = js_urls[i];\n",
       "      const element = document.createElement('script');\n",
       "      element.onload = on_load;\n",
       "      element.onerror = on_error.bind(null, url);\n",
       "      element.async = false;\n",
       "      element.src = url;\n",
       "      console.debug(\"Bokeh: injecting script tag for BokehJS library: \", url);\n",
       "      document.head.appendChild(element);\n",
       "    }\n",
       "  };\n",
       "\n",
       "  function inject_raw_css(css) {\n",
       "    const element = document.createElement(\"style\");\n",
       "    element.appendChild(document.createTextNode(css));\n",
       "    document.body.appendChild(element);\n",
       "  }\n",
       "\n",
       "  const js_urls = [\"https://cdn.bokeh.org/bokeh/release/bokeh-3.3.0.min.js\", \"https://cdn.bokeh.org/bokeh/release/bokeh-gl-3.3.0.min.js\", \"https://cdn.bokeh.org/bokeh/release/bokeh-widgets-3.3.0.min.js\", \"https://cdn.bokeh.org/bokeh/release/bokeh-tables-3.3.0.min.js\", \"https://cdn.bokeh.org/bokeh/release/bokeh-mathjax-3.3.0.min.js\"];\n",
       "  const css_urls = [];\n",
       "\n",
       "  const inline_js = [    function(Bokeh) {\n",
       "      Bokeh.set_log_level(\"info\");\n",
       "    },\n",
       "function(Bokeh) {\n",
       "    }\n",
       "  ];\n",
       "\n",
       "  function run_inline_js() {\n",
       "    if (root.Bokeh !== undefined || force === true) {\n",
       "          for (let i = 0; i < inline_js.length; i++) {\n",
       "      inline_js[i].call(root, root.Bokeh);\n",
       "    }\n",
       "if (force === true) {\n",
       "        display_loaded();\n",
       "      }} else if (Date.now() < root._bokeh_timeout) {\n",
       "      setTimeout(run_inline_js, 100);\n",
       "    } else if (!root._bokeh_failed_load) {\n",
       "      console.log(\"Bokeh: BokehJS failed to load within specified timeout.\");\n",
       "      root._bokeh_failed_load = true;\n",
       "    } else if (force !== true) {\n",
       "      const cell = $(document.getElementById(\"b1b3073d-bd78-4d29-bba5-120a0013dcab\")).parents('.cell').data().cell;\n",
       "      cell.output_area.append_execute_result(NB_LOAD_WARNING)\n",
       "    }\n",
       "  }\n",
       "\n",
       "  if (root._bokeh_is_loading === 0) {\n",
       "    console.debug(\"Bokeh: BokehJS loaded, going straight to plotting\");\n",
       "    run_inline_js();\n",
       "  } else {\n",
       "    load_libs(css_urls, js_urls, function() {\n",
       "      console.debug(\"Bokeh: BokehJS plotting callback run at\", now());\n",
       "      run_inline_js();\n",
       "    });\n",
       "  }\n",
       "}(window));"
      ],
      "application/vnd.bokehjs_load.v0+json": "(function(root) {\n  function now() {\n    return new Date();\n  }\n\n  const force = true;\n\n  if (typeof root._bokeh_onload_callbacks === \"undefined\" || force === true) {\n    root._bokeh_onload_callbacks = [];\n    root._bokeh_is_loading = undefined;\n  }\n\n\n  if (typeof (root._bokeh_timeout) === \"undefined\" || force === true) {\n    root._bokeh_timeout = Date.now() + 5000;\n    root._bokeh_failed_load = false;\n  }\n\n  const NB_LOAD_WARNING = {'data': {'text/html':\n     \"<div style='background-color: #fdd'>\\n\"+\n     \"<p>\\n\"+\n     \"BokehJS does not appear to have successfully loaded. If loading BokehJS from CDN, this \\n\"+\n     \"may be due to a slow or bad network connection. Possible fixes:\\n\"+\n     \"</p>\\n\"+\n     \"<ul>\\n\"+\n     \"<li>re-rerun `output_notebook()` to attempt to load from CDN again, or</li>\\n\"+\n     \"<li>use INLINE resources instead, as so:</li>\\n\"+\n     \"</ul>\\n\"+\n     \"<code>\\n\"+\n     \"from bokeh.resources import INLINE\\n\"+\n     \"output_notebook(resources=INLINE)\\n\"+\n     \"</code>\\n\"+\n     \"</div>\"}};\n\n  function display_loaded() {\n    const el = document.getElementById(\"b1b3073d-bd78-4d29-bba5-120a0013dcab\");\n    if (el != null) {\n      el.textContent = \"BokehJS is loading...\";\n    }\n    if (root.Bokeh !== undefined) {\n      if (el != null) {\n        el.textContent = \"BokehJS \" + root.Bokeh.version + \" successfully loaded.\";\n      }\n    } else if (Date.now() < root._bokeh_timeout) {\n      setTimeout(display_loaded, 100)\n    }\n  }\n\n  function run_callbacks() {\n    try {\n      root._bokeh_onload_callbacks.forEach(function(callback) {\n        if (callback != null)\n          callback();\n      });\n    } finally {\n      delete root._bokeh_onload_callbacks\n    }\n    console.debug(\"Bokeh: all callbacks have finished\");\n  }\n\n  function load_libs(css_urls, js_urls, callback) {\n    if (css_urls == null) css_urls = [];\n    if (js_urls == null) js_urls = [];\n\n    root._bokeh_onload_callbacks.push(callback);\n    if (root._bokeh_is_loading > 0) {\n      console.debug(\"Bokeh: BokehJS is being loaded, scheduling callback at\", now());\n      return null;\n    }\n    if (js_urls == null || js_urls.length === 0) {\n      run_callbacks();\n      return null;\n    }\n    console.debug(\"Bokeh: BokehJS not loaded, scheduling load and callback at\", now());\n    root._bokeh_is_loading = css_urls.length + js_urls.length;\n\n    function on_load() {\n      root._bokeh_is_loading--;\n      if (root._bokeh_is_loading === 0) {\n        console.debug(\"Bokeh: all BokehJS libraries/stylesheets loaded\");\n        run_callbacks()\n      }\n    }\n\n    function on_error(url) {\n      console.error(\"failed to load \" + url);\n    }\n\n    for (let i = 0; i < css_urls.length; i++) {\n      const url = css_urls[i];\n      const element = document.createElement(\"link\");\n      element.onload = on_load;\n      element.onerror = on_error.bind(null, url);\n      element.rel = \"stylesheet\";\n      element.type = \"text/css\";\n      element.href = url;\n      console.debug(\"Bokeh: injecting link tag for BokehJS stylesheet: \", url);\n      document.body.appendChild(element);\n    }\n\n    for (let i = 0; i < js_urls.length; i++) {\n      const url = js_urls[i];\n      const element = document.createElement('script');\n      element.onload = on_load;\n      element.onerror = on_error.bind(null, url);\n      element.async = false;\n      element.src = url;\n      console.debug(\"Bokeh: injecting script tag for BokehJS library: \", url);\n      document.head.appendChild(element);\n    }\n  };\n\n  function inject_raw_css(css) {\n    const element = document.createElement(\"style\");\n    element.appendChild(document.createTextNode(css));\n    document.body.appendChild(element);\n  }\n\n  const js_urls = [\"https://cdn.bokeh.org/bokeh/release/bokeh-3.3.0.min.js\", \"https://cdn.bokeh.org/bokeh/release/bokeh-gl-3.3.0.min.js\", \"https://cdn.bokeh.org/bokeh/release/bokeh-widgets-3.3.0.min.js\", \"https://cdn.bokeh.org/bokeh/release/bokeh-tables-3.3.0.min.js\", \"https://cdn.bokeh.org/bokeh/release/bokeh-mathjax-3.3.0.min.js\"];\n  const css_urls = [];\n\n  const inline_js = [    function(Bokeh) {\n      Bokeh.set_log_level(\"info\");\n    },\nfunction(Bokeh) {\n    }\n  ];\n\n  function run_inline_js() {\n    if (root.Bokeh !== undefined || force === true) {\n          for (let i = 0; i < inline_js.length; i++) {\n      inline_js[i].call(root, root.Bokeh);\n    }\nif (force === true) {\n        display_loaded();\n      }} else if (Date.now() < root._bokeh_timeout) {\n      setTimeout(run_inline_js, 100);\n    } else if (!root._bokeh_failed_load) {\n      console.log(\"Bokeh: BokehJS failed to load within specified timeout.\");\n      root._bokeh_failed_load = true;\n    } else if (force !== true) {\n      const cell = $(document.getElementById(\"b1b3073d-bd78-4d29-bba5-120a0013dcab\")).parents('.cell').data().cell;\n      cell.output_area.append_execute_result(NB_LOAD_WARNING)\n    }\n  }\n\n  if (root._bokeh_is_loading === 0) {\n    console.debug(\"Bokeh: BokehJS loaded, going straight to plotting\");\n    run_inline_js();\n  } else {\n    load_libs(css_urls, js_urls, function() {\n      console.debug(\"Bokeh: BokehJS plotting callback run at\", now());\n      run_inline_js();\n    });\n  }\n}(window));"
     },
     "metadata": {},
     "output_type": "display_data"
    },
    {
     "data": {
      "text/html": [
       "\n",
       "  <div id=\"b41937e7-2a75-4298-b665-0458c8b8b2d3\" data-root-id=\"p1160\" style=\"display: contents;\"></div>\n"
      ]
     },
     "metadata": {},
     "output_type": "display_data"
    },
    {
     "data": {
      "application/javascript": [
       "(function(root) {\n",
       "  function embed_document(root) {\n",
       "  const docs_json = {\"50bf45ef-8fa4-45cf-925a-2b179722fda2\":{\"version\":\"3.3.0\",\"title\":\"Bokeh Application\",\"roots\":[{\"type\":\"object\",\"name\":\"Figure\",\"id\":\"p1160\",\"attributes\":{\"x_range\":{\"type\":\"object\",\"name\":\"DataRange1d\",\"id\":\"p1161\"},\"y_range\":{\"type\":\"object\",\"name\":\"DataRange1d\",\"id\":\"p1162\"},\"x_scale\":{\"type\":\"object\",\"name\":\"LinearScale\",\"id\":\"p1170\"},\"y_scale\":{\"type\":\"object\",\"name\":\"LinearScale\",\"id\":\"p1171\"},\"title\":{\"type\":\"object\",\"name\":\"Title\",\"id\":\"p1163\",\"attributes\":{\"text\":\"Input & Output Signal\"}},\"renderers\":[{\"type\":\"object\",\"name\":\"GlyphRenderer\",\"id\":\"p1195\",\"attributes\":{\"data_source\":{\"type\":\"object\",\"name\":\"ColumnDataSource\",\"id\":\"p1189\",\"attributes\":{\"selected\":{\"type\":\"object\",\"name\":\"Selection\",\"id\":\"p1190\",\"attributes\":{\"indices\":[],\"line_indices\":[]}},\"selection_policy\":{\"type\":\"object\",\"name\":\"UnionRenderers\",\"id\":\"p1191\"},\"data\":{\"type\":\"map\",\"entries\":[[\"x\",{\"type\":\"ndarray\",\"array\":{\"type\":\"bytes\",\"data\":\"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\"},\"shape\":[2000],\"dtype\":\"float64\",\"order\":\"little\"}],[\"y\",[-0.05859375,0.12091064453125,-0.00714111328125,0.04010009765625,0.17864990234375,0.028564453125,0.0001220703125,0.01263427734375,0.025146484375,0.03765869140625,0.05010986328125,0.06256103515625,0.07501220703125,0.08740234375,0.09979248046875,0.1121826171875,0.12451171875,0.13677978515625,0.2403564453125,0.2974853515625,0.1734619140625,0.25396728515625,0.2275390625,0.20635986328125,0.2999267578125,0.2767333984375,0.2393798828125,0.241943359375,0.3909912109375,0.34857177734375,0.21038818359375,0.3841552734375,0.395263671875,0.57818603515625,0.26837158203125,0.56536865234375,0.26422119140625,0.3682861328125,0.46002197265625,0.484375,0.49005126953125,0.423828125,0.54266357421875,0.638916015625,0.558349609375,0.6793212890625,0.4814453125,0.46551513671875,0.5482177734375,0.5018310546875,0.5408935546875,0.562744140625,0.62451171875,0.60174560546875,0.784423828125,0.54510498046875,0.74810791015625,0.69561767578125,0.64056396484375,0.67578125,0.59027099609375,0.792236328125,0.7412109375,0.65533447265625,0.74322509765625,0.72698974609375,0.83514404296875,0.84698486328125,0.63653564453125,0.71209716796875,0.75927734375,0.8062744140625,0.6402587890625,0.87646484375,0.837646484375,0.8240966796875,0.6971435546875,0.725830078125,0.75537109375,0.8687744140625,0.85406494140625,0.7440185546875,0.85064697265625,0.8228759765625,0.95709228515625,0.94073486328125,0.79583740234375,0.91204833984375,1.001708984375,1.00286865234375,1.00634765625,0.84075927734375,1.01727294921875,0.90850830078125,1.035400390625,0.97125244140625,1.017333984375,0.918212890625,0.98052978515625,0.92657470703125,1.0223388671875,0.892333984375,0.96728515625,0.93267822265625,1.06689453125,1.07647705078125,0.86517333984375,0.7830810546875,1.00311279296875,0.91632080078125,0.93145751953125,1.00897216796875,0.97491455078125,0.9818115234375,1.00750732421875,0.9798583984375,0.99212646484375,0.91876220703125,1.0439453125,1.03961181640625,0.99798583984375,0.93035888671875,1.151611328125,0.9239501953125,1.0272216796875,1.08642578125,1.0404052734375,0.9556884765625,1.051513671875,1.11834716796875,0.98333740234375,1.05767822265625,0.70556640625,0.94171142578125,1.00335693359375,0.9237060546875,1.07098388671875,0.8489990234375,1.11993408203125,1.05682373046875,1.05450439453125,0.97637939453125,1.09393310546875,1.0145263671875,0.85980224609375,0.96856689453125,1.02685546875,1.02008056640625,0.86181640625,0.919189453125,1.0716552734375,0.97735595703125,0.92047119140625,0.725830078125,0.871337890625,0.91363525390625,0.827880859375,0.93536376953125,0.95916748046875,0.91253662109375,1.0390625,1.02679443359375,1.027099609375,0.93548583984375,0.94525146484375,0.85382080078125,0.88287353515625,0.6934814453125,0.85211181640625,0.9305419921875,0.82672119140625,0.9630126953125,0.7880859375,0.882080078125,0.8504638671875,0.7762451171875,0.759033203125,0.7490234375,0.7847900390625,0.8848876953125,0.7666015625,0.88787841796875,0.78155517578125,0.80401611328125,0.83416748046875,0.75726318359375,0.73931884765625,0.72271728515625,0.60107421875,0.658935546875,0.64984130859375,0.64013671875,0.68353271484375,0.74102783203125,0.55621337890625,0.49725341796875,0.637939453125,0.66961669921875,0.62744140625,0.479736328125,0.5286865234375,0.5223388671875,0.4813232421875,0.62420654296875,0.48583984375,0.5567626953125,0.409912109375,0.559326171875,0.62371826171875,0.400390625,0.42559814453125,0.3798828125,0.39849853515625,0.3526611328125,0.47027587890625,0.37005615234375,0.46319580078125,0.35260009765625,0.371337890625,0.3934326171875,0.46478271484375,0.34661865234375,0.4193115234375,0.302001953125,0.2310791015625,0.2996826171875,0.2916259765625,0.23858642578125,0.30908203125,0.20416259765625,0.2598876953125,0.2325439453125,0.3111572265625,0.26226806640625,0.1357421875,0.1160888671875,0.04901123046875,0.04443359375,0.20733642578125,0.07086181640625,0.18780517578125,0.13531494140625,0.146240234375,-0.01861572265625,0.0543212890625,-0.037841796875,0.03851318359375,0.19586181640625,-0.05938720703125,-0.03387451171875,-0.0185546875,-0.09991455078125,-0.06463623046875,-0.18072509765625,-0.11126708984375,-0.090087890625,-0.0968017578125,-0.20062255859375,-0.096923828125,-0.04107666015625,-0.08721923828125,-0.15484619140625,-0.03448486328125,-0.27978515625,-0.15936279296875,-0.0623779296875,-0.17529296875,-0.36871337890625,-0.1676025390625,-0.2237548828125,-0.1734619140625,-0.33013916015625,-0.28466796875,-0.15655517578125,-0.2828369140625,-0.3050537109375,-0.2867431640625,-0.321533203125,-0.4520263671875,-0.44720458984375,-0.35150146484375,-0.2420654296875,-0.389892578125,-0.41217041015625,-0.29034423828125,-0.43011474609375,-0.40826416015625,-0.4019775390625,-0.53131103515625,-0.39599609375,-0.50469970703125,-0.4423828125,-0.50994873046875,-0.427978515625,-0.606201171875,-0.3936767578125,-0.38525390625,-0.54754638671875,-0.5853271484375,-0.7484130859375,-0.6898193359375,-0.483154296875,-0.67333984375,-0.57781982421875,-0.665771484375,-0.67108154296875,-0.76568603515625,-0.64385986328125,-0.42376708984375,-0.71142578125,-0.75482177734375,-0.610595703125,-0.62841796875,-0.86920166015625,-0.79595947265625,-0.59954833984375,-0.69354248046875,-0.82891845703125,-0.73712158203125,-0.68426513671875,-0.76611328125,-0.7408447265625,-0.7891845703125,-0.7412109375,-0.810791015625,-0.6981201171875,-0.8553466796875,-0.719482421875,-0.759765625,-0.7120361328125,-0.85894775390625,-0.7796630859375,-0.84234619140625,-0.8414306640625,-0.87896728515625,-0.83819580078125,-0.67230224609375,-0.90179443359375,-0.929931640625,-0.91937255859375,-0.865234375,-0.73236083984375,-0.92987060546875,-0.91973876953125,-0.842041015625,-0.97711181640625,-1.049072265625,-0.868896484375,-0.87310791015625,-0.83477783203125,-0.8372802734375,-0.997314453125,-0.8681640625,-0.89459228515625,-1.00634765625,-1.05694580078125,-1.02972412109375,-1.0653076171875,-0.99383544921875,-0.99444580078125,-1.06671142578125,-1.02166748046875,-0.96417236328125,-1.0443115234375,-0.95867919921875,-1.1004638671875,-0.94915771484375,-0.99932861328125,-0.91748046875,-0.94732666015625,-1.08489990234375,-0.97186279296875,-1.144775390625,-1.0924072265625,-0.9031982421875,-1.02978515625,-0.9901123046875,-0.9454345703125,-1.056396484375,-0.98358154296875,-1.09613037109375,-1.12310791015625,-0.93701171875,-1.19561767578125,-1.01019287109375,-0.9622802734375,-0.94256591796875,-1.0330810546875,-0.94171142578125,-0.79803466796875,-0.96807861328125,-0.89483642578125,-0.89031982421875,-1.0697021484375,-1.11614990234375,-0.78448486328125,-0.88330078125,-0.89556884765625,-0.95068359375,-1.019775390625,-0.9051513671875,-0.92852783203125,-0.92828369140625,-1.020263671875,-1.011474609375,-0.92193603515625,-1.128173828125,-0.83380126953125,-0.93231201171875,-0.84661865234375,-0.91748046875,-0.84808349609375,-0.773193359375,-0.79241943359375,-0.85101318359375,-0.71173095703125,-0.87799072265625,-0.8116455078125,-0.79498291015625,-0.6336669921875,-0.78717041015625,-0.9136962890625,-0.86328125,-0.898193359375,-0.8275146484375,-0.9041748046875,-0.660400390625,-0.830078125,-0.8072509765625,-0.6226806640625,-0.7119140625,-0.85418701171875,-0.73419189453125,-0.67169189453125,-0.61932373046875,-0.72943115234375,-0.70709228515625,-0.69537353515625,-0.67578125,-0.758056640625,-0.72601318359375,-0.66064453125,-0.58343505859375,-0.63604736328125,-0.72711181640625,-0.53631591796875,-0.605712890625,-0.46697998046875,-0.7744140625,-0.532958984375,-0.5262451171875,-0.6737060546875,-0.5335693359375,-0.63201904296875,-0.5751953125,-0.3800048828125,-0.523681640625,-0.412841796875,-0.60076904296875,-0.4384765625,-0.52471923828125,-0.4521484375,-0.46490478515625,-0.4996337890625,-0.45660400390625,-0.45941162109375,-0.42950439453125,-0.44879150390625,-0.309814453125,-0.5081787109375,-0.32318115234375,-0.32415771484375,-0.2957763671875,-0.234619140625,-0.5108642578125,-0.3094482421875,-0.3531494140625,-0.24932861328125,-0.25244140625,-0.27593994140625,-0.2574462890625,-0.1695556640625,-0.2056884765625,-0.13922119140625,-0.3564453125,-0.2518310546875,-0.02264404296875,-0.18603515625,-0.19610595703125,0.00189208984375,-0.17315673828125,-0.11431884765625,-0.177001953125,-0.01458740234375,-0.1202392578125,-0.150146484375,-0.07269287109375,-0.07086181640625,0.00177001953125,0.06463623046875,-0.00732421875,-0.00653076171875,0.18963623046875,0.09478759765625,0.07562255859375,0.044677734375,0.0645751953125,0.10784912109375,0.128662109375,0.05914306640625,0.19171142578125,0.03619384765625,0.14337158203125,0.12939453125,-0.05596923828125,0.4085693359375,0.3095703125,0.41070556640625,0.2384033203125,0.1812744140625,0.1329345703125,0.27984619140625,0.1240234375,0.22882080078125,0.1553955078125,0.3875732421875,0.3594970703125,0.460205078125,0.3895263671875,0.22698974609375,0.42181396484375,0.4827880859375,0.480224609375,0.44683837890625,0.42559814453125,0.32366943359375,0.23052978515625,0.5445556640625,0.47662353515625,0.42919921875,0.42657470703125,0.47607421875,0.52752685546875,0.504150390625,0.517333984375,0.6876220703125,0.494140625,0.55438232421875,0.4686279296875,0.5277099609375,0.5159912109375,0.525634765625,0.62744140625,0.67547607421875,0.595458984375,0.70135498046875,0.56793212890625,0.71807861328125,0.63714599609375,0.68310546875,0.68988037109375,0.754638671875,0.595703125,0.49176025390625,0.62359619140625,0.65472412109375,0.65643310546875,0.73223876953125,0.73760986328125,0.73944091796875,0.8037109375,0.6485595703125,0.9639892578125,0.671875,0.784423828125,0.7723388671875,0.7635498046875,0.853759765625,0.634765625,0.8419189453125,0.94390869140625,0.6927490234375,0.80133056640625,0.7730712890625,0.80865478515625,0.70977783203125,0.76263427734375,0.96917724609375,0.909912109375,0.93402099609375,0.9580078125,0.86956787109375,0.87518310546875,0.90069580078125,0.754638671875,0.93414306640625,1.037353515625,0.985107421875,0.96881103515625,0.97540283203125,0.8421630859375,0.869873046875,1.12646484375,1.01470947265625,1.03271484375,0.97442626953125,1.01654052734375,1.0745849609375,0.98602294921875,0.94122314453125,0.92315673828125,1.00311279296875,1.12579345703125,0.8763427734375,1.12030029296875,0.7904052734375,0.95404052734375,1.07452392578125,0.9560546875,0.93072509765625,1.05902099609375,1.18182373046875,0.887939453125,1.1285400390625,1.1131591796875,0.9375,0.9232177734375,1.0025634765625,1.114501953125,0.89129638671875,0.99945068359375,0.95220947265625,0.86083984375,1.13458251953125,0.93548583984375,1.1351318359375,1.16668701171875,0.8948974609375,0.84942626953125,1.02606201171875,0.94464111328125,0.89532470703125,0.91082763671875,0.9305419921875,1.02142333984375,0.90264892578125,1.00341796875,1.15875244140625,0.9462890625,1.054443359375,0.9295654296875,0.82794189453125,0.86578369140625,0.916259765625,0.897705078125,0.90386962890625,0.879638671875,1.01300048828125,0.91961669921875,1.03460693359375,0.97998046875,0.74407958984375,0.898193359375,0.79144287109375,0.90179443359375,0.88116455078125,0.89801025390625,0.8848876953125,0.84381103515625,0.8416748046875,0.89898681640625,0.6451416015625,0.77294921875,0.807373046875,0.8138427734375,0.6971435546875,0.865478515625,0.79052734375,0.8306884765625,0.6456298828125,0.73046875,0.59246826171875,0.64434814453125,0.74786376953125,0.78582763671875,0.75091552734375,0.81011962890625,0.54986572265625,0.8466796875,0.673583984375,0.69036865234375,0.68017578125,0.78363037109375,0.71905517578125,0.69781494140625,0.65789794921875,0.692626953125,0.52947998046875,0.51953125,0.625244140625,0.6463623046875,0.5911865234375,0.4886474609375,0.67059326171875,0.7001953125,0.5167236328125,0.537841796875,0.525146484375,0.53240966796875,0.3818359375,0.55548095703125,0.4638671875,0.56695556640625,0.4161376953125,0.50103759765625,0.42523193359375,0.52130126953125,0.31988525390625,0.505615234375,0.3616943359375,0.42376708984375,0.34368896484375,0.3587646484375,0.216552734375,0.3121337890625,0.3621826171875,0.2393798828125,0.21856689453125,0.255859375,0.19439697265625,0.1993408203125,0.2545166015625,0.2384033203125,0.14849853515625,0.1240234375,0.1551513671875,0.00994873046875,0.2060546875,0.16094970703125,0.16998291015625,0.11602783203125,-0.03607177734375,0.260986328125,-0.04742431640625,-0.0682373046875,0.186767578125,0.00335693359375,0.03375244140625,0.10955810546875,0.08233642578125,-0.0576171875,-0.08673095703125,0.18878173828125,0.03021240234375,0.03765869140625,-0.126220703125,0.0086669921875,-0.18157958984375,0.022216796875,-0.25885009765625,-0.13800048828125,-0.03765869140625,-0.23126220703125,-0.2421875,-0.16815185546875,-0.1673583984375,-0.14013671875,-0.29644775390625,-0.2686767578125,-0.3087158203125,-0.3341064453125,-0.29547119140625,-0.25927734375,-0.26837158203125,-0.2589111328125,-0.4232177734375,-0.3687744140625,-0.334716796875,-0.3074951171875,-0.43304443359375,-0.48968505859375,-0.4940185546875,-0.439208984375,-0.24859619140625,-0.36993408203125,-0.45111083984375,-0.33404541015625,-0.4727783203125,-0.61431884765625,-0.42578125,-0.58477783203125,-0.37548828125,-0.60662841796875,-0.677978515625,-0.486572265625,-0.4927978515625,-0.65673828125,-0.53631591796875,-0.5086669921875,-0.6536865234375,-0.6302490234375,-0.724365234375,-0.77734375,-0.64569091796875,-0.525634765625,-0.56561279296875,-0.68365478515625,-0.67901611328125,-0.80609130859375,-0.52392578125,-0.60980224609375,-0.721435546875,-0.66357421875,-0.61578369140625,-0.62750244140625,-0.72161865234375,-0.73162841796875,-0.68536376953125,-0.91876220703125,-0.71160888671875,-0.73876953125,-0.8536376953125,-0.7462158203125,-0.8310546875,-0.783447265625,-0.8328857421875,-1.0125732421875,-0.828369140625,-0.80908203125,-0.7320556640625,-0.90924072265625,-0.8782958984375,-0.84332275390625,-0.9654541015625,-0.94732666015625,-0.83282470703125,-0.87347412109375,-0.95697021484375,-0.852783203125,-0.76312255859375,-0.7607421875,-0.83050537109375,-0.90106201171875,-0.78790283203125,-0.931396484375,-0.95904541015625,-1.045166015625,-0.947509765625,-1.01129150390625,-1.01690673828125,-0.9544677734375,-0.977294921875,-0.88330078125,-1.06304931640625,-0.84228515625,-0.91046142578125,-0.93646240234375,-0.9862060546875,-1.00262451171875,-0.89190673828125,-1.02911376953125,-1.01629638671875,-0.95684814453125,-1.0052490234375,-0.98992919921875,-0.9637451171875,-0.87933349609375,-1.05889892578125,-1.00732421875,-0.99517822265625,-0.87298583984375,-1.05780029296875,-0.942626953125,-0.8223876953125,-1.0389404296875,-1.091796875,-0.9910888671875,-0.9586181640625,-0.971923828125,-0.89178466796875,-0.97161865234375,-0.99224853515625,-1.0576171875,-0.93292236328125,-0.94964599609375,-0.9989013671875,-1.01385498046875,-1.1033935546875,-0.92218017578125,-0.87274169921875,-0.82159423828125,-0.96173095703125,-0.98651123046875,-0.9862060546875,-0.89398193359375,-1.04132080078125,-0.95361328125,-0.92877197265625,-1.12841796875,-0.979248046875,-1.0042724609375,-0.88800048828125,-1.03424072265625,-0.866455078125,-1.001708984375,-0.82916259765625,-0.905517578125,-0.93292236328125,-1.00018310546875,-0.95843505859375,-0.77685546875,-0.88616943359375,-0.904541015625,-0.81390380859375,-0.94720458984375,-0.82501220703125,-0.80279541015625,-0.8590087890625,-0.77740478515625,-0.8680419921875,-0.83990478515625,-0.9644775390625,-0.7568359375,-0.786376953125,-0.8538818359375,-0.8070068359375,-0.675537109375,-0.69970703125,-0.6314697265625,-0.7989501953125,-0.55810546875,-0.75360107421875,-0.75811767578125,-0.71612548828125,-0.64569091796875,-0.91058349609375,-0.75103759765625,-0.74322509765625,-0.7998046875,-0.690185546875,-0.61761474609375,-0.50927734375,-0.70355224609375,-0.60382080078125,-0.77886962890625,-0.81121826171875,-0.625244140625,-0.63153076171875,-0.421875,-0.703369140625,-0.4891357421875,-0.7694091796875,-0.5174560546875,-0.50701904296875,-0.537109375,-0.7061767578125,-0.673583984375,-0.473876953125,-0.63104248046875,-0.4189453125,-0.56036376953125,-0.435546875,-0.57427978515625,-0.4366455078125,-0.63677978515625,-0.49945068359375,-0.47198486328125,-0.47564697265625,-0.337646484375,-0.4339599609375,-0.44378662109375,-0.39447021484375,-0.3377685546875,-0.213134765625,-0.2086181640625,-0.3382568359375,-0.3922119140625,-0.33184814453125,-0.31201171875,-0.37506103515625,-0.2369384765625,-0.0992431640625,-0.3638916015625,-0.13629150390625,-0.27001953125,-0.1781005859375,-0.12078857421875,-0.17578125,-0.15557861328125,-0.08111572265625,-0.10626220703125,-0.20123291015625,-0.124267578125,-0.13275146484375,-0.1241455078125,-0.023193359375,-0.20208740234375,-0.10601806640625,0.10772705078125,-0.20196533203125,0.02587890625,-0.01824951171875,0.06414794921875,0.03277587890625,0.15814208984375,0.048583984375,0.1260986328125,0.00726318359375,0.080810546875,0.17144775390625,-0.01678466796875,0.12359619140625,0.20831298828125,0.19775390625,0.22967529296875,0.2635498046875,0.0908203125,0.18218994140625,0.2764892578125,0.1412353515625,0.2872314453125,0.19927978515625,0.4208984375,0.41192626953125,0.3160400390625,0.2957763671875,0.2496337890625,0.327880859375,0.3900146484375,0.27435302734375,0.19671630859375,0.4056396484375,0.511962890625,0.40972900390625,0.29473876953125,0.42718505859375,0.49273681640625,0.3941650390625,0.48687744140625,0.49365234375,0.47589111328125,0.49609375,0.49334716796875,0.388427734375,0.423095703125,0.6832275390625,0.60205078125,0.60662841796875,0.5306396484375,0.5306396484375,0.5775146484375,0.573974609375,0.5849609375,0.65985107421875,0.611572265625,0.73309326171875,0.50885009765625,0.72344970703125,0.50384521484375,0.68115234375,0.77337646484375,0.696533203125,0.7763671875,0.74761962890625,0.94097900390625,0.62835693359375,0.74188232421875,0.68585205078125,0.74835205078125,0.84686279296875,0.87646484375,0.7984619140625,0.8375244140625,0.8037109375,0.812255859375,0.7767333984375,0.7152099609375,0.732666015625,0.77294921875,0.8218994140625,0.79986572265625,0.8299560546875,0.75299072265625,0.7169189453125,0.93902587890625,0.87237548828125,0.87738037109375,0.91058349609375,0.835693359375,0.95697021484375,0.81640625,1.01947021484375,0.99774169921875,1.06915283203125,0.885498046875,1.05816650390625,1.061767578125,0.940185546875,0.94488525390625,1.09600830078125,0.8587646484375,0.943115234375,0.9248046875,1.11968994140625,0.8583984375,1.04815673828125,0.99066162109375,0.9354248046875,0.91522216796875,0.89434814453125,0.90704345703125,0.93133544921875,0.95001220703125,0.9412841796875,0.78924560546875,0.8504638671875,0.94525146484375,1.00811767578125,1.123046875,1.15484619140625,0.87786865234375,1.10565185546875,1.038818359375,1.0123291015625,0.8968505859375,0.9951171875,0.9656982421875,1.0372314453125,0.968017578125,1.02410888671875,0.93890380859375,1.12554931640625,0.8671875,1.12091064453125,1.01898193359375,0.9871826171875,1.03192138671875,0.9808349609375,1.05548095703125,1.09246826171875,0.86358642578125,0.90362548828125,0.86932373046875,0.9764404296875,1.16204833984375,0.86993408203125,0.9990234375,0.94439697265625,1.00830078125,1.030029296875,1.0618896484375,0.98468017578125,0.98052978515625,1.060791015625,0.880615234375,1.01373291015625,0.978759765625,1.02471923828125,0.87420654296875,0.66595458984375,0.97314453125,0.83978271484375,0.882568359375,0.88812255859375,0.86126708984375,0.88214111328125,0.91168212890625,0.8951416015625,0.67633056640625,0.7874755859375,0.85162353515625,0.8062744140625,0.82861328125,0.760498046875,0.8817138671875,0.8099365234375,0.890380859375,0.8603515625,0.8277587890625,0.7667236328125,0.8408203125,0.75506591796875,0.77178955078125,0.76788330078125,0.67742919921875,0.80755615234375,0.89019775390625,0.84918212890625,0.6181640625,0.571533203125,0.60198974609375,0.64111328125,0.64935302734375,0.67657470703125,0.59185791015625,0.46990966796875,0.677001953125,0.56024169921875,0.48583984375,0.630615234375,0.5550537109375,0.7532958984375,0.5233154296875,0.57684326171875,0.46630859375,0.5133056640625,0.553466796875,0.411865234375,0.48748779296875,0.68798828125,0.58428955078125,0.4306640625,0.43560791015625,0.3702392578125,0.42095947265625,0.32659912109375,0.22052001953125,0.33306884765625,0.445068359375,0.4549560546875,0.33148193359375,0.39154052734375,0.3983154296875,0.230712890625,0.4644775390625,0.2528076171875,0.3726806640625,0.23126220703125,0.28369140625,0.32769775390625,0.0567626953125,0.1412353515625,0.2291259765625,0.07965087890625,0.21533203125,0.2435302734375,0.04754638671875,0.10595703125,0.17999267578125,0.09625244140625,0.04669189453125,0.25396728515625,-0.000732421875,0.02435302734375,0.0255126953125,0.210205078125,-0.02789306640625,-0.00531005859375,0.03485107421875,0.00811767578125,0.08154296875,0.07000732421875,-0.15887451171875,-0.19488525390625,-0.21575927734375,0.075439453125,-0.2012939453125,-0.08148193359375,-0.029541015625,-0.07427978515625,-0.06866455078125,-0.15924072265625,-0.10870361328125,-0.15283203125,-0.14227294921875,-0.2386474609375,-0.23876953125,-0.16656494140625,-0.1168212890625,-0.1627197265625,-0.1685791015625,-0.18414306640625,-0.23486328125,-0.23956298828125,-0.4381103515625,-0.1668701171875,-0.2813720703125,-0.495849609375,-0.1444091796875,-0.38079833984375,-0.43841552734375,-0.2845458984375,-0.288818359375,-0.35797119140625,-0.53594970703125,-0.45745849609375,-0.51373291015625,-0.3609619140625,-0.53131103515625,-0.45068359375,-0.63311767578125,-0.53564453125,-0.50897216796875,-0.504150390625,-0.511474609375,-0.5728759765625,-0.58349609375,-0.50946044921875,-0.7098388671875,-0.4451904296875,-0.7288818359375,-0.596923828125,-0.7060546875,-0.69403076171875,-0.621337890625,-0.61932373046875,-0.67095947265625,-0.56866455078125,-0.67962646484375,-0.66015625,-0.68841552734375,-0.693115234375,-0.72021484375,-0.74761962890625,-0.67437744140625,-0.80609130859375,-0.59002685546875,-0.87042236328125,-0.72979736328125,-0.58319091796875,-0.82421875,-0.8966064453125,-0.8126220703125,-0.818359375,-0.770751953125,-0.7147216796875,-1.0238037109375,-0.791748046875,-0.78173828125,-0.6763916015625,-0.83599853515625,-0.7406005859375,-0.86676025390625,-1.0303955078125,-0.78717041015625,-0.86993408203125,-0.96917724609375,-0.89349365234375,-0.769775390625,-0.86907958984375,-1.0009765625,-1.14544677734375,-1.00946044921875,-0.94171142578125,-0.871337890625,-0.95953369140625,-1.011962890625,-0.990478515625,-0.95904541015625,-0.91436767578125,-0.8206787109375,-1.035400390625,-1.00830078125,-1.05230712890625,-0.91455078125,-1.06817626953125,-0.97357177734375,-0.9910888671875,-1.02264404296875,-0.97149658203125,-0.83966064453125,-1.05487060546875,-0.96856689453125,-0.9046630859375,-1.03778076171875,-0.8612060546875,-1.06048583984375,-1.04620361328125,-0.958984375,-1.17926025390625,-1.10736083984375,-0.95281982421875,-1.029052734375,-0.8458251953125,-0.9471435546875,-0.92431640625,-1.0394287109375,-0.9161376953125,-1.052978515625,-0.94012451171875,-0.96575927734375,-0.87359619140625,-0.99560546875,-0.81671142578125,-0.93304443359375,-1.0838623046875,-0.92108154296875,-0.9315185546875,-1.08380126953125,-1.00457763671875,-1.08575439453125,-0.99151611328125,-0.99871826171875,-1.0018310546875,-0.95843505859375,-0.94708251953125,-1.08544921875,-0.90679931640625,-0.96484375,-1.053955078125,-0.9910888671875,-0.98321533203125,-1.03814697265625,-0.810791015625,-0.885009765625,-0.75787353515625,-0.974853515625,-0.87872314453125,-0.96600341796875,-0.92864990234375,-0.8515625,-0.76019287109375,-0.815185546875,-0.93157958984375,-0.80511474609375,-0.86602783203125,-0.85455322265625,-0.7310791015625,-0.91558837890625,-0.9378662109375,-0.92730712890625,-1.0289306640625,-0.7646484375,-0.865966796875,-0.7225341796875,-0.8192138671875,-0.748291015625,-0.62841796875,-0.6519775390625,-0.7540283203125,-0.83251953125,-0.78729248046875,-0.88946533203125,-0.58428955078125,-0.76092529296875,-0.72796630859375,-0.77642822265625,-0.74273681640625,-0.634765625,-0.800537109375,-0.77142333984375,-0.802734375,-0.59271240234375,-0.72930908203125,-0.68170166015625,-0.57293701171875,-0.748779296875,-0.48358154296875,-0.60986328125,-0.540283203125,-0.6234130859375,-0.5653076171875,-0.5638427734375,-0.54071044921875,-0.6181640625,-0.5050048828125,-0.474365234375,-0.565185546875,-0.65545654296875,-0.41650390625,-0.41925048828125,-0.52392578125,-0.47467041015625,-0.4664306640625,-0.28424072265625,-0.25921630859375,-0.31866455078125,-0.37359619140625,-0.405029296875,-0.4544677734375,-0.25823974609375,-0.26800537109375,-0.3221435546875,-0.459716796875,-0.4000244140625,-0.3192138671875,-0.0797119140625,-0.31036376953125,-0.298828125,-0.27154541015625,-0.2760009765625,-0.2344970703125,-0.3638916015625,-0.18365478515625,-0.2294921875,-0.2987060546875,0.06719970703125,-0.04833984375,-0.22882080078125,-0.13385009765625,-0.13311767578125,-0.14947509765625,-0.076416015625,-0.08636474609375,-0.0885009765625,-0.174560546875,0.00787353515625,0.03753662109375,0.01837158203125,0.00457763671875,-0.029296875,-0.07733154296875,-0.02227783203125,0.13140869140625,0.09173583984375,-0.022216796875,0.0772705078125,0.06585693359375,0.115478515625,0.03082275390625,0.24591064453125,0.10992431640625,0.16290283203125,0.05078125,0.23162841796875,0.2288818359375,0.15869140625,0.23980712890625,0.1422119140625,0.2359619140625,0.4210205078125,0.21588134765625,0.28662109375,0.20440673828125,0.2052001953125,0.2918701171875,0.2926025390625,0.339599609375,0.2991943359375,0.26800537109375,0.47308349609375,0.4139404296875,0.328369140625,0.46783447265625,0.53302001953125,0.47796630859375,0.38238525390625,0.3892822265625,0.35845947265625,0.34228515625,0.70147705078125,0.4462890625,0.60906982421875,0.377685546875,0.509033203125,0.6153564453125,0.54443359375,0.56121826171875,0.3753662109375,0.7161865234375,0.5106201171875,0.678466796875,0.6220703125,0.54412841796875,0.560302734375,0.69744873046875,0.65386962890625,0.72686767578125,0.62347412109375,0.6943359375,0.65277099609375,0.736083984375,0.69189453125,0.68511962890625,0.63092041015625,0.79925537109375,0.85076904296875,0.76544189453125,0.61114501953125,0.93035888671875,0.7021484375,0.8682861328125,0.9644775390625,0.80078125,0.927490234375,0.7884521484375,0.9642333984375,0.731201171875,0.81201171875,0.8433837890625,0.74761962890625,1.0203857421875,0.77740478515625,0.8531494140625,0.84722900390625,0.84063720703125,0.79779052734375,0.91741943359375,1.096435546875,0.89739990234375,0.85302734375,0.88079833984375,0.78485107421875,1.03790283203125,0.844482421875,1.04693603515625,0.963134765625,0.987060546875,0.85894775390625,1.05987548828125,0.9393310546875,1.108154296875,0.8818359375,0.94439697265625,0.98583984375,1.05841064453125,1.02825927734375,0.8812255859375,0.85662841796875,0.98712158203125,0.98760986328125,1.25213623046875,1.06964111328125,1.0858154296875,1.04217529296875,0.9461669921875,0.84368896484375,0.81817626953125,0.93115234375,1.04498291015625,1.19866943359375,1.00555419921875,0.901611328125,1.1138916015625,1.0374755859375,0.951171875,1.0404052734375,0.9625244140625,0.811279296875,0.92108154296875,0.94232177734375,0.99761962890625,0.95556640625,1.01007080078125,1.19915771484375,0.8802490234375,1.08319091796875,1.1683349609375,1.03790283203125,0.99432373046875,0.89776611328125,0.94952392578125,0.92694091796875,0.9930419921875,0.88421630859375,1.13214111328125,0.90283203125,0.98199462890625,0.9677734375,1.037841796875,0.8753662109375,0.86065673828125,0.92486572265625,0.959716796875,0.971435546875,1.05426025390625,0.813720703125,0.83575439453125,1.03778076171875,0.83636474609375,0.91455078125,1.03167724609375,0.861572265625,0.94866943359375,0.93304443359375,0.76788330078125,0.91558837890625,0.7545166015625,0.91851806640625,0.8411865234375,0.83697509765625,0.8175048828125,0.7724609375,0.823974609375,0.7274169921875,0.7415771484375,0.677490234375,0.7666015625,0.8380126953125,0.8570556640625,0.755859375,0.72772216796875,0.86456298828125,0.86944580078125,0.90106201171875,0.65423583984375,0.84332275390625,0.83453369140625,0.7490234375,0.772705078125,0.77191162109375,0.71533203125,0.73333740234375,0.59747314453125,0.73834228515625,0.66033935546875,0.675048828125,0.67108154296875,0.6044921875,0.563720703125,0.4759521484375,0.6717529296875,0.4564208984375,0.65155029296875,0.60546875,0.6646728515625,0.501708984375,0.614990234375,0.45428466796875,0.45751953125,0.53790283203125,0.494140625,0.54644775390625,0.4298095703125,0.38775634765625,0.53070068359375,0.33673095703125,0.34039306640625,0.371337890625,0.3924560546875,0.43402099609375,0.24652099609375,0.2874755859375,0.446533203125,0.3590087890625,0.2122802734375,0.0816650390625,0.28057861328125,0.28369140625,0.12750244140625,0.2154541015625,0.1041259765625,0.2188720703125,0.31402587890625,0.34521484375,0.0574951171875,0.01434326171875,0.16015625,0.19512939453125,0.13629150390625,0.16925048828125,0.10260009765625,0.065185546875,0.02435302734375,0.0655517578125,0.076904296875,0.12933349609375,0.05523681640625,0.11444091796875,-0.06072998046875,0.01220703125,-0.00909423828125,-0.09930419921875,-0.05181884765625,-0.08441162109375,-0.074462890625,-0.0831298828125,0.00299072265625,-0.037353515625,-0.11431884765625,-0.18341064453125,-0.23834228515625,-0.25616455078125,-0.10498046875,-0.08074951171875,-0.1810302734375,-0.13037109375,-0.17877197265625,-0.1480712890625,-0.2115478515625,-0.3380126953125,-0.26226806640625,-0.1806640625,-0.26055908203125,-0.4429931640625,-0.2498779296875,-0.3038330078125,-0.322998046875,-0.4158935546875,-0.39642333984375,-0.20550537109375,-0.4378662109375,-0.454833984375,-0.46246337890625,-0.37335205078125,-0.47991943359375,-0.45904541015625,-0.3775634765625,-0.48590087890625,-0.4638671875,-0.54229736328125,-0.4033203125,-0.44940185546875,-0.410400390625,-0.418212890625,-0.5772705078125,-0.71142578125,-0.52362060546875,-0.5765380859375,-0.6458740234375,-0.4998779296875,-0.559814453125,-0.6396484375,-0.63397216796875,-0.623779296875,-0.75018310546875,-0.62066650390625,-0.72393798828125,-0.68011474609375,-0.7451171875,-0.61077880859375,-0.698974609375,-0.6474609375,-0.66607666015625,-0.88775634765625,-0.80706787109375,-0.67303466796875,-0.71124267578125,-0.83966064453125,-0.77508544921875,-0.63427734375,-0.7994384765625,-0.6719970703125,-0.63671875,-0.867919921875,-0.7454833984375,-0.8367919921875,-0.728759765625,-0.7255859375,-0.8472900390625,-0.80426025390625,-0.8563232421875,-0.90875244140625,-0.7095947265625,-0.76617431640625,-0.84844970703125,-1.01019287109375,-0.88958740234375,-0.963134765625,-0.92913818359375,-0.93798828125,-1.02044677734375,-1.07196044921875,-0.89630126953125,-0.940673828125,-1.06842041015625,-0.824462890625,-0.859619140625,-0.95220947265625,-0.92755126953125,-0.8885498046875,-0.904052734375,-0.9248046875,-0.78082275390625,-1.0263671875,-0.89971923828125,-1.16156005859375,-1.0594482421875,-1.03826904296875,-0.99688720703125,-0.80499267578125,-0.97674560546875,-1.03106689453125,-0.9603271484375,-0.92498779296875,-1.0223388671875,-1.05657958984375,-0.97930908203125,-0.9560546875,-1.08013916015625,-1.08197021484375,-1.12225341796875,-1.070068359375,-0.9937744140625,-0.8529052734375,-0.92431640625,-1.0794677734375,-1.0533447265625,-0.966552734375,-1.01531982421875,-1.04876708984375,-0.94586181640625,-0.91943359375,-1.03448486328125,-1.06292724609375,-0.9569091796875,-0.91912841796875,-1.0130615234375,-0.96075439453125,-0.97674560546875,-1.00518798828125,-1.06817626953125,-0.91961669921875,-1.0516357421875,-0.93402099609375,-1.06622314453125,-1.064453125,-0.98931884765625,-1.07421875,-0.980224609375,-0.9759521484375,-0.98223876953125,-0.96588134765625,-0.962158203125,-0.899169921875,-1.11236572265625,-1.044677734375,-1.04473876953125,-0.96600341796875,-0.91448974609375,-0.7744140625,-0.91204833984375,-0.731689453125,-0.90814208984375,-0.99993896484375,-0.95440673828125,-0.77252197265625,-0.8443603515625,-0.81549072265625,-0.8392333984375,-0.90338134765625,-0.8702392578125,-0.73193359375,-0.718505859375,-0.7288818359375,-0.7493896484375,-0.831298828125,-0.74560546875,-0.7559814453125,-0.8502197265625,-0.80126953125,-0.86834716796875,-0.73468017578125,-0.76153564453125,-0.57098388671875,-0.68011474609375,-0.77301025390625,-0.78326416015625,-0.8974609375,-0.628173828125,-0.70892333984375,-0.6533203125,-0.63372802734375,-0.37237548828125,-0.60406494140625,-0.53240966796875,-0.585693359375,-0.49334716796875,-0.630859375,-0.678955078125,-0.7767333984375,-0.6029052734375,-0.6087646484375,-0.56658935546875,-0.56884765625,-0.5772705078125,-0.527099609375,-0.439208984375,-0.41522216796875,-0.42041015625,-0.49298095703125,-0.45703125,-0.45611572265625,-0.4058837890625,-0.44927978515625,-0.43011474609375,-0.30255126953125,-0.43511962890625,-0.438720703125,-0.3416748046875,-0.41595458984375,-0.40911865234375,-0.2347412109375,-0.470458984375,-0.3009033203125,-0.3177490234375,-0.3477783203125,-0.36016845703125,-0.287109375,-0.21588134765625,-0.2760009765625,-0.2774658203125,-0.2672119140625,-0.11627197265625,-0.16796875,-0.1829833984375,-0.19842529296875,-0.2265625,-0.15802001953125,-0.09429931640625,-0.10430908203125,-0.19683837890625,-0.047607421875,-0.00482177734375,-0.0450439453125,-0.136962890625,-0.00238037109375,0.14300537109375,-0.03094482421875,0.01434326171875]]]}}},\"view\":{\"type\":\"object\",\"name\":\"CDSView\",\"id\":\"p1196\",\"attributes\":{\"filter\":{\"type\":\"object\",\"name\":\"AllIndices\",\"id\":\"p1197\"}}},\"glyph\":{\"type\":\"object\",\"name\":\"Line\",\"id\":\"p1192\",\"attributes\":{\"x\":{\"type\":\"field\",\"field\":\"x\"},\"y\":{\"type\":\"field\",\"field\":\"y\"},\"line_color\":\"red\"}},\"nonselection_glyph\":{\"type\":\"object\",\"name\":\"Line\",\"id\":\"p1193\",\"attributes\":{\"x\":{\"type\":\"field\",\"field\":\"x\"},\"y\":{\"type\":\"field\",\"field\":\"y\"},\"line_color\":\"red\",\"line_alpha\":0.1}},\"muted_glyph\":{\"type\":\"object\",\"name\":\"Line\",\"id\":\"p1194\",\"attributes\":{\"x\":{\"type\":\"field\",\"field\":\"x\"},\"y\":{\"type\":\"field\",\"field\":\"y\"},\"line_color\":\"red\",\"line_alpha\":0.2}}}},{\"type\":\"object\",\"name\":\"GlyphRenderer\",\"id\":\"p1206\",\"attributes\":{\"data_source\":{\"type\":\"object\",\"name\":\"ColumnDataSource\",\"id\":\"p1200\",\"attributes\":{\"selected\":{\"type\":\"object\",\"name\":\"Selection\",\"id\":\"p1201\",\"attributes\":{\"indices\":[],\"line_indices\":[]}},\"selection_policy\":{\"type\":\"object\",\"name\":\"UnionRenderers\",\"id\":\"p1202\"},\"data\":{\"type\":\"map\",\"entries\":[[\"x\",{\"type\":\"ndarray\",\"array\":{\"type\":\"bytes\",\"data\":\"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\"},\"shape\":[2000],\"dtype\":\"float64\",\"order\":\"little\"}],[\"y\",{\"type\":\"ndarray\",\"array\":{\"type\":\"bytes\",\"data\":\"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\"},\"shape\":[2000],\"dtype\":\"float64\",\"order\":\"little\"}]]}}},\"view\":{\"type\":\"object\",\"name\":\"CDSView\",\"id\":\"p1207\",\"attributes\":{\"filter\":{\"type\":\"object\",\"name\":\"AllIndices\",\"id\":\"p1208\"}}},\"glyph\":{\"type\":\"object\",\"name\":\"Line\",\"id\":\"p1203\",\"attributes\":{\"x\":{\"type\":\"field\",\"field\":\"x\"},\"y\":{\"type\":\"field\",\"field\":\"y\"},\"line_color\":\"blue\",\"line_width\":3}},\"nonselection_glyph\":{\"type\":\"object\",\"name\":\"Line\",\"id\":\"p1204\",\"attributes\":{\"x\":{\"type\":\"field\",\"field\":\"x\"},\"y\":{\"type\":\"field\",\"field\":\"y\"},\"line_color\":\"blue\",\"line_alpha\":0.1,\"line_width\":3}},\"muted_glyph\":{\"type\":\"object\",\"name\":\"Line\",\"id\":\"p1205\",\"attributes\":{\"x\":{\"type\":\"field\",\"field\":\"x\"},\"y\":{\"type\":\"field\",\"field\":\"y\"},\"line_color\":\"blue\",\"line_alpha\":0.2,\"line_width\":3}}}}],\"toolbar\":{\"type\":\"object\",\"name\":\"Toolbar\",\"id\":\"p1169\",\"attributes\":{\"tools\":[{\"type\":\"object\",\"name\":\"PanTool\",\"id\":\"p1182\"},{\"type\":\"object\",\"name\":\"WheelZoomTool\",\"id\":\"p1183\",\"attributes\":{\"renderers\":\"auto\"}},{\"type\":\"object\",\"name\":\"BoxZoomTool\",\"id\":\"p1184\",\"attributes\":{\"overlay\":{\"type\":\"object\",\"name\":\"BoxAnnotation\",\"id\":\"p1185\",\"attributes\":{\"syncable\":false,\"level\":\"overlay\",\"visible\":false,\"left_units\":\"canvas\",\"right_units\":\"canvas\",\"top_units\":\"canvas\",\"bottom_units\":\"canvas\",\"line_color\":\"black\",\"line_alpha\":1.0,\"line_width\":2,\"line_dash\":[4,4],\"fill_color\":\"lightgrey\",\"fill_alpha\":0.5}}}},{\"type\":\"object\",\"name\":\"SaveTool\",\"id\":\"p1186\"},{\"type\":\"object\",\"name\":\"ResetTool\",\"id\":\"p1187\"},{\"type\":\"object\",\"name\":\"HelpTool\",\"id\":\"p1188\"}]}},\"left\":[{\"type\":\"object\",\"name\":\"LinearAxis\",\"id\":\"p1177\",\"attributes\":{\"ticker\":{\"type\":\"object\",\"name\":\"BasicTicker\",\"id\":\"p1178\",\"attributes\":{\"mantissas\":[1,2,5]}},\"formatter\":{\"type\":\"object\",\"name\":\"BasicTickFormatter\",\"id\":\"p1179\"},\"major_label_policy\":{\"type\":\"object\",\"name\":\"AllLabels\",\"id\":\"p1180\"}}}],\"below\":[{\"type\":\"object\",\"name\":\"LinearAxis\",\"id\":\"p1172\",\"attributes\":{\"ticker\":{\"type\":\"object\",\"name\":\"BasicTicker\",\"id\":\"p1173\",\"attributes\":{\"mantissas\":[1,2,5]}},\"formatter\":{\"type\":\"object\",\"name\":\"BasicTickFormatter\",\"id\":\"p1174\"},\"major_label_policy\":{\"type\":\"object\",\"name\":\"AllLabels\",\"id\":\"p1175\"}}}],\"center\":[{\"type\":\"object\",\"name\":\"Grid\",\"id\":\"p1176\",\"attributes\":{\"axis\":{\"id\":\"p1172\"}}},{\"type\":\"object\",\"name\":\"Grid\",\"id\":\"p1181\",\"attributes\":{\"dimension\":1,\"axis\":{\"id\":\"p1177\"}}},{\"type\":\"object\",\"name\":\"Legend\",\"id\":\"p1198\",\"attributes\":{\"items\":[{\"type\":\"object\",\"name\":\"LegendItem\",\"id\":\"p1199\",\"attributes\":{\"label\":{\"type\":\"value\",\"value\":\"Output Signal\"},\"renderers\":[{\"id\":\"p1195\"}]}},{\"type\":\"object\",\"name\":\"LegendItem\",\"id\":\"p1209\",\"attributes\":{\"label\":{\"type\":\"value\",\"value\":\"Input Signal\"},\"renderers\":[{\"id\":\"p1206\"}]}}]}}]}}]}};\n",
       "  const render_items = [{\"docid\":\"50bf45ef-8fa4-45cf-925a-2b179722fda2\",\"roots\":{\"p1160\":\"b41937e7-2a75-4298-b665-0458c8b8b2d3\"},\"root_ids\":[\"p1160\"]}];\n",
       "  root.Bokeh.embed.embed_items_notebook(docs_json, render_items);\n",
       "  }\n",
       "  if (root.Bokeh !== undefined) {\n",
       "    embed_document(root);\n",
       "  } else {\n",
       "    let attempts = 0;\n",
       "    const timer = setInterval(function(root) {\n",
       "      if (root.Bokeh !== undefined) {\n",
       "        clearInterval(timer);\n",
       "        embed_document(root);\n",
       "      } else {\n",
       "        attempts++;\n",
       "        if (attempts > 100) {\n",
       "          clearInterval(timer);\n",
       "          console.log(\"Bokeh: ERROR: Unable to run BokehJS code because BokehJS library is missing\");\n",
       "        }\n",
       "      }\n",
       "    }, 10, root)\n",
       "  }\n",
       "})(window);"
      ],
      "application/vnd.bokehjs_exec.v0+json": ""
     },
     "metadata": {
      "application/vnd.bokehjs_exec.v0+json": {
       "id": "p1160"
      }
     },
     "output_type": "display_data"
    }
   ],
   "source": [
    "awgn_gain = 0.08\n",
    "\n",
    "# Generate input samples\n",
    "fin_tBits, fin_fBits = puch.get_format(awgn,awgn_regmap.RegMap.F_IN_ADDR)\n",
    "fout_tBits, fout_fBits = puch.get_format(awgn,awgn_regmap.RegMap.F_OUT_ADDR)\n",
    "awgn_tBits, awgn_fBits = puch.get_format(awgn,awgn_regmap.RegMap.F_AWGN_ADDR)\n",
    "\n",
    "#n = 1024\n",
    "#samples = np.ones(n) * 2**(fin_fBits)\n",
    "#samples = samples.astype(np.int32)\n",
    "\n",
    "# Create Sine Wave\n",
    "T = 0.00002\n",
    "# Sampling frequency\n",
    "fs = 100e6\n",
    "# Number of samples\n",
    "n = int(T * fs)\n",
    "# Time vector in seconds\n",
    "t = np.linspace(0, T, n, endpoint=False)\n",
    "# Samples of the signal\n",
    "samples = np.sin(0.2e6*2*np.pi*t) \n",
    "# Convert samples to 32-bit integers\n",
    "print('Number of samples: ',len(samples))\n",
    "samples = samples * 2**(fin_fBits)\n",
    "samples = samples.astype(np.int32)\n",
    "#plot_time(samples)\n",
    "\n",
    "# Read Gain Register\n",
    "\n",
    "awgn.write(awgn_regmap.RegMap.AWGN_NOISE_GAIN_ADDR,int(awgn_gain*(2**awgn_fBits)))\n",
    "awgn.write(awgn_regmap.RegMap.AWGN_ENABLE_ADDR,1)\n",
    "\n",
    "awgn_en_reg = awgn.read(awgn_regmap.RegMap.AWGN_ENABLE_ADDR)\n",
    "\n",
    "print(\"AWGN Gain           : \" + str(awgn.read(awgn_regmap.RegMap.AWGN_NOISE_GAIN_ADDR)/(2**awgn_fBits)))\n",
    "print(\"AWGN Enable         : \" + str(awgn_en_reg & 0x1))\n",
    "print(\"DMA Transfer Size   : \" + str(len(samples)))\n",
    "print(\"AWGN I Sat          : \" + str((awgn_en_reg >> 1) & 0x1))\n",
    "print(\"AWGN Q Sat          : \" + str((awgn_en_reg >> 2) & 0x1))\n",
    "\n",
    "# Allocate buffers for the input and output signals\n",
    "in_buffer = allocate(shape=(len(samples),), dtype=np.int32)\n",
    "out_buffer = allocate(shape=(len(samples),), dtype=np.int32)\n",
    "\n",
    "# Copy the samples to the in_buffer\n",
    "np.copyto(in_buffer,samples)\n",
    "\n",
    "# Trigger the DMA transfer and wait for the result\n",
    "import time\n",
    "start_time = time.time()\n",
    "dma.sendchannel.transfer(in_buffer)\n",
    "#print('Submit sending the transfer into in_buffer')\n",
    "dma.recvchannel.transfer(out_buffer)\n",
    "#print('Submit receiving the transfer from out_buffer')\n",
    "dma.sendchannel.wait()\n",
    "#print('Done Sending the transfer to in_buffer')\n",
    "dma.recvchannel.wait()\n",
    "#print('Done receiving the transfer from out_buffer')\n",
    "stop_time = time.time()\n",
    "hw_exec_time = stop_time-start_time\n",
    "\n",
    "print('DMA Transfer Execution Time  :',hw_exec_time,' sec')\n",
    "\n",
    "# Plot to the notebook\n",
    "#plot_time(t,samples,2000,out_signal=out_buffer)\n",
    "\n",
    "# Free the buffers\n",
    "in_buffer.close()\n",
    "out_buffer.close()\n",
    "t = (out_buffer & 0xFFFF)\n",
    "out_fp = []\n",
    "for x in t:\n",
    "    if(x>(2**(fout_tBits-1))):\n",
    "          x = x - (2**(fout_tBits))\n",
    "    out_fp.append(x/(2**fout_fBits))\n",
    "plot_time(samples/(2**fout_fBits),out_fp)\n",
    "\n"
   ]
  },
  {
   "cell_type": "code",
   "execution_count": 11,
   "metadata": {},
   "outputs": [
    {
     "name": "stdout",
     "output_type": "stream",
     "text": [
      "AWGN I Sat          : 0\n"
     ]
    }
   ],
   "source": [
    "awgn_en_reg = awgn.read(awgn_regmap.RegMap.AWGN_ENABLE_ADDR)\n",
    "print(\"AWGN I Sat          : \" + str((awgn_en_reg >> awgn_regmap.RegMap.AWGN_ENABLE_SAT_I_CH_POS) & awgn_regmap.RegMap.AWGN_ENABLE_SAT_Q_CH_MSK))"
   ]
  },
  {
   "cell_type": "markdown",
   "metadata": {},
   "source": [
    "### Read TVALID & TLAST Counters"
   ]
  },
  {
   "cell_type": "code",
   "execution_count": 23,
   "metadata": {},
   "outputs": [
    {
     "name": "stdout",
     "output_type": "stream",
     "text": [
      "TVALID Count   : 36754\n",
      "TLAST Count    : 1\n"
     ]
    }
   ],
   "source": [
    "awgn.write(awgn_regmap.RegMap.CNT_CTRL_ADDR,0x2)\n",
    "tvalid_cnt = awgn.read(awgn_regmap.RegMap.TVALID_CNT_ADDR)\n",
    "tlast_cnt = awgn.read(awgn_regmap.RegMap.TLAST_CNT_ADDR)\n",
    "print(\"TVALID Count   : \" + str(tvalid_cnt))\n",
    "print(\"TLAST Count    : \" + str(tlast_cnt))"
   ]
  },
  {
   "cell_type": "markdown",
   "metadata": {},
   "source": [
    "#### Clear Counters"
   ]
  },
  {
   "cell_type": "code",
   "execution_count": 20,
   "metadata": {},
   "outputs": [],
   "source": [
    "awgn.write(awgn_regmap.RegMap.CNT_CTRL_ADDR,0x1)"
   ]
  },
  {
   "cell_type": "code",
   "execution_count": null,
   "metadata": {},
   "outputs": [],
   "source": []
  }
 ],
 "metadata": {
  "kernelspec": {
   "display_name": "Python 3 (ipykernel)",
   "language": "python",
   "name": "python3"
  },
  "language_info": {
   "codemirror_mode": {
    "name": "ipython",
    "version": 3
   },
   "file_extension": ".py",
   "mimetype": "text/x-python",
   "name": "python",
   "nbconvert_exporter": "python",
   "pygments_lexer": "ipython3",
   "version": "3.10.12"
  }
 },
 "nbformat": 4,
 "nbformat_minor": 4
}
