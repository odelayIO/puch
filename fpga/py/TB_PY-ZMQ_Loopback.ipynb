{
 "cells": [
  {
   "cell_type": "markdown",
   "metadata": {},
   "source": [
    "# Simple ZMQ Loopback - Software Static Gain\n"
   ]
  },
  {
   "cell_type": "code",
   "execution_count": null,
   "metadata": {},
   "outputs": [],
   "source": [
    "import zmq\n",
    "import sys\n",
    "import numpy as np\n",
    "import ipywidgets as widgets\n",
    "from ipywidgets import HBox, VBox\n",
    "import threading"
   ]
  },
  {
   "cell_type": "markdown",
   "metadata": {},
   "source": [
    "## Create a PUSH Socket"
   ]
  },
  {
   "cell_type": "code",
   "execution_count": null,
   "metadata": {},
   "outputs": [],
   "source": [
    "_PROTOCOL = \"tcp://\"\n",
    "_SERVER = \"192.168.1.119\"          # localhost\n",
    "_PUSH_PORT = \":20000\"\n",
    "_PUSH_ADDR = _PROTOCOL + _SERVER + _PUSH_PORT\n",
    "push_context = zmq.Context()\n",
    "push_sock = push_context.socket (zmq.PUSH)\n",
    "rc = push_sock.bind (_PUSH_ADDR)"
   ]
  },
  {
   "cell_type": "markdown",
   "metadata": {},
   "source": [
    "## Create a PULL Socket"
   ]
  },
  {
   "cell_type": "code",
   "execution_count": null,
   "metadata": {},
   "outputs": [],
   "source": [
    "_PROTOCOL = \"tcp://\"\n",
    "_SERVER = \"192.168.1.135\"          # localhost\n",
    "_PULL_PORT = \":10000\"\n",
    "_PULL_ADDR = _PROTOCOL + _SERVER + _PULL_PORT\n",
    "pull_context = zmq.Context()\n",
    "pull_sock = pull_context.socket (zmq.PULL)\n",
    "rc = pull_sock.connect (_PULL_ADDR)"
   ]
  },
  {
   "cell_type": "markdown",
   "metadata": {},
   "source": [
    "## Read Data, Gain Signal, then Send Data"
   ]
  },
  {
   "cell_type": "code",
   "execution_count": null,
   "metadata": {},
   "outputs": [],
   "source": [
    "slider = widgets.FloatSlider(min=0.1,max=10,value=1,description='Signal Gain:')\n",
    "display(slider)\n",
    "\n",
    "\n",
    "def slider_handler(change):\n",
    "    slider.value = change.new\n",
    "    \n",
    "slider.observe(slider_handler, names='value')\n",
    "\n",
    "def work(slider):\n",
    "    while True:\n",
    "        data = pull_sock.recv()\n",
    "        data = np.frombuffer(data, dtype=np.complex64, count=-1)\n",
    "        push_sock.send(data*slider.value)\n",
    "        \n",
    "    \n",
    "thread = threading.Thread(target=work, args=(slider,))\n",
    "thread.start()"
   ]
  },
  {
   "cell_type": "code",
   "execution_count": null,
   "metadata": {},
   "outputs": [],
   "source": [
    "\n"
   ]
  },
  {
   "cell_type": "code",
   "execution_count": null,
   "metadata": {},
   "outputs": [],
   "source": []
  }
 ],
 "metadata": {
  "kernelspec": {
   "display_name": "Python 3",
   "language": "python",
   "name": "python3"
  },
  "language_info": {
   "codemirror_mode": {
    "name": "ipython",
    "version": 3
   },
   "file_extension": ".py",
   "mimetype": "text/x-python",
   "name": "python",
   "nbconvert_exporter": "python",
   "pygments_lexer": "ipython3",
   "version": "3.6.5"
  }
 },
 "nbformat": 4,
 "nbformat_minor": 4
}
