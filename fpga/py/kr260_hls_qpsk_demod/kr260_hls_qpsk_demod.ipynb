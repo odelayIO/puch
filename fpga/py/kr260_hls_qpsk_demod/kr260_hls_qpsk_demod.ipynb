{
 "cells": [
  {
   "cell_type": "markdown",
   "metadata": {},
   "source": [
    "## KR260 HLS QPSK Demod\n",
    "\n",
    "\n",
    "### Plot function for use in this notebook\n",
    "The first code block below defines a function that we will use for plotting data throughout this notebook. Note that the function has a `n_samples` argument so that we can limit the number of samples to plot. Plotting more than a few thousand samples can be very slow and consume a lot of RAM.\n",
    "\n",
    "### Requirements\n",
    "Install the following:\n",
    "\n",
    "```bash\n",
    "pip install ipympl\n",
    "pip install ipywidgets\n",
    "pip install jupyter_bokeh\n",
    "```"
   ]
  },
  {
   "cell_type": "markdown",
   "metadata": {},
   "source": [
    "# Initilize\n",
    "\n",
    "#### Bokeh Plot Function"
   ]
  },
  {
   "cell_type": "code",
   "execution_count": 67,
   "metadata": {},
   "outputs": [],
   "source": [
    "from bokeh.plotting import figure, output_file, show\n",
    "from bokeh.io import output_notebook, show\n",
    "import numpy as np\n",
    "import math\n",
    "\n",
    "\n",
    "def plot_time(in_signal,out_signal=None):\n",
    "    t = np.linspace(0,len(in_signal),len(in_signal))\n",
    "    output_notebook()\n",
    "    p = figure(title = \"Input & Output Signal\")\n",
    "    \n",
    "    if out_signal is not None:\n",
    "        p.line(t,out_signal,legend_label=\"Output Signal\",line_color=\"red\",line_width=1)\n",
    "    p.line(t,in_signal,legend_label=\"Input Signal\",line_color=\"blue\",line_width=3)\n",
    "    show(p)"
   ]
  },
  {
   "cell_type": "markdown",
   "metadata": {},
   "source": [
    "#### Load Overlay"
   ]
  },
  {
   "cell_type": "code",
   "execution_count": 81,
   "metadata": {},
   "outputs": [],
   "source": [
    "from pynq import Overlay\n",
    "from pynq import allocate\n",
    "from pynq import MMIO\n",
    "import pynq.lib.dma\n",
    "import time\n",
    "import kria\n",
    "import timestamp_regmap\n",
    "import led_regmap\n",
    "\n",
    "\n",
    "# Load the overlay\n",
    "overlay = Overlay('/home/root/jupyter_notebooks/kr260_hls_qpsk_demod/kr260_hls_qpsk_demod.bit')\n",
    "\n",
    "# Assign blocks to short vars\n",
    "dma          = overlay.axi_dma_0\n",
    "led_module   = overlay.led_reg_0\n",
    "timestamp    = overlay.Timestamp_0\n",
    "qpsk_demod   = overlay.hls_qpsk_demod_0"
   ]
  },
  {
   "cell_type": "markdown",
   "metadata": {},
   "source": [
    "##### Print out the register map for DMA and HLS Gain Blocks"
   ]
  },
  {
   "cell_type": "code",
   "execution_count": null,
   "metadata": {},
   "outputs": [],
   "source": [
    "overlay.ip_dict"
   ]
  },
  {
   "cell_type": "code",
   "execution_count": null,
   "metadata": {},
   "outputs": [],
   "source": [
    "qpsk_demod.register_map"
   ]
  },
  {
   "cell_type": "markdown",
   "metadata": {},
   "source": [
    "##### Display Time Stamp Register\n",
    "The time stamp is burned into the FPGA during the build process"
   ]
  },
  {
   "cell_type": "code",
   "execution_count": 73,
   "metadata": {},
   "outputs": [
    {
     "name": "stdout",
     "output_type": "stream",
     "text": [
      "FPGA Build Timestamp:  2025/2/16 16:59:51\n"
     ]
    }
   ],
   "source": [
    "print(\"FPGA Build Timestamp:  \" + kria.get_timestamp_str(timestamp))"
   ]
  },
  {
   "cell_type": "markdown",
   "metadata": {},
   "source": [
    "##### Toggle USER_LED[1:0] on/off"
   ]
  },
  {
   "cell_type": "code",
   "execution_count": null,
   "metadata": {},
   "outputs": [],
   "source": [
    "for i in range(10):\n",
    "    led_module.mmio.write(led_regmap.RegMap.USER_LEDS_ADDR,0x1)\n",
    "    time.sleep(0.25)\n",
    "    led_module.mmio.write(led_regmap.RegMap.USER_LEDS_ADDR,0x2)\n",
    "    time.sleep(0.25)\n",
    "led_module.mmio.write(led_regmap.RegMap.USER_LEDS_ADDR,0x0)"
   ]
  },
  {
   "cell_type": "markdown",
   "metadata": {},
   "source": [
    "### Configure the QPSK Demod Control Register\n",
    "\n",
    "Want to enable auto restart, so the FPGA block will always be read to receive samples\n"
   ]
  },
  {
   "cell_type": "code",
   "execution_count": 82,
   "metadata": {},
   "outputs": [
    {
     "data": {
      "text/plain": [
       "Register(AP_START=1, AP_DONE=0, AP_IDLE=0, AP_READY=0, RESERVED_1=0, AUTO_RESTART=1, RESERVED_2=0, INTERRUPT=0, RESERVED_3=0)"
      ]
     },
     "execution_count": 82,
     "metadata": {},
     "output_type": "execute_result"
    }
   ],
   "source": [
    "qpsk_demod.register_map.CTRL.AUTO_RESTART=1\n",
    "qpsk_demod.register_map.CTRL.AP_START=1\n",
    "qpsk_demod.register_map.CTRL"
   ]
  },
  {
   "cell_type": "markdown",
   "metadata": {},
   "source": [
    "### Open Modulated Data Samples and Convert to INT32"
   ]
  },
  {
   "cell_type": "code",
   "execution_count": 83,
   "metadata": {},
   "outputs": [
    {
     "name": "stdout",
     "output_type": "stream",
     "text": [
      "Number of Samples Read: 512\n"
     ]
    },
    {
     "data": {
      "text/html": [
       "<style>\n",
       "        .bk-notebook-logo {\n",
       "            display: block;\n",
       "            width: 20px;\n",
       "            height: 20px;\n",
       "            background-image: url(data:image/png;base64,iVBORw0KGgoAAAANSUhEUgAAABQAAAAUCAYAAACNiR0NAAAABHNCSVQICAgIfAhkiAAAAAlwSFlzAAALEgAACxIB0t1+/AAAABx0RVh0U29mdHdhcmUAQWRvYmUgRmlyZXdvcmtzIENTNui8sowAAAOkSURBVDiNjZRtaJVlGMd/1/08zzln5zjP1LWcU9N0NkN8m2CYjpgQYQXqSs0I84OLIC0hkEKoPtiH3gmKoiJDU7QpLgoLjLIQCpEsNJ1vqUOdO7ppbuec5+V+rj4ctwzd8IIbbi6u+8f1539dt3A78eXC7QizUF7gyV1fD1Yqg4JWz84yffhm0qkFqBogB9rM8tZdtwVsPUhWhGcFJngGeWrPzHm5oaMmkfEg1usvLFyc8jLRqDOMru7AyC8saQr7GG7f5fvDeH7Ej8CM66nIF+8yngt6HWaKh7k49Soy9nXurCi1o3qUbS3zWfrYeQDTB/Qj6kX6Ybhw4B+bOYoLKCC9H3Nu/leUTZ1JdRWkkn2ldcCamzrcf47KKXdAJllSlxAOkRgyHsGC/zRday5Qld9DyoM4/q/rUoy/CXh3jzOu3bHUVZeU+DEn8FInkPBFlu3+nW3Nw0mk6vCDiWg8CeJaxEwuHS3+z5RgY+YBR6V1Z1nxSOfoaPa4LASWxxdNp+VWTk7+4vzaou8v8PN+xo+KY2xsw6une2frhw05CTYOmQvsEhjhWjn0bmXPjpE1+kplmmkP3suftwTubK9Vq22qKmrBhpY4jvd5afdRA3wGjFAgcnTK2s4hY0/GPNIb0nErGMCRxWOOX64Z8RAC4oCXdklmEvcL8o0BfkNK4lUg9HTl+oPlQxdNo3Mg4Nv175e/1LDGzZen30MEjRUtmXSfiTVu1kK8W4txyV6BMKlbgk3lMwYCiusNy9fVfvvwMxv8Ynl6vxoByANLTWplvuj/nF9m2+PDtt1eiHPBr1oIfhCChQMBw6Aw0UulqTKZdfVvfG7VcfIqLG9bcldL/+pdWTLxLUy8Qq38heUIjh4XlzZxzQm19lLFlr8vdQ97rjZVOLf8nclzckbcD4wxXMidpX30sFd37Fv/GtwwhzhxGVAprjbg0gCAEeIgwCZyTV2Z1REEW8O4py0wsjeloKoMr6iCY6dP92H6Vw/oTyICIthibxjm/DfN9lVz8IqtqKYLUXfoKVMVQVVJOElGjrnnUt9T9wbgp8AyYKaGlqingHZU/uG2NTZSVqwHQTWkx9hxjkpWDaCg6Ckj5qebgBVbT3V3NNXMSiWSDdGV3hrtzla7J+duwPOToIg42ChPQOQjspnSlp1V+Gjdged7+8UN5CRAV7a5EdFNwCjEaBR27b3W890TE7g24NAP/mMDXRWrGoFPQI9ls/MWO2dWFAar/xcOIImbbpA3zgAAAABJRU5ErkJggg==);\n",
       "        }\n",
       "    </style>\n",
       "    <div>\n",
       "        <a href=\"https://bokeh.org\" target=\"_blank\" class=\"bk-notebook-logo\"></a>\n",
       "        <span id=\"fe0bf082-a06a-4ef6-9acd-47e7ad4c6599\">Loading BokehJS ...</span>\n",
       "    </div>\n"
      ]
     },
     "metadata": {},
     "output_type": "display_data"
    },
    {
     "data": {
      "application/javascript": [
       "(function(root) {\n",
       "  function now() {\n",
       "    return new Date();\n",
       "  }\n",
       "\n",
       "  const force = true;\n",
       "\n",
       "  if (typeof root._bokeh_onload_callbacks === \"undefined\" || force === true) {\n",
       "    root._bokeh_onload_callbacks = [];\n",
       "    root._bokeh_is_loading = undefined;\n",
       "  }\n",
       "\n",
       "const JS_MIME_TYPE = 'application/javascript';\n",
       "  const HTML_MIME_TYPE = 'text/html';\n",
       "  const EXEC_MIME_TYPE = 'application/vnd.bokehjs_exec.v0+json';\n",
       "  const CLASS_NAME = 'output_bokeh rendered_html';\n",
       "\n",
       "  /**\n",
       "   * Render data to the DOM node\n",
       "   */\n",
       "  function render(props, node) {\n",
       "    const script = document.createElement(\"script\");\n",
       "    node.appendChild(script);\n",
       "  }\n",
       "\n",
       "  /**\n",
       "   * Handle when an output is cleared or removed\n",
       "   */\n",
       "  function handleClearOutput(event, handle) {\n",
       "    function drop(id) {\n",
       "      const view = Bokeh.index.get_by_id(id)\n",
       "      if (view != null) {\n",
       "        view.model.document.clear()\n",
       "        Bokeh.index.delete(view)\n",
       "      }\n",
       "    }\n",
       "\n",
       "    const cell = handle.cell;\n",
       "\n",
       "    const id = cell.output_area._bokeh_element_id;\n",
       "    const server_id = cell.output_area._bokeh_server_id;\n",
       "\n",
       "    // Clean up Bokeh references\n",
       "    if (id != null) {\n",
       "      drop(id)\n",
       "    }\n",
       "\n",
       "    if (server_id !== undefined) {\n",
       "      // Clean up Bokeh references\n",
       "      const cmd_clean = \"from bokeh.io.state import curstate; print(curstate().uuid_to_server['\" + server_id + \"'].get_sessions()[0].document.roots[0]._id)\";\n",
       "      cell.notebook.kernel.execute(cmd_clean, {\n",
       "        iopub: {\n",
       "          output: function(msg) {\n",
       "            const id = msg.content.text.trim()\n",
       "            drop(id)\n",
       "          }\n",
       "        }\n",
       "      });\n",
       "      // Destroy server and session\n",
       "      const cmd_destroy = \"import bokeh.io.notebook as ion; ion.destroy_server('\" + server_id + \"')\";\n",
       "      cell.notebook.kernel.execute(cmd_destroy);\n",
       "    }\n",
       "  }\n",
       "\n",
       "  /**\n",
       "   * Handle when a new output is added\n",
       "   */\n",
       "  function handleAddOutput(event, handle) {\n",
       "    const output_area = handle.output_area;\n",
       "    const output = handle.output;\n",
       "\n",
       "    // limit handleAddOutput to display_data with EXEC_MIME_TYPE content only\n",
       "    if ((output.output_type != \"display_data\") || (!Object.prototype.hasOwnProperty.call(output.data, EXEC_MIME_TYPE))) {\n",
       "      return\n",
       "    }\n",
       "\n",
       "    const toinsert = output_area.element.find(\".\" + CLASS_NAME.split(' ')[0]);\n",
       "\n",
       "    if (output.metadata[EXEC_MIME_TYPE][\"id\"] !== undefined) {\n",
       "      toinsert[toinsert.length - 1].firstChild.textContent = output.data[JS_MIME_TYPE];\n",
       "      // store reference to embed id on output_area\n",
       "      output_area._bokeh_element_id = output.metadata[EXEC_MIME_TYPE][\"id\"];\n",
       "    }\n",
       "    if (output.metadata[EXEC_MIME_TYPE][\"server_id\"] !== undefined) {\n",
       "      const bk_div = document.createElement(\"div\");\n",
       "      bk_div.innerHTML = output.data[HTML_MIME_TYPE];\n",
       "      const script_attrs = bk_div.children[0].attributes;\n",
       "      for (let i = 0; i < script_attrs.length; i++) {\n",
       "        toinsert[toinsert.length - 1].firstChild.setAttribute(script_attrs[i].name, script_attrs[i].value);\n",
       "        toinsert[toinsert.length - 1].firstChild.textContent = bk_div.children[0].textContent\n",
       "      }\n",
       "      // store reference to server id on output_area\n",
       "      output_area._bokeh_server_id = output.metadata[EXEC_MIME_TYPE][\"server_id\"];\n",
       "    }\n",
       "  }\n",
       "\n",
       "  function register_renderer(events, OutputArea) {\n",
       "\n",
       "    function append_mime(data, metadata, element) {\n",
       "      // create a DOM node to render to\n",
       "      const toinsert = this.create_output_subarea(\n",
       "        metadata,\n",
       "        CLASS_NAME,\n",
       "        EXEC_MIME_TYPE\n",
       "      );\n",
       "      this.keyboard_manager.register_events(toinsert);\n",
       "      // Render to node\n",
       "      const props = {data: data, metadata: metadata[EXEC_MIME_TYPE]};\n",
       "      render(props, toinsert[toinsert.length - 1]);\n",
       "      element.append(toinsert);\n",
       "      return toinsert\n",
       "    }\n",
       "\n",
       "    /* Handle when an output is cleared or removed */\n",
       "    events.on('clear_output.CodeCell', handleClearOutput);\n",
       "    events.on('delete.Cell', handleClearOutput);\n",
       "\n",
       "    /* Handle when a new output is added */\n",
       "    events.on('output_added.OutputArea', handleAddOutput);\n",
       "\n",
       "    /**\n",
       "     * Register the mime type and append_mime function with output_area\n",
       "     */\n",
       "    OutputArea.prototype.register_mime_type(EXEC_MIME_TYPE, append_mime, {\n",
       "      /* Is output safe? */\n",
       "      safe: true,\n",
       "      /* Index of renderer in `output_area.display_order` */\n",
       "      index: 0\n",
       "    });\n",
       "  }\n",
       "\n",
       "  // register the mime type if in Jupyter Notebook environment and previously unregistered\n",
       "  if (root.Jupyter !== undefined) {\n",
       "    const events = require('base/js/events');\n",
       "    const OutputArea = require('notebook/js/outputarea').OutputArea;\n",
       "\n",
       "    if (OutputArea.prototype.mime_types().indexOf(EXEC_MIME_TYPE) == -1) {\n",
       "      register_renderer(events, OutputArea);\n",
       "    }\n",
       "  }\n",
       "  if (typeof (root._bokeh_timeout) === \"undefined\" || force === true) {\n",
       "    root._bokeh_timeout = Date.now() + 5000;\n",
       "    root._bokeh_failed_load = false;\n",
       "  }\n",
       "\n",
       "  const NB_LOAD_WARNING = {'data': {'text/html':\n",
       "     \"<div style='background-color: #fdd'>\\n\"+\n",
       "     \"<p>\\n\"+\n",
       "     \"BokehJS does not appear to have successfully loaded. If loading BokehJS from CDN, this \\n\"+\n",
       "     \"may be due to a slow or bad network connection. Possible fixes:\\n\"+\n",
       "     \"</p>\\n\"+\n",
       "     \"<ul>\\n\"+\n",
       "     \"<li>re-rerun `output_notebook()` to attempt to load from CDN again, or</li>\\n\"+\n",
       "     \"<li>use INLINE resources instead, as so:</li>\\n\"+\n",
       "     \"</ul>\\n\"+\n",
       "     \"<code>\\n\"+\n",
       "     \"from bokeh.resources import INLINE\\n\"+\n",
       "     \"output_notebook(resources=INLINE)\\n\"+\n",
       "     \"</code>\\n\"+\n",
       "     \"</div>\"}};\n",
       "\n",
       "  function display_loaded() {\n",
       "    const el = document.getElementById(\"fe0bf082-a06a-4ef6-9acd-47e7ad4c6599\");\n",
       "    if (el != null) {\n",
       "      el.textContent = \"BokehJS is loading...\";\n",
       "    }\n",
       "    if (root.Bokeh !== undefined) {\n",
       "      if (el != null) {\n",
       "        el.textContent = \"BokehJS \" + root.Bokeh.version + \" successfully loaded.\";\n",
       "      }\n",
       "    } else if (Date.now() < root._bokeh_timeout) {\n",
       "      setTimeout(display_loaded, 100)\n",
       "    }\n",
       "  }\n",
       "\n",
       "  function run_callbacks() {\n",
       "    try {\n",
       "      root._bokeh_onload_callbacks.forEach(function(callback) {\n",
       "        if (callback != null)\n",
       "          callback();\n",
       "      });\n",
       "    } finally {\n",
       "      delete root._bokeh_onload_callbacks\n",
       "    }\n",
       "    console.debug(\"Bokeh: all callbacks have finished\");\n",
       "  }\n",
       "\n",
       "  function load_libs(css_urls, js_urls, callback) {\n",
       "    if (css_urls == null) css_urls = [];\n",
       "    if (js_urls == null) js_urls = [];\n",
       "\n",
       "    root._bokeh_onload_callbacks.push(callback);\n",
       "    if (root._bokeh_is_loading > 0) {\n",
       "      console.debug(\"Bokeh: BokehJS is being loaded, scheduling callback at\", now());\n",
       "      return null;\n",
       "    }\n",
       "    if (js_urls == null || js_urls.length === 0) {\n",
       "      run_callbacks();\n",
       "      return null;\n",
       "    }\n",
       "    console.debug(\"Bokeh: BokehJS not loaded, scheduling load and callback at\", now());\n",
       "    root._bokeh_is_loading = css_urls.length + js_urls.length;\n",
       "\n",
       "    function on_load() {\n",
       "      root._bokeh_is_loading--;\n",
       "      if (root._bokeh_is_loading === 0) {\n",
       "        console.debug(\"Bokeh: all BokehJS libraries/stylesheets loaded\");\n",
       "        run_callbacks()\n",
       "      }\n",
       "    }\n",
       "\n",
       "    function on_error(url) {\n",
       "      console.error(\"failed to load \" + url);\n",
       "    }\n",
       "\n",
       "    for (let i = 0; i < css_urls.length; i++) {\n",
       "      const url = css_urls[i];\n",
       "      const element = document.createElement(\"link\");\n",
       "      element.onload = on_load;\n",
       "      element.onerror = on_error.bind(null, url);\n",
       "      element.rel = \"stylesheet\";\n",
       "      element.type = \"text/css\";\n",
       "      element.href = url;\n",
       "      console.debug(\"Bokeh: injecting link tag for BokehJS stylesheet: \", url);\n",
       "      document.body.appendChild(element);\n",
       "    }\n",
       "\n",
       "    for (let i = 0; i < js_urls.length; i++) {\n",
       "      const url = js_urls[i];\n",
       "      const element = document.createElement('script');\n",
       "      element.onload = on_load;\n",
       "      element.onerror = on_error.bind(null, url);\n",
       "      element.async = false;\n",
       "      element.src = url;\n",
       "      console.debug(\"Bokeh: injecting script tag for BokehJS library: \", url);\n",
       "      document.head.appendChild(element);\n",
       "    }\n",
       "  };\n",
       "\n",
       "  function inject_raw_css(css) {\n",
       "    const element = document.createElement(\"style\");\n",
       "    element.appendChild(document.createTextNode(css));\n",
       "    document.body.appendChild(element);\n",
       "  }\n",
       "\n",
       "  const js_urls = [\"https://cdn.bokeh.org/bokeh/release/bokeh-3.3.0.min.js\", \"https://cdn.bokeh.org/bokeh/release/bokeh-gl-3.3.0.min.js\", \"https://cdn.bokeh.org/bokeh/release/bokeh-widgets-3.3.0.min.js\", \"https://cdn.bokeh.org/bokeh/release/bokeh-tables-3.3.0.min.js\", \"https://cdn.bokeh.org/bokeh/release/bokeh-mathjax-3.3.0.min.js\"];\n",
       "  const css_urls = [];\n",
       "\n",
       "  const inline_js = [    function(Bokeh) {\n",
       "      Bokeh.set_log_level(\"info\");\n",
       "    },\n",
       "function(Bokeh) {\n",
       "    }\n",
       "  ];\n",
       "\n",
       "  function run_inline_js() {\n",
       "    if (root.Bokeh !== undefined || force === true) {\n",
       "          for (let i = 0; i < inline_js.length; i++) {\n",
       "      inline_js[i].call(root, root.Bokeh);\n",
       "    }\n",
       "if (force === true) {\n",
       "        display_loaded();\n",
       "      }} else if (Date.now() < root._bokeh_timeout) {\n",
       "      setTimeout(run_inline_js, 100);\n",
       "    } else if (!root._bokeh_failed_load) {\n",
       "      console.log(\"Bokeh: BokehJS failed to load within specified timeout.\");\n",
       "      root._bokeh_failed_load = true;\n",
       "    } else if (force !== true) {\n",
       "      const cell = $(document.getElementById(\"fe0bf082-a06a-4ef6-9acd-47e7ad4c6599\")).parents('.cell').data().cell;\n",
       "      cell.output_area.append_execute_result(NB_LOAD_WARNING)\n",
       "    }\n",
       "  }\n",
       "\n",
       "  if (root._bokeh_is_loading === 0) {\n",
       "    console.debug(\"Bokeh: BokehJS loaded, going straight to plotting\");\n",
       "    run_inline_js();\n",
       "  } else {\n",
       "    load_libs(css_urls, js_urls, function() {\n",
       "      console.debug(\"Bokeh: BokehJS plotting callback run at\", now());\n",
       "      run_inline_js();\n",
       "    });\n",
       "  }\n",
       "}(window));"
      ],
      "application/vnd.bokehjs_load.v0+json": "(function(root) {\n  function now() {\n    return new Date();\n  }\n\n  const force = true;\n\n  if (typeof root._bokeh_onload_callbacks === \"undefined\" || force === true) {\n    root._bokeh_onload_callbacks = [];\n    root._bokeh_is_loading = undefined;\n  }\n\n\n  if (typeof (root._bokeh_timeout) === \"undefined\" || force === true) {\n    root._bokeh_timeout = Date.now() + 5000;\n    root._bokeh_failed_load = false;\n  }\n\n  const NB_LOAD_WARNING = {'data': {'text/html':\n     \"<div style='background-color: #fdd'>\\n\"+\n     \"<p>\\n\"+\n     \"BokehJS does not appear to have successfully loaded. If loading BokehJS from CDN, this \\n\"+\n     \"may be due to a slow or bad network connection. Possible fixes:\\n\"+\n     \"</p>\\n\"+\n     \"<ul>\\n\"+\n     \"<li>re-rerun `output_notebook()` to attempt to load from CDN again, or</li>\\n\"+\n     \"<li>use INLINE resources instead, as so:</li>\\n\"+\n     \"</ul>\\n\"+\n     \"<code>\\n\"+\n     \"from bokeh.resources import INLINE\\n\"+\n     \"output_notebook(resources=INLINE)\\n\"+\n     \"</code>\\n\"+\n     \"</div>\"}};\n\n  function display_loaded() {\n    const el = document.getElementById(\"fe0bf082-a06a-4ef6-9acd-47e7ad4c6599\");\n    if (el != null) {\n      el.textContent = \"BokehJS is loading...\";\n    }\n    if (root.Bokeh !== undefined) {\n      if (el != null) {\n        el.textContent = \"BokehJS \" + root.Bokeh.version + \" successfully loaded.\";\n      }\n    } else if (Date.now() < root._bokeh_timeout) {\n      setTimeout(display_loaded, 100)\n    }\n  }\n\n  function run_callbacks() {\n    try {\n      root._bokeh_onload_callbacks.forEach(function(callback) {\n        if (callback != null)\n          callback();\n      });\n    } finally {\n      delete root._bokeh_onload_callbacks\n    }\n    console.debug(\"Bokeh: all callbacks have finished\");\n  }\n\n  function load_libs(css_urls, js_urls, callback) {\n    if (css_urls == null) css_urls = [];\n    if (js_urls == null) js_urls = [];\n\n    root._bokeh_onload_callbacks.push(callback);\n    if (root._bokeh_is_loading > 0) {\n      console.debug(\"Bokeh: BokehJS is being loaded, scheduling callback at\", now());\n      return null;\n    }\n    if (js_urls == null || js_urls.length === 0) {\n      run_callbacks();\n      return null;\n    }\n    console.debug(\"Bokeh: BokehJS not loaded, scheduling load and callback at\", now());\n    root._bokeh_is_loading = css_urls.length + js_urls.length;\n\n    function on_load() {\n      root._bokeh_is_loading--;\n      if (root._bokeh_is_loading === 0) {\n        console.debug(\"Bokeh: all BokehJS libraries/stylesheets loaded\");\n        run_callbacks()\n      }\n    }\n\n    function on_error(url) {\n      console.error(\"failed to load \" + url);\n    }\n\n    for (let i = 0; i < css_urls.length; i++) {\n      const url = css_urls[i];\n      const element = document.createElement(\"link\");\n      element.onload = on_load;\n      element.onerror = on_error.bind(null, url);\n      element.rel = \"stylesheet\";\n      element.type = \"text/css\";\n      element.href = url;\n      console.debug(\"Bokeh: injecting link tag for BokehJS stylesheet: \", url);\n      document.body.appendChild(element);\n    }\n\n    for (let i = 0; i < js_urls.length; i++) {\n      const url = js_urls[i];\n      const element = document.createElement('script');\n      element.onload = on_load;\n      element.onerror = on_error.bind(null, url);\n      element.async = false;\n      element.src = url;\n      console.debug(\"Bokeh: injecting script tag for BokehJS library: \", url);\n      document.head.appendChild(element);\n    }\n  };\n\n  function inject_raw_css(css) {\n    const element = document.createElement(\"style\");\n    element.appendChild(document.createTextNode(css));\n    document.body.appendChild(element);\n  }\n\n  const js_urls = [\"https://cdn.bokeh.org/bokeh/release/bokeh-3.3.0.min.js\", \"https://cdn.bokeh.org/bokeh/release/bokeh-gl-3.3.0.min.js\", \"https://cdn.bokeh.org/bokeh/release/bokeh-widgets-3.3.0.min.js\", \"https://cdn.bokeh.org/bokeh/release/bokeh-tables-3.3.0.min.js\", \"https://cdn.bokeh.org/bokeh/release/bokeh-mathjax-3.3.0.min.js\"];\n  const css_urls = [];\n\n  const inline_js = [    function(Bokeh) {\n      Bokeh.set_log_level(\"info\");\n    },\nfunction(Bokeh) {\n    }\n  ];\n\n  function run_inline_js() {\n    if (root.Bokeh !== undefined || force === true) {\n          for (let i = 0; i < inline_js.length; i++) {\n      inline_js[i].call(root, root.Bokeh);\n    }\nif (force === true) {\n        display_loaded();\n      }} else if (Date.now() < root._bokeh_timeout) {\n      setTimeout(run_inline_js, 100);\n    } else if (!root._bokeh_failed_load) {\n      console.log(\"Bokeh: BokehJS failed to load within specified timeout.\");\n      root._bokeh_failed_load = true;\n    } else if (force !== true) {\n      const cell = $(document.getElementById(\"fe0bf082-a06a-4ef6-9acd-47e7ad4c6599\")).parents('.cell').data().cell;\n      cell.output_area.append_execute_result(NB_LOAD_WARNING)\n    }\n  }\n\n  if (root._bokeh_is_loading === 0) {\n    console.debug(\"Bokeh: BokehJS loaded, going straight to plotting\");\n    run_inline_js();\n  } else {\n    load_libs(css_urls, js_urls, function() {\n      console.debug(\"Bokeh: BokehJS plotting callback run at\", now());\n      run_inline_js();\n    });\n  }\n}(window));"
     },
     "metadata": {},
     "output_type": "display_data"
    },
    {
     "data": {
      "text/html": [
       "\n",
       "  <div id=\"f3059870-63a8-4330-ac6b-58854907cd9c\" data-root-id=\"p1505\" style=\"display: contents;\"></div>\n"
      ]
     },
     "metadata": {},
     "output_type": "display_data"
    },
    {
     "data": {
      "application/javascript": [
       "(function(root) {\n",
       "  function embed_document(root) {\n",
       "  const docs_json = {\"a0b53154-8fd0-4ebf-b38b-3c890d48f694\":{\"version\":\"3.3.0\",\"title\":\"Bokeh Application\",\"roots\":[{\"type\":\"object\",\"name\":\"Figure\",\"id\":\"p1505\",\"attributes\":{\"x_range\":{\"type\":\"object\",\"name\":\"DataRange1d\",\"id\":\"p1506\"},\"y_range\":{\"type\":\"object\",\"name\":\"DataRange1d\",\"id\":\"p1507\"},\"x_scale\":{\"type\":\"object\",\"name\":\"LinearScale\",\"id\":\"p1515\"},\"y_scale\":{\"type\":\"object\",\"name\":\"LinearScale\",\"id\":\"p1516\"},\"title\":{\"type\":\"object\",\"name\":\"Title\",\"id\":\"p1508\",\"attributes\":{\"text\":\"Input & Output Signal\"}},\"renderers\":[{\"type\":\"object\",\"name\":\"GlyphRenderer\",\"id\":\"p1540\",\"attributes\":{\"data_source\":{\"type\":\"object\",\"name\":\"ColumnDataSource\",\"id\":\"p1534\",\"attributes\":{\"selected\":{\"type\":\"object\",\"name\":\"Selection\",\"id\":\"p1535\",\"attributes\":{\"indices\":[],\"line_indices\":[]}},\"selection_policy\":{\"type\":\"object\",\"name\":\"UnionRenderers\",\"id\":\"p1536\"},\"data\":{\"type\":\"map\",\"entries\":[[\"x\",{\"type\":\"ndarray\",\"array\":{\"type\":\"bytes\",\"data\":\"AAAAAAAAAACAAAECBAjwP4AAAQIECABAwIABAwYMCECAAAECBAgQQKBAgQIFChRAwIABAwYMGEDgwIEDBw4cQIAAAQIECCBAkCBBggQJIkCgQIECBQokQLBgwYIFCyZAwIABAwYMKEDQoEGDBg0qQODAgQMHDixA8ODBgwcPLkCAAAECBAgwQIgQIUKECDFAkCBBggQJMkCYMGHChAkzQKBAgQIFCjRAqFChQoUKNUCwYMGCBQs2QLhw4cKFCzdAwIABAwYMOEDIkCFDhgw5QNCgQYMGDTpA2LBhw4YNO0DgwIEDBw48QOjQoUOHDj1A8ODBgwcPPkD48OHDhw8/QIAAAQIECEBAhAgRIkSIQECIECFChAhBQIwYMWLEiEFAkCBBggQJQkCUKFGiRIlCQJgwYcKECUNAnDhx4sSJQ0CgQIECBQpEQKRIkSJFikRAqFChQoUKRUCsWLFixYpFQLBgwYIFC0ZAtGjRokWLRkC4cOHChQtHQLx48eLFi0dAwIABAwYMSEDEiBEjRoxIQMiQIUOGDElAzJgxY8aMSUDQoEGDBg1KQNSoUaNGjUpA2LBhw4YNS0DcuHHjxo1LQODAgQMHDkxA5MiRI0eOTEDo0KFDhw5NQOzYsWPHjk1A8ODBgwcPTkD06NGjR49OQPjw4cOHD09A/Pjx48ePT0CAAAECBAhQQIIECRIkSFBAhAgRIkSIUECGDBkyZMhQQIgQIUKECFFAihQpUqRIUUCMGDFixIhRQI4cOXLkyFFAkCBBggQJUkCSJEmSJElSQJQoUaJEiVJAlixZsmTJUkCYMGHChAlTQJo0adKkSVNAnDhx4sSJU0CePHny5MlTQKBAgQIFClRAokSJEiVKVECkSJEiRYpUQKZMmTJlylRAqFChQoUKVUCqVKlSpUpVQKxYsWLFilVArly5cuXKVUCwYMGCBQtWQLJkyZIlS1ZAtGjRokWLVkC2bNmyZctWQLhw4cKFC1dAunTp0qVLV0C8ePHixYtXQL58+fLly1dAwIABAwYMWEDChAkTJkxYQMSIESNGjFhAxowZM2bMWEDIkCFDhgxZQMqUKVOmTFlAzJgxY8aMWUDOnDlz5sxZQNCgQYMGDVpA0qRJkyZNWkDUqFGjRo1aQNasWbNmzVpA2LBhw4YNW0DatGnTpk1bQNy4cePGjVtA3rx58+bNW0DgwIEDBw5cQOLEiRMnTlxA5MiRI0eOXEDmzJkzZ85cQOjQoUOHDl1A6tSpU6dOXUDs2LFjx45dQO7cuXPnzl1A8ODBgwcPXkDy5MmTJ09eQPTo0aNHj15A9uzZs2fPXkD48OHDhw9fQPr06dOnT19A/Pjx48ePX0D+/Pnz589fQIAAAQIECGBAgQIFChQoYECCBAkSJEhgQIMGDRo0aGBAhAgRIkSIYECFChUqVKhgQIYMGTJkyGBAhw4dOnToYECIECFChAhhQIkSJUqUKGFAihQpUqRIYUCLFi1atGhhQIwYMWLEiGFAjRo1atSoYUCOHDly5MhhQI8ePXr06GFAkCBBggQJYkCRIkWKFCliQJIkSZIkSWJAkyZNmjRpYkCUKFGiRIliQJUqVapUqWJAlixZsmTJYkCXLl26dOliQJgwYcKECWNAmTJlypQpY0CaNGnSpEljQJs2bdq0aWNAnDhx4sSJY0CdOnXq1KljQJ48efLkyWNAnz59+vTpY0CgQIECBQpkQKFChQoVKmRAokSJEiVKZECjRo0aNWpkQKRIkSJFimRApUqVKlWqZECmTJkyZcpkQKdOnTp16mRAqFChQoUKZUCpUqVKlSplQKpUqVKlSmVAq1atWrVqZUCsWLFixYplQK1atWrVqmVArly5cuXKZUCvXr169eplQLBgwYIFC2ZAsWLFihUrZkCyZMmSJUtmQLNmzZo1a2ZAtGjRokWLZkC1atWqVatmQLZs2bJly2ZAt27dunXrZkC4cOHChQtnQLly5cqVK2dAunTp0qVLZ0C7du3atWtnQLx48eLFi2dAvXr16tWrZ0C+fPny5ctnQL9+/fr162dAwIABAwYMaEDBggULFixoQMKECRMmTGhAw4YNGzZsaEDEiBEjRoxoQMWKFStWrGhAxowZM2bMaEDHjh07duxoQMiQIUOGDGlAyZIlS5YsaUDKlClTpkxpQMuWLVu2bGlAzJgxY8aMaUDNmjVr1qxpQM6cOXPmzGlAz549e/bsaUDQoEGDBg1qQNGiRYsWLWpA0qRJkyZNakDTpk2bNm1qQNSoUaNGjWpA1apVq1atakDWrFmzZs1qQNeuXbt27WpA2LBhw4YNa0DZsmXLli1rQNq0adOmTWtA27Zt27Zta0DcuHHjxo1rQN26devWrWtA3rx58+bNa0Dfvn379u1rQODAgQMHDmxA4cKFCxcubEDixIkTJ05sQOPGjRs3bmxA5MiRI0eObEDlypUrV65sQObMmTNnzmxA586dO3fubEDo0KFDhw5tQOnSpUuXLm1A6tSpU6dObUDr1q1bt25tQOzYsWPHjm1A7dq1a9eubUDu3Llz585tQO/evXv37m1A8ODBgwcPbkDx4sWLFy9uQPLkyZMnT25A8+bNmzdvbkD06NGjR49uQPXq1atXr25A9uzZs2fPbkD37t27d+9uQPjw4cOHD29A+fLly5cvb0D69OnTp09vQPv27du3b29A/Pjx48ePb0D9+vXr169vQP78+fPnz29A//79+/fvb0CAAAECBAhwQIABAwYMGHBAgQIFChQocECCAwcOHDhwQIIECRIkSHBAggULFixYcECDBg0aNGhwQIQHDx48eHBAhAgRIkSIcECECRMmTJhwQIUKFSpUqHBAhgsXLly4cECGDBkyZMhwQIYNGzZs2HBAhw4dOnTocECIDx8+fPhwQIgQIUKECHFAiBEjRowYcUCJEiVKlChxQIoTJ06cOHFAihQpUqRIcUCKFStWrFhxQIsWLVq0aHFAjBcvXrx4cUCMGDFixIhxQIwZM2bMmHFAjRo1atSocUCOGzdu3LhxQI4cOXLkyHFAjh07duzYcUCPHj169OhxQJAfP378+HFAkCBBggQJckCQIUOGDBlyQJEiRYoUKXJAkiNHjhw5ckCSJEmSJElyQJIlS5YsWXJAkyZNmjRpckCUJ0+ePHlyQJQoUaJEiXJAlClTpkyZckCVKlWqVKlyQJYrV65cuXJAlixZsmTJckCWLVu2bNlyQJcuXbp06XJAmC9fvnz5ckCYMGHChAlzQJgxY8aMGXNAmTJlypQpc0CaM2fOnDlzQJo0adKkSXNAmjVr1qxZc0CbNm3atGlzQJw3b968eXNAnDhx4sSJc0CcOXPmzJlzQJ06derUqXNAnjt37ty5c0CePHny5MlzQJ49e/bs2XNAnz59+vTpc0CgP3/+/PlzQKBAgQIFCnRAoEGDBg0adEChQoUKFSp0QKJDhw4dOnRAokSJEiVKdECiRYsWLVp0QKNGjRo1anRApEePHj16dECkSJEiRYp0QKRJkyZNmnRApUqVKlWqdECmS5cuXbp0QKZMmTJlynRApk2bNm3adECnTp06dep0QKhPnz59+nRAqFChQoUKdUCoUaNGjRp1QKlSpUqVKnVAqlOnTp06dUCqVKlSpUp1QKpVq1atWnVAq1atWrVqdUCsV69evXp1QKxYsWLFinVArFmzZs2adUCtWrVq1ap1QK5bt27dunVArly5cuXKdUCuXbt27dp1QK9evXr16nVAsF+/fv36dUCwYMGCBQt2QLBhw4YNG3ZAsWLFihUrdkCyY8eOHTt2QLJkyZIlS3ZAsmXLli1bdkCzZs2aNWt2QLRnz549e3ZAtGjRokWLdkC0adOmTZt2QLVq1apVq3ZAtmvXrl27dkC2bNmyZct2QLZt27Zt23ZAt27dunXrdkC4b9++fft2QLhw4cKFC3dAuHHjxo0bd0C5cuXKlSt3QLpz586dO3dAunTp0qVLd0C6devWrVt3QLt27dq1a3dAvHfv3r17d0C8ePHixYt3QLx58+bNm3dAvXr16tWrd0C+e/fu3bt3QL58+fLly3dAvn379u3bd0C/fv369et3QMB///79+3dAwIABAwYMeEDAgQMHDhx4QMGCBQsWLHhAwoMHDx48eEDChAkTJkx4QMKFCxcuXHhAw4YNGzZseEDEhw8fPnx4QMSIESNGjHhAxIkTJ06ceEDFihUrVqx4QMaLFy9evHhAxowZM2bMeEDGjRs3btx4QMeOHTt27HhAyI8fP378eEDIkCFDhgx5QMiRI0eOHHlAyZIlS5YseUDKkydPnjx5QMqUKVOmTHlAypUrV65ceUDLli1btmx5QMyXL1++fHlAzJgxY8aMeUDMmTNnzpx5QM2aNWvWrHlAzps3b968eUDOnDlz5sx5QM6dO3fu3HlAz549e/bseUDQnz9//vx5QNCgQYMGDXpA0KFDhw4dekDRokWLFi16QNKjR48ePXpA0qRJkyZNekDSpUuXLl16QNOmTZs2bXpA1KdPnz59ekDUqFGjRo16QNSpU6dOnXpA1apVq1atekDWq1evXr16QNasWbNmzXpA1q1bt27dekDXrl27du16QNivX79+/XpA2LBhw4YNe0DYsWPHjh17QNmyZcuWLXtA2rNnz549e0DatGnTpk17QNq1a9euXXtA27Zt27Zte0Dct2/fvn17QNy4cePGjXtA3Llz586de0DdunXr1q17QN67d+/evXtA3rx58+bNe0DevXv37t17QN++ffv27XtA4L9///79e0DgwIEDBw58QODBgwcPHnxA4cKFCxcufEDiw4cPHz58QOLEiRMnTnxA4sWLFy9efEDjxo0bN258QOTHjx8/fnxA5MiRI0eOfEDkyZMnT558QOXKlStXrnxA5suXL1++fEDmzJkzZ858QObNmzdv3nxA586dO3fufEDoz58/f/58QOjQoUOHDn1A6NGjR48efUDp0qVLly59QOrTp0+fPn1A6tSpU6dOfUDq1atXr159QOvWrVu3bn1A7NevX79+fUDs2LFjx459QOzZs2fPnn1A7dq1a9eufUDu27dv3759QO7cuXPnzn1A7t27d+/efUDv3r179+59QPDfv3///n1A8ODBgwcPfkDw4cOHDx9+QPHixYsXL35A8uPHjx8/fkDy5MmTJ09+QPLly5cvX35A8+bNmzdvfkD058+fP39+QPTo0aNHj35A9OnTp0+ffkD16tWrV69+QPbr169fv35A9uzZs2fPfkD27du3b99+QPfu3bt3735A+O/fv3//fkD48OHDhw9/QPjx48ePH39A+fLly5cvf0D68+fPnz9/QPr06dOnT39A+vXr169ff0D79u3bt29/QPz379+/f39A/Pjx48ePf0D8+fPnz59/QP369evXr39A/vv379+/f0D+/Pnz589/QP79+/fv339A//79+/fvf0AAAAAAAACAQA==\"},\"shape\":[512],\"dtype\":\"float64\",\"order\":\"little\"}],[\"y\",{\"type\":\"ndarray\",\"array\":{\"type\":\"bytes\",\"data\":\"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\"},\"shape\":[512],\"dtype\":\"int32\",\"order\":\"little\"}]]}}},\"view\":{\"type\":\"object\",\"name\":\"CDSView\",\"id\":\"p1541\",\"attributes\":{\"filter\":{\"type\":\"object\",\"name\":\"AllIndices\",\"id\":\"p1542\"}}},\"glyph\":{\"type\":\"object\",\"name\":\"Line\",\"id\":\"p1537\",\"attributes\":{\"x\":{\"type\":\"field\",\"field\":\"x\"},\"y\":{\"type\":\"field\",\"field\":\"y\"},\"line_color\":\"blue\",\"line_width\":3}},\"nonselection_glyph\":{\"type\":\"object\",\"name\":\"Line\",\"id\":\"p1538\",\"attributes\":{\"x\":{\"type\":\"field\",\"field\":\"x\"},\"y\":{\"type\":\"field\",\"field\":\"y\"},\"line_color\":\"blue\",\"line_alpha\":0.1,\"line_width\":3}},\"muted_glyph\":{\"type\":\"object\",\"name\":\"Line\",\"id\":\"p1539\",\"attributes\":{\"x\":{\"type\":\"field\",\"field\":\"x\"},\"y\":{\"type\":\"field\",\"field\":\"y\"},\"line_color\":\"blue\",\"line_alpha\":0.2,\"line_width\":3}}}}],\"toolbar\":{\"type\":\"object\",\"name\":\"Toolbar\",\"id\":\"p1514\",\"attributes\":{\"tools\":[{\"type\":\"object\",\"name\":\"PanTool\",\"id\":\"p1527\"},{\"type\":\"object\",\"name\":\"WheelZoomTool\",\"id\":\"p1528\",\"attributes\":{\"renderers\":\"auto\"}},{\"type\":\"object\",\"name\":\"BoxZoomTool\",\"id\":\"p1529\",\"attributes\":{\"overlay\":{\"type\":\"object\",\"name\":\"BoxAnnotation\",\"id\":\"p1530\",\"attributes\":{\"syncable\":false,\"level\":\"overlay\",\"visible\":false,\"left_units\":\"canvas\",\"right_units\":\"canvas\",\"top_units\":\"canvas\",\"bottom_units\":\"canvas\",\"line_color\":\"black\",\"line_alpha\":1.0,\"line_width\":2,\"line_dash\":[4,4],\"fill_color\":\"lightgrey\",\"fill_alpha\":0.5}}}},{\"type\":\"object\",\"name\":\"SaveTool\",\"id\":\"p1531\"},{\"type\":\"object\",\"name\":\"ResetTool\",\"id\":\"p1532\"},{\"type\":\"object\",\"name\":\"HelpTool\",\"id\":\"p1533\"}]}},\"left\":[{\"type\":\"object\",\"name\":\"LinearAxis\",\"id\":\"p1522\",\"attributes\":{\"ticker\":{\"type\":\"object\",\"name\":\"BasicTicker\",\"id\":\"p1523\",\"attributes\":{\"mantissas\":[1,2,5]}},\"formatter\":{\"type\":\"object\",\"name\":\"BasicTickFormatter\",\"id\":\"p1524\"},\"major_label_policy\":{\"type\":\"object\",\"name\":\"AllLabels\",\"id\":\"p1525\"}}}],\"below\":[{\"type\":\"object\",\"name\":\"LinearAxis\",\"id\":\"p1517\",\"attributes\":{\"ticker\":{\"type\":\"object\",\"name\":\"BasicTicker\",\"id\":\"p1518\",\"attributes\":{\"mantissas\":[1,2,5]}},\"formatter\":{\"type\":\"object\",\"name\":\"BasicTickFormatter\",\"id\":\"p1519\"},\"major_label_policy\":{\"type\":\"object\",\"name\":\"AllLabels\",\"id\":\"p1520\"}}}],\"center\":[{\"type\":\"object\",\"name\":\"Grid\",\"id\":\"p1521\",\"attributes\":{\"axis\":{\"id\":\"p1517\"}}},{\"type\":\"object\",\"name\":\"Grid\",\"id\":\"p1526\",\"attributes\":{\"dimension\":1,\"axis\":{\"id\":\"p1522\"}}},{\"type\":\"object\",\"name\":\"Legend\",\"id\":\"p1543\",\"attributes\":{\"items\":[{\"type\":\"object\",\"name\":\"LegendItem\",\"id\":\"p1544\",\"attributes\":{\"label\":{\"type\":\"value\",\"value\":\"Input Signal\"},\"renderers\":[{\"id\":\"p1540\"}]}}]}}]}}]}};\n",
       "  const render_items = [{\"docid\":\"a0b53154-8fd0-4ebf-b38b-3c890d48f694\",\"roots\":{\"p1505\":\"f3059870-63a8-4330-ac6b-58854907cd9c\"},\"root_ids\":[\"p1505\"]}];\n",
       "  root.Bokeh.embed.embed_items_notebook(docs_json, render_items);\n",
       "  }\n",
       "  if (root.Bokeh !== undefined) {\n",
       "    embed_document(root);\n",
       "  } else {\n",
       "    let attempts = 0;\n",
       "    const timer = setInterval(function(root) {\n",
       "      if (root.Bokeh !== undefined) {\n",
       "        clearInterval(timer);\n",
       "        embed_document(root);\n",
       "      } else {\n",
       "        attempts++;\n",
       "        if (attempts > 100) {\n",
       "          clearInterval(timer);\n",
       "          console.log(\"Bokeh: ERROR: Unable to run BokehJS code because BokehJS library is missing\");\n",
       "        }\n",
       "      }\n",
       "    }, 10, root)\n",
       "  }\n",
       "})(window);"
      ],
      "application/vnd.bokehjs_exec.v0+json": ""
     },
     "metadata": {
      "application/vnd.bokehjs_exec.v0+json": {
       "id": "p1505"
      }
     },
     "output_type": "display_data"
    }
   ],
   "source": [
    "mod_samps = []\n",
    "with open('modulatedData_short.dat') as mod:\n",
    "    mod_samps = mod.readlines()\n",
    "mod_samps = [line.rstrip('\\n') for line in mod_samps]\n",
    "\n",
    "mod_samps = np.array(mod_samps)\n",
    "mod_samps = mod_samps.astype('float64')*(2**28)\n",
    "mod_samps = mod_samps.astype(np.int32)\n",
    "\n",
    "print(\"Number of Samples Read: \" + str(len(mod_samps)))\n",
    "plot_time(mod_samps)"
   ]
  },
  {
   "cell_type": "code",
   "execution_count": null,
   "metadata": {},
   "outputs": [],
   "source": []
  },
  {
   "cell_type": "markdown",
   "metadata": {},
   "source": [
    "### DMA Transfer the Sample buffer from ARM Processor to the HLS QPSK Demodulator"
   ]
  },
  {
   "cell_type": "code",
   "execution_count": 84,
   "metadata": {},
   "outputs": [
    {
     "name": "stdout",
     "output_type": "stream",
     "text": [
      "NumSamples = 512\n",
      "NumSymboles = 8\n",
      "Done tranfer in_buffer\n",
      "Done transfer out_buffer\n",
      "Done send channel wait\n",
      "Done receive channel wait\n",
      "DMA Transfer Execution Time  : 0.0017931461334228516  sec\n"
     ]
    }
   ],
   "source": [
    "# 16 Samples Per Symbol, therefore create read buffer /16\n",
    "SamplesPerSym = 16\n",
    "NumSamples = len(mod_samps)\n",
    "NumSymbols = int(NumSamples/SamplesPerSym/4)\n",
    "print(\"NumSamples = \" + str(NumSamples))\n",
    "print(\"NumSymboles = \" + str(NumSymbols))\n",
    "\n",
    "# Allocate buffers for the input and output signals\n",
    "in_buffer = allocate(shape=(NumSamples,), dtype=np.int32)\n",
    "out_buffer = allocate(shape=(NumSymbols,), dtype=np.int32)\n",
    "\n",
    "# Copy the samples to the in_buffer\n",
    "np.copyto(in_buffer,mod_samps)\n",
    "\n",
    "# Trigger the DMA transfer and wait for the result\n",
    "import time\n",
    "start_time = time.time()\n",
    "dma.sendchannel.transfer(in_buffer)\n",
    "print(\"Done tranfer in_buffer\")\n",
    "dma.recvchannel.transfer(out_buffer)\n",
    "print(\"Done transfer out_buffer\")\n",
    "#dma.sendchannel.wait()\n",
    "print(\"Done send channel wait\")\n",
    "#dma.recvchannel.wait()\n",
    "print(\"Done receive channel wait\")\n",
    "\n",
    "stop_time = time.time()\n",
    "hw_exec_time = stop_time-start_time\n",
    "\n",
    "print('DMA Transfer Execution Time  :',hw_exec_time,' sec')\n",
    "\n",
    "# Plot to the notebook\n",
    "#plot_time(t,samples,2000,out_signal=out_buffer)\n",
    "\n",
    "# Free the buffers\n",
    "in_buffer.close()\n",
    "out_buffer.close()\n",
    "\n"
   ]
  },
  {
   "cell_type": "code",
   "execution_count": null,
   "metadata": {},
   "outputs": [],
   "source": []
  }
 ],
 "metadata": {
  "kernelspec": {
   "display_name": "Python 3 (ipykernel)",
   "language": "python",
   "name": "python3"
  },
  "language_info": {
   "codemirror_mode": {
    "name": "ipython",
    "version": 3
   },
   "file_extension": ".py",
   "mimetype": "text/x-python",
   "name": "python",
   "nbconvert_exporter": "python",
   "pygments_lexer": "ipython3",
   "version": "3.10.12"
  }
 },
 "nbformat": 4,
 "nbformat_minor": 4
}
