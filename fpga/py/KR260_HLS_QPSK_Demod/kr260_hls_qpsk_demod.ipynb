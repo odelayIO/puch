{
 "cells": [
  {
   "cell_type": "markdown",
   "metadata": {},
   "source": [
    "# KR260 HLS QPSK Demod\n",
    "\n",
    "## Setup\n",
    "\n",
    "### Mounting Development Machine\n",
    "This notebook utilizes `sshfs` to mount the development directory on the KR260 board to avoid transferring files bewteen machines.  \n",
    "\n",
    "The development machine that was used to build the KR260 FPGA image is named `dev-wks`.  To mount the development directory on `dev-wks`, first will need to create a folder to mount the directory, then execute the following from the Jupyter Terminal:\n",
    "\n",
    "```bash\n",
    "cd /home/root/jupyter_notebooks\n",
    "mkdir puch\n",
    "sshfs sdr@dev-wks:/home/sdr/workspace/puch-workspace/HLS-QPSK-Demod-Baseband_002 /home/root/jupyter_notebooks/puch\n",
    "```\n",
    "\n",
    "If `sshfs` is not installed, then execute `sudo apt install sshfs` on the Jupyter Terminal.\n",
    "\n",
    "### Unmounting Development Machine\n",
    "To unmount the directory\n",
    "` fusermount -u /home/root/jupyter_notebooks/dev-wks/`\n",
    "\n",
    "\n",
    "### Plot function for use in this notebook\n",
    "The first code block below defines a function that we will use for plotting data throughout this notebook. Note that the function has a `n_samples` argument so that we can limit the number of samples to plot. Plotting more than a few thousand samples can be very slow and consume a lot of RAM.\n",
    "\n",
    "### Requirements\n",
    "Install the following:\n",
    "\n",
    "```bash\n",
    "pip install ipympl\n",
    "pip install ipywidgets\n",
    "pip install jupyter_bokeh\n",
    "```"
   ]
  },
  {
   "cell_type": "markdown",
   "metadata": {},
   "source": [
    "# Initilize\n",
    "\n",
    "#### Bokeh Plot Function"
   ]
  },
  {
   "cell_type": "code",
   "execution_count": 1,
   "metadata": {},
   "outputs": [],
   "source": [
    "from bokeh.plotting import figure, output_file, show\n",
    "from bokeh.io import output_notebook, show\n",
    "import numpy as np\n",
    "import math\n",
    "\n",
    "\n",
    "def plot_time(in_signal,out_signal=None):\n",
    "    t = np.linspace(0,len(in_signal),len(in_signal))\n",
    "    output_notebook()\n",
    "    p = figure(title = \"Input & Output Signal\")\n",
    "    \n",
    "    if out_signal is not None:\n",
    "        p.line(t,out_signal,legend_label=\"Output Signal\",line_color=\"red\",line_width=1)\n",
    "    p.line(t,in_signal,legend_label=\"Input Signal\",line_color=\"blue\",line_width=3)\n",
    "    show(p)"
   ]
  },
  {
   "cell_type": "markdown",
   "metadata": {},
   "source": [
    "#### Load Overlay"
   ]
  },
  {
   "cell_type": "code",
   "execution_count": 1,
   "metadata": {},
   "outputs": [
    {
     "data": {
      "application/javascript": [
       "\n",
       "try {\n",
       "require(['notebook/js/codecell'], function(codecell) {\n",
       "  codecell.CodeCell.options_default.highlight_modes[\n",
       "      'magic_text/x-csrc'] = {'reg':[/^%%microblaze/]};\n",
       "  Jupyter.notebook.events.one('kernel_ready.Kernel', function(){\n",
       "      Jupyter.notebook.get_cells().map(function(cell){\n",
       "          if (cell.cell_type == 'code'){ cell.auto_highlight(); } }) ;\n",
       "  });\n",
       "});\n",
       "} catch (e) {};\n"
      ]
     },
     "metadata": {},
     "output_type": "display_data"
    },
    {
     "data": {
      "application/javascript": [
       "\n",
       "try {\n",
       "require(['notebook/js/codecell'], function(codecell) {\n",
       "  codecell.CodeCell.options_default.highlight_modes[\n",
       "      'magic_text/x-csrc'] = {'reg':[/^%%pybind11/]};\n",
       "  Jupyter.notebook.events.one('kernel_ready.Kernel', function(){\n",
       "      Jupyter.notebook.get_cells().map(function(cell){\n",
       "          if (cell.cell_type == 'code'){ cell.auto_highlight(); } }) ;\n",
       "  });\n",
       "});\n",
       "} catch (e) {};\n"
      ]
     },
     "metadata": {},
     "output_type": "display_data"
    },
    {
     "name": "stdout",
     "output_type": "stream",
     "text": [
      "Done Init System\n"
     ]
    }
   ],
   "source": [
    "from pynq import Overlay\n",
    "from pynq import allocate\n",
    "from pynq import MMIO\n",
    "import pynq.lib.dma\n",
    "import time\n",
    "\n",
    "#import Python library from repo:\n",
    "import sys\n",
    "sys.path.append('/home/root/jupyter_notebooks/puch/')\n",
    "import fpga.py.puch as puch\n",
    "import fpga.lib.timestamp.sw.timestamp_regmap as timestamp_regmap\n",
    "import fpga.lib.led_reg.sw.led_regmap as led_regmap\n",
    "import fpga.lib.HLS_QPSK_Demod.sw.qpsk_regmap as qpsk_regmap\n",
    "import fpga.lib.AWGN_GNG.sw.awgn_regmap as awgn_regmap\n",
    "\n",
    "\n",
    "# Load the overlay\n",
    "overlay = Overlay('../../overlays/KR260_HLS_QPSK_Demod/output/kr260_hls_qpsk_demod.bit')\n",
    "\n",
    "# Assign blocks to short vars\n",
    "dma          = overlay.axi_dma_0\n",
    "led_module   = overlay.led_reg_0\n",
    "timestamp    = overlay.Timestamp_0\n",
    "qpsk_demod   = overlay.Rx_QPSK.QPSK_Demod_Top_0\n",
    "awgn         = overlay.gng_top_0 \n",
    "\n",
    "# Configure QPSK Syncword, and reset sync lock\n",
    "#qpsk_demod.mmio.write(qpsk_regmap.RegMap.SYNC_WORD_ADDR,0xDEADBEEF)\n",
    "qpsk_demod.mmio.write(qpsk_regmap.RegMap.SYNC_WORD_ADDR,0x6D75521E)\n",
    "qpsk_demod.mmio.write(qpsk_regmap.RegMap.SYNC_RESET_ADDR,1)\n",
    "\n",
    "# Read data path formats\n",
    "fin_tBits, fin_fBits = puch.get_format(qpsk_demod,qpsk_regmap.RegMap.F_IN_ADDR)\n",
    "fout_tBits, fout_fBits = puch.get_format(qpsk_demod,qpsk_regmap.RegMap.F_OUT_ADDR)\n",
    "awgn_tBits, awgn_fBits = puch.get_format(awgn,awgn_regmap.RegMap.F_AWGN_ADDR)\n",
    "\n",
    "print(\"Done Init System\")"
   ]
  },
  {
   "cell_type": "markdown",
   "metadata": {},
   "source": [
    "##### Display Time Stamp Register\n",
    "The time stamp is burned into the FPGA during the build process"
   ]
  },
  {
   "cell_type": "code",
   "execution_count": 3,
   "metadata": {},
   "outputs": [
    {
     "name": "stdout",
     "output_type": "stream",
     "text": [
      "FPGA Build Timestamp:  2025/4/24 15:25:52\n"
     ]
    }
   ],
   "source": [
    "print(\"FPGA Build Timestamp:  \" + puch.get_timestamp_str(timestamp))"
   ]
  },
  {
   "cell_type": "markdown",
   "metadata": {},
   "source": [
    "##### Toggle USER_LED[1:0] on/off"
   ]
  },
  {
   "cell_type": "code",
   "execution_count": null,
   "metadata": {},
   "outputs": [],
   "source": [
    "for i in range(10):\n",
    "    led_module.mmio.write(led_regmap.RegMap.USER_LEDS_ADDR,0x1)\n",
    "    time.sleep(0.25)\n",
    "    led_module.mmio.write(led_regmap.RegMap.USER_LEDS_ADDR,0x2)\n",
    "    time.sleep(0.25)\n",
    "led_module.mmio.write(led_regmap.RegMap.USER_LEDS_ADDR,0x0)"
   ]
  },
  {
   "cell_type": "markdown",
   "metadata": {},
   "source": [
    "### Open Modulated Data Samples and Convert to INT16 I/Q Samples"
   ]
  },
  {
   "cell_type": "code",
   "execution_count": null,
   "metadata": {},
   "outputs": [],
   "source": [
    "mod_samps = []\n",
    "with open('../../lib/HLS_QPSK_Demod/sim/0xDEADBEEF_Tx_Samps.dat') as mod:\n",
    "    mod_samps = mod.readlines()\n",
    "mod_samps = [line.rstrip('\\n') for line in mod_samps]\n",
    "\n",
    "mod_samps = np.array(mod_samps)\n",
    "mod_samps = np.concatenate((mod_samps, np.zeros(256))) # Add zeros to push through MF FIR\n",
    "mod_samps = mod_samps.astype('float64')*(2**fin_fBits)\n",
    "mod_samps = mod_samps.astype(np.int32)\n",
    "xi = mod_samps[0::2]\n",
    "xq = mod_samps[1::2]\n",
    "xiq = (xi<<16) + xq # pack I/Q 32-bit\n",
    "\n",
    "print(\"Number of I Samples Read: \" + str(len(xi)))\n",
    "print(\"Number of Q Samples Read: \" + str(len(xq)))\n",
    "print(\"Number Symbols          : \" + str(len(xq)/16))\n",
    "plot_time(xi)\n",
    "#print(hex(xi[1:10]))"
   ]
  },
  {
   "cell_type": "markdown",
   "metadata": {},
   "source": [
    "### DMA Transfer the Sample buffer from ARM Processor to the HLS QPSK Demodulator"
   ]
  },
  {
   "cell_type": "code",
   "execution_count": null,
   "metadata": {},
   "outputs": [],
   "source": [
    "# 16 Samples Per Symbol, therefore create read buffer /16\n",
    "SamplesPerSym = 16\n",
    "NumSamples = len(xiq)\n",
    "NumSymbols = int(NumSamples/SamplesPerSym/4)\n",
    "print(\"NumSamples                    : \" + str(NumSamples))\n",
    "print(\"NumSymboles                   : \" + str(NumSymbols))\n",
    "\n",
    "#  AWGN \n",
    "awgn_gain = 0.2\n",
    "awgn.write(awgn_regmap.RegMap.AWGN_NOISE_GAIN_ADDR,int(awgn_gain*(2**awgn_fBits)))\n",
    "awgn.write(awgn_regmap.RegMap.AWGN_ENABLE_ADDR,1)\n",
    "print(\"AWGN Enable                   : \" + str(awgn.read(awgn_regmap.RegMap.AWGN_ENABLE_ADDR)))\n",
    "print(\"AWGN Gain                     : \" + str(awgn.read(awgn_regmap.RegMap.AWGN_NOISE_GAIN_ADDR)/(2**awgn_fBits)))\n",
    "\n",
    "\n",
    "# Reset Symbol Buffer Capture\n",
    "CAP_Symbols = 128\n",
    "qpsk_demod.mmio.write(qpsk_regmap.RegMap.DMA_RST_ADDR,1)\n",
    "print(\"DMA Reset                     : \" + str(qpsk_demod.mmio.read(qpsk_regmap.RegMap.DMA_RST_ADDR)))\n",
    "qpsk_demod.mmio.write(qpsk_regmap.RegMap.DMA_LENGTH_ADDR,CAP_Symbols)\n",
    "print(\"Number of I/Q Symbols to Read : \" + str(CAP_Symbols)) \n",
    "\n",
    "\n",
    "# Clear the buffer write address\n",
    "qpsk_demod.mmio.write(qpsk_regmap.RegMap.WR_RAM_ADDR_CTRL_ADDR,1)\n",
    "\n",
    "# Configure Sync Word\n",
    "qpsk_demod.mmio.write(qpsk_regmap.RegMap.SYNC_RESET_ADDR,1)\n",
    "#qpsk_demod.mmio.write(qpsk_regmap.RegMap.SYNC_WORD_ADDR,0xDEADBEEF)\n",
    "qpsk_demod.mmio.write(qpsk_regmap.RegMap.SYNC_WORD_ADDR,0x6D75521E)\n",
    "\n",
    "# Allocate buffers for the input and output signals\n",
    "in_buffer = allocate(shape=(NumSamples,), dtype=np.int32)\n",
    "\n",
    "\n",
    "# Copy the samples to the in_buffer\n",
    "np.copyto(in_buffer,xiq)\n",
    "\n",
    "# Start HLS QPSK Demodulator\n",
    "qpsk_demod.mmio.write(qpsk_regmap.RegMap.AP_CONTROL_ADDR,0)\n",
    "qpsk_demod.mmio.write(qpsk_regmap.RegMap.AP_CONTROL_ADDR,1)\n",
    "\n",
    "# Trigger the DMA transfer and wait for the result\n",
    "import time\n",
    "start_time = time.time()\n",
    "\n",
    "# Start DMA Transfer\n",
    "dma.sendchannel.transfer(in_buffer)\n",
    "print(\"Done tranfer in_buffer\")\n",
    "\n",
    "dma.sendchannel.wait()\n",
    "print(\"Done send channel wait\")\n",
    "\n",
    "\n",
    "stop_time = time.time()\n",
    "hw_exec_time = stop_time-start_time\n",
    "print('DMA Transfer Execution Time   :',hw_exec_time,' sec')\n",
    "\n",
    "# Free the buffers\n",
    "in_buffer.close()\n",
    "#out_buffer.close()\n",
    "\n",
    "print(\"Sync Lock Indecator           : \" + str(qpsk_demod.mmio.read(qpsk_regmap.RegMap.SYNC_LOCK_ADDR)))\n",
    "print(\"Symbols in the Buffer         : \" + str(qpsk_demod.mmio.read(qpsk_regmap.RegMap.WR_RAM_ADDR)))\n",
    "\n",
    "# Check AWGN Saturation Flags\n",
    "awgn_en_reg = awgn.read(awgn_regmap.RegMap.AWGN_ENABLE_ADDR)\n",
    "print(\"AWGN I Sat                    : \" + str((awgn_en_reg >> 1) & 0x1))\n",
    "print(\"AWGN Q Sat                    : \" + str((awgn_en_reg >> 2) & 0x1))\n"
   ]
  },
  {
   "cell_type": "markdown",
   "metadata": {},
   "source": [
    "### Read QPSK Demodulator Output Buffer"
   ]
  },
  {
   "cell_type": "code",
   "execution_count": null,
   "metadata": {},
   "outputs": [],
   "source": [
    "rd_len = int(qpsk_demod.mmio.read(qpsk_regmap.RegMap.WR_RAM_ADDR)/SamplesPerSym)\n",
    "print(\"Number of DWORDs to Read: \" + str(rd_len))\n",
    "dout = []\n",
    "for i in range(rd_len):\n",
    "    qpsk_demod.mmio.write(qpsk_regmap.RegMap.RD_RAM_ADDR_ADDR,i)\n",
    "    dout.append(qpsk_demod.mmio.read(qpsk_regmap.RegMap.RD_RAM_DATA_ADDR))\n",
    "    \n",
    "for i in dout:\n",
    "    print(str(hex(i)))"
   ]
  },
  {
   "cell_type": "markdown",
   "metadata": {},
   "source": [
    "#### Read QPSK Demod Symbols"
   ]
  },
  {
   "cell_type": "code",
   "execution_count": null,
   "metadata": {},
   "outputs": [],
   "source": [
    "symbols = 128\n",
    "qpsk_demod.mmio.write(qpsk_regmap.RegMap.DMA_LENGTH_ADDR,symbols)\n",
    "print(\"Number of Symbols to Read     : \" + str(symbols)) \n",
    "\n",
    "# Allocate DMA Buffer and Read\n",
    "out_buffer = allocate(shape=(symbols,), dtype=np.int32)\n",
    "dma.recvchannel.transfer(out_buffer)\n",
    "print(\"Done tranfer out_buffer\")\n",
    "dma.recvchannel.wait()\n",
    "print(\"Done Wait\")\n",
    "out_buffer.close()\n",
    "sym_iq = out_buffer.astype(np.uint32)\n",
    "\n",
    "\n",
    "sym_i = 1-(((sym_iq & 0xFFFF0000) >> 16)/2**15)\n",
    "sym_q = 1-((sym_iq & 0x0000FFFF)/2**15)\n",
    "p = figure(width=500, height=500)\n",
    "\n",
    "# add a circle renderer with a size, color, and alpha\n",
    "p.asterisk(sym_i, sym_q, size=10, color=\"red\", alpha=1)\n",
    "\n",
    "# show the results\n",
    "show(p)"
   ]
  },
  {
   "cell_type": "code",
   "execution_count": null,
   "metadata": {},
   "outputs": [],
   "source": [
    "xi = 1-(((xiq & 0xFFFF0000) >> 16)/2**15)\n",
    "xq = 1-((xiq & 0x0000FFFF)/2**15)\n",
    "#print(xi)\n",
    "#print(xq)\n",
    "p = figure(width=500, height=500)\n",
    "\n",
    "# add a circle renderer with a size, color, and alpha\n",
    "p.asterisk(xi, xq, size=10, color=\"red\", alpha=1)\n",
    "\n",
    "# show the results\n",
    "show(p)"
   ]
  },
  {
   "cell_type": "markdown",
   "metadata": {},
   "source": [
    "#### Clear QPSK Demodulator Output Buffer Pointer"
   ]
  },
  {
   "cell_type": "code",
   "execution_count": null,
   "metadata": {},
   "outputs": [],
   "source": [
    "print(\"WR Capture Address: \" + str(qpsk_demod.mmio.read(qpsk_regmap.RegMap.WR_RAM_ADDR)))\n",
    "print(\"RD Capture Address: \" + str(qpsk_demod.mmio.read(qpsk_regmap.RegMap.RD_RAM_ADDR_ADDR)))\n",
    "qpsk_demod.mmio.write(qpsk_regmap.RegMap.WR_RAM_ADDR_CTRL_ADDR,1)\n",
    "print(\"WR Capture Address: \" + str(qpsk_demod.mmio.read(qpsk_regmap.RegMap.WR_RAM_ADDR)))\n",
    "print(\"SYNC Lock         : \" + str(qpsk_demod.mmio.read(qpsk_regmap.RegMap.SYNC_LOCK_ADDR)))\n",
    "qpsk_demod.mmio.write(qpsk_regmap.RegMap.SYNC_RESET_ADDR,1)\n",
    "print(\"SYNC Lock         : \" + str(qpsk_demod.mmio.read(qpsk_regmap.RegMap.SYNC_LOCK_ADDR)))"
   ]
  },
  {
   "cell_type": "code",
   "execution_count": null,
   "metadata": {},
   "outputs": [],
   "source": [
    "in_buffer.close()\n",
    "out_buffer.close()"
   ]
  },
  {
   "cell_type": "code",
   "execution_count": null,
   "metadata": {},
   "outputs": [],
   "source": [
    "overlay?\n"
   ]
  },
  {
   "cell_type": "code",
   "execution_count": null,
   "metadata": {},
   "outputs": [],
   "source": [
    "qpsk_demod   = overlay.Rx_QPSK.QPSK_Demod_Top_0"
   ]
  },
  {
   "cell_type": "code",
   "execution_count": null,
   "metadata": {},
   "outputs": [],
   "source": []
  }
 ],
 "metadata": {
  "kernelspec": {
   "display_name": "Python 3 (ipykernel)",
   "language": "python",
   "name": "python3"
  },
  "language_info": {
   "codemirror_mode": {
    "name": "ipython",
    "version": 3
   },
   "file_extension": ".py",
   "mimetype": "text/x-python",
   "name": "python",
   "nbconvert_exporter": "python",
   "pygments_lexer": "ipython3",
   "version": "3.10.12"
  }
 },
 "nbformat": 4,
 "nbformat_minor": 4
}
