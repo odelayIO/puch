{
 "cells": [
  {
   "cell_type": "markdown",
   "metadata": {},
   "source": [
    "# KR260 HLS QPSK Demod\n",
    "\n",
    "## Setup\n",
    "\n",
    "### Mounting Development Machine\n",
    "This notebook utilizes `sshfs` to mount the development directory on the KR260 board to avoid transferring files bewteen machines.  \n",
    "\n",
    "The development machine that was used to build the KR260 FPGA image is named `dev-wks`.  To mount the development directory on `dev-wks`, first will need to create a folder to mount the directory, then execute the following from the Jupyter Terminal:\n",
    "\n",
    "```bash\n",
    "cd /home/root/jupyter_notebooks\n",
    "mkdir puch\n",
    "sshfs sdr@dev-wks:/home/sdr/workspace/puch-workspace/HLS-QPSK-Demod-Baseband_002 /home/root/jupyter_notebooks/puch\n",
    "```\n",
    "\n",
    "If `sshfs` is not installed, then execute `sudo apt install sshfs` on the Jupyter Terminal.\n",
    "\n",
    "### Unmounting Development Machine\n",
    "To unmount the directory\n",
    "` fusermount -u /home/root/jupyter_notebooks/dev-wks/`\n",
    "\n",
    "\n",
    "### Plot function for use in this notebook\n",
    "The first code block below defines a function that we will use for plotting data throughout this notebook. Note that the function has a `n_samples` argument so that we can limit the number of samples to plot. Plotting more than a few thousand samples can be very slow and consume a lot of RAM.\n",
    "\n",
    "### Requirements\n",
    "Install the following:\n",
    "\n",
    "```bash\n",
    "pip install ipympl\n",
    "pip install ipywidgets\n",
    "pip install jupyter_bokeh\n",
    "```"
   ]
  },
  {
   "cell_type": "markdown",
   "metadata": {},
   "source": [
    "# Initilize\n",
    "\n",
    "#### Bokeh Plot Function"
   ]
  },
  {
   "cell_type": "code",
   "execution_count": 1,
   "metadata": {},
   "outputs": [],
   "source": [
    "from bokeh.plotting import figure, output_file, show\n",
    "from bokeh.io import output_notebook, show\n",
    "import numpy as np\n",
    "import math\n",
    "\n",
    "\n",
    "def plot_time(in_signal,out_signal=None):\n",
    "    t = np.linspace(0,len(in_signal),len(in_signal))\n",
    "    output_notebook()\n",
    "    p = figure(title = \"Input & Output Signal\")\n",
    "    \n",
    "    if out_signal is not None:\n",
    "        p.line(t,out_signal,legend_label=\"Output Signal\",line_color=\"red\",line_width=1)\n",
    "    p.line(t,in_signal,legend_label=\"Input Signal\",line_color=\"blue\",line_width=3)\n",
    "    show(p)"
   ]
  },
  {
   "cell_type": "markdown",
   "metadata": {},
   "source": [
    "#### Load Overlay"
   ]
  },
  {
   "cell_type": "code",
   "execution_count": 2,
   "metadata": {},
   "outputs": [
    {
     "data": {
      "application/javascript": [
       "\n",
       "try {\n",
       "require(['notebook/js/codecell'], function(codecell) {\n",
       "  codecell.CodeCell.options_default.highlight_modes[\n",
       "      'magic_text/x-csrc'] = {'reg':[/^%%microblaze/]};\n",
       "  Jupyter.notebook.events.one('kernel_ready.Kernel', function(){\n",
       "      Jupyter.notebook.get_cells().map(function(cell){\n",
       "          if (cell.cell_type == 'code'){ cell.auto_highlight(); } }) ;\n",
       "  });\n",
       "});\n",
       "} catch (e) {};\n"
      ]
     },
     "metadata": {},
     "output_type": "display_data"
    },
    {
     "data": {
      "application/javascript": [
       "\n",
       "try {\n",
       "require(['notebook/js/codecell'], function(codecell) {\n",
       "  codecell.CodeCell.options_default.highlight_modes[\n",
       "      'magic_text/x-csrc'] = {'reg':[/^%%pybind11/]};\n",
       "  Jupyter.notebook.events.one('kernel_ready.Kernel', function(){\n",
       "      Jupyter.notebook.get_cells().map(function(cell){\n",
       "          if (cell.cell_type == 'code'){ cell.auto_highlight(); } }) ;\n",
       "  });\n",
       "});\n",
       "} catch (e) {};\n"
      ]
     },
     "metadata": {},
     "output_type": "display_data"
    },
    {
     "name": "stdout",
     "output_type": "stream",
     "text": [
      "Done Init System\n"
     ]
    }
   ],
   "source": [
    "from pynq import Overlay\n",
    "from pynq import allocate\n",
    "from pynq import MMIO\n",
    "import pynq.lib.dma\n",
    "import time\n",
    "\n",
    "#import Python library from repo:\n",
    "import sys\n",
    "sys.path.append('/home/root/jupyter_notebooks/puch/')\n",
    "import fpga.py.puch as puch\n",
    "import fpga.lib.timestamp.sw.timestamp_regmap as timestamp_regmap\n",
    "import fpga.lib.led_reg.sw.led_regmap as led_regmap\n",
    "import fpga.lib.HLS_QPSK_Demod.sw.qpsk_regmap as qpsk_regmap\n",
    "import fpga.lib.AWGN_GNG.sw.awgn_regmap as awgn_regmap\n",
    "\n",
    "\n",
    "# Load the overlay\n",
    "overlay = Overlay('../../overlays/KR260_HLS_QPSK_Demod/output/kr260_hls_qpsk_demod.bit')\n",
    "\n",
    "# Assign blocks to short vars\n",
    "dma          = overlay.axi_dma_0\n",
    "led_module   = overlay.led_reg_0\n",
    "timestamp    = overlay.Timestamp_0\n",
    "qpsk_demod   = overlay.Rx_QPSK.QPSK_Demod_Top_0\n",
    "awgn         = overlay.gng_top_0 \n",
    "\n",
    "# Configure QPSK Syncword, and reset sync lock\n",
    "#qpsk_demod.mmio.write(qpsk_regmap.RegMap.SYNC_WORD_ADDR,0xDEADBEEF)\n",
    "qpsk_demod.mmio.write(qpsk_regmap.RegMap.SYNC_WORD_ADDR,0x6D75521E)\n",
    "qpsk_demod.mmio.write(qpsk_regmap.RegMap.SYNC_RESET_ADDR,1)\n",
    "\n",
    "# Read data path formats\n",
    "fin_tBits, fin_fBits = puch.get_format(qpsk_demod,qpsk_regmap.RegMap.F_IN_ADDR)\n",
    "#print(\"F_IN : (\" + str(fin_tBits) + \", \" + str(fin_fBits) + \")\")\n",
    "fout_tBits, fout_fBits = puch.get_format(qpsk_demod,qpsk_regmap.RegMap.F_OUT_ADDR)\n",
    "#print(\"F_IN : (\" + str(fout_tBits) + \", \" + str(fout_fBits) + \")\")\n",
    "print(\"Done Init System\")"
   ]
  },
  {
   "cell_type": "markdown",
   "metadata": {},
   "source": [
    "##### Display Time Stamp Register\n",
    "The time stamp is burned into the FPGA during the build process"
   ]
  },
  {
   "cell_type": "code",
   "execution_count": 3,
   "metadata": {},
   "outputs": [
    {
     "name": "stdout",
     "output_type": "stream",
     "text": [
      "FPGA Build Timestamp:  2025/4/19 14:45:28\n"
     ]
    }
   ],
   "source": [
    "print(\"FPGA Build Timestamp:  \" + puch.get_timestamp_str(timestamp))"
   ]
  },
  {
   "cell_type": "markdown",
   "metadata": {},
   "source": [
    "##### Toggle USER_LED[1:0] on/off"
   ]
  },
  {
   "cell_type": "code",
   "execution_count": null,
   "metadata": {},
   "outputs": [],
   "source": [
    "for i in range(10):\n",
    "    led_module.mmio.write(led_regmap.RegMap.USER_LEDS_ADDR,0x1)\n",
    "    time.sleep(0.25)\n",
    "    led_module.mmio.write(led_regmap.RegMap.USER_LEDS_ADDR,0x2)\n",
    "    time.sleep(0.25)\n",
    "led_module.mmio.write(led_regmap.RegMap.USER_LEDS_ADDR,0x0)"
   ]
  },
  {
   "cell_type": "markdown",
   "metadata": {},
   "source": [
    "### Open Modulated Data Samples and Convert to INT16 I/Q Samples"
   ]
  },
  {
   "cell_type": "code",
   "execution_count": 4,
   "metadata": {},
   "outputs": [
    {
     "name": "stdout",
     "output_type": "stream",
     "text": [
      "Number of I Samples Read: 2624\n",
      "Number of Q Samples Read: 2624\n",
      "Number Symbols          : 164.0\n"
     ]
    },
    {
     "data": {
      "text/html": [
       "<style>\n",
       "        .bk-notebook-logo {\n",
       "            display: block;\n",
       "            width: 20px;\n",
       "            height: 20px;\n",
       "            background-image: url(data:image/png;base64,iVBORw0KGgoAAAANSUhEUgAAABQAAAAUCAYAAACNiR0NAAAABHNCSVQICAgIfAhkiAAAAAlwSFlzAAALEgAACxIB0t1+/AAAABx0RVh0U29mdHdhcmUAQWRvYmUgRmlyZXdvcmtzIENTNui8sowAAAOkSURBVDiNjZRtaJVlGMd/1/08zzln5zjP1LWcU9N0NkN8m2CYjpgQYQXqSs0I84OLIC0hkEKoPtiH3gmKoiJDU7QpLgoLjLIQCpEsNJ1vqUOdO7ppbuec5+V+rj4ctwzd8IIbbi6u+8f1539dt3A78eXC7QizUF7gyV1fD1Yqg4JWz84yffhm0qkFqBogB9rM8tZdtwVsPUhWhGcFJngGeWrPzHm5oaMmkfEg1usvLFyc8jLRqDOMru7AyC8saQr7GG7f5fvDeH7Ej8CM66nIF+8yngt6HWaKh7k49Soy9nXurCi1o3qUbS3zWfrYeQDTB/Qj6kX6Ybhw4B+bOYoLKCC9H3Nu/leUTZ1JdRWkkn2ldcCamzrcf47KKXdAJllSlxAOkRgyHsGC/zRday5Qld9DyoM4/q/rUoy/CXh3jzOu3bHUVZeU+DEn8FInkPBFlu3+nW3Nw0mk6vCDiWg8CeJaxEwuHS3+z5RgY+YBR6V1Z1nxSOfoaPa4LASWxxdNp+VWTk7+4vzaou8v8PN+xo+KY2xsw6une2frhw05CTYOmQvsEhjhWjn0bmXPjpE1+kplmmkP3suftwTubK9Vq22qKmrBhpY4jvd5afdRA3wGjFAgcnTK2s4hY0/GPNIb0nErGMCRxWOOX64Z8RAC4oCXdklmEvcL8o0BfkNK4lUg9HTl+oPlQxdNo3Mg4Nv175e/1LDGzZen30MEjRUtmXSfiTVu1kK8W4txyV6BMKlbgk3lMwYCiusNy9fVfvvwMxv8Ynl6vxoByANLTWplvuj/nF9m2+PDtt1eiHPBr1oIfhCChQMBw6Aw0UulqTKZdfVvfG7VcfIqLG9bcldL/+pdWTLxLUy8Qq38heUIjh4XlzZxzQm19lLFlr8vdQ97rjZVOLf8nclzckbcD4wxXMidpX30sFd37Fv/GtwwhzhxGVAprjbg0gCAEeIgwCZyTV2Z1REEW8O4py0wsjeloKoMr6iCY6dP92H6Vw/oTyICIthibxjm/DfN9lVz8IqtqKYLUXfoKVMVQVVJOElGjrnnUt9T9wbgp8AyYKaGlqingHZU/uG2NTZSVqwHQTWkx9hxjkpWDaCg6Ckj5qebgBVbT3V3NNXMSiWSDdGV3hrtzla7J+duwPOToIg42ChPQOQjspnSlp1V+Gjdged7+8UN5CRAV7a5EdFNwCjEaBR27b3W890TE7g24NAP/mMDXRWrGoFPQI9ls/MWO2dWFAar/xcOIImbbpA3zgAAAABJRU5ErkJggg==);\n",
       "        }\n",
       "    </style>\n",
       "    <div>\n",
       "        <a href=\"https://bokeh.org\" target=\"_blank\" class=\"bk-notebook-logo\"></a>\n",
       "        <span id=\"d02a78f9-9694-4d77-a45a-97107b03415f\">Loading BokehJS ...</span>\n",
       "    </div>\n"
      ]
     },
     "metadata": {},
     "output_type": "display_data"
    },
    {
     "data": {
      "application/javascript": [
       "(function(root) {\n",
       "  function now() {\n",
       "    return new Date();\n",
       "  }\n",
       "\n",
       "  const force = true;\n",
       "\n",
       "  if (typeof root._bokeh_onload_callbacks === \"undefined\" || force === true) {\n",
       "    root._bokeh_onload_callbacks = [];\n",
       "    root._bokeh_is_loading = undefined;\n",
       "  }\n",
       "\n",
       "const JS_MIME_TYPE = 'application/javascript';\n",
       "  const HTML_MIME_TYPE = 'text/html';\n",
       "  const EXEC_MIME_TYPE = 'application/vnd.bokehjs_exec.v0+json';\n",
       "  const CLASS_NAME = 'output_bokeh rendered_html';\n",
       "\n",
       "  /**\n",
       "   * Render data to the DOM node\n",
       "   */\n",
       "  function render(props, node) {\n",
       "    const script = document.createElement(\"script\");\n",
       "    node.appendChild(script);\n",
       "  }\n",
       "\n",
       "  /**\n",
       "   * Handle when an output is cleared or removed\n",
       "   */\n",
       "  function handleClearOutput(event, handle) {\n",
       "    function drop(id) {\n",
       "      const view = Bokeh.index.get_by_id(id)\n",
       "      if (view != null) {\n",
       "        view.model.document.clear()\n",
       "        Bokeh.index.delete(view)\n",
       "      }\n",
       "    }\n",
       "\n",
       "    const cell = handle.cell;\n",
       "\n",
       "    const id = cell.output_area._bokeh_element_id;\n",
       "    const server_id = cell.output_area._bokeh_server_id;\n",
       "\n",
       "    // Clean up Bokeh references\n",
       "    if (id != null) {\n",
       "      drop(id)\n",
       "    }\n",
       "\n",
       "    if (server_id !== undefined) {\n",
       "      // Clean up Bokeh references\n",
       "      const cmd_clean = \"from bokeh.io.state import curstate; print(curstate().uuid_to_server['\" + server_id + \"'].get_sessions()[0].document.roots[0]._id)\";\n",
       "      cell.notebook.kernel.execute(cmd_clean, {\n",
       "        iopub: {\n",
       "          output: function(msg) {\n",
       "            const id = msg.content.text.trim()\n",
       "            drop(id)\n",
       "          }\n",
       "        }\n",
       "      });\n",
       "      // Destroy server and session\n",
       "      const cmd_destroy = \"import bokeh.io.notebook as ion; ion.destroy_server('\" + server_id + \"')\";\n",
       "      cell.notebook.kernel.execute(cmd_destroy);\n",
       "    }\n",
       "  }\n",
       "\n",
       "  /**\n",
       "   * Handle when a new output is added\n",
       "   */\n",
       "  function handleAddOutput(event, handle) {\n",
       "    const output_area = handle.output_area;\n",
       "    const output = handle.output;\n",
       "\n",
       "    // limit handleAddOutput to display_data with EXEC_MIME_TYPE content only\n",
       "    if ((output.output_type != \"display_data\") || (!Object.prototype.hasOwnProperty.call(output.data, EXEC_MIME_TYPE))) {\n",
       "      return\n",
       "    }\n",
       "\n",
       "    const toinsert = output_area.element.find(\".\" + CLASS_NAME.split(' ')[0]);\n",
       "\n",
       "    if (output.metadata[EXEC_MIME_TYPE][\"id\"] !== undefined) {\n",
       "      toinsert[toinsert.length - 1].firstChild.textContent = output.data[JS_MIME_TYPE];\n",
       "      // store reference to embed id on output_area\n",
       "      output_area._bokeh_element_id = output.metadata[EXEC_MIME_TYPE][\"id\"];\n",
       "    }\n",
       "    if (output.metadata[EXEC_MIME_TYPE][\"server_id\"] !== undefined) {\n",
       "      const bk_div = document.createElement(\"div\");\n",
       "      bk_div.innerHTML = output.data[HTML_MIME_TYPE];\n",
       "      const script_attrs = bk_div.children[0].attributes;\n",
       "      for (let i = 0; i < script_attrs.length; i++) {\n",
       "        toinsert[toinsert.length - 1].firstChild.setAttribute(script_attrs[i].name, script_attrs[i].value);\n",
       "        toinsert[toinsert.length - 1].firstChild.textContent = bk_div.children[0].textContent\n",
       "      }\n",
       "      // store reference to server id on output_area\n",
       "      output_area._bokeh_server_id = output.metadata[EXEC_MIME_TYPE][\"server_id\"];\n",
       "    }\n",
       "  }\n",
       "\n",
       "  function register_renderer(events, OutputArea) {\n",
       "\n",
       "    function append_mime(data, metadata, element) {\n",
       "      // create a DOM node to render to\n",
       "      const toinsert = this.create_output_subarea(\n",
       "        metadata,\n",
       "        CLASS_NAME,\n",
       "        EXEC_MIME_TYPE\n",
       "      );\n",
       "      this.keyboard_manager.register_events(toinsert);\n",
       "      // Render to node\n",
       "      const props = {data: data, metadata: metadata[EXEC_MIME_TYPE]};\n",
       "      render(props, toinsert[toinsert.length - 1]);\n",
       "      element.append(toinsert);\n",
       "      return toinsert\n",
       "    }\n",
       "\n",
       "    /* Handle when an output is cleared or removed */\n",
       "    events.on('clear_output.CodeCell', handleClearOutput);\n",
       "    events.on('delete.Cell', handleClearOutput);\n",
       "\n",
       "    /* Handle when a new output is added */\n",
       "    events.on('output_added.OutputArea', handleAddOutput);\n",
       "\n",
       "    /**\n",
       "     * Register the mime type and append_mime function with output_area\n",
       "     */\n",
       "    OutputArea.prototype.register_mime_type(EXEC_MIME_TYPE, append_mime, {\n",
       "      /* Is output safe? */\n",
       "      safe: true,\n",
       "      /* Index of renderer in `output_area.display_order` */\n",
       "      index: 0\n",
       "    });\n",
       "  }\n",
       "\n",
       "  // register the mime type if in Jupyter Notebook environment and previously unregistered\n",
       "  if (root.Jupyter !== undefined) {\n",
       "    const events = require('base/js/events');\n",
       "    const OutputArea = require('notebook/js/outputarea').OutputArea;\n",
       "\n",
       "    if (OutputArea.prototype.mime_types().indexOf(EXEC_MIME_TYPE) == -1) {\n",
       "      register_renderer(events, OutputArea);\n",
       "    }\n",
       "  }\n",
       "  if (typeof (root._bokeh_timeout) === \"undefined\" || force === true) {\n",
       "    root._bokeh_timeout = Date.now() + 5000;\n",
       "    root._bokeh_failed_load = false;\n",
       "  }\n",
       "\n",
       "  const NB_LOAD_WARNING = {'data': {'text/html':\n",
       "     \"<div style='background-color: #fdd'>\\n\"+\n",
       "     \"<p>\\n\"+\n",
       "     \"BokehJS does not appear to have successfully loaded. If loading BokehJS from CDN, this \\n\"+\n",
       "     \"may be due to a slow or bad network connection. Possible fixes:\\n\"+\n",
       "     \"</p>\\n\"+\n",
       "     \"<ul>\\n\"+\n",
       "     \"<li>re-rerun `output_notebook()` to attempt to load from CDN again, or</li>\\n\"+\n",
       "     \"<li>use INLINE resources instead, as so:</li>\\n\"+\n",
       "     \"</ul>\\n\"+\n",
       "     \"<code>\\n\"+\n",
       "     \"from bokeh.resources import INLINE\\n\"+\n",
       "     \"output_notebook(resources=INLINE)\\n\"+\n",
       "     \"</code>\\n\"+\n",
       "     \"</div>\"}};\n",
       "\n",
       "  function display_loaded() {\n",
       "    const el = document.getElementById(\"d02a78f9-9694-4d77-a45a-97107b03415f\");\n",
       "    if (el != null) {\n",
       "      el.textContent = \"BokehJS is loading...\";\n",
       "    }\n",
       "    if (root.Bokeh !== undefined) {\n",
       "      if (el != null) {\n",
       "        el.textContent = \"BokehJS \" + root.Bokeh.version + \" successfully loaded.\";\n",
       "      }\n",
       "    } else if (Date.now() < root._bokeh_timeout) {\n",
       "      setTimeout(display_loaded, 100)\n",
       "    }\n",
       "  }\n",
       "\n",
       "  function run_callbacks() {\n",
       "    try {\n",
       "      root._bokeh_onload_callbacks.forEach(function(callback) {\n",
       "        if (callback != null)\n",
       "          callback();\n",
       "      });\n",
       "    } finally {\n",
       "      delete root._bokeh_onload_callbacks\n",
       "    }\n",
       "    console.debug(\"Bokeh: all callbacks have finished\");\n",
       "  }\n",
       "\n",
       "  function load_libs(css_urls, js_urls, callback) {\n",
       "    if (css_urls == null) css_urls = [];\n",
       "    if (js_urls == null) js_urls = [];\n",
       "\n",
       "    root._bokeh_onload_callbacks.push(callback);\n",
       "    if (root._bokeh_is_loading > 0) {\n",
       "      console.debug(\"Bokeh: BokehJS is being loaded, scheduling callback at\", now());\n",
       "      return null;\n",
       "    }\n",
       "    if (js_urls == null || js_urls.length === 0) {\n",
       "      run_callbacks();\n",
       "      return null;\n",
       "    }\n",
       "    console.debug(\"Bokeh: BokehJS not loaded, scheduling load and callback at\", now());\n",
       "    root._bokeh_is_loading = css_urls.length + js_urls.length;\n",
       "\n",
       "    function on_load() {\n",
       "      root._bokeh_is_loading--;\n",
       "      if (root._bokeh_is_loading === 0) {\n",
       "        console.debug(\"Bokeh: all BokehJS libraries/stylesheets loaded\");\n",
       "        run_callbacks()\n",
       "      }\n",
       "    }\n",
       "\n",
       "    function on_error(url) {\n",
       "      console.error(\"failed to load \" + url);\n",
       "    }\n",
       "\n",
       "    for (let i = 0; i < css_urls.length; i++) {\n",
       "      const url = css_urls[i];\n",
       "      const element = document.createElement(\"link\");\n",
       "      element.onload = on_load;\n",
       "      element.onerror = on_error.bind(null, url);\n",
       "      element.rel = \"stylesheet\";\n",
       "      element.type = \"text/css\";\n",
       "      element.href = url;\n",
       "      console.debug(\"Bokeh: injecting link tag for BokehJS stylesheet: \", url);\n",
       "      document.body.appendChild(element);\n",
       "    }\n",
       "\n",
       "    for (let i = 0; i < js_urls.length; i++) {\n",
       "      const url = js_urls[i];\n",
       "      const element = document.createElement('script');\n",
       "      element.onload = on_load;\n",
       "      element.onerror = on_error.bind(null, url);\n",
       "      element.async = false;\n",
       "      element.src = url;\n",
       "      console.debug(\"Bokeh: injecting script tag for BokehJS library: \", url);\n",
       "      document.head.appendChild(element);\n",
       "    }\n",
       "  };\n",
       "\n",
       "  function inject_raw_css(css) {\n",
       "    const element = document.createElement(\"style\");\n",
       "    element.appendChild(document.createTextNode(css));\n",
       "    document.body.appendChild(element);\n",
       "  }\n",
       "\n",
       "  const js_urls = [\"https://cdn.bokeh.org/bokeh/release/bokeh-3.3.0.min.js\", \"https://cdn.bokeh.org/bokeh/release/bokeh-gl-3.3.0.min.js\", \"https://cdn.bokeh.org/bokeh/release/bokeh-widgets-3.3.0.min.js\", \"https://cdn.bokeh.org/bokeh/release/bokeh-tables-3.3.0.min.js\", \"https://cdn.bokeh.org/bokeh/release/bokeh-mathjax-3.3.0.min.js\"];\n",
       "  const css_urls = [];\n",
       "\n",
       "  const inline_js = [    function(Bokeh) {\n",
       "      Bokeh.set_log_level(\"info\");\n",
       "    },\n",
       "function(Bokeh) {\n",
       "    }\n",
       "  ];\n",
       "\n",
       "  function run_inline_js() {\n",
       "    if (root.Bokeh !== undefined || force === true) {\n",
       "          for (let i = 0; i < inline_js.length; i++) {\n",
       "      inline_js[i].call(root, root.Bokeh);\n",
       "    }\n",
       "if (force === true) {\n",
       "        display_loaded();\n",
       "      }} else if (Date.now() < root._bokeh_timeout) {\n",
       "      setTimeout(run_inline_js, 100);\n",
       "    } else if (!root._bokeh_failed_load) {\n",
       "      console.log(\"Bokeh: BokehJS failed to load within specified timeout.\");\n",
       "      root._bokeh_failed_load = true;\n",
       "    } else if (force !== true) {\n",
       "      const cell = $(document.getElementById(\"d02a78f9-9694-4d77-a45a-97107b03415f\")).parents('.cell').data().cell;\n",
       "      cell.output_area.append_execute_result(NB_LOAD_WARNING)\n",
       "    }\n",
       "  }\n",
       "\n",
       "  if (root._bokeh_is_loading === 0) {\n",
       "    console.debug(\"Bokeh: BokehJS loaded, going straight to plotting\");\n",
       "    run_inline_js();\n",
       "  } else {\n",
       "    load_libs(css_urls, js_urls, function() {\n",
       "      console.debug(\"Bokeh: BokehJS plotting callback run at\", now());\n",
       "      run_inline_js();\n",
       "    });\n",
       "  }\n",
       "}(window));"
      ],
      "application/vnd.bokehjs_load.v0+json": "(function(root) {\n  function now() {\n    return new Date();\n  }\n\n  const force = true;\n\n  if (typeof root._bokeh_onload_callbacks === \"undefined\" || force === true) {\n    root._bokeh_onload_callbacks = [];\n    root._bokeh_is_loading = undefined;\n  }\n\n\n  if (typeof (root._bokeh_timeout) === \"undefined\" || force === true) {\n    root._bokeh_timeout = Date.now() + 5000;\n    root._bokeh_failed_load = false;\n  }\n\n  const NB_LOAD_WARNING = {'data': {'text/html':\n     \"<div style='background-color: #fdd'>\\n\"+\n     \"<p>\\n\"+\n     \"BokehJS does not appear to have successfully loaded. If loading BokehJS from CDN, this \\n\"+\n     \"may be due to a slow or bad network connection. Possible fixes:\\n\"+\n     \"</p>\\n\"+\n     \"<ul>\\n\"+\n     \"<li>re-rerun `output_notebook()` to attempt to load from CDN again, or</li>\\n\"+\n     \"<li>use INLINE resources instead, as so:</li>\\n\"+\n     \"</ul>\\n\"+\n     \"<code>\\n\"+\n     \"from bokeh.resources import INLINE\\n\"+\n     \"output_notebook(resources=INLINE)\\n\"+\n     \"</code>\\n\"+\n     \"</div>\"}};\n\n  function display_loaded() {\n    const el = document.getElementById(\"d02a78f9-9694-4d77-a45a-97107b03415f\");\n    if (el != null) {\n      el.textContent = \"BokehJS is loading...\";\n    }\n    if (root.Bokeh !== undefined) {\n      if (el != null) {\n        el.textContent = \"BokehJS \" + root.Bokeh.version + \" successfully loaded.\";\n      }\n    } else if (Date.now() < root._bokeh_timeout) {\n      setTimeout(display_loaded, 100)\n    }\n  }\n\n  function run_callbacks() {\n    try {\n      root._bokeh_onload_callbacks.forEach(function(callback) {\n        if (callback != null)\n          callback();\n      });\n    } finally {\n      delete root._bokeh_onload_callbacks\n    }\n    console.debug(\"Bokeh: all callbacks have finished\");\n  }\n\n  function load_libs(css_urls, js_urls, callback) {\n    if (css_urls == null) css_urls = [];\n    if (js_urls == null) js_urls = [];\n\n    root._bokeh_onload_callbacks.push(callback);\n    if (root._bokeh_is_loading > 0) {\n      console.debug(\"Bokeh: BokehJS is being loaded, scheduling callback at\", now());\n      return null;\n    }\n    if (js_urls == null || js_urls.length === 0) {\n      run_callbacks();\n      return null;\n    }\n    console.debug(\"Bokeh: BokehJS not loaded, scheduling load and callback at\", now());\n    root._bokeh_is_loading = css_urls.length + js_urls.length;\n\n    function on_load() {\n      root._bokeh_is_loading--;\n      if (root._bokeh_is_loading === 0) {\n        console.debug(\"Bokeh: all BokehJS libraries/stylesheets loaded\");\n        run_callbacks()\n      }\n    }\n\n    function on_error(url) {\n      console.error(\"failed to load \" + url);\n    }\n\n    for (let i = 0; i < css_urls.length; i++) {\n      const url = css_urls[i];\n      const element = document.createElement(\"link\");\n      element.onload = on_load;\n      element.onerror = on_error.bind(null, url);\n      element.rel = \"stylesheet\";\n      element.type = \"text/css\";\n      element.href = url;\n      console.debug(\"Bokeh: injecting link tag for BokehJS stylesheet: \", url);\n      document.body.appendChild(element);\n    }\n\n    for (let i = 0; i < js_urls.length; i++) {\n      const url = js_urls[i];\n      const element = document.createElement('script');\n      element.onload = on_load;\n      element.onerror = on_error.bind(null, url);\n      element.async = false;\n      element.src = url;\n      console.debug(\"Bokeh: injecting script tag for BokehJS library: \", url);\n      document.head.appendChild(element);\n    }\n  };\n\n  function inject_raw_css(css) {\n    const element = document.createElement(\"style\");\n    element.appendChild(document.createTextNode(css));\n    document.body.appendChild(element);\n  }\n\n  const js_urls = [\"https://cdn.bokeh.org/bokeh/release/bokeh-3.3.0.min.js\", \"https://cdn.bokeh.org/bokeh/release/bokeh-gl-3.3.0.min.js\", \"https://cdn.bokeh.org/bokeh/release/bokeh-widgets-3.3.0.min.js\", \"https://cdn.bokeh.org/bokeh/release/bokeh-tables-3.3.0.min.js\", \"https://cdn.bokeh.org/bokeh/release/bokeh-mathjax-3.3.0.min.js\"];\n  const css_urls = [];\n\n  const inline_js = [    function(Bokeh) {\n      Bokeh.set_log_level(\"info\");\n    },\nfunction(Bokeh) {\n    }\n  ];\n\n  function run_inline_js() {\n    if (root.Bokeh !== undefined || force === true) {\n          for (let i = 0; i < inline_js.length; i++) {\n      inline_js[i].call(root, root.Bokeh);\n    }\nif (force === true) {\n        display_loaded();\n      }} else if (Date.now() < root._bokeh_timeout) {\n      setTimeout(run_inline_js, 100);\n    } else if (!root._bokeh_failed_load) {\n      console.log(\"Bokeh: BokehJS failed to load within specified timeout.\");\n      root._bokeh_failed_load = true;\n    } else if (force !== true) {\n      const cell = $(document.getElementById(\"d02a78f9-9694-4d77-a45a-97107b03415f\")).parents('.cell').data().cell;\n      cell.output_area.append_execute_result(NB_LOAD_WARNING)\n    }\n  }\n\n  if (root._bokeh_is_loading === 0) {\n    console.debug(\"Bokeh: BokehJS loaded, going straight to plotting\");\n    run_inline_js();\n  } else {\n    load_libs(css_urls, js_urls, function() {\n      console.debug(\"Bokeh: BokehJS plotting callback run at\", now());\n      run_inline_js();\n    });\n  }\n}(window));"
     },
     "metadata": {},
     "output_type": "display_data"
    },
    {
     "data": {
      "text/html": [
       "\n",
       "  <div id=\"baa7700d-8942-4d33-bbdf-f4702e3d00e5\" data-root-id=\"p1001\" style=\"display: contents;\"></div>\n"
      ]
     },
     "metadata": {},
     "output_type": "display_data"
    },
    {
     "data": {
      "application/javascript": [
       "(function(root) {\n",
       "  function embed_document(root) {\n",
       "  const docs_json = {\"87840a19-4380-4313-b55a-80c2dbb2295e\":{\"version\":\"3.3.0\",\"title\":\"Bokeh Application\",\"roots\":[{\"type\":\"object\",\"name\":\"Figure\",\"id\":\"p1001\",\"attributes\":{\"x_range\":{\"type\":\"object\",\"name\":\"DataRange1d\",\"id\":\"p1002\"},\"y_range\":{\"type\":\"object\",\"name\":\"DataRange1d\",\"id\":\"p1003\"},\"x_scale\":{\"type\":\"object\",\"name\":\"LinearScale\",\"id\":\"p1011\"},\"y_scale\":{\"type\":\"object\",\"name\":\"LinearScale\",\"id\":\"p1012\"},\"title\":{\"type\":\"object\",\"name\":\"Title\",\"id\":\"p1004\",\"attributes\":{\"text\":\"Input & Output Signal\"}},\"renderers\":[{\"type\":\"object\",\"name\":\"GlyphRenderer\",\"id\":\"p1036\",\"attributes\":{\"data_source\":{\"type\":\"object\",\"name\":\"ColumnDataSource\",\"id\":\"p1030\",\"attributes\":{\"selected\":{\"type\":\"object\",\"name\":\"Selection\",\"id\":\"p1031\",\"attributes\":{\"indices\":[],\"line_indices\":[]}},\"selection_policy\":{\"type\":\"object\",\"name\":\"UnionRenderers\",\"id\":\"p1032\"},\"data\":{\"type\":\"map\",\"entries\":[[\"x\",{\"type\":\"ndarray\",\"array\":{\"type\":\"bytes\",\"data\":\"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\"},\"shape\":[2624],\"dtype\":\"float64\",\"order\":\"little\"}],[\"y\",{\"type\":\"ndarray\",\"array\":{\"type\":\"bytes\",\"data\":\"/P////z////9/////v////////8AAAAAAQAAAAIAAAAEAAAABQAAAAYAAAAGAAAABgAAAAUAAAAEAAAAAgAAAAUAAAADAAAAAAAAAP/////8////+v////j////3////9/////j////5/////P////7///8BAAAABAAAAAcAAAAOAAAADwAAAA8AAAAOAAAACwAAAAcAAAACAAAA/f////b////x////6////+j////m////5v///+j////s////7v////b/////////BwAAABEAAAAZAAAAHwAAACMAAAAjAAAAIAAAABkAAAAPAAAAAwAAAPX////n////2f///8r////D////wv///8f////U////6P///wIAAAAjAAAARwAAAG0AAACSAAAAsgAAAMsAAADZAAAA2QAAAMgAAAChAAAAawAAACIAAADH////W////+H+//9d/v//0/3//0j9///C/P//Rvz//9r7//+D+///RPv//yL7//8f+///QPv//3z7///W+///Tfz//9z8//9+/f//Mf7//+3+//+v////bwAAACoBAADcAQAAgQIAABYDAACZAwAACQQAAGsEAAC2BAAA7wQAABgFAAAzBQAAQwUAAEkFAABHBQAAQAUAADIFAAAgBQAACQUAAOwEAADJBAAAnQQAAGcEAAArBAAA3QMAAIADAAAUAwAAmQIAAA8CAAB4AQAA1QAAACoAAAB7////yv7//xv+//90/f//1/z//0r8///P+///bvv//x/7///n+v//xvr//7z6///G+v//4fr//wz7//9C+///fvv//737///7+///NPz//2X8//+K/P//ofz//6/8//+p/P//lPz//3H8//9C/P//C/z//877//+P+///Uvv//xz7///w+v//0vr//8X6///M+v//6fr//xz7//9r+///y/v//0H8///J/P//Yv3//wf+//+2/v//a////yAAAADTAAAAgQEAACUCAAC8AgAARAMAALsDAAAgBAAAdQQAALcEAADhBAAA+AQAAP8EAAD3BAAA4wQAAMYEAACiBAAAewQAAFMEAAAsBAAACQQAAOoDAADSAwAAwAMAALoDAACxAwAAswMAALoDAADFAwAA0wMAAOIDAADxAwAA/wMAAAoEAAATBAAAGgQAABwEAAAcBAAAGQQAABQEAAAJBAAA/QMAAPcDAADxAwAA7gMAAOwDAADsAwAA7QMAAPEDAAD1AwAA+gMAAP8DAAADBAAABwQAAAoEAAAMBAAAEQQAABQEAAARBAAADAQAAAcEAAABBAAA/AMAAPcDAAD0AwAA8gMAAPIDAAD0AwAA9wMAAPwDAAABBAAABgQAAA8EAAAXBAAAGAQAABcEAAATBAAADQQAAAUEAAD8AwAA8gMAAOoDAADiAwAA3QMAANoDAADaAwAA3gMAAOUDAADzAwAAAwQAAA4EAAAYBAAAIQQAACYEAAAoBAAAJgQAAB8EAAATBAAABAQAAPMDAADfAwAAzAMAALsDAACuAwAAogMAAJ4DAACpAwAAvQMAANwDAAAEBAAANAQAAGoEAACiBAAA2QQAAAsFAAAzBQAATAUAAFQFAABFBQAAHAUAAN0EAAB4BAAA+wMAAGMDAACyAgAA7AEAABYBAAA3AAAAVv///3f+//+k/f//5Pz//zz8//+z+///Tvv//xD7///3+v//CPv//0j7//+u+///Ofz//+H8//+i/f//df7//1L///8yAAAAEAEAAOQBAACoAgAAWAMAAPEDAABvBAAA1wQAABkFAABGBQAAWQUAAFYFAAA/BQAAGQUAAOgEAACuBAAAcQQAADQEAAD7AwAAxwMAAJ0DAAB+AwAAawMAAGkDAABsAwAAfwMAAJ4DAADHAwAA+QMAAC8EAABpBAAAogQAANgEAAAHBQAAKwUAAEAFAABEBQAANAUAAAwFAADGBAAAZgQAAPEDAABiAwAAugIAAP0BAAAvAQAAUwAAAHH///+N/v//sP3//+L8//8o/P//jPv//xT7///G+v//q/r//7f6///6+v//bvv//xD8///b/P//yP3//8/+///l/////wAAABMCAAAVAwAA+wMAALoEAABKBQAApQUAAMsFAACtBQAAWQUAAM8EAAATBAAALQMAACgCAAAOAQAA7P///8z+//+7/f//w/z//+/7//9H+///0Pr//436//98+v//qfr//wL7//+I+///M/z///r8///W/f//vf7//6b///+IAAAAXQEAACACAADMAgAAXgMAANYDAAA0BAAAdwQAAKUEAADIBAAA4AQAAO8EAAD7BAAABQUAABAFAAAbBQAAKAUAADMFAAA7BQAAPAUAADIFAAAZBQAA7QQAAKYEAABHBAAA0wMAAEUDAACeAgAA4gEAABUBAAA7AAAAXf///3/+//+r/f//5/z//zz8//+w+///R/v//wf7///2+v//CPv//0j7//+x+///PPz//+X8//+m/f//d/7//1H///8rAAAAAgEAAM0BAACJAgAAMAMAAMEDAAA5BAAAnwQAAO0EAAAhBQAAQQUAAFIFAABWBQAAUAUAAEMFAAAyBQAAHgUAAAcFAADvBAAA0wQAALMEAACNBAAAXgQAACkEAADeAwAAiAMAACMDAACsAgAAJQIAAI8BAADsAAAAPgAAAIv////V/v//If7//3T9///S/P//Qfz//8L7//9f+///E/v//9r6//+6+v//svr//776///d+v//Cvv//0P7//+C+///w/v//wL8//88/P//bPz//5H8//+n/P//s/z//6b8//+P/P//a/z//zz8//8E/P//yPv//4r7//9O+///Gvv//+/6///T+v//x/r//8/6///t+v//IPv//2b7///D+///Ofz//8P8//9e/f//B/7//7n+//9w////KAAAAN4AAACNAQAAMgIAAMgCAABPAwAAxAMAACUEAAB3BAAAtQQAANsEAADvBAAA8wQAAOkEAADVBAAAuQQAAJgEAAB1BAAAUQQAAC8EAAARBAAA9wMAAOIDAADUAwAAxQMAAL0DAAC9AwAAwgMAAMoDAADTAwAA3gMAAOgDAADxAwAA+QMAAP8DAAAEBAAABwQAAAgEAAAJBAAACQQAAA0EAAAIBAAACAQAAAcEAAAHBAAABgQAAAQEAAABBAAA/QMAAPcDAADwAwAA6AMAAN8DAADXAwAA0AMAAMoDAADNAwAA1AMAANsDAADoAwAA+wMAABUEAAA1BAAAWQQAAIIEAACrBAAA0wQAAPYEAAAPBQAAGwUAABYFAAD8BAAAxQQAAHsEAAARBAAAiwMAAOgCAAAsAgAAWwEAAHoAAACP////ov7//7r9///g/P//Hfz//3n7///7+v//qfr//436//+k+v//6fr//2L7//8I/P//2fz//8v9///W/v//7////wwBAAAhAgAAIwMAAAcEAADDBAAAUAUAAKcFAADKBQAAqAUAAFEFAADEBAAABwQAACEDAAAcAgAABAEAAOT////G/v//uP3//8T8///z+///Tfv//9f6//+W+v//hfr//6n6//8C+///iPv//zP8///6/P//1v3//73+//+m////iAAAAF0BAAAgAgAAzAIAAF4DAADWAwAANAQAAHcEAAClBAAAyAQAAOAEAADvBAAA+wQAAAUFAAAQBQAAGwUAACgFAAAzBQAAOwUAADwFAAAyBQAAGQUAAO0EAACmBAAARwQAANMDAABFAwAAngIAAOIBAAAVAQAAOwAAAF3///9//v//q/3//+f8//88/P//sPv//0f7//8H+///9vr//wj7//9I+///sfv//zz8///l/P//pv3//3f+//9R////KwAAAAIBAADNAQAAiQIAADADAADBAwAAOQQAAJ8EAADtBAAAIQUAAEEFAABSBQAAVgUAAFAFAABDBQAAMgUAAB4FAAAHBQAA7wQAANMEAACzBAAAjQQAAF4EAAApBAAA3gMAAIgDAAAjAwAArAIAACUCAACPAQAA7AAAAD4AAACL////1f7//yH+//90/f//0vz//0H8///C+///X/v//xP7///a+v//uvr//7L6//+++v//3fr//wr7//9D+///gvv//8P7//8C/P//PPz//2z8//+R/P//p/z//7P8//+m/P//j/z//2v8//88/P//BPz//8j7//+K+///Tvv//xr7///v+v//0/r//8f6///P+v//7fr//yD7//9m+///w/v//zn8///D/P//Xv3//wf+//+5/v//cP///ygAAADeAAAAjQEAADICAADIAgAATwMAAMQDAAAlBAAAdwQAALUEAADbBAAA7wQAAPMEAADpBAAA1QQAALkEAACYBAAAdQQAAFEEAAAvBAAAEQQAAPcDAADiAwAA1AMAAMUDAAC9AwAAvQMAAMIDAADKAwAA0wMAAN4DAADoAwAA8QMAAPkDAAD/AwAABAQAAAcEAAAIBAAACQQAAAkEAAANBAAACAQAAAgEAAAHBAAABwQAAAYEAAAEBAAAAQQAAP0DAAD3AwAA8AMAAOgDAADfAwAA1wMAANADAADKAwAAzQMAANQDAADbAwAA6AMAAPsDAAAVBAAANQQAAFkEAACCBAAAqwQAANMEAAD2BAAADwUAABsFAAAWBQAA/AQAAMUEAAB7BAAAEQQAAIsDAADoAgAALAIAAFsBAAB6AAAAj////6L+//+6/f//4Pz//x38//95+///+/r//6n6//+N+v//pPr//+n6//9i+///CPz//9n8///L/f//1v7//+////8MAQAAIQIAACMDAAAHBAAAwwQAAFAFAACnBQAAygUAAKgFAABRBQAAxAQAAAcEAAAhAwAAHAIAAAQBAADk////xv7//7j9///E/P//8/v//037///X+v//lvr//4X6//+p+v//Avv//4j7//8z/P//+vz//9b9//+9/v//pv///4gAAABdAQAAIAIAAMwCAABeAwAA1gMAADQEAAB3BAAApQQAAMgEAADgBAAA7wQAAPsEAAAFBQAAEAUAABsFAAAoBQAAMwUAADsFAAA8BQAAMgUAABkFAADtBAAApgQAAEcEAADTAwAARQMAAJ4CAADiAQAAFQEAADsAAABd////f/7//6v9///n/P//PPz//7D7//9H+///B/v///b6//8I+///SPv//7H7//88/P//5fz//6b9//93/v//Uf///ysAAAACAQAAzQEAAIkCAAAwAwAAwQMAADkEAACfBAAA7QQAACEFAABBBQAAUgUAAFYFAABQBQAAQwUAADIFAAAeBQAABwUAAO8EAADTBAAAswQAAI0EAABeBAAAKQQAAN4DAACIAwAAIwMAAKwCAAAlAgAAjwEAAOwAAAA+AAAAi////9X+//8h/v//dP3//9L8//9B/P//wvv//1/7//8T+///2vr//7r6//+y+v//vvr//936//8K+///Q/v//4L7///D+///Avz//zz8//9s/P//kfz//6f8//+z/P//pvz//4/8//9r/P//PPz//wT8///I+///ivv//077//8a+///7/r//9P6///H+v//z/r//+36//8g+///Zvv//8P7//85/P//w/z//179//8H/v//uf7//3D///8oAAAA3gAAAI0BAAAyAgAAyAIAAE8DAADEAwAAJQQAAHcEAAC1BAAA2wQAAO8EAADzBAAA6QQAANUEAAC5BAAAmAQAAHUEAABRBAAALwQAABEEAAD3AwAA4gMAANQDAADFAwAAvQMAAL0DAADCAwAAygMAANMDAADeAwAA6AMAAPEDAAD5AwAA/wMAAAQEAAAHBAAACAQAAAkEAAAJBAAADQQAAAgEAAAIBAAABwQAAAcEAAAGBAAABAQAAAEEAAD9AwAA9wMAAPADAADoAwAA3wMAANcDAADQAwAAygMAAM0DAADUAwAA2wMAAOgDAAD7AwAAFQQAADUEAABZBAAAggQAAKsEAADTBAAA9gQAAA8FAAAbBQAAFgUAAPwEAADFBAAAewQAABEEAACLAwAA6AIAACwCAABbAQAAegAAAI////+i/v//uv3//+D8//8d/P//efv///v6//+p+v//jfr//6T6///p+v//Yvv//wj8///Z/P//y/3//9b+///v////DAEAACECAAAjAwAABwQAAMMEAABQBQAApwUAAMoFAACoBQAAUQUAAMQEAAAHBAAAIQMAABwCAAAEAQAA5P///8b+//+4/f//xPz///P7//9N+///1/r//5b6//+F+v//qfr//wL7//+I+///M/z///r8///W/f//vf7//6b///+IAAAAXQEAACACAADMAgAAXgMAANYDAAA0BAAAdwQAAKUEAADIBAAA4AQAAO8EAAD7BAAABQUAABAFAAAbBQAAKAUAADMFAAA7BQAAPAUAADIFAAAZBQAA7QQAAKYEAABHBAAA0wMAAEUDAACeAgAA4gEAABUBAAA7AAAAXf///3/+//+r/f//5/z//zz8//+w+///R/v//wf7///2+v//CPv//0j7//+x+///PPz//+X8//+m/f//d/7//1H///8rAAAAAgEAAM0BAACJAgAAMAMAAMEDAAA5BAAAnwQAAO0EAAAhBQAAQQUAAFIFAABWBQAAUAUAAEMFAAAyBQAAHgUAAAcFAADvBAAA0wQAALMEAACNBAAAXgQAACkEAADeAwAAiAMAACMDAACsAgAAJQIAAI8BAADsAAAAPgAAAIv////V/v//If7//3T9///S/P//Qfz//8L7//9f+///E/v//9r6//+6+v//svr//776///d+v//Cvv//0P7//+C+///w/v//wL8//88/P//bPz//5H8//+n/P//s/z//6b8//+P/P//a/z//zz8//8E/P//yPv//4r7//9O+///Gvv//+/6///T+v//x/r//8/6///t+v//IPv//2b7///D+///Ofz//8P8//9e/f//B/7//7n+//9w////KAAAAN4AAACNAQAAMgIAAMgCAABPAwAAxAMAACUEAAB3BAAAtQQAANsEAADvBAAA8wQAAOkEAADVBAAAuQQAAJgEAAB1BAAAUQQAAC8EAAARBAAA9wMAAOIDAADUAwAAxQMAAL0DAAC9AwAAwgMAAMoDAADTAwAA3gMAAOgDAADxAwAA+QMAAP8DAAAEBAAABwQAAAgEAAAJBAAACQQAAA0EAAAIBAAACAQAAAcEAAAHBAAABgQAAAQEAAABBAAA/QMAAPcDAADwAwAA6AMAAN8DAADXAwAA0AMAAMoDAADNAwAA1AMAANsDAADoAwAA+wMAABUEAAA1BAAAWQQAAIIEAACrBAAA0wQAAPYEAAAPBQAAGwUAABYFAAD8BAAAxQQAAHsEAAARBAAAiwMAAOgCAAAsAgAAWwEAAHoAAACP////ov7//7r9///g/P//Hfz//3n7///7+v//qfr//436//+k+v//6fr//2L7//8I/P//2fz//8v9///W/v//7////wwBAAAhAgAAIwMAAAcEAADDBAAAUAUAAKcFAADKBQAAqAUAAFEFAADEBAAABwQAACEDAAAcAgAABAEAAOT////G/v//uP3//8T8///z+///Tfv//9f6//+W+v//hfr//6n6//8C+///iPv//zP8///6/P//1v3//73+//+m////iAAAAF0BAAAgAgAAzAIAAF4DAADWAwAANAQAAHcEAAClBAAAyAQAAOAEAADvBAAA+wQAAAUFAAAQBQAAGwUAACgFAAAzBQAAOwUAADwFAAAyBQAAGQUAAO0EAACmBAAARwQAANMDAABFAwAAngIAAOIBAAAVAQAAOwAAAF3///9//v//q/3//+f8//88/P//sPv//0f7//8H+///9vr//wj7//9I+///sfv//zz8///l/P//pv3//3f+//9R////KwAAAAIBAADNAQAAiQIAADADAADBAwAAOQQAAJ8EAADtBAAAIQUAAEEFAABSBQAAVgUAAFAFAABDBQAAMgUAAB4FAAAHBQAA7wQAANMEAACzBAAAjQQAAF4EAAApBAAA3gMAAIgDAAAjAwAArAIAACUCAACPAQAA7AAAAD4AAACL////1f7//yH+//90/f//0vz//0H8///C+///X/v//xP7///a+v//uvr//7L6//+++v//3fr//wr7//9D+///gvv//8P7//8C/P//PPz//2z8//+R/P//p/z//7P8//+m/P//j/z//2v8//88/P//BPz//8j7//+K+///Tvv//xr7///v+v//0/r//8f6///P+v//7fr//yD7//9m+///w/v//zn8///D/P//Xv3//wf+//+5/v//cP///ygAAADeAAAAjQEAADICAADIAgAATwMAAMQDAAAlBAAAdwQAALUEAADbBAAA7wQAAPMEAADpBAAA1QQAALkEAACYBAAAdQQAAFEEAAAvBAAAEQQAAPcDAADiAwAA1AMAAMUDAAC9AwAAvQMAAMIDAADKAwAA0wMAAN4DAADoAwAA8QMAAPkDAAD/AwAABAQAAAcEAAAIBAAACQQAAAkEAAANBAAACAQAAAgEAAAHBAAABwQAAAYEAAAEBAAAAQQAAP0DAAD3AwAA8AMAAOgDAADfAwAA1wMAANADAADKAwAAzQMAANQDAADbAwAA6AMAAPsDAAAVBAAANQQAAFkEAACCBAAAqwQAANMEAAD2BAAADwUAABsFAAAWBQAA/AQAAMUEAAB7BAAAEQQAAIsDAADoAgAALAIAAFsBAAB6AAAAj////6L+//+6/f//4Pz//x38//95+///+/r//6n6//+N+v//pPr//+n6//9i+///CPz//9n8///L/f//1v7//+////8MAQAAIQIAACMDAAAHBAAAwwQAAFAFAACnBQAAygUAAKgFAABRBQAAxAQAAAcEAAAhAwAAHAIAAAQBAADk////xv7//7j9///E/P//8/v//037///X+v//lvr//4X6//+p+v//Avv//4j7//8z/P//+vz//9b9//+9/v//pv///4gAAABdAQAAIAIAAMwCAABeAwAA1gMAADQEAAB3BAAApQQAAMgEAADgBAAA7wQAAPsEAAAFBQAAEAUAABsFAAAoBQAAMwUAADsFAAA8BQAAMgUAABkFAADtBAAApgQAAEcEAADTAwAARQMAAJ4CAADiAQAAFQEAADsAAABd////f/7//6v9///n/P//PPz//7D7//9H+///B/v///b6//8I+///SPv//7H7//88/P//5fz//6b9//93/v//Uf///ysAAAACAQAAzQEAAIkCAAAwAwAAwQMAADkEAACfBAAA7QQAACEFAABBBQAAUgUAAFYFAABQBQAAQwUAADIFAAAeBQAABwUAAO8EAADTBAAAswQAAI0EAABeBAAAKQQAAN4DAACIAwAAIwMAAKwCAAAlAgAAjwEAAOwAAAA+AAAAi////9X+//8h/v//dP3//9L8//9B/P//wvv//1/7//8T+///2vr//7r6//+y+v//vvr//936//8K+///Q/v//4L7///D+///Avz//zz8//9s/P//kfz//6f8//+z/P//pvz//4/8//9r/P//PPz//wT8///I+///ivv//077//8a+///7/r//9P6///H+v//z/r//+36//8g+///Zvv//8P7//85/P//w/z//179//8H/v//uf7//3D///8oAAAA3gAAAI0BAAAyAgAAyAIAAE8DAADEAwAAJQQAAHcEAAC1BAAA2wQAAO8EAADzBAAA6QQAANUEAAC5BAAAmAQAAHUEAABRBAAALwQAABEEAAD3AwAA4gMAANQDAADFAwAAvQMAAL0DAADCAwAAygMAANMDAADeAwAA6AMAAPEDAAD5AwAA/wMAAAQEAAAHBAAACAQAAAkEAAAJBAAADQQAAAgEAAAIBAAABwQAAAcEAAAGBAAABAQAAAEEAAD9AwAA9wMAAPADAADoAwAA3wMAANcDAADQAwAAygMAAM0DAADUAwAA2wMAAOgDAAD7AwAAFQQAADUEAABZBAAAggQAAKsEAADTBAAA9gQAAA8FAAAbBQAAFgUAAPwEAADFBAAAewQAABEEAACLAwAA6AIAACwCAABbAQAAegAAAI////+i/v//uv3//+D8//8d/P//efv///v6//+p+v//jfr//6T6///p+v//Yvv//wj8///Z/P//y/3//9b+///v////DAEAACECAAAjAwAABwQAAMMEAABQBQAApwUAAMoFAACoBQAAUQUAAMQEAAAHBAAAIQMAABwCAAAEAQAA5P///8b+//+4/f//xPz///P7//9N+///1/r//5b6//+F+v//qfr//wL7//+I+///M/z///r8///W/f//vf7//6b///+IAAAAXQEAACACAADMAgAAXgMAANYDAAA0BAAAdwQAAKUEAADIBAAA4AQAAO8EAAD7BAAABQUAABAFAAAbBQAAKAUAADMFAAA7BQAAPAUAADIFAAAZBQAA7QQAAKYEAABHBAAA0wMAAEUDAACeAgAA4gEAABUBAAA7AAAAXf///3/+//+r/f//5/z//zz8//+w+///R/v//wf7///2+v//CPv//0j7//+x+///PPz//+X8//+m/f//d/7//1H///8rAAAAAgEAAM0BAACJAgAAMAMAAMEDAAA5BAAAnwQAAO0EAAAhBQAAQQUAAFIFAABWBQAAUAUAAEMFAAAyBQAAHgUAAAcFAADvBAAA0wQAALMEAACNBAAAXgQAACkEAADeAwAAiAMAACMDAACsAgAAJQIAAI8BAADsAAAAPgAAAIv////V/v//If7//3T9///S/P//Qfz//8L7//9f+///E/v//9r6//+6+v//svr//776///d+v//Cvv//0P7//+C+///w/v//wL8//88/P//bPz//5H8//+n/P//s/z//6b8//+P/P//a/z//zz8//8E/P//yPv//4r7//9O+///Gvv//+/6///T+v//x/r//8/6///t+v//IPv//2b7///D+///Ofz//8P8//9e/f//B/7//7n+//9w////KAAAAN4AAACNAQAAMgIAAMgCAABPAwAAxAMAACUEAAB3BAAAtQQAANsEAADvBAAA8wQAAOkEAADVBAAAuQQAAJgEAAB1BAAAUQQAAC8EAAARBAAA9wMAAOIDAADUAwAAxQMAAL0DAAC9AwAAwgMAAMoDAADTAwAA3gMAAOgDAADxAwAA+QMAAP8DAAAEBAAABwQAAAgEAAAJBAAACQQAAA0EAAAIBAAACAQAAAcEAAAHBAAABgQAAAQEAAABBAAA/QMAAPcDAADwAwAA6AMAAN8DAADXAwAA0AMAAMoDAADNAwAA1AMAANsDAADoAwAA+wMAABUEAAA1BAAAWQQAAIIEAACrBAAA0wQAAPYEAAAPBQAAGwUAABYFAAD8BAAAxQQAAHsEAAARBAAAiwMAAOgCAAAsAgAAWwEAAHoAAACP////ov7//7r9///g/P//Hfz//3n7///7+v//qfr//436//+k+v//6fr//2L7//8I/P//2fz//8v9///W/v//7////wwBAAAhAgAAIwMAAAcEAADDBAAAUAUAAKcFAADKBQAAqAUAAFEFAADEBAAABwQAACEDAAAcAgAABAEAAOT////G/v//uP3//8T8///z+///Tfv//9f6//+W+v//hfr//6n6//8C+///iPv//zP8///6/P//1v3//73+//+m////iAAAAF0BAAAgAgAAzAIAAF4DAADWAwAANAQAAHcEAAClBAAAyAQAAOAEAADvBAAA+wQAAAUFAAAQBQAAGwUAACgFAAAzBQAAOwUAADwFAAAyBQAAGQUAAO0EAACmBAAARwQAANMDAABFAwAAngIAAOIBAAAVAQAAOwAAAF3///9//v//q/3//+f8//88/P//sPv//0f7//8H+///9vr//wj7//9I+///sfv//zz8///l/P//pv3//3f+//9R////KwAAAAIBAADNAQAAiQIAADADAADBAwAAOQQAAJ8EAADtBAAAIQUAAEEFAABSBQAAVgUAAFAFAABDBQAAMgUAAB4FAAAHBQAA7wQAANMEAACzBAAAjQQAAF4EAAApBAAA3gMAAIgDAAAjAwAArAIAACUCAACPAQAA7AAAAD4AAACL////1f7//yH+//90/f//0vz//0H8///C+///Wvv//w77///X+v//t/r//7D6//+++v//3vr//w37//9H+///h/v//8n7//8J/P//Qvz//3L8//+V/P//qvz//6/8//+h/P//iPz//2T8//80/P///fv//8L7//+G+///Tfv//xv7///0+v//2vr//9H6///b+v//+fr//yz7//92+///0Pv//0P8///I/P//Xv3//wH+//+t/v//YP///xQAAADHAAAAdgEAABsCAAC1AgAAQQMAALwDAAAkBAAAeQQAAL4EAADrBAAABAUAAAwFAAAEBQAA7gQAAM4EAACmBAAAeQQAAEoEAAAcBAAA8gMAAM4DAACxAwAAnAMAAJIDAACNAwAAlgMAAKkDAADDAwAA4gMAAAYEAAArBAAATwQAAG8EAACKBAAAnQQAAKYEAAClBAAAlwQAAH0EAABXBAAAIAQAAOMDAACcAwAATgMAAPkCAACgAgAARAIAAOgBAACOAQAANwEAAOYAAACbAAAAWQAAAB8AAADw////yf///7D///+c////j////4v///+M////lP///5////+u////v////9H////j////9P///wIAAAAPAAAAGQAAACAAAAAoAAAAKQAAACcAAAAiAAAAHAAAABQAAAAMAAAABAAAAP7////4////8/////D////v////7/////H////0/////P///wAAAAADAAAABgAAAAkAAAALAAAADAAAAAsAAAAKAAAACQAAAAYAAAADAAAAAAAAAP/////8////+v////T////0////9f////f////5/////P////////8AAAAAAwAAAAUAAAAHAAAABwAAAAcAAAAHAAAABQAAAAMAAAD+/////P////v////6////+v////r////7/////P////7/////////AAAAAAEAAAACAAAAAwAAAAQAAAAEAAAAAAAAAAAAAAAAAAAAAAAAAAAAAAAAAAAAAAAAAAAAAAAAAAAAAAAAAAAAAAAAAAAAAAAAAAAAAAAAAAAAAAAAAAAAAAAAAAAAAAAAAAAAAAAAAAAAAAAAAAAAAAAAAAAAAAAAAAAAAAAAAAAAAAAAAAAAAAAAAAAAAAAAAAAAAAAAAAAAAAAAAAAAAAAAAAAAAAAAAAAAAAAAAAAAAAAAAAAAAAAAAAAAAAAAAAAAAAAAAAAAAAAAAAAAAAAAAAAAAAAAAAAAAAAAAAAAAAAAAAAAAAAAAAAAAAAAAAAAAAAAAAAAAAAAAAAAAAAAAAAAAAAAAAAAAAAAAAAAAAAAAAAAAAAAAAAAAAAAAAAAAAAAAAAAAAAAAAAAAAAAAAAAAAAAAAAAAAAAAAAAAAAAAAAAAAAAAAAAAAAAAAAAAAAAAAAAAAAAAAAAAAAAAAAAAAAAAAAAAAAAAAAAAAAAAAAAAAAAAAAAAAAAAAAAAAAAAAAAAAAAAAAAAAAAAAAAAAAAAAAAAAAAAAAAAAAAAAAAAAAAAAAAAAAAAAAAAAAAAAAAAAAAAAAAAAAAAAAAAAAAAAAAAAAAAAAAAAAAAAAAAAAAAAAAAAAAAAAAAAAAAAAAAAAAAAAAAAAAAAAAAAAAAAAAAAAAAAAAAAAAAAAAAAAAAAAAAAAAAAAAAAAAAAAAAAAAAAAAAAAAAAAAAAAAAAAAAAAAAAAAAAAAAAAAAAAAAAAAAAAAAAAAAAAAAAAAAAAAAAAAAAA=\"},\"shape\":[2624],\"dtype\":\"int32\",\"order\":\"little\"}]]}}},\"view\":{\"type\":\"object\",\"name\":\"CDSView\",\"id\":\"p1037\",\"attributes\":{\"filter\":{\"type\":\"object\",\"name\":\"AllIndices\",\"id\":\"p1038\"}}},\"glyph\":{\"type\":\"object\",\"name\":\"Line\",\"id\":\"p1033\",\"attributes\":{\"x\":{\"type\":\"field\",\"field\":\"x\"},\"y\":{\"type\":\"field\",\"field\":\"y\"},\"line_color\":\"blue\",\"line_width\":3}},\"nonselection_glyph\":{\"type\":\"object\",\"name\":\"Line\",\"id\":\"p1034\",\"attributes\":{\"x\":{\"type\":\"field\",\"field\":\"x\"},\"y\":{\"type\":\"field\",\"field\":\"y\"},\"line_color\":\"blue\",\"line_alpha\":0.1,\"line_width\":3}},\"muted_glyph\":{\"type\":\"object\",\"name\":\"Line\",\"id\":\"p1035\",\"attributes\":{\"x\":{\"type\":\"field\",\"field\":\"x\"},\"y\":{\"type\":\"field\",\"field\":\"y\"},\"line_color\":\"blue\",\"line_alpha\":0.2,\"line_width\":3}}}}],\"toolbar\":{\"type\":\"object\",\"name\":\"Toolbar\",\"id\":\"p1010\",\"attributes\":{\"tools\":[{\"type\":\"object\",\"name\":\"PanTool\",\"id\":\"p1023\"},{\"type\":\"object\",\"name\":\"WheelZoomTool\",\"id\":\"p1024\",\"attributes\":{\"renderers\":\"auto\"}},{\"type\":\"object\",\"name\":\"BoxZoomTool\",\"id\":\"p1025\",\"attributes\":{\"overlay\":{\"type\":\"object\",\"name\":\"BoxAnnotation\",\"id\":\"p1026\",\"attributes\":{\"syncable\":false,\"level\":\"overlay\",\"visible\":false,\"left_units\":\"canvas\",\"right_units\":\"canvas\",\"top_units\":\"canvas\",\"bottom_units\":\"canvas\",\"line_color\":\"black\",\"line_alpha\":1.0,\"line_width\":2,\"line_dash\":[4,4],\"fill_color\":\"lightgrey\",\"fill_alpha\":0.5}}}},{\"type\":\"object\",\"name\":\"SaveTool\",\"id\":\"p1027\"},{\"type\":\"object\",\"name\":\"ResetTool\",\"id\":\"p1028\"},{\"type\":\"object\",\"name\":\"HelpTool\",\"id\":\"p1029\"}]}},\"left\":[{\"type\":\"object\",\"name\":\"LinearAxis\",\"id\":\"p1018\",\"attributes\":{\"ticker\":{\"type\":\"object\",\"name\":\"BasicTicker\",\"id\":\"p1019\",\"attributes\":{\"mantissas\":[1,2,5]}},\"formatter\":{\"type\":\"object\",\"name\":\"BasicTickFormatter\",\"id\":\"p1020\"},\"major_label_policy\":{\"type\":\"object\",\"name\":\"AllLabels\",\"id\":\"p1021\"}}}],\"below\":[{\"type\":\"object\",\"name\":\"LinearAxis\",\"id\":\"p1013\",\"attributes\":{\"ticker\":{\"type\":\"object\",\"name\":\"BasicTicker\",\"id\":\"p1014\",\"attributes\":{\"mantissas\":[1,2,5]}},\"formatter\":{\"type\":\"object\",\"name\":\"BasicTickFormatter\",\"id\":\"p1015\"},\"major_label_policy\":{\"type\":\"object\",\"name\":\"AllLabels\",\"id\":\"p1016\"}}}],\"center\":[{\"type\":\"object\",\"name\":\"Grid\",\"id\":\"p1017\",\"attributes\":{\"axis\":{\"id\":\"p1013\"}}},{\"type\":\"object\",\"name\":\"Grid\",\"id\":\"p1022\",\"attributes\":{\"dimension\":1,\"axis\":{\"id\":\"p1018\"}}},{\"type\":\"object\",\"name\":\"Legend\",\"id\":\"p1039\",\"attributes\":{\"items\":[{\"type\":\"object\",\"name\":\"LegendItem\",\"id\":\"p1040\",\"attributes\":{\"label\":{\"type\":\"value\",\"value\":\"Input Signal\"},\"renderers\":[{\"id\":\"p1036\"}]}}]}}]}}]}};\n",
       "  const render_items = [{\"docid\":\"87840a19-4380-4313-b55a-80c2dbb2295e\",\"roots\":{\"p1001\":\"baa7700d-8942-4d33-bbdf-f4702e3d00e5\"},\"root_ids\":[\"p1001\"]}];\n",
       "  root.Bokeh.embed.embed_items_notebook(docs_json, render_items);\n",
       "  }\n",
       "  if (root.Bokeh !== undefined) {\n",
       "    embed_document(root);\n",
       "  } else {\n",
       "    let attempts = 0;\n",
       "    const timer = setInterval(function(root) {\n",
       "      if (root.Bokeh !== undefined) {\n",
       "        clearInterval(timer);\n",
       "        embed_document(root);\n",
       "      } else {\n",
       "        attempts++;\n",
       "        if (attempts > 100) {\n",
       "          clearInterval(timer);\n",
       "          console.log(\"Bokeh: ERROR: Unable to run BokehJS code because BokehJS library is missing\");\n",
       "        }\n",
       "      }\n",
       "    }, 10, root)\n",
       "  }\n",
       "})(window);"
      ],
      "application/vnd.bokehjs_exec.v0+json": ""
     },
     "metadata": {
      "application/vnd.bokehjs_exec.v0+json": {
       "id": "p1001"
      }
     },
     "output_type": "display_data"
    }
   ],
   "source": [
    "mod_samps = []\n",
    "with open('../../lib/HLS_QPSK_Demod/sim/0xDEADBEEF_Tx_Samps.dat') as mod:\n",
    "    mod_samps = mod.readlines()\n",
    "mod_samps = [line.rstrip('\\n') for line in mod_samps]\n",
    "\n",
    "mod_samps = np.array(mod_samps)\n",
    "mod_samps = np.concatenate((mod_samps, np.zeros(256))) # Add zeros to push through MF FIR\n",
    "mod_samps = mod_samps.astype('float64')*(2**fin_fBits)\n",
    "mod_samps = mod_samps.astype(np.int32)\n",
    "xi = mod_samps[0::2]\n",
    "xq = mod_samps[1::2]\n",
    "xiq = (xi<<16) + xq # pack I/Q 32-bit\n",
    "\n",
    "print(\"Number of I Samples Read: \" + str(len(xi)))\n",
    "print(\"Number of Q Samples Read: \" + str(len(xq)))\n",
    "print(\"Number Symbols          : \" + str(len(xq)/16))\n",
    "plot_time(xi)\n",
    "#print(hex(xi[1:10]))"
   ]
  },
  {
   "cell_type": "markdown",
   "metadata": {},
   "source": [
    "### DMA Transfer the Sample buffer from ARM Processor to the HLS QPSK Demodulator"
   ]
  },
  {
   "cell_type": "code",
   "execution_count": 16,
   "metadata": {},
   "outputs": [
    {
     "name": "stdout",
     "output_type": "stream",
     "text": [
      "NumSamples = 2624\n",
      "NumSymboles = 41\n",
      "AWGN Enable = 0\n",
      "DMA Reset = 0\n",
      "Number of I/Q Symbols to Read = 32\n",
      "Done tranfer in_buffer\n",
      "Done send channel wait\n",
      "Done read channel wait\n",
      "DMA Transfer Execution Time  : 0.0035698413848876953  sec\n",
      "Sync Lock Indecator  : 1\n",
      "Symbols in the Buffer: 135\n"
     ]
    }
   ],
   "source": [
    "# 16 Samples Per Symbol, therefore create read buffer /16\n",
    "SamplesPerSym = 16\n",
    "NumSamples = len(xiq)\n",
    "NumSymbols = int(NumSamples/SamplesPerSym/4)\n",
    "print(\"NumSamples = \" + str(NumSamples))\n",
    "print(\"NumSymboles = \" + str(NumSymbols))\n",
    "\n",
    "# Bypass AWGN \n",
    "print(\"AWGN Enable = \" + str(awgn.read(awgn_regmap.RegMap.AWGN_ENABLE_ADDR)))\n",
    "\n",
    "# Clear AWGN Debug Counters\n",
    "awgn.mmio.write(awgn_regmap.RegMap.CNT_CTRL_ADDR,1)\n",
    "\n",
    "# Reset Symbol Buffer Capture\n",
    "CAP_Symbols = 32\n",
    "qpsk_demod.mmio.write(qpsk_regmap.RegMap.DMA_RST_ADDR,1)\n",
    "print(\"DMA Reset = \" + str(qpsk_demod.mmio.read(qpsk_regmap.RegMap.DMA_RST_ADDR)))\n",
    "qpsk_demod.mmio.write(qpsk_regmap.RegMap.DMA_LENGTH_ADDR,CAP_Symbols)\n",
    "print(\"Number of I/Q Symbols to Read = \" + str(CAP_Symbols)) \n",
    "\n",
    "\n",
    "# Clear the buffer write address\n",
    "qpsk_demod.mmio.write(qpsk_regmap.RegMap.WR_RAM_ADDR_CTRL_ADDR,1)\n",
    "\n",
    "# Configure Sync Word\n",
    "qpsk_demod.mmio.write(qpsk_regmap.RegMap.SYNC_RESET_ADDR,1)\n",
    "#qpsk_demod.mmio.write(qpsk_regmap.RegMap.SYNC_WORD_ADDR,0xDEADBEEF)\n",
    "qpsk_demod.mmio.write(qpsk_regmap.RegMap.SYNC_WORD_ADDR,0x6D75521E)\n",
    "\n",
    "# Allocate buffers for the input and output signals\n",
    "in_buffer = allocate(shape=(NumSamples,), dtype=np.int32)\n",
    "out_buffer = allocate(shape=(CAP_Symbols,), dtype=np.int32)\n",
    "\n",
    "# Copy the samples to the in_buffer\n",
    "np.copyto(in_buffer,xiq)\n",
    "\n",
    "# Start HLS QPSK Demodulator\n",
    "qpsk_demod.mmio.write(qpsk_regmap.RegMap.AP_CONTROL_ADDR,0)\n",
    "qpsk_demod.mmio.write(qpsk_regmap.RegMap.AP_CONTROL_ADDR,1)\n",
    "\n",
    "# Trigger the DMA transfer and wait for the result\n",
    "import time\n",
    "start_time = time.time()\n",
    "\n",
    "# Start DMA Transfer\n",
    "dma.sendchannel.transfer(in_buffer)\n",
    "print(\"Done tranfer in_buffer\")\n",
    "#dma.recvchannel.transfer(out_buffer)\n",
    "#print(\"Done tranfer out_buffer\")\n",
    "dma.sendchannel.wait()\n",
    "print(\"Done send channel wait\")\n",
    "#dma.recvchannel.wait()\n",
    "print(\"Done read channel wait\")\n",
    "\n",
    "stop_time = time.time()\n",
    "hw_exec_time = stop_time-start_time\n",
    "print('DMA Transfer Execution Time  :',hw_exec_time,' sec')\n",
    "\n",
    "# Free the buffers\n",
    "in_buffer.close()\n",
    "#out_buffer.close()\n",
    "\n",
    "print(\"Sync Lock Indecator  : \" + str(qpsk_demod.mmio.read(qpsk_regmap.RegMap.SYNC_LOCK_ADDR)))\n",
    "print(\"Symbols in the Buffer: \" + str(qpsk_demod.mmio.read(qpsk_regmap.RegMap.WR_RAM_ADDR)))"
   ]
  },
  {
   "cell_type": "markdown",
   "metadata": {},
   "source": [
    "### Read QPSK Demodulator Output Buffer"
   ]
  },
  {
   "cell_type": "code",
   "execution_count": 6,
   "metadata": {},
   "outputs": [
    {
     "name": "stdout",
     "output_type": "stream",
     "text": [
      "Number of DWORDs to Read: 8\n",
      "0xdeadbeef\n",
      "0xdeadbeef\n",
      "0xdeadbeef\n",
      "0xdeadbeef\n",
      "0xdeadbeef\n",
      "0xdeadbeef\n",
      "0xdeadbeef\n",
      "0xdeadbeef\n"
     ]
    }
   ],
   "source": [
    "rd_len = int(qpsk_demod.mmio.read(qpsk_regmap.RegMap.WR_RAM_ADDR)/SamplesPerSym)\n",
    "print(\"Number of DWORDs to Read: \" + str(rd_len))\n",
    "dout = []\n",
    "for i in range(rd_len):\n",
    "    qpsk_demod.mmio.write(qpsk_regmap.RegMap.RD_RAM_ADDR_ADDR,i)\n",
    "    dout.append(qpsk_demod.mmio.read(qpsk_regmap.RegMap.RD_RAM_DATA_ADDR))\n",
    "    \n",
    "for i in dout:\n",
    "    print(str(hex(i)))"
   ]
  },
  {
   "cell_type": "markdown",
   "metadata": {},
   "source": [
    "#### Read QPSK Demod Symbols"
   ]
  },
  {
   "cell_type": "code",
   "execution_count": null,
   "metadata": {},
   "outputs": [],
   "source": [
    "symbols = 124\n",
    "qpsk_demod.mmio.write(qpsk_regmap.RegMap.DMA_LENGTH_ADDR,symbols)\n",
    "print(\"Number of Symbols to Read     : \" + str(symbols)) \n",
    "\n",
    "# Allocate DMA Buffer and Read\n",
    "out_buffer = allocate(shape=(symbols,), dtype=np.int32)\n",
    "dma.recvchannel.transfer(out_buffer)\n",
    "dma.recvchannel.wait()\n",
    "out_buffer.close()\n",
    "\n",
    "t = (out_buffer & 0xFFFFFFFF)\n",
    "print(t)"
   ]
  },
  {
   "cell_type": "markdown",
   "metadata": {},
   "source": [
    "#### Clear QPSK Demodulator Output Buffer Pointer"
   ]
  },
  {
   "cell_type": "code",
   "execution_count": null,
   "metadata": {},
   "outputs": [],
   "source": [
    "print(\"WR Capture Address: \" + str(qpsk_demod.mmio.read(qpsk_regmap.RegMap.WR_RAM_ADDR)))\n",
    "print(\"RD Capture Address: \" + str(qpsk_demod.mmio.read(qpsk_regmap.RegMap.RD_RAM_ADDR_ADDR)))\n",
    "qpsk_demod.mmio.write(qpsk_regmap.RegMap.WR_RAM_ADDR_CTRL_ADDR,1)\n",
    "print(\"WR Capture Address: \" + str(qpsk_demod.mmio.read(qpsk_regmap.RegMap.WR_RAM_ADDR)))\n",
    "print(\"SYNC Lock         : \" + str(qpsk_demod.mmio.read(qpsk_regmap.RegMap.SYNC_LOCK_ADDR)))\n",
    "qpsk_demod.mmio.write(qpsk_regmap.RegMap.SYNC_RESET_ADDR,1)\n",
    "print(\"SYNC Lock         : \" + str(qpsk_demod.mmio.read(qpsk_regmap.RegMap.SYNC_LOCK_ADDR)))"
   ]
  },
  {
   "cell_type": "code",
   "execution_count": null,
   "metadata": {},
   "outputs": [],
   "source": [
    "in_buffer.close()\n",
    "out_buffer.close()"
   ]
  },
  {
   "cell_type": "code",
   "execution_count": null,
   "metadata": {},
   "outputs": [],
   "source": [
    "overlay?\n"
   ]
  },
  {
   "cell_type": "code",
   "execution_count": null,
   "metadata": {},
   "outputs": [],
   "source": [
    "qpsk_demod   = overlay.Rx_QPSK.QPSK_Demod_Top_0"
   ]
  },
  {
   "cell_type": "code",
   "execution_count": null,
   "metadata": {},
   "outputs": [],
   "source": []
  }
 ],
 "metadata": {
  "kernelspec": {
   "display_name": "Python 3 (ipykernel)",
   "language": "python",
   "name": "python3"
  },
  "language_info": {
   "codemirror_mode": {
    "name": "ipython",
    "version": 3
   },
   "file_extension": ".py",
   "mimetype": "text/x-python",
   "name": "python",
   "nbconvert_exporter": "python",
   "pygments_lexer": "ipython3",
   "version": "3.10.12"
  }
 },
 "nbformat": 4,
 "nbformat_minor": 4
}
