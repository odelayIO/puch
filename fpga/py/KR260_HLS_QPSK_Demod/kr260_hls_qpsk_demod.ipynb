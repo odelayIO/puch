{
 "cells": [
  {
   "cell_type": "markdown",
   "metadata": {},
   "source": [
    "# KR260 HLS QPSK Demod\n",
    "\n",
    "## Setup\n",
    "\n",
    "### Mounting Development Machine\n",
    "This notebook utilizes `sshfs` to mount the development directory on the KR260 board to avoid transferring files bewteen machines.  \n",
    "\n",
    "The development machine that was used to build the KR260 FPGA image is named `dev-wks`.  To mount the development directory on `dev-wks`, first will need to create a folder to mount the directory, then execute the following from the Jupyter Terminal:\n",
    "\n",
    "```bash\n",
    "cd /home/root/jupyter_notebooks\n",
    "mkdir puch\n",
    "sshfs sdr@dev-wks:/home/sdr/workspace/puch-workspace/HLS-QPSK-Demod-Baseband_002 /home/root/jupyter_notebooks/puch\n",
    "```\n",
    "\n",
    "If `sshfs` is not installed, then execute `sudo apt install sshfs` on the Jupyter Terminal.\n",
    "\n",
    "### Unmounting Development Machine\n",
    "To unmount the directory\n",
    "` fusermount -u /home/root/jupyter_notebooks/dev-wks/`\n",
    "\n",
    "\n",
    "### Plot function for use in this notebook\n",
    "The first code block below defines a function that we will use for plotting data throughout this notebook. Note that the function has a `n_samples` argument so that we can limit the number of samples to plot. Plotting more than a few thousand samples can be very slow and consume a lot of RAM.\n",
    "\n",
    "### Requirements\n",
    "Install the following:\n",
    "\n",
    "```bash\n",
    "pip install ipympl\n",
    "pip install ipywidgets\n",
    "pip install jupyter_bokeh\n",
    "```"
   ]
  },
  {
   "cell_type": "markdown",
   "metadata": {},
   "source": [
    "# Initilize\n",
    "\n",
    "#### Bokeh Plot Function"
   ]
  },
  {
   "cell_type": "code",
   "execution_count": 20,
   "metadata": {},
   "outputs": [],
   "source": [
    "from bokeh.plotting import figure, output_file, show\n",
    "from bokeh.io import output_notebook, show\n",
    "import numpy as np\n",
    "import math\n",
    "\n",
    "\n",
    "def plot_time(in_signal,out_signal=None):\n",
    "    t = np.linspace(0,len(in_signal),len(in_signal))\n",
    "    output_notebook()\n",
    "    p = figure(title = \"Input & Output Signal\")\n",
    "    \n",
    "    if out_signal is not None:\n",
    "        p.line(t,out_signal,legend_label=\"Output Signal\",line_color=\"red\",line_width=1)\n",
    "    p.line(t,in_signal,legend_label=\"Input Signal\",line_color=\"blue\",line_width=3)\n",
    "    show(p)"
   ]
  },
  {
   "cell_type": "markdown",
   "metadata": {},
   "source": [
    "#### Load Overlay"
   ]
  },
  {
   "cell_type": "code",
   "execution_count": 21,
   "metadata": {},
   "outputs": [],
   "source": [
    "from pynq import Overlay\n",
    "from pynq import allocate\n",
    "from pynq import MMIO\n",
    "import pynq.lib.dma\n",
    "import time\n",
    "\n",
    "#import Python library from repo:\n",
    "import sys\n",
    "sys.path.append('/home/root/jupyter_notebooks/puch/')\n",
    "import fpga.py.puch as puch\n",
    "import fpga.lib.timestamp.sw.timestamp_regmap as timestamp_regmap\n",
    "import fpga.lib.led_reg.sw.led_regmap as led_regmap\n",
    "import fpga.lib.HLS_QPSK_Demod.sw.qpsk_regmap as qpsk_regmap\n",
    "\n",
    "\n",
    "# Load the overlay\n",
    "overlay = Overlay('../../overlays/KR260_HLS_QPSK_Demod/output/kr260_hls_qpsk_demod.bit')\n",
    "\n",
    "# Assign blocks to short vars\n",
    "dma          = overlay.axi_dma_0\n",
    "led_module   = overlay.led_reg_0\n",
    "timestamp    = overlay.Timestamp_0\n",
    "qpsk_demod   = overlay.QPSK_Demod_Top_0\n",
    "\n",
    "# Configure QPSK Syncword, and reset sync lock\n",
    "#qpsk_demod.mmio.write(qpsk_regmap.RegMap.SYNC_WORD_ADDR,0xDEADBEEF)\n",
    "qpsk_demod.mmio.write(qpsk_regmap.RegMap.SYNC_WORD_ADDR,0x6D75521E)\n",
    "qpsk_demod.mmio.write(qpsk_regmap.RegMap.SYNC_RESET_ADDR,1)"
   ]
  },
  {
   "cell_type": "markdown",
   "metadata": {},
   "source": [
    "##### Print out the register map for DMA and HLS Gain Blocks"
   ]
  },
  {
   "cell_type": "code",
   "execution_count": null,
   "metadata": {},
   "outputs": [],
   "source": []
  },
  {
   "cell_type": "code",
   "execution_count": null,
   "metadata": {},
   "outputs": [],
   "source": [
    "overlay.ip_dict"
   ]
  },
  {
   "cell_type": "markdown",
   "metadata": {},
   "source": [
    "##### Display Time Stamp Register\n",
    "The time stamp is burned into the FPGA during the build process"
   ]
  },
  {
   "cell_type": "code",
   "execution_count": 22,
   "metadata": {},
   "outputs": [
    {
     "name": "stdout",
     "output_type": "stream",
     "text": [
      "FPGA Build Timestamp:  2025/3/19 9:46:56\n"
     ]
    }
   ],
   "source": [
    "print(\"FPGA Build Timestamp:  \" + puch.get_timestamp_str(timestamp))"
   ]
  },
  {
   "cell_type": "markdown",
   "metadata": {},
   "source": [
    "##### Toggle USER_LED[1:0] on/off"
   ]
  },
  {
   "cell_type": "code",
   "execution_count": null,
   "metadata": {},
   "outputs": [],
   "source": [
    "for i in range(10):\n",
    "    led_module.mmio.write(led_regmap.RegMap.USER_LEDS_ADDR,0x1)\n",
    "    time.sleep(0.25)\n",
    "    led_module.mmio.write(led_regmap.RegMap.USER_LEDS_ADDR,0x2)\n",
    "    time.sleep(0.25)\n",
    "led_module.mmio.write(led_regmap.RegMap.USER_LEDS_ADDR,0x0)"
   ]
  },
  {
   "cell_type": "markdown",
   "metadata": {},
   "source": [
    "### Configure the QPSK Demod Control Register\n",
    "\n",
    "Want to enable auto restart, so the FPGA block will always be read to receive samples\n"
   ]
  },
  {
   "cell_type": "code",
   "execution_count": 23,
   "metadata": {},
   "outputs": [
    {
     "name": "stdout",
     "output_type": "stream",
     "text": [
      "F_IN : (16, 12)\n",
      "F_IN : (16, 12)\n"
     ]
    }
   ],
   "source": [
    "fin_tBits, fin_fBits = puch.get_format(qpsk_demod,qpsk_regmap.RegMap.F_IN_ADDR)\n",
    "print(\"F_IN : (\" + str(fin_tBits) + \", \" + str(fin_fBits) + \")\")\n",
    "fout_tBits, fout_fBits = puch.get_format(qpsk_demod,qpsk_regmap.RegMap.F_OUT_ADDR)\n",
    "print(\"F_IN : (\" + str(fout_tBits) + \", \" + str(fout_fBits) + \")\")"
   ]
  },
  {
   "cell_type": "markdown",
   "metadata": {},
   "source": [
    "### Open Modulated Data Samples and Convert to INT16 I/Q Samples"
   ]
  },
  {
   "cell_type": "code",
   "execution_count": 24,
   "metadata": {},
   "outputs": [
    {
     "name": "stdout",
     "output_type": "stream",
     "text": [
      "Number of I Samples Read: 2688\n",
      "Number of Q Samples Read: 2688\n",
      "Number Symbols          : 168.0\n"
     ]
    },
    {
     "data": {
      "text/html": [
       "<style>\n",
       "        .bk-notebook-logo {\n",
       "            display: block;\n",
       "            width: 20px;\n",
       "            height: 20px;\n",
       "            background-image: url(data:image/png;base64,iVBORw0KGgoAAAANSUhEUgAAABQAAAAUCAYAAACNiR0NAAAABHNCSVQICAgIfAhkiAAAAAlwSFlzAAALEgAACxIB0t1+/AAAABx0RVh0U29mdHdhcmUAQWRvYmUgRmlyZXdvcmtzIENTNui8sowAAAOkSURBVDiNjZRtaJVlGMd/1/08zzln5zjP1LWcU9N0NkN8m2CYjpgQYQXqSs0I84OLIC0hkEKoPtiH3gmKoiJDU7QpLgoLjLIQCpEsNJ1vqUOdO7ppbuec5+V+rj4ctwzd8IIbbi6u+8f1539dt3A78eXC7QizUF7gyV1fD1Yqg4JWz84yffhm0qkFqBogB9rM8tZdtwVsPUhWhGcFJngGeWrPzHm5oaMmkfEg1usvLFyc8jLRqDOMru7AyC8saQr7GG7f5fvDeH7Ej8CM66nIF+8yngt6HWaKh7k49Soy9nXurCi1o3qUbS3zWfrYeQDTB/Qj6kX6Ybhw4B+bOYoLKCC9H3Nu/leUTZ1JdRWkkn2ldcCamzrcf47KKXdAJllSlxAOkRgyHsGC/zRday5Qld9DyoM4/q/rUoy/CXh3jzOu3bHUVZeU+DEn8FInkPBFlu3+nW3Nw0mk6vCDiWg8CeJaxEwuHS3+z5RgY+YBR6V1Z1nxSOfoaPa4LASWxxdNp+VWTk7+4vzaou8v8PN+xo+KY2xsw6une2frhw05CTYOmQvsEhjhWjn0bmXPjpE1+kplmmkP3suftwTubK9Vq22qKmrBhpY4jvd5afdRA3wGjFAgcnTK2s4hY0/GPNIb0nErGMCRxWOOX64Z8RAC4oCXdklmEvcL8o0BfkNK4lUg9HTl+oPlQxdNo3Mg4Nv175e/1LDGzZen30MEjRUtmXSfiTVu1kK8W4txyV6BMKlbgk3lMwYCiusNy9fVfvvwMxv8Ynl6vxoByANLTWplvuj/nF9m2+PDtt1eiHPBr1oIfhCChQMBw6Aw0UulqTKZdfVvfG7VcfIqLG9bcldL/+pdWTLxLUy8Qq38heUIjh4XlzZxzQm19lLFlr8vdQ97rjZVOLf8nclzckbcD4wxXMidpX30sFd37Fv/GtwwhzhxGVAprjbg0gCAEeIgwCZyTV2Z1REEW8O4py0wsjeloKoMr6iCY6dP92H6Vw/oTyICIthibxjm/DfN9lVz8IqtqKYLUXfoKVMVQVVJOElGjrnnUt9T9wbgp8AyYKaGlqingHZU/uG2NTZSVqwHQTWkx9hxjkpWDaCg6Ckj5qebgBVbT3V3NNXMSiWSDdGV3hrtzla7J+duwPOToIg42ChPQOQjspnSlp1V+Gjdged7+8UN5CRAV7a5EdFNwCjEaBR27b3W890TE7g24NAP/mMDXRWrGoFPQI9ls/MWO2dWFAar/xcOIImbbpA3zgAAAABJRU5ErkJggg==);\n",
       "        }\n",
       "    </style>\n",
       "    <div>\n",
       "        <a href=\"https://bokeh.org\" target=\"_blank\" class=\"bk-notebook-logo\"></a>\n",
       "        <span id=\"ab54816e-448f-4f5c-aef0-9bb29660d9a0\">Loading BokehJS ...</span>\n",
       "    </div>\n"
      ]
     },
     "metadata": {},
     "output_type": "display_data"
    },
    {
     "data": {
      "application/javascript": [
       "(function(root) {\n",
       "  function now() {\n",
       "    return new Date();\n",
       "  }\n",
       "\n",
       "  const force = true;\n",
       "\n",
       "  if (typeof root._bokeh_onload_callbacks === \"undefined\" || force === true) {\n",
       "    root._bokeh_onload_callbacks = [];\n",
       "    root._bokeh_is_loading = undefined;\n",
       "  }\n",
       "\n",
       "const JS_MIME_TYPE = 'application/javascript';\n",
       "  const HTML_MIME_TYPE = 'text/html';\n",
       "  const EXEC_MIME_TYPE = 'application/vnd.bokehjs_exec.v0+json';\n",
       "  const CLASS_NAME = 'output_bokeh rendered_html';\n",
       "\n",
       "  /**\n",
       "   * Render data to the DOM node\n",
       "   */\n",
       "  function render(props, node) {\n",
       "    const script = document.createElement(\"script\");\n",
       "    node.appendChild(script);\n",
       "  }\n",
       "\n",
       "  /**\n",
       "   * Handle when an output is cleared or removed\n",
       "   */\n",
       "  function handleClearOutput(event, handle) {\n",
       "    function drop(id) {\n",
       "      const view = Bokeh.index.get_by_id(id)\n",
       "      if (view != null) {\n",
       "        view.model.document.clear()\n",
       "        Bokeh.index.delete(view)\n",
       "      }\n",
       "    }\n",
       "\n",
       "    const cell = handle.cell;\n",
       "\n",
       "    const id = cell.output_area._bokeh_element_id;\n",
       "    const server_id = cell.output_area._bokeh_server_id;\n",
       "\n",
       "    // Clean up Bokeh references\n",
       "    if (id != null) {\n",
       "      drop(id)\n",
       "    }\n",
       "\n",
       "    if (server_id !== undefined) {\n",
       "      // Clean up Bokeh references\n",
       "      const cmd_clean = \"from bokeh.io.state import curstate; print(curstate().uuid_to_server['\" + server_id + \"'].get_sessions()[0].document.roots[0]._id)\";\n",
       "      cell.notebook.kernel.execute(cmd_clean, {\n",
       "        iopub: {\n",
       "          output: function(msg) {\n",
       "            const id = msg.content.text.trim()\n",
       "            drop(id)\n",
       "          }\n",
       "        }\n",
       "      });\n",
       "      // Destroy server and session\n",
       "      const cmd_destroy = \"import bokeh.io.notebook as ion; ion.destroy_server('\" + server_id + \"')\";\n",
       "      cell.notebook.kernel.execute(cmd_destroy);\n",
       "    }\n",
       "  }\n",
       "\n",
       "  /**\n",
       "   * Handle when a new output is added\n",
       "   */\n",
       "  function handleAddOutput(event, handle) {\n",
       "    const output_area = handle.output_area;\n",
       "    const output = handle.output;\n",
       "\n",
       "    // limit handleAddOutput to display_data with EXEC_MIME_TYPE content only\n",
       "    if ((output.output_type != \"display_data\") || (!Object.prototype.hasOwnProperty.call(output.data, EXEC_MIME_TYPE))) {\n",
       "      return\n",
       "    }\n",
       "\n",
       "    const toinsert = output_area.element.find(\".\" + CLASS_NAME.split(' ')[0]);\n",
       "\n",
       "    if (output.metadata[EXEC_MIME_TYPE][\"id\"] !== undefined) {\n",
       "      toinsert[toinsert.length - 1].firstChild.textContent = output.data[JS_MIME_TYPE];\n",
       "      // store reference to embed id on output_area\n",
       "      output_area._bokeh_element_id = output.metadata[EXEC_MIME_TYPE][\"id\"];\n",
       "    }\n",
       "    if (output.metadata[EXEC_MIME_TYPE][\"server_id\"] !== undefined) {\n",
       "      const bk_div = document.createElement(\"div\");\n",
       "      bk_div.innerHTML = output.data[HTML_MIME_TYPE];\n",
       "      const script_attrs = bk_div.children[0].attributes;\n",
       "      for (let i = 0; i < script_attrs.length; i++) {\n",
       "        toinsert[toinsert.length - 1].firstChild.setAttribute(script_attrs[i].name, script_attrs[i].value);\n",
       "        toinsert[toinsert.length - 1].firstChild.textContent = bk_div.children[0].textContent\n",
       "      }\n",
       "      // store reference to server id on output_area\n",
       "      output_area._bokeh_server_id = output.metadata[EXEC_MIME_TYPE][\"server_id\"];\n",
       "    }\n",
       "  }\n",
       "\n",
       "  function register_renderer(events, OutputArea) {\n",
       "\n",
       "    function append_mime(data, metadata, element) {\n",
       "      // create a DOM node to render to\n",
       "      const toinsert = this.create_output_subarea(\n",
       "        metadata,\n",
       "        CLASS_NAME,\n",
       "        EXEC_MIME_TYPE\n",
       "      );\n",
       "      this.keyboard_manager.register_events(toinsert);\n",
       "      // Render to node\n",
       "      const props = {data: data, metadata: metadata[EXEC_MIME_TYPE]};\n",
       "      render(props, toinsert[toinsert.length - 1]);\n",
       "      element.append(toinsert);\n",
       "      return toinsert\n",
       "    }\n",
       "\n",
       "    /* Handle when an output is cleared or removed */\n",
       "    events.on('clear_output.CodeCell', handleClearOutput);\n",
       "    events.on('delete.Cell', handleClearOutput);\n",
       "\n",
       "    /* Handle when a new output is added */\n",
       "    events.on('output_added.OutputArea', handleAddOutput);\n",
       "\n",
       "    /**\n",
       "     * Register the mime type and append_mime function with output_area\n",
       "     */\n",
       "    OutputArea.prototype.register_mime_type(EXEC_MIME_TYPE, append_mime, {\n",
       "      /* Is output safe? */\n",
       "      safe: true,\n",
       "      /* Index of renderer in `output_area.display_order` */\n",
       "      index: 0\n",
       "    });\n",
       "  }\n",
       "\n",
       "  // register the mime type if in Jupyter Notebook environment and previously unregistered\n",
       "  if (root.Jupyter !== undefined) {\n",
       "    const events = require('base/js/events');\n",
       "    const OutputArea = require('notebook/js/outputarea').OutputArea;\n",
       "\n",
       "    if (OutputArea.prototype.mime_types().indexOf(EXEC_MIME_TYPE) == -1) {\n",
       "      register_renderer(events, OutputArea);\n",
       "    }\n",
       "  }\n",
       "  if (typeof (root._bokeh_timeout) === \"undefined\" || force === true) {\n",
       "    root._bokeh_timeout = Date.now() + 5000;\n",
       "    root._bokeh_failed_load = false;\n",
       "  }\n",
       "\n",
       "  const NB_LOAD_WARNING = {'data': {'text/html':\n",
       "     \"<div style='background-color: #fdd'>\\n\"+\n",
       "     \"<p>\\n\"+\n",
       "     \"BokehJS does not appear to have successfully loaded. If loading BokehJS from CDN, this \\n\"+\n",
       "     \"may be due to a slow or bad network connection. Possible fixes:\\n\"+\n",
       "     \"</p>\\n\"+\n",
       "     \"<ul>\\n\"+\n",
       "     \"<li>re-rerun `output_notebook()` to attempt to load from CDN again, or</li>\\n\"+\n",
       "     \"<li>use INLINE resources instead, as so:</li>\\n\"+\n",
       "     \"</ul>\\n\"+\n",
       "     \"<code>\\n\"+\n",
       "     \"from bokeh.resources import INLINE\\n\"+\n",
       "     \"output_notebook(resources=INLINE)\\n\"+\n",
       "     \"</code>\\n\"+\n",
       "     \"</div>\"}};\n",
       "\n",
       "  function display_loaded() {\n",
       "    const el = document.getElementById(\"ab54816e-448f-4f5c-aef0-9bb29660d9a0\");\n",
       "    if (el != null) {\n",
       "      el.textContent = \"BokehJS is loading...\";\n",
       "    }\n",
       "    if (root.Bokeh !== undefined) {\n",
       "      if (el != null) {\n",
       "        el.textContent = \"BokehJS \" + root.Bokeh.version + \" successfully loaded.\";\n",
       "      }\n",
       "    } else if (Date.now() < root._bokeh_timeout) {\n",
       "      setTimeout(display_loaded, 100)\n",
       "    }\n",
       "  }\n",
       "\n",
       "  function run_callbacks() {\n",
       "    try {\n",
       "      root._bokeh_onload_callbacks.forEach(function(callback) {\n",
       "        if (callback != null)\n",
       "          callback();\n",
       "      });\n",
       "    } finally {\n",
       "      delete root._bokeh_onload_callbacks\n",
       "    }\n",
       "    console.debug(\"Bokeh: all callbacks have finished\");\n",
       "  }\n",
       "\n",
       "  function load_libs(css_urls, js_urls, callback) {\n",
       "    if (css_urls == null) css_urls = [];\n",
       "    if (js_urls == null) js_urls = [];\n",
       "\n",
       "    root._bokeh_onload_callbacks.push(callback);\n",
       "    if (root._bokeh_is_loading > 0) {\n",
       "      console.debug(\"Bokeh: BokehJS is being loaded, scheduling callback at\", now());\n",
       "      return null;\n",
       "    }\n",
       "    if (js_urls == null || js_urls.length === 0) {\n",
       "      run_callbacks();\n",
       "      return null;\n",
       "    }\n",
       "    console.debug(\"Bokeh: BokehJS not loaded, scheduling load and callback at\", now());\n",
       "    root._bokeh_is_loading = css_urls.length + js_urls.length;\n",
       "\n",
       "    function on_load() {\n",
       "      root._bokeh_is_loading--;\n",
       "      if (root._bokeh_is_loading === 0) {\n",
       "        console.debug(\"Bokeh: all BokehJS libraries/stylesheets loaded\");\n",
       "        run_callbacks()\n",
       "      }\n",
       "    }\n",
       "\n",
       "    function on_error(url) {\n",
       "      console.error(\"failed to load \" + url);\n",
       "    }\n",
       "\n",
       "    for (let i = 0; i < css_urls.length; i++) {\n",
       "      const url = css_urls[i];\n",
       "      const element = document.createElement(\"link\");\n",
       "      element.onload = on_load;\n",
       "      element.onerror = on_error.bind(null, url);\n",
       "      element.rel = \"stylesheet\";\n",
       "      element.type = \"text/css\";\n",
       "      element.href = url;\n",
       "      console.debug(\"Bokeh: injecting link tag for BokehJS stylesheet: \", url);\n",
       "      document.body.appendChild(element);\n",
       "    }\n",
       "\n",
       "    for (let i = 0; i < js_urls.length; i++) {\n",
       "      const url = js_urls[i];\n",
       "      const element = document.createElement('script');\n",
       "      element.onload = on_load;\n",
       "      element.onerror = on_error.bind(null, url);\n",
       "      element.async = false;\n",
       "      element.src = url;\n",
       "      console.debug(\"Bokeh: injecting script tag for BokehJS library: \", url);\n",
       "      document.head.appendChild(element);\n",
       "    }\n",
       "  };\n",
       "\n",
       "  function inject_raw_css(css) {\n",
       "    const element = document.createElement(\"style\");\n",
       "    element.appendChild(document.createTextNode(css));\n",
       "    document.body.appendChild(element);\n",
       "  }\n",
       "\n",
       "  const js_urls = [\"https://cdn.bokeh.org/bokeh/release/bokeh-3.3.0.min.js\", \"https://cdn.bokeh.org/bokeh/release/bokeh-gl-3.3.0.min.js\", \"https://cdn.bokeh.org/bokeh/release/bokeh-widgets-3.3.0.min.js\", \"https://cdn.bokeh.org/bokeh/release/bokeh-tables-3.3.0.min.js\", \"https://cdn.bokeh.org/bokeh/release/bokeh-mathjax-3.3.0.min.js\"];\n",
       "  const css_urls = [];\n",
       "\n",
       "  const inline_js = [    function(Bokeh) {\n",
       "      Bokeh.set_log_level(\"info\");\n",
       "    },\n",
       "function(Bokeh) {\n",
       "    }\n",
       "  ];\n",
       "\n",
       "  function run_inline_js() {\n",
       "    if (root.Bokeh !== undefined || force === true) {\n",
       "          for (let i = 0; i < inline_js.length; i++) {\n",
       "      inline_js[i].call(root, root.Bokeh);\n",
       "    }\n",
       "if (force === true) {\n",
       "        display_loaded();\n",
       "      }} else if (Date.now() < root._bokeh_timeout) {\n",
       "      setTimeout(run_inline_js, 100);\n",
       "    } else if (!root._bokeh_failed_load) {\n",
       "      console.log(\"Bokeh: BokehJS failed to load within specified timeout.\");\n",
       "      root._bokeh_failed_load = true;\n",
       "    } else if (force !== true) {\n",
       "      const cell = $(document.getElementById(\"ab54816e-448f-4f5c-aef0-9bb29660d9a0\")).parents('.cell').data().cell;\n",
       "      cell.output_area.append_execute_result(NB_LOAD_WARNING)\n",
       "    }\n",
       "  }\n",
       "\n",
       "  if (root._bokeh_is_loading === 0) {\n",
       "    console.debug(\"Bokeh: BokehJS loaded, going straight to plotting\");\n",
       "    run_inline_js();\n",
       "  } else {\n",
       "    load_libs(css_urls, js_urls, function() {\n",
       "      console.debug(\"Bokeh: BokehJS plotting callback run at\", now());\n",
       "      run_inline_js();\n",
       "    });\n",
       "  }\n",
       "}(window));"
      ],
      "application/vnd.bokehjs_load.v0+json": "(function(root) {\n  function now() {\n    return new Date();\n  }\n\n  const force = true;\n\n  if (typeof root._bokeh_onload_callbacks === \"undefined\" || force === true) {\n    root._bokeh_onload_callbacks = [];\n    root._bokeh_is_loading = undefined;\n  }\n\n\n  if (typeof (root._bokeh_timeout) === \"undefined\" || force === true) {\n    root._bokeh_timeout = Date.now() + 5000;\n    root._bokeh_failed_load = false;\n  }\n\n  const NB_LOAD_WARNING = {'data': {'text/html':\n     \"<div style='background-color: #fdd'>\\n\"+\n     \"<p>\\n\"+\n     \"BokehJS does not appear to have successfully loaded. If loading BokehJS from CDN, this \\n\"+\n     \"may be due to a slow or bad network connection. Possible fixes:\\n\"+\n     \"</p>\\n\"+\n     \"<ul>\\n\"+\n     \"<li>re-rerun `output_notebook()` to attempt to load from CDN again, or</li>\\n\"+\n     \"<li>use INLINE resources instead, as so:</li>\\n\"+\n     \"</ul>\\n\"+\n     \"<code>\\n\"+\n     \"from bokeh.resources import INLINE\\n\"+\n     \"output_notebook(resources=INLINE)\\n\"+\n     \"</code>\\n\"+\n     \"</div>\"}};\n\n  function display_loaded() {\n    const el = document.getElementById(\"ab54816e-448f-4f5c-aef0-9bb29660d9a0\");\n    if (el != null) {\n      el.textContent = \"BokehJS is loading...\";\n    }\n    if (root.Bokeh !== undefined) {\n      if (el != null) {\n        el.textContent = \"BokehJS \" + root.Bokeh.version + \" successfully loaded.\";\n      }\n    } else if (Date.now() < root._bokeh_timeout) {\n      setTimeout(display_loaded, 100)\n    }\n  }\n\n  function run_callbacks() {\n    try {\n      root._bokeh_onload_callbacks.forEach(function(callback) {\n        if (callback != null)\n          callback();\n      });\n    } finally {\n      delete root._bokeh_onload_callbacks\n    }\n    console.debug(\"Bokeh: all callbacks have finished\");\n  }\n\n  function load_libs(css_urls, js_urls, callback) {\n    if (css_urls == null) css_urls = [];\n    if (js_urls == null) js_urls = [];\n\n    root._bokeh_onload_callbacks.push(callback);\n    if (root._bokeh_is_loading > 0) {\n      console.debug(\"Bokeh: BokehJS is being loaded, scheduling callback at\", now());\n      return null;\n    }\n    if (js_urls == null || js_urls.length === 0) {\n      run_callbacks();\n      return null;\n    }\n    console.debug(\"Bokeh: BokehJS not loaded, scheduling load and callback at\", now());\n    root._bokeh_is_loading = css_urls.length + js_urls.length;\n\n    function on_load() {\n      root._bokeh_is_loading--;\n      if (root._bokeh_is_loading === 0) {\n        console.debug(\"Bokeh: all BokehJS libraries/stylesheets loaded\");\n        run_callbacks()\n      }\n    }\n\n    function on_error(url) {\n      console.error(\"failed to load \" + url);\n    }\n\n    for (let i = 0; i < css_urls.length; i++) {\n      const url = css_urls[i];\n      const element = document.createElement(\"link\");\n      element.onload = on_load;\n      element.onerror = on_error.bind(null, url);\n      element.rel = \"stylesheet\";\n      element.type = \"text/css\";\n      element.href = url;\n      console.debug(\"Bokeh: injecting link tag for BokehJS stylesheet: \", url);\n      document.body.appendChild(element);\n    }\n\n    for (let i = 0; i < js_urls.length; i++) {\n      const url = js_urls[i];\n      const element = document.createElement('script');\n      element.onload = on_load;\n      element.onerror = on_error.bind(null, url);\n      element.async = false;\n      element.src = url;\n      console.debug(\"Bokeh: injecting script tag for BokehJS library: \", url);\n      document.head.appendChild(element);\n    }\n  };\n\n  function inject_raw_css(css) {\n    const element = document.createElement(\"style\");\n    element.appendChild(document.createTextNode(css));\n    document.body.appendChild(element);\n  }\n\n  const js_urls = [\"https://cdn.bokeh.org/bokeh/release/bokeh-3.3.0.min.js\", \"https://cdn.bokeh.org/bokeh/release/bokeh-gl-3.3.0.min.js\", \"https://cdn.bokeh.org/bokeh/release/bokeh-widgets-3.3.0.min.js\", \"https://cdn.bokeh.org/bokeh/release/bokeh-tables-3.3.0.min.js\", \"https://cdn.bokeh.org/bokeh/release/bokeh-mathjax-3.3.0.min.js\"];\n  const css_urls = [];\n\n  const inline_js = [    function(Bokeh) {\n      Bokeh.set_log_level(\"info\");\n    },\nfunction(Bokeh) {\n    }\n  ];\n\n  function run_inline_js() {\n    if (root.Bokeh !== undefined || force === true) {\n          for (let i = 0; i < inline_js.length; i++) {\n      inline_js[i].call(root, root.Bokeh);\n    }\nif (force === true) {\n        display_loaded();\n      }} else if (Date.now() < root._bokeh_timeout) {\n      setTimeout(run_inline_js, 100);\n    } else if (!root._bokeh_failed_load) {\n      console.log(\"Bokeh: BokehJS failed to load within specified timeout.\");\n      root._bokeh_failed_load = true;\n    } else if (force !== true) {\n      const cell = $(document.getElementById(\"ab54816e-448f-4f5c-aef0-9bb29660d9a0\")).parents('.cell').data().cell;\n      cell.output_area.append_execute_result(NB_LOAD_WARNING)\n    }\n  }\n\n  if (root._bokeh_is_loading === 0) {\n    console.debug(\"Bokeh: BokehJS loaded, going straight to plotting\");\n    run_inline_js();\n  } else {\n    load_libs(css_urls, js_urls, function() {\n      console.debug(\"Bokeh: BokehJS plotting callback run at\", now());\n      run_inline_js();\n    });\n  }\n}(window));"
     },
     "metadata": {},
     "output_type": "display_data"
    },
    {
     "data": {
      "text/html": [
       "\n",
       "  <div id=\"d4f34cb7-565e-447a-baab-6fdbada6e797\" data-root-id=\"p1127\" style=\"display: contents;\"></div>\n"
      ]
     },
     "metadata": {},
     "output_type": "display_data"
    },
    {
     "data": {
      "application/javascript": [
       "(function(root) {\n",
       "  function embed_document(root) {\n",
       "  const docs_json = {\"62217f04-dc50-49b2-a5aa-b28c05438990\":{\"version\":\"3.3.0\",\"title\":\"Bokeh Application\",\"roots\":[{\"type\":\"object\",\"name\":\"Figure\",\"id\":\"p1127\",\"attributes\":{\"x_range\":{\"type\":\"object\",\"name\":\"DataRange1d\",\"id\":\"p1128\"},\"y_range\":{\"type\":\"object\",\"name\":\"DataRange1d\",\"id\":\"p1129\"},\"x_scale\":{\"type\":\"object\",\"name\":\"LinearScale\",\"id\":\"p1137\"},\"y_scale\":{\"type\":\"object\",\"name\":\"LinearScale\",\"id\":\"p1138\"},\"title\":{\"type\":\"object\",\"name\":\"Title\",\"id\":\"p1130\",\"attributes\":{\"text\":\"Input & Output Signal\"}},\"renderers\":[{\"type\":\"object\",\"name\":\"GlyphRenderer\",\"id\":\"p1162\",\"attributes\":{\"data_source\":{\"type\":\"object\",\"name\":\"ColumnDataSource\",\"id\":\"p1156\",\"attributes\":{\"selected\":{\"type\":\"object\",\"name\":\"Selection\",\"id\":\"p1157\",\"attributes\":{\"indices\":[],\"line_indices\":[]}},\"selection_policy\":{\"type\":\"object\",\"name\":\"UnionRenderers\",\"id\":\"p1158\"},\"data\":{\"type\":\"map\",\"entries\":[[\"x\",{\"type\":\"ndarray\",\"array\":{\"type\":\"bytes\",\"data\":\"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\"},\"shape\":[2688],\"dtype\":\"float64\",\"order\":\"little\"}],[\"y\",{\"type\":\"ndarray\",\"array\":{\"type\":\"bytes\",\"data\":\"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\"},\"shape\":[2688],\"dtype\":\"int32\",\"order\":\"little\"}]]}}},\"view\":{\"type\":\"object\",\"name\":\"CDSView\",\"id\":\"p1163\",\"attributes\":{\"filter\":{\"type\":\"object\",\"name\":\"AllIndices\",\"id\":\"p1164\"}}},\"glyph\":{\"type\":\"object\",\"name\":\"Line\",\"id\":\"p1159\",\"attributes\":{\"x\":{\"type\":\"field\",\"field\":\"x\"},\"y\":{\"type\":\"field\",\"field\":\"y\"},\"line_color\":\"blue\",\"line_width\":3}},\"nonselection_glyph\":{\"type\":\"object\",\"name\":\"Line\",\"id\":\"p1160\",\"attributes\":{\"x\":{\"type\":\"field\",\"field\":\"x\"},\"y\":{\"type\":\"field\",\"field\":\"y\"},\"line_color\":\"blue\",\"line_alpha\":0.1,\"line_width\":3}},\"muted_glyph\":{\"type\":\"object\",\"name\":\"Line\",\"id\":\"p1161\",\"attributes\":{\"x\":{\"type\":\"field\",\"field\":\"x\"},\"y\":{\"type\":\"field\",\"field\":\"y\"},\"line_color\":\"blue\",\"line_alpha\":0.2,\"line_width\":3}}}}],\"toolbar\":{\"type\":\"object\",\"name\":\"Toolbar\",\"id\":\"p1136\",\"attributes\":{\"tools\":[{\"type\":\"object\",\"name\":\"PanTool\",\"id\":\"p1149\"},{\"type\":\"object\",\"name\":\"WheelZoomTool\",\"id\":\"p1150\",\"attributes\":{\"renderers\":\"auto\"}},{\"type\":\"object\",\"name\":\"BoxZoomTool\",\"id\":\"p1151\",\"attributes\":{\"overlay\":{\"type\":\"object\",\"name\":\"BoxAnnotation\",\"id\":\"p1152\",\"attributes\":{\"syncable\":false,\"level\":\"overlay\",\"visible\":false,\"left_units\":\"canvas\",\"right_units\":\"canvas\",\"top_units\":\"canvas\",\"bottom_units\":\"canvas\",\"line_color\":\"black\",\"line_alpha\":1.0,\"line_width\":2,\"line_dash\":[4,4],\"fill_color\":\"lightgrey\",\"fill_alpha\":0.5}}}},{\"type\":\"object\",\"name\":\"SaveTool\",\"id\":\"p1153\"},{\"type\":\"object\",\"name\":\"ResetTool\",\"id\":\"p1154\"},{\"type\":\"object\",\"name\":\"HelpTool\",\"id\":\"p1155\"}]}},\"left\":[{\"type\":\"object\",\"name\":\"LinearAxis\",\"id\":\"p1144\",\"attributes\":{\"ticker\":{\"type\":\"object\",\"name\":\"BasicTicker\",\"id\":\"p1145\",\"attributes\":{\"mantissas\":[1,2,5]}},\"formatter\":{\"type\":\"object\",\"name\":\"BasicTickFormatter\",\"id\":\"p1146\"},\"major_label_policy\":{\"type\":\"object\",\"name\":\"AllLabels\",\"id\":\"p1147\"}}}],\"below\":[{\"type\":\"object\",\"name\":\"LinearAxis\",\"id\":\"p1139\",\"attributes\":{\"ticker\":{\"type\":\"object\",\"name\":\"BasicTicker\",\"id\":\"p1140\",\"attributes\":{\"mantissas\":[1,2,5]}},\"formatter\":{\"type\":\"object\",\"name\":\"BasicTickFormatter\",\"id\":\"p1141\"},\"major_label_policy\":{\"type\":\"object\",\"name\":\"AllLabels\",\"id\":\"p1142\"}}}],\"center\":[{\"type\":\"object\",\"name\":\"Grid\",\"id\":\"p1143\",\"attributes\":{\"axis\":{\"id\":\"p1139\"}}},{\"type\":\"object\",\"name\":\"Grid\",\"id\":\"p1148\",\"attributes\":{\"dimension\":1,\"axis\":{\"id\":\"p1144\"}}},{\"type\":\"object\",\"name\":\"Legend\",\"id\":\"p1165\",\"attributes\":{\"items\":[{\"type\":\"object\",\"name\":\"LegendItem\",\"id\":\"p1166\",\"attributes\":{\"label\":{\"type\":\"value\",\"value\":\"Input Signal\"},\"renderers\":[{\"id\":\"p1162\"}]}}]}}]}}]}};\n",
       "  const render_items = [{\"docid\":\"62217f04-dc50-49b2-a5aa-b28c05438990\",\"roots\":{\"p1127\":\"d4f34cb7-565e-447a-baab-6fdbada6e797\"},\"root_ids\":[\"p1127\"]}];\n",
       "  root.Bokeh.embed.embed_items_notebook(docs_json, render_items);\n",
       "  }\n",
       "  if (root.Bokeh !== undefined) {\n",
       "    embed_document(root);\n",
       "  } else {\n",
       "    let attempts = 0;\n",
       "    const timer = setInterval(function(root) {\n",
       "      if (root.Bokeh !== undefined) {\n",
       "        clearInterval(timer);\n",
       "        embed_document(root);\n",
       "      } else {\n",
       "        attempts++;\n",
       "        if (attempts > 100) {\n",
       "          clearInterval(timer);\n",
       "          console.log(\"Bokeh: ERROR: Unable to run BokehJS code because BokehJS library is missing\");\n",
       "        }\n",
       "      }\n",
       "    }, 10, root)\n",
       "  }\n",
       "})(window);"
      ],
      "application/vnd.bokehjs_exec.v0+json": ""
     },
     "metadata": {
      "application/vnd.bokehjs_exec.v0+json": {
       "id": "p1127"
      }
     },
     "output_type": "display_data"
    }
   ],
   "source": [
    "mod_samps = []\n",
    "with open('../../lib/HLS_QPSK_Demod/sim/0xDEADBEEF_Rx_Samps.dat') as mod:\n",
    "    mod_samps = mod.readlines()\n",
    "mod_samps = [line.rstrip('\\n') for line in mod_samps]\n",
    "\n",
    "mod_samps = np.array(mod_samps)\n",
    "mod_samps = mod_samps.astype('float64')*(2**fin_fBits)\n",
    "mod_samps = mod_samps.astype(np.int32)\n",
    "xi = mod_samps[0::2]\n",
    "xq = mod_samps[1::2]\n",
    "xiq = (xi<<16) + xq # pack I/Q 32-bit\n",
    "\n",
    "print(\"Number of I Samples Read: \" + str(len(xi)))\n",
    "print(\"Number of Q Samples Read: \" + str(len(xq)))\n",
    "print(\"Number Symbols          : \" + str(len(xq)/16))\n",
    "plot_time(xi)\n",
    "#print(hex(xi[1:10]))"
   ]
  },
  {
   "cell_type": "code",
   "execution_count": null,
   "metadata": {},
   "outputs": [],
   "source": [
    "qpsk_demod.mmio.write(qpsk_regmap.RegMap.AP_CONTROL_ADDR,0)\n",
    "print(qpsk_demod.mmio.read(qpsk_regmap.RegMap.AP_CONTROL_ADDR))"
   ]
  },
  {
   "cell_type": "markdown",
   "metadata": {},
   "source": [
    "### DMA Transfer the Sample buffer from ARM Processor to the HLS QPSK Demodulator"
   ]
  },
  {
   "cell_type": "code",
   "execution_count": 26,
   "metadata": {},
   "outputs": [
    {
     "name": "stdout",
     "output_type": "stream",
     "text": [
      "NumSamples = 2688\n",
      "NumSymboles = 42\n",
      "Done tranfer in_buffer\n",
      "Done send channel wait\n",
      "DMA Transfer Execution Time  : 0.003621339797973633  sec\n",
      "Sync Lock Indecator  : 1\n",
      "Symbols in the Buffer: 140\n"
     ]
    }
   ],
   "source": [
    "# 16 Samples Per Symbol, therefore create read buffer /16\n",
    "SamplesPerSym = 16\n",
    "NumSamples = len(xiq)\n",
    "NumSymbols = int(NumSamples/SamplesPerSym/4)\n",
    "print(\"NumSamples = \" + str(NumSamples))\n",
    "print(\"NumSymboles = \" + str(NumSymbols))\n",
    "\n",
    "# Clear the buffer write address\n",
    "qpsk_demod.mmio.write(qpsk_regmap.RegMap.WR_RAM_ADDR_CTRL_ADDR,1)\n",
    "\n",
    "# Configure Sync Word\n",
    "qpsk_demod.mmio.write(qpsk_regmap.RegMap.SYNC_RESET_ADDR,1)\n",
    "#qpsk_demod.mmio.write(qpsk_regmap.RegMap.SYNC_WORD_ADDR,0xDEADBEEF)\n",
    "qpsk_demod.mmio.write(qpsk_regmap.RegMap.SYNC_WORD_ADDR,0x6D75521E)\n",
    "\n",
    "# Allocate buffers for the input and output signals\n",
    "in_buffer = allocate(shape=(NumSamples,), dtype=np.int32)\n",
    "\n",
    "# Copy the samples to the in_buffer\n",
    "np.copyto(in_buffer,xiq)\n",
    "\n",
    "# Start HLS QPSK Demodulator\n",
    "qpsk_demod.mmio.write(qpsk_regmap.RegMap.AP_CONTROL_ADDR,0)\n",
    "qpsk_demod.mmio.write(qpsk_regmap.RegMap.AP_CONTROL_ADDR,1)\n",
    "\n",
    "# Trigger the DMA transfer and wait for the result\n",
    "import time\n",
    "start_time = time.time()\n",
    "dma.sendchannel.transfer(in_buffer)\n",
    "print(\"Done tranfer in_buffer\")\n",
    "dma.sendchannel.wait()\n",
    "print(\"Done send channel wait\")\n",
    "\n",
    "stop_time = time.time()\n",
    "hw_exec_time = stop_time-start_time\n",
    "\n",
    "print('DMA Transfer Execution Time  :',hw_exec_time,' sec')\n",
    "\n",
    "# Plot to the notebook\n",
    "#plot_time(t,samples,2000,out_signal=out_buffer)\n",
    "\n",
    "# Free the buffers\n",
    "in_buffer.close()\n",
    "\n",
    "print(\"Sync Lock Indecator  : \" + str(qpsk_demod.mmio.read(qpsk_regmap.RegMap.SYNC_LOCK_ADDR)))\n",
    "print(\"Symbols in the Buffer: \" + str(qpsk_demod.mmio.read(qpsk_regmap.RegMap.WR_RAM_ADDR)))\n"
   ]
  },
  {
   "cell_type": "markdown",
   "metadata": {},
   "source": [
    "### Read QPSK Demodulator Output Buffer"
   ]
  },
  {
   "cell_type": "code",
   "execution_count": 27,
   "metadata": {},
   "outputs": [
    {
     "name": "stdout",
     "output_type": "stream",
     "text": [
      "Number of DWORDs to Read: 8\n",
      "0xdeadbeef\n",
      "0xdeadbeef\n",
      "0xdeadbeef\n",
      "0xdeadbeef\n",
      "0xdeadbeef\n",
      "0xdeadbeef\n",
      "0xdeadbeef\n",
      "0xdeadbeef\n"
     ]
    }
   ],
   "source": [
    "rd_len = int(qpsk_demod.mmio.read(qpsk_regmap.RegMap.WR_RAM_ADDR)/SamplesPerSym)\n",
    "print(\"Number of DWORDs to Read: \" + str(rd_len))\n",
    "dout = []\n",
    "for i in range(rd_len):\n",
    "    qpsk_demod.mmio.write(qpsk_regmap.RegMap.RD_RAM_ADDR_ADDR,i)\n",
    "    dout.append(qpsk_demod.mmio.read(qpsk_regmap.RegMap.RD_RAM_DATA_ADDR))\n",
    "    \n",
    "for i in dout:\n",
    "    print(str(hex(i)))"
   ]
  },
  {
   "cell_type": "markdown",
   "metadata": {},
   "source": [
    "#### Clear QPSK Demodulator Output Buffer Pointer"
   ]
  },
  {
   "cell_type": "code",
   "execution_count": null,
   "metadata": {},
   "outputs": [],
   "source": [
    "print(\"WR Capture Address: \" + str(qpsk_demod.mmio.read(qpsk_regmap.RegMap.WR_RAM_ADDR)))\n",
    "print(\"RD Capture Address: \" + str(qpsk_demod.mmio.read(qpsk_regmap.RegMap.RD_RAM_ADDR_ADDR)))\n",
    "qpsk_demod.mmio.write(qpsk_regmap.RegMap.WR_RAM_ADDR_CTRL_ADDR,1)\n",
    "print(\"WR Capture Address: \" + str(qpsk_demod.mmio.read(qpsk_regmap.RegMap.WR_RAM_ADDR)))\n",
    "print(\"SYNC Lock         : \" + str(qpsk_demod.mmio.read(qpsk_regmap.RegMap.SYNC_LOCK_ADDR)))\n",
    "qpsk_demod.mmio.write(qpsk_regmap.RegMap.SYNC_RESET_ADDR,1)\n",
    "print(\"SYNC Lock         : \" + str(qpsk_demod.mmio.read(qpsk_regmap.RegMap.SYNC_LOCK_ADDR)))"
   ]
  },
  {
   "cell_type": "code",
   "execution_count": null,
   "metadata": {},
   "outputs": [],
   "source": []
  }
 ],
 "metadata": {
  "kernelspec": {
   "display_name": "Python 3 (ipykernel)",
   "language": "python",
   "name": "python3"
  },
  "language_info": {
   "codemirror_mode": {
    "name": "ipython",
    "version": 3
   },
   "file_extension": ".py",
   "mimetype": "text/x-python",
   "name": "python",
   "nbconvert_exporter": "python",
   "pygments_lexer": "ipython3",
   "version": "3.10.12"
  }
 },
 "nbformat": 4,
 "nbformat_minor": 4
}
