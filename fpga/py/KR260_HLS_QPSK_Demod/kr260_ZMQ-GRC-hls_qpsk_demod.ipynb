{
 "cells": [
  {
   "cell_type": "markdown",
   "metadata": {},
   "source": [
    "# KR260 HLS QPSK Demod with GNURadio\n",
    "\n",
    "This notebook verifies GNU Radio with the Kria PYNQ FPGA board with the QPSK Demodulator FPGA IP Core.\n",
    "\n",
    "\n",
    "## Setup\n",
    "\n",
    "### Requirements\n",
    "#### Python Packages\n",
    "Install the following:\n",
    "\n",
    "```bash\n",
    "pip install ipympl\n",
    "pip install ipywidgets\n",
    "pip install jupyter_bokeh\n",
    "```\n",
    "#### GNU Radio\n",
    "This notebook uses the `/host/grc/HSL_QPSK_Demod/HLS_QPSK_Modulator.grc` GNURadio Compaion Flowgraph.  The IP Addresses will need to be updated for a new lab setup.\n",
    "\n",
    "### Mounting Development Machine\n",
    "This notebook utilizes `sshfs` to mount the development directory on the KR260 board to avoid transferring files bewteen machines.  \n",
    "\n",
    "The development machine that was used to build the KR260 FPGA image is named `dev-wks`.  To mount the development directory on `dev-wks`, first will need to create a folder to mount the directory, then execute the following from the Jupyter Terminal:\n",
    "\n",
    "```bash\n",
    "cd /home/root/jupyter_notebooks\n",
    "mkdir puch\n",
    "sshfs sdr@dev-wks:/home/sdr/workspace/puch-workspace/HLS-QPSK-Demod-Baseband_002 /home/root/jupyter_notebooks/puch\n",
    "```\n",
    "\n",
    "If `sshfs` is not installed, then execute `sudo apt install sshfs` on the Jupyter Terminal.\n",
    "\n",
    "### Unmounting Development Machine\n",
    "To unmount the directory\n",
    "` fusermount -u /home/root/jupyter_notebooks/dev-wks/`\n",
    "\n",
    "\n",
    "### Plot function for use in this notebook\n",
    "The first code block below defines a function that we will use for plotting data throughout this notebook. Note that the function has a `n_samples` argument so that we can limit the number of samples to plot. Plotting more than a few thousand samples can be very slow and consume a lot of RAM.\n",
    "\n"
   ]
  },
  {
   "cell_type": "markdown",
   "metadata": {},
   "source": [
    "# Initilize\n",
    "\n",
    "#### Bokeh Plot Function"
   ]
  },
  {
   "cell_type": "code",
   "execution_count": null,
   "metadata": {},
   "outputs": [],
   "source": [
    "from bokeh.plotting import figure, output_file, show\n",
    "from bokeh.io import output_notebook, show\n",
    "import numpy as np\n",
    "import math\n",
    "import zmq\n",
    "import sys\n",
    "import ipywidgets as widgets\n",
    "from ipywidgets import HBox, VBox\n",
    "import threading\n",
    "\n",
    "def plot_time(in_signal,out_signal=None):\n",
    "    t = np.linspace(0,len(in_signal),len(in_signal))\n",
    "    output_notebook()\n",
    "    p = figure(title = \"Input & Output Signal\")\n",
    "    \n",
    "    if out_signal is not None:\n",
    "        p.line(t,out_signal,legend_label=\"Output Signal\",line_color=\"red\",line_width=1)\n",
    "    p.line(t,in_signal,legend_label=\"Input Signal\",line_color=\"blue\",line_width=3)\n",
    "    show(p)"
   ]
  },
  {
   "cell_type": "markdown",
   "metadata": {},
   "source": [
    "### Create a PUSH Socket (Not Used, but keeping for  reference)\n"
   ]
  },
  {
   "cell_type": "code",
   "execution_count": null,
   "metadata": {},
   "outputs": [],
   "source": [
    "_PROTOCOL = \"tcp://\"\n",
    "_SERVER = \"192.168.1.233\"          # PYNQ Board\n",
    "_PUSH_PORT = \":20000\"\n",
    "_PUSH_ADDR = _PROTOCOL + _SERVER + _PUSH_PORT\n",
    "push_context = zmq.Context()\n",
    "push_sock = push_context.socket (zmq.PUSH)\n",
    "rc = push_sock.bind (_PUSH_ADDR)\n"
   ]
  },
  {
   "cell_type": "markdown",
   "metadata": {},
   "source": [
    "### Create a PULL Socket"
   ]
  },
  {
   "cell_type": "code",
   "execution_count": null,
   "metadata": {},
   "outputs": [],
   "source": [
    "_PROTOCOL = \"tcp://\"\n",
    "_SERVER = \"192.168.1.13\"          # Host Computer\n",
    "_PULL_PORT = \":10000\"\n",
    "_PULL_ADDR = _PROTOCOL + _SERVER + _PULL_PORT\n",
    "pull_context = zmq.Context()\n",
    "pull_sock = pull_context.socket (zmq.PULL)\n",
    "pull_sock.setsockopt(zmq.RCVBUF, 1024*1024)\n",
    "rc = pull_sock.connect (_PULL_ADDR)"
   ]
  },
  {
   "cell_type": "markdown",
   "metadata": {},
   "source": [
    "#### Load Overlay"
   ]
  },
  {
   "cell_type": "code",
   "execution_count": null,
   "metadata": {},
   "outputs": [],
   "source": [
    "from pynq import Overlay\n",
    "from pynq import allocate\n",
    "from pynq import MMIO\n",
    "import pynq.lib.dma\n",
    "import time\n",
    "\n",
    "#import Python library from repo:\n",
    "import sys\n",
    "sys.path.append('/home/root/jupyter_notebooks/puch/')\n",
    "import fpga.py.puch as puch\n",
    "import fpga.lib.timestamp.sw.timestamp_regmap as timestamp_regmap\n",
    "import fpga.lib.led_reg.sw.led_regmap as led_regmap\n",
    "import fpga.lib.HLS_QPSK_Demod.sw.qpsk_regmap as qpsk_regmap\n",
    "\n",
    "\n",
    "# Load the overlay\n",
    "overlay = Overlay('../../overlays/KR260_HLS_QPSK_Demod/output/kr260_hls_qpsk_demod.bit')\n",
    "\n",
    "# Assign blocks to short vars\n",
    "dma          = overlay.axi_dma_0\n",
    "led_module   = overlay.led_reg_0\n",
    "timestamp    = overlay.Timestamp_0\n",
    "qpsk_demod   = overlay.QPSK_Demod_Top_0\n",
    "\n",
    "# Configure QPSK Syncword, and reset sync lock\n",
    "qpsk_demod.mmio.write(qpsk_regmap.RegMap.SYNC_WORD_ADDR,0xDEADBEEF)\n",
    "qpsk_demod.mmio.write(qpsk_regmap.RegMap.SYNC_RESET_ADDR,1)\n",
    "\n",
    "# Read the data path formats\n",
    "fin_tBits, fin_fBits = puch.get_format(qpsk_demod,qpsk_regmap.RegMap.F_IN_ADDR)\n",
    "print(\"F_IN : (\" + str(fin_tBits) + \", \" + str(fin_fBits) + \")\")\n",
    "fout_tBits, fout_fBits = puch.get_format(qpsk_demod,qpsk_regmap.RegMap.F_OUT_ADDR)\n",
    "print(\"F_IN : (\" + str(fout_tBits) + \", \" + str(fout_fBits) + \")\")"
   ]
  },
  {
   "cell_type": "markdown",
   "metadata": {},
   "source": [
    "##### Display Time Stamp Register\n",
    "The time stamp is burned into the FPGA during the build process"
   ]
  },
  {
   "cell_type": "code",
   "execution_count": null,
   "metadata": {},
   "outputs": [],
   "source": [
    "print(\"FPGA Build Timestamp:  \" + puch.get_timestamp_str(timestamp))"
   ]
  },
  {
   "cell_type": "markdown",
   "metadata": {},
   "source": [
    "### Read I/Q from ZMQ Socket from GNURadio"
   ]
  },
  {
   "cell_type": "code",
   "execution_count": null,
   "metadata": {},
   "outputs": [],
   "source": [
    "data = pull_sock.recv()\n",
    "data = np.frombuffer(data, dtype=np.complex64, count=1024*2) # Read 128 Symbols\n",
    "data = np.array(data)\n",
    "data = data.astype('complex64')*(2**fin_fBits)\n",
    "xi = data.real\n",
    "xq = data.imag\n",
    "xi = xi.astype(np.int32)\n",
    "xq = xq.astype(np.int32)\n",
    "xiq = (xi<<16) + xq\n",
    "plot_time(xi)"
   ]
  },
  {
   "cell_type": "markdown",
   "metadata": {},
   "source": [
    "### DMA Transfer the Sample buffer from ARM Processor to the HLS QPSK Demodulator"
   ]
  },
  {
   "cell_type": "code",
   "execution_count": null,
   "metadata": {},
   "outputs": [],
   "source": [
    "# 16 Samples Per Symbol, therefore create read buffer /16\n",
    "SamplesPerSym = 16\n",
    "NumSamples = len(xiq)\n",
    "NumSymbols = int(NumSamples/SamplesPerSym/4)\n",
    "print(\"NumSamples = \" + str(NumSamples))\n",
    "print(\"NumSymboles = \" + str(NumSymbols))\n",
    "\n",
    "# Clear the buffer write address\n",
    "qpsk_demod.mmio.write(qpsk_regmap.RegMap.WR_RAM_ADDR_CTRL_ADDR,1)\n",
    "\n",
    "# Configure Sync Word\n",
    "qpsk_demod.mmio.write(qpsk_regmap.RegMap.SYNC_RESET_ADDR,1)\n",
    "qpsk_demod.mmio.write(qpsk_regmap.RegMap.SYNC_WORD_ADDR,0xDEADBEEF)\n",
    "\n",
    "# Allocate buffers for the input and output signals\n",
    "in_buffer = allocate(shape=(NumSamples,), dtype=np.int32)\n",
    "\n",
    "# Copy the samples to the in_buffer\n",
    "np.copyto(in_buffer,xiq)\n",
    "\n",
    "# Start HLS QPSK Demodulator\n",
    "qpsk_demod.mmio.write(qpsk_regmap.RegMap.AP_CONTROL_ADDR,0)\n",
    "qpsk_demod.mmio.write(qpsk_regmap.RegMap.AP_CONTROL_ADDR,1)\n",
    "\n",
    "# Trigger the DMA transfer and wait for the result\n",
    "import time\n",
    "start_time = time.time()\n",
    "dma.sendchannel.transfer(in_buffer)\n",
    "print(\"Done tranfer in_buffer\")\n",
    "dma.sendchannel.wait()\n",
    "print(\"Done send channel wait\")\n",
    "\n",
    "stop_time = time.time()\n",
    "hw_exec_time = stop_time-start_time\n",
    "\n",
    "print('DMA Transfer Execution Time  :',hw_exec_time,' sec')\n",
    "\n",
    "# Plot to the notebook\n",
    "#plot_time(t,samples,2000,out_signal=out_buffer)\n",
    "\n",
    "# Free the buffers\n",
    "in_buffer.close()\n",
    "\n",
    "print(\"Sync Lock Indecator  : \" + str(qpsk_demod.mmio.read(qpsk_regmap.RegMap.SYNC_LOCK_ADDR)))\n",
    "print(\"Symbols in the Buffer: \" + str(qpsk_demod.mmio.read(qpsk_regmap.RegMap.WR_RAM_ADDR)))\n"
   ]
  },
  {
   "cell_type": "markdown",
   "metadata": {},
   "source": [
    "### Read QPSK Demodulator Output Buffer"
   ]
  },
  {
   "cell_type": "code",
   "execution_count": null,
   "metadata": {},
   "outputs": [],
   "source": [
    "rd_len = int(qpsk_demod.mmio.read(qpsk_regmap.RegMap.WR_RAM_ADDR)/SamplesPerSym)\n",
    "print(\"Number of DWORDs to Read: \" + str(rd_len))\n",
    "dout = []\n",
    "for i in range(rd_len):\n",
    "    qpsk_demod.mmio.write(qpsk_regmap.RegMap.RD_RAM_ADDR_ADDR,i)\n",
    "    dout.append(qpsk_demod.mmio.read(qpsk_regmap.RegMap.RD_RAM_DATA_ADDR))\n",
    "    \n",
    "for i in dout:\n",
    "    print(str(hex(i)))"
   ]
  },
  {
   "cell_type": "markdown",
   "metadata": {},
   "source": [
    "#### Clear QPSK Demodulator Output Buffer Pointer"
   ]
  },
  {
   "cell_type": "code",
   "execution_count": null,
   "metadata": {},
   "outputs": [],
   "source": [
    "print(\"WR Capture Address: \" + str(qpsk_demod.mmio.read(qpsk_regmap.RegMap.WR_RAM_ADDR)))\n",
    "print(\"RD Capture Address: \" + str(qpsk_demod.mmio.read(qpsk_regmap.RegMap.RD_RAM_ADDR_ADDR)))\n",
    "qpsk_demod.mmio.write(qpsk_regmap.RegMap.WR_RAM_ADDR_CTRL_ADDR,1)\n",
    "print(\"WR Capture Address: \" + str(qpsk_demod.mmio.read(qpsk_regmap.RegMap.WR_RAM_ADDR)))\n",
    "print(\"SYNC Lock         : \" + str(qpsk_demod.mmio.read(qpsk_regmap.RegMap.SYNC_LOCK_ADDR)))\n",
    "qpsk_demod.mmio.write(qpsk_regmap.RegMap.SYNC_RESET_ADDR,1)\n",
    "print(\"SYNC Lock         : \" + str(qpsk_demod.mmio.read(qpsk_regmap.RegMap.SYNC_LOCK_ADDR)))"
   ]
  },
  {
   "cell_type": "code",
   "execution_count": null,
   "metadata": {},
   "outputs": [],
   "source": []
  }
 ],
 "metadata": {
  "kernelspec": {
   "display_name": "Python 3 (ipykernel)",
   "language": "python",
   "name": "python3"
  },
  "language_info": {
   "codemirror_mode": {
    "name": "ipython",
    "version": 3
   },
   "file_extension": ".py",
   "mimetype": "text/x-python",
   "name": "python",
   "nbconvert_exporter": "python",
   "pygments_lexer": "ipython3",
   "version": "3.10.12"
  }
 },
 "nbformat": 4,
 "nbformat_minor": 4
}
