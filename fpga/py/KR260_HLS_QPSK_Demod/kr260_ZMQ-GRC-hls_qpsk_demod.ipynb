{
 "cells": [
  {
   "cell_type": "markdown",
   "metadata": {},
   "source": [
    "# KR260 HLS QPSK Demod with GNURadio\n",
    "\n",
    "## Setup\n",
    "\n",
    "### Mounting Development Machine\n",
    "This notebook utilizes `sshfs` to mount the development directory on the KR260 board to avoid transferring files bewteen machines.  \n",
    "\n",
    "The development machine that was used to build the KR260 FPGA image is named `dev-wks`.  To mount the development directory on `dev-wks`, first will need to create a folder to mount the directory, then execute the following from the Jupyter Terminal:\n",
    "\n",
    "```bash\n",
    "cd /home/root/jupyter_notebooks\n",
    "mkdir puch\n",
    "sshfs sdr@dev-wks:/home/sdr/workspace/puch-workspace/HLS-QPSK-Demod-Baseband_002 /home/root/jupyter_notebooks/puch\n",
    "```\n",
    "\n",
    "If `sshfs` is not installed, then execute `sudo apt install sshfs` on the Jupyter Terminal.\n",
    "\n",
    "### Unmounting Development Machine\n",
    "To unmount the directory\n",
    "` fusermount -u /home/root/jupyter_notebooks/dev-wks/`\n",
    "\n",
    "\n",
    "### Plot function for use in this notebook\n",
    "The first code block below defines a function that we will use for plotting data throughout this notebook. Note that the function has a `n_samples` argument so that we can limit the number of samples to plot. Plotting more than a few thousand samples can be very slow and consume a lot of RAM.\n",
    "\n",
    "### Requirements\n",
    "Install the following:\n",
    "\n",
    "```bash\n",
    "pip install ipympl\n",
    "pip install ipywidgets\n",
    "pip install jupyter_bokeh\n",
    "```"
   ]
  },
  {
   "cell_type": "markdown",
   "metadata": {},
   "source": [
    "# Initilize\n",
    "\n",
    "#### Bokeh Plot Function"
   ]
  },
  {
   "cell_type": "code",
   "execution_count": 1,
   "metadata": {},
   "outputs": [],
   "source": [
    "from bokeh.plotting import figure, output_file, show\n",
    "from bokeh.io import output_notebook, show\n",
    "import numpy as np\n",
    "import math\n",
    "import zmq\n",
    "import sys\n",
    "import ipywidgets as widgets\n",
    "from ipywidgets import HBox, VBox\n",
    "import threading\n",
    "\n",
    "def plot_time(in_signal,out_signal=None):\n",
    "    t = np.linspace(0,len(in_signal),len(in_signal))\n",
    "    output_notebook()\n",
    "    p = figure(title = \"Input & Output Signal\")\n",
    "    \n",
    "    if out_signal is not None:\n",
    "        p.line(t,out_signal,legend_label=\"Output Signal\",line_color=\"red\",line_width=1)\n",
    "    p.line(t,in_signal,legend_label=\"Input Signal\",line_color=\"blue\",line_width=3)\n",
    "    show(p)"
   ]
  },
  {
   "cell_type": "markdown",
   "metadata": {},
   "source": [
    "### Create a PUSH Socket\n"
   ]
  },
  {
   "cell_type": "code",
   "execution_count": null,
   "metadata": {},
   "outputs": [],
   "source": [
    "_PROTOCOL = \"tcp://\"\n",
    "_SERVER = \"192.168.1.233\"          # PYNQ Board\n",
    "_PUSH_PORT = \":20000\"\n",
    "_PUSH_ADDR = _PROTOCOL + _SERVER + _PUSH_PORT\n",
    "push_context = zmq.Context()\n",
    "push_sock = push_context.socket (zmq.PUSH)\n",
    "rc = push_sock.bind (_PUSH_ADDR)\n"
   ]
  },
  {
   "cell_type": "markdown",
   "metadata": {},
   "source": [
    "### Create a PULL Socket"
   ]
  },
  {
   "cell_type": "code",
   "execution_count": 2,
   "metadata": {},
   "outputs": [],
   "source": [
    "_PROTOCOL = \"tcp://\"\n",
    "_SERVER = \"192.168.1.13\"          # Host Computer\n",
    "_PULL_PORT = \":10000\"\n",
    "_PULL_ADDR = _PROTOCOL + _SERVER + _PULL_PORT\n",
    "pull_context = zmq.Context()\n",
    "pull_sock = pull_context.socket (zmq.PULL)\n",
    "pull_sock.setsockopt(zmq.RCVBUF, 1024*1024)\n",
    "rc = pull_sock.connect (_PULL_ADDR)"
   ]
  },
  {
   "cell_type": "markdown",
   "metadata": {},
   "source": [
    "#### Load Overlay"
   ]
  },
  {
   "cell_type": "code",
   "execution_count": 3,
   "metadata": {},
   "outputs": [
    {
     "data": {
      "application/javascript": [
       "\n",
       "try {\n",
       "require(['notebook/js/codecell'], function(codecell) {\n",
       "  codecell.CodeCell.options_default.highlight_modes[\n",
       "      'magic_text/x-csrc'] = {'reg':[/^%%microblaze/]};\n",
       "  Jupyter.notebook.events.one('kernel_ready.Kernel', function(){\n",
       "      Jupyter.notebook.get_cells().map(function(cell){\n",
       "          if (cell.cell_type == 'code'){ cell.auto_highlight(); } }) ;\n",
       "  });\n",
       "});\n",
       "} catch (e) {};\n"
      ]
     },
     "metadata": {},
     "output_type": "display_data"
    },
    {
     "data": {
      "application/javascript": [
       "\n",
       "try {\n",
       "require(['notebook/js/codecell'], function(codecell) {\n",
       "  codecell.CodeCell.options_default.highlight_modes[\n",
       "      'magic_text/x-csrc'] = {'reg':[/^%%pybind11/]};\n",
       "  Jupyter.notebook.events.one('kernel_ready.Kernel', function(){\n",
       "      Jupyter.notebook.get_cells().map(function(cell){\n",
       "          if (cell.cell_type == 'code'){ cell.auto_highlight(); } }) ;\n",
       "  });\n",
       "});\n",
       "} catch (e) {};\n"
      ]
     },
     "metadata": {},
     "output_type": "display_data"
    }
   ],
   "source": [
    "from pynq import Overlay\n",
    "from pynq import allocate\n",
    "from pynq import MMIO\n",
    "import pynq.lib.dma\n",
    "import time\n",
    "\n",
    "#import Python library from repo:\n",
    "import sys\n",
    "sys.path.append('/home/root/jupyter_notebooks/puch/')\n",
    "import fpga.py.puch as puch\n",
    "import fpga.lib.timestamp.sw.timestamp_regmap as timestamp_regmap\n",
    "import fpga.lib.led_reg.sw.led_regmap as led_regmap\n",
    "import fpga.lib.HLS_QPSK_Demod.sw.qpsk_regmap as qpsk_regmap\n",
    "\n",
    "\n",
    "# Load the overlay\n",
    "overlay = Overlay('../../overlays/KR260_HLS_QPSK_Demod/output/kr260_hls_qpsk_demod.bit')\n",
    "\n",
    "# Assign blocks to short vars\n",
    "dma          = overlay.axi_dma_0\n",
    "led_module   = overlay.led_reg_0\n",
    "timestamp    = overlay.Timestamp_0\n",
    "qpsk_demod   = overlay.QPSK_Demod_Top_0\n",
    "\n",
    "# Configure QPSK Syncword, and reset sync lock\n",
    "qpsk_demod.mmio.write(qpsk_regmap.RegMap.SYNC_WORD_ADDR,0xDEADBEEF)\n",
    "qpsk_demod.mmio.write(qpsk_regmap.RegMap.SYNC_RESET_ADDR,1)"
   ]
  },
  {
   "cell_type": "markdown",
   "metadata": {},
   "source": [
    "##### Print out the register map for DMA and HLS Gain Blocks"
   ]
  },
  {
   "cell_type": "code",
   "execution_count": null,
   "metadata": {},
   "outputs": [],
   "source": [
    "overlay.ip_dict"
   ]
  },
  {
   "cell_type": "markdown",
   "metadata": {},
   "source": [
    "##### Display Time Stamp Register\n",
    "The time stamp is burned into the FPGA during the build process"
   ]
  },
  {
   "cell_type": "code",
   "execution_count": 4,
   "metadata": {},
   "outputs": [
    {
     "name": "stdout",
     "output_type": "stream",
     "text": [
      "FPGA Build Timestamp:  2025/3/14 3:46:48\n"
     ]
    }
   ],
   "source": [
    "print(\"FPGA Build Timestamp:  \" + puch.get_timestamp_str(timestamp))"
   ]
  },
  {
   "cell_type": "markdown",
   "metadata": {},
   "source": [
    "##### Toggle USER_LED[1:0] on/off"
   ]
  },
  {
   "cell_type": "code",
   "execution_count": null,
   "metadata": {},
   "outputs": [],
   "source": [
    "for i in range(10):\n",
    "    led_module.mmio.write(led_regmap.RegMap.USER_LEDS_ADDR,0x1)\n",
    "    time.sleep(0.25)\n",
    "    led_module.mmio.write(led_regmap.RegMap.USER_LEDS_ADDR,0x2)\n",
    "    time.sleep(0.25)\n",
    "led_module.mmio.write(led_regmap.RegMap.USER_LEDS_ADDR,0x0)"
   ]
  },
  {
   "cell_type": "markdown",
   "metadata": {},
   "source": [
    "### Configure the QPSK Demod Control Register\n",
    "\n",
    "Want to enable auto restart, so the FPGA block will always be read to receive samples\n"
   ]
  },
  {
   "cell_type": "code",
   "execution_count": 4,
   "metadata": {},
   "outputs": [
    {
     "name": "stdout",
     "output_type": "stream",
     "text": [
      "F_IN : (16, 12)\n",
      "F_IN : (16, 12)\n"
     ]
    }
   ],
   "source": [
    "fin_tBits, fin_fBits = puch.get_format(qpsk_demod,qpsk_regmap.RegMap.F_IN_ADDR)\n",
    "print(\"F_IN : (\" + str(fin_tBits) + \", \" + str(fin_fBits) + \")\")\n",
    "fout_tBits, fout_fBits = puch.get_format(qpsk_demod,qpsk_regmap.RegMap.F_OUT_ADDR)\n",
    "print(\"F_IN : (\" + str(fout_tBits) + \", \" + str(fout_fBits) + \")\")"
   ]
  },
  {
   "cell_type": "markdown",
   "metadata": {},
   "source": [
    "### Read I/Q from ZMQ Socket from GNURadio"
   ]
  },
  {
   "cell_type": "code",
   "execution_count": 5,
   "metadata": {},
   "outputs": [
    {
     "data": {
      "text/html": [
       "<style>\n",
       "        .bk-notebook-logo {\n",
       "            display: block;\n",
       "            width: 20px;\n",
       "            height: 20px;\n",
       "            background-image: url(data:image/png;base64,iVBORw0KGgoAAAANSUhEUgAAABQAAAAUCAYAAACNiR0NAAAABHNCSVQICAgIfAhkiAAAAAlwSFlzAAALEgAACxIB0t1+/AAAABx0RVh0U29mdHdhcmUAQWRvYmUgRmlyZXdvcmtzIENTNui8sowAAAOkSURBVDiNjZRtaJVlGMd/1/08zzln5zjP1LWcU9N0NkN8m2CYjpgQYQXqSs0I84OLIC0hkEKoPtiH3gmKoiJDU7QpLgoLjLIQCpEsNJ1vqUOdO7ppbuec5+V+rj4ctwzd8IIbbi6u+8f1539dt3A78eXC7QizUF7gyV1fD1Yqg4JWz84yffhm0qkFqBogB9rM8tZdtwVsPUhWhGcFJngGeWrPzHm5oaMmkfEg1usvLFyc8jLRqDOMru7AyC8saQr7GG7f5fvDeH7Ej8CM66nIF+8yngt6HWaKh7k49Soy9nXurCi1o3qUbS3zWfrYeQDTB/Qj6kX6Ybhw4B+bOYoLKCC9H3Nu/leUTZ1JdRWkkn2ldcCamzrcf47KKXdAJllSlxAOkRgyHsGC/zRday5Qld9DyoM4/q/rUoy/CXh3jzOu3bHUVZeU+DEn8FInkPBFlu3+nW3Nw0mk6vCDiWg8CeJaxEwuHS3+z5RgY+YBR6V1Z1nxSOfoaPa4LASWxxdNp+VWTk7+4vzaou8v8PN+xo+KY2xsw6une2frhw05CTYOmQvsEhjhWjn0bmXPjpE1+kplmmkP3suftwTubK9Vq22qKmrBhpY4jvd5afdRA3wGjFAgcnTK2s4hY0/GPNIb0nErGMCRxWOOX64Z8RAC4oCXdklmEvcL8o0BfkNK4lUg9HTl+oPlQxdNo3Mg4Nv175e/1LDGzZen30MEjRUtmXSfiTVu1kK8W4txyV6BMKlbgk3lMwYCiusNy9fVfvvwMxv8Ynl6vxoByANLTWplvuj/nF9m2+PDtt1eiHPBr1oIfhCChQMBw6Aw0UulqTKZdfVvfG7VcfIqLG9bcldL/+pdWTLxLUy8Qq38heUIjh4XlzZxzQm19lLFlr8vdQ97rjZVOLf8nclzckbcD4wxXMidpX30sFd37Fv/GtwwhzhxGVAprjbg0gCAEeIgwCZyTV2Z1REEW8O4py0wsjeloKoMr6iCY6dP92H6Vw/oTyICIthibxjm/DfN9lVz8IqtqKYLUXfoKVMVQVVJOElGjrnnUt9T9wbgp8AyYKaGlqingHZU/uG2NTZSVqwHQTWkx9hxjkpWDaCg6Ckj5qebgBVbT3V3NNXMSiWSDdGV3hrtzla7J+duwPOToIg42ChPQOQjspnSlp1V+Gjdged7+8UN5CRAV7a5EdFNwCjEaBR27b3W890TE7g24NAP/mMDXRWrGoFPQI9ls/MWO2dWFAar/xcOIImbbpA3zgAAAABJRU5ErkJggg==);\n",
       "        }\n",
       "    </style>\n",
       "    <div>\n",
       "        <a href=\"https://bokeh.org\" target=\"_blank\" class=\"bk-notebook-logo\"></a>\n",
       "        <span id=\"a4318122-cc95-47e4-b5cf-5224b7921e54\">Loading BokehJS ...</span>\n",
       "    </div>\n"
      ]
     },
     "metadata": {},
     "output_type": "display_data"
    },
    {
     "data": {
      "application/javascript": [
       "(function(root) {\n",
       "  function now() {\n",
       "    return new Date();\n",
       "  }\n",
       "\n",
       "  const force = true;\n",
       "\n",
       "  if (typeof root._bokeh_onload_callbacks === \"undefined\" || force === true) {\n",
       "    root._bokeh_onload_callbacks = [];\n",
       "    root._bokeh_is_loading = undefined;\n",
       "  }\n",
       "\n",
       "const JS_MIME_TYPE = 'application/javascript';\n",
       "  const HTML_MIME_TYPE = 'text/html';\n",
       "  const EXEC_MIME_TYPE = 'application/vnd.bokehjs_exec.v0+json';\n",
       "  const CLASS_NAME = 'output_bokeh rendered_html';\n",
       "\n",
       "  /**\n",
       "   * Render data to the DOM node\n",
       "   */\n",
       "  function render(props, node) {\n",
       "    const script = document.createElement(\"script\");\n",
       "    node.appendChild(script);\n",
       "  }\n",
       "\n",
       "  /**\n",
       "   * Handle when an output is cleared or removed\n",
       "   */\n",
       "  function handleClearOutput(event, handle) {\n",
       "    function drop(id) {\n",
       "      const view = Bokeh.index.get_by_id(id)\n",
       "      if (view != null) {\n",
       "        view.model.document.clear()\n",
       "        Bokeh.index.delete(view)\n",
       "      }\n",
       "    }\n",
       "\n",
       "    const cell = handle.cell;\n",
       "\n",
       "    const id = cell.output_area._bokeh_element_id;\n",
       "    const server_id = cell.output_area._bokeh_server_id;\n",
       "\n",
       "    // Clean up Bokeh references\n",
       "    if (id != null) {\n",
       "      drop(id)\n",
       "    }\n",
       "\n",
       "    if (server_id !== undefined) {\n",
       "      // Clean up Bokeh references\n",
       "      const cmd_clean = \"from bokeh.io.state import curstate; print(curstate().uuid_to_server['\" + server_id + \"'].get_sessions()[0].document.roots[0]._id)\";\n",
       "      cell.notebook.kernel.execute(cmd_clean, {\n",
       "        iopub: {\n",
       "          output: function(msg) {\n",
       "            const id = msg.content.text.trim()\n",
       "            drop(id)\n",
       "          }\n",
       "        }\n",
       "      });\n",
       "      // Destroy server and session\n",
       "      const cmd_destroy = \"import bokeh.io.notebook as ion; ion.destroy_server('\" + server_id + \"')\";\n",
       "      cell.notebook.kernel.execute(cmd_destroy);\n",
       "    }\n",
       "  }\n",
       "\n",
       "  /**\n",
       "   * Handle when a new output is added\n",
       "   */\n",
       "  function handleAddOutput(event, handle) {\n",
       "    const output_area = handle.output_area;\n",
       "    const output = handle.output;\n",
       "\n",
       "    // limit handleAddOutput to display_data with EXEC_MIME_TYPE content only\n",
       "    if ((output.output_type != \"display_data\") || (!Object.prototype.hasOwnProperty.call(output.data, EXEC_MIME_TYPE))) {\n",
       "      return\n",
       "    }\n",
       "\n",
       "    const toinsert = output_area.element.find(\".\" + CLASS_NAME.split(' ')[0]);\n",
       "\n",
       "    if (output.metadata[EXEC_MIME_TYPE][\"id\"] !== undefined) {\n",
       "      toinsert[toinsert.length - 1].firstChild.textContent = output.data[JS_MIME_TYPE];\n",
       "      // store reference to embed id on output_area\n",
       "      output_area._bokeh_element_id = output.metadata[EXEC_MIME_TYPE][\"id\"];\n",
       "    }\n",
       "    if (output.metadata[EXEC_MIME_TYPE][\"server_id\"] !== undefined) {\n",
       "      const bk_div = document.createElement(\"div\");\n",
       "      bk_div.innerHTML = output.data[HTML_MIME_TYPE];\n",
       "      const script_attrs = bk_div.children[0].attributes;\n",
       "      for (let i = 0; i < script_attrs.length; i++) {\n",
       "        toinsert[toinsert.length - 1].firstChild.setAttribute(script_attrs[i].name, script_attrs[i].value);\n",
       "        toinsert[toinsert.length - 1].firstChild.textContent = bk_div.children[0].textContent\n",
       "      }\n",
       "      // store reference to server id on output_area\n",
       "      output_area._bokeh_server_id = output.metadata[EXEC_MIME_TYPE][\"server_id\"];\n",
       "    }\n",
       "  }\n",
       "\n",
       "  function register_renderer(events, OutputArea) {\n",
       "\n",
       "    function append_mime(data, metadata, element) {\n",
       "      // create a DOM node to render to\n",
       "      const toinsert = this.create_output_subarea(\n",
       "        metadata,\n",
       "        CLASS_NAME,\n",
       "        EXEC_MIME_TYPE\n",
       "      );\n",
       "      this.keyboard_manager.register_events(toinsert);\n",
       "      // Render to node\n",
       "      const props = {data: data, metadata: metadata[EXEC_MIME_TYPE]};\n",
       "      render(props, toinsert[toinsert.length - 1]);\n",
       "      element.append(toinsert);\n",
       "      return toinsert\n",
       "    }\n",
       "\n",
       "    /* Handle when an output is cleared or removed */\n",
       "    events.on('clear_output.CodeCell', handleClearOutput);\n",
       "    events.on('delete.Cell', handleClearOutput);\n",
       "\n",
       "    /* Handle when a new output is added */\n",
       "    events.on('output_added.OutputArea', handleAddOutput);\n",
       "\n",
       "    /**\n",
       "     * Register the mime type and append_mime function with output_area\n",
       "     */\n",
       "    OutputArea.prototype.register_mime_type(EXEC_MIME_TYPE, append_mime, {\n",
       "      /* Is output safe? */\n",
       "      safe: true,\n",
       "      /* Index of renderer in `output_area.display_order` */\n",
       "      index: 0\n",
       "    });\n",
       "  }\n",
       "\n",
       "  // register the mime type if in Jupyter Notebook environment and previously unregistered\n",
       "  if (root.Jupyter !== undefined) {\n",
       "    const events = require('base/js/events');\n",
       "    const OutputArea = require('notebook/js/outputarea').OutputArea;\n",
       "\n",
       "    if (OutputArea.prototype.mime_types().indexOf(EXEC_MIME_TYPE) == -1) {\n",
       "      register_renderer(events, OutputArea);\n",
       "    }\n",
       "  }\n",
       "  if (typeof (root._bokeh_timeout) === \"undefined\" || force === true) {\n",
       "    root._bokeh_timeout = Date.now() + 5000;\n",
       "    root._bokeh_failed_load = false;\n",
       "  }\n",
       "\n",
       "  const NB_LOAD_WARNING = {'data': {'text/html':\n",
       "     \"<div style='background-color: #fdd'>\\n\"+\n",
       "     \"<p>\\n\"+\n",
       "     \"BokehJS does not appear to have successfully loaded. If loading BokehJS from CDN, this \\n\"+\n",
       "     \"may be due to a slow or bad network connection. Possible fixes:\\n\"+\n",
       "     \"</p>\\n\"+\n",
       "     \"<ul>\\n\"+\n",
       "     \"<li>re-rerun `output_notebook()` to attempt to load from CDN again, or</li>\\n\"+\n",
       "     \"<li>use INLINE resources instead, as so:</li>\\n\"+\n",
       "     \"</ul>\\n\"+\n",
       "     \"<code>\\n\"+\n",
       "     \"from bokeh.resources import INLINE\\n\"+\n",
       "     \"output_notebook(resources=INLINE)\\n\"+\n",
       "     \"</code>\\n\"+\n",
       "     \"</div>\"}};\n",
       "\n",
       "  function display_loaded() {\n",
       "    const el = document.getElementById(\"a4318122-cc95-47e4-b5cf-5224b7921e54\");\n",
       "    if (el != null) {\n",
       "      el.textContent = \"BokehJS is loading...\";\n",
       "    }\n",
       "    if (root.Bokeh !== undefined) {\n",
       "      if (el != null) {\n",
       "        el.textContent = \"BokehJS \" + root.Bokeh.version + \" successfully loaded.\";\n",
       "      }\n",
       "    } else if (Date.now() < root._bokeh_timeout) {\n",
       "      setTimeout(display_loaded, 100)\n",
       "    }\n",
       "  }\n",
       "\n",
       "  function run_callbacks() {\n",
       "    try {\n",
       "      root._bokeh_onload_callbacks.forEach(function(callback) {\n",
       "        if (callback != null)\n",
       "          callback();\n",
       "      });\n",
       "    } finally {\n",
       "      delete root._bokeh_onload_callbacks\n",
       "    }\n",
       "    console.debug(\"Bokeh: all callbacks have finished\");\n",
       "  }\n",
       "\n",
       "  function load_libs(css_urls, js_urls, callback) {\n",
       "    if (css_urls == null) css_urls = [];\n",
       "    if (js_urls == null) js_urls = [];\n",
       "\n",
       "    root._bokeh_onload_callbacks.push(callback);\n",
       "    if (root._bokeh_is_loading > 0) {\n",
       "      console.debug(\"Bokeh: BokehJS is being loaded, scheduling callback at\", now());\n",
       "      return null;\n",
       "    }\n",
       "    if (js_urls == null || js_urls.length === 0) {\n",
       "      run_callbacks();\n",
       "      return null;\n",
       "    }\n",
       "    console.debug(\"Bokeh: BokehJS not loaded, scheduling load and callback at\", now());\n",
       "    root._bokeh_is_loading = css_urls.length + js_urls.length;\n",
       "\n",
       "    function on_load() {\n",
       "      root._bokeh_is_loading--;\n",
       "      if (root._bokeh_is_loading === 0) {\n",
       "        console.debug(\"Bokeh: all BokehJS libraries/stylesheets loaded\");\n",
       "        run_callbacks()\n",
       "      }\n",
       "    }\n",
       "\n",
       "    function on_error(url) {\n",
       "      console.error(\"failed to load \" + url);\n",
       "    }\n",
       "\n",
       "    for (let i = 0; i < css_urls.length; i++) {\n",
       "      const url = css_urls[i];\n",
       "      const element = document.createElement(\"link\");\n",
       "      element.onload = on_load;\n",
       "      element.onerror = on_error.bind(null, url);\n",
       "      element.rel = \"stylesheet\";\n",
       "      element.type = \"text/css\";\n",
       "      element.href = url;\n",
       "      console.debug(\"Bokeh: injecting link tag for BokehJS stylesheet: \", url);\n",
       "      document.body.appendChild(element);\n",
       "    }\n",
       "\n",
       "    for (let i = 0; i < js_urls.length; i++) {\n",
       "      const url = js_urls[i];\n",
       "      const element = document.createElement('script');\n",
       "      element.onload = on_load;\n",
       "      element.onerror = on_error.bind(null, url);\n",
       "      element.async = false;\n",
       "      element.src = url;\n",
       "      console.debug(\"Bokeh: injecting script tag for BokehJS library: \", url);\n",
       "      document.head.appendChild(element);\n",
       "    }\n",
       "  };\n",
       "\n",
       "  function inject_raw_css(css) {\n",
       "    const element = document.createElement(\"style\");\n",
       "    element.appendChild(document.createTextNode(css));\n",
       "    document.body.appendChild(element);\n",
       "  }\n",
       "\n",
       "  const js_urls = [\"https://cdn.bokeh.org/bokeh/release/bokeh-3.3.0.min.js\", \"https://cdn.bokeh.org/bokeh/release/bokeh-gl-3.3.0.min.js\", \"https://cdn.bokeh.org/bokeh/release/bokeh-widgets-3.3.0.min.js\", \"https://cdn.bokeh.org/bokeh/release/bokeh-tables-3.3.0.min.js\", \"https://cdn.bokeh.org/bokeh/release/bokeh-mathjax-3.3.0.min.js\"];\n",
       "  const css_urls = [];\n",
       "\n",
       "  const inline_js = [    function(Bokeh) {\n",
       "      Bokeh.set_log_level(\"info\");\n",
       "    },\n",
       "function(Bokeh) {\n",
       "    }\n",
       "  ];\n",
       "\n",
       "  function run_inline_js() {\n",
       "    if (root.Bokeh !== undefined || force === true) {\n",
       "          for (let i = 0; i < inline_js.length; i++) {\n",
       "      inline_js[i].call(root, root.Bokeh);\n",
       "    }\n",
       "if (force === true) {\n",
       "        display_loaded();\n",
       "      }} else if (Date.now() < root._bokeh_timeout) {\n",
       "      setTimeout(run_inline_js, 100);\n",
       "    } else if (!root._bokeh_failed_load) {\n",
       "      console.log(\"Bokeh: BokehJS failed to load within specified timeout.\");\n",
       "      root._bokeh_failed_load = true;\n",
       "    } else if (force !== true) {\n",
       "      const cell = $(document.getElementById(\"a4318122-cc95-47e4-b5cf-5224b7921e54\")).parents('.cell').data().cell;\n",
       "      cell.output_area.append_execute_result(NB_LOAD_WARNING)\n",
       "    }\n",
       "  }\n",
       "\n",
       "  if (root._bokeh_is_loading === 0) {\n",
       "    console.debug(\"Bokeh: BokehJS loaded, going straight to plotting\");\n",
       "    run_inline_js();\n",
       "  } else {\n",
       "    load_libs(css_urls, js_urls, function() {\n",
       "      console.debug(\"Bokeh: BokehJS plotting callback run at\", now());\n",
       "      run_inline_js();\n",
       "    });\n",
       "  }\n",
       "}(window));"
      ],
      "application/vnd.bokehjs_load.v0+json": "(function(root) {\n  function now() {\n    return new Date();\n  }\n\n  const force = true;\n\n  if (typeof root._bokeh_onload_callbacks === \"undefined\" || force === true) {\n    root._bokeh_onload_callbacks = [];\n    root._bokeh_is_loading = undefined;\n  }\n\n\n  if (typeof (root._bokeh_timeout) === \"undefined\" || force === true) {\n    root._bokeh_timeout = Date.now() + 5000;\n    root._bokeh_failed_load = false;\n  }\n\n  const NB_LOAD_WARNING = {'data': {'text/html':\n     \"<div style='background-color: #fdd'>\\n\"+\n     \"<p>\\n\"+\n     \"BokehJS does not appear to have successfully loaded. If loading BokehJS from CDN, this \\n\"+\n     \"may be due to a slow or bad network connection. Possible fixes:\\n\"+\n     \"</p>\\n\"+\n     \"<ul>\\n\"+\n     \"<li>re-rerun `output_notebook()` to attempt to load from CDN again, or</li>\\n\"+\n     \"<li>use INLINE resources instead, as so:</li>\\n\"+\n     \"</ul>\\n\"+\n     \"<code>\\n\"+\n     \"from bokeh.resources import INLINE\\n\"+\n     \"output_notebook(resources=INLINE)\\n\"+\n     \"</code>\\n\"+\n     \"</div>\"}};\n\n  function display_loaded() {\n    const el = document.getElementById(\"a4318122-cc95-47e4-b5cf-5224b7921e54\");\n    if (el != null) {\n      el.textContent = \"BokehJS is loading...\";\n    }\n    if (root.Bokeh !== undefined) {\n      if (el != null) {\n        el.textContent = \"BokehJS \" + root.Bokeh.version + \" successfully loaded.\";\n      }\n    } else if (Date.now() < root._bokeh_timeout) {\n      setTimeout(display_loaded, 100)\n    }\n  }\n\n  function run_callbacks() {\n    try {\n      root._bokeh_onload_callbacks.forEach(function(callback) {\n        if (callback != null)\n          callback();\n      });\n    } finally {\n      delete root._bokeh_onload_callbacks\n    }\n    console.debug(\"Bokeh: all callbacks have finished\");\n  }\n\n  function load_libs(css_urls, js_urls, callback) {\n    if (css_urls == null) css_urls = [];\n    if (js_urls == null) js_urls = [];\n\n    root._bokeh_onload_callbacks.push(callback);\n    if (root._bokeh_is_loading > 0) {\n      console.debug(\"Bokeh: BokehJS is being loaded, scheduling callback at\", now());\n      return null;\n    }\n    if (js_urls == null || js_urls.length === 0) {\n      run_callbacks();\n      return null;\n    }\n    console.debug(\"Bokeh: BokehJS not loaded, scheduling load and callback at\", now());\n    root._bokeh_is_loading = css_urls.length + js_urls.length;\n\n    function on_load() {\n      root._bokeh_is_loading--;\n      if (root._bokeh_is_loading === 0) {\n        console.debug(\"Bokeh: all BokehJS libraries/stylesheets loaded\");\n        run_callbacks()\n      }\n    }\n\n    function on_error(url) {\n      console.error(\"failed to load \" + url);\n    }\n\n    for (let i = 0; i < css_urls.length; i++) {\n      const url = css_urls[i];\n      const element = document.createElement(\"link\");\n      element.onload = on_load;\n      element.onerror = on_error.bind(null, url);\n      element.rel = \"stylesheet\";\n      element.type = \"text/css\";\n      element.href = url;\n      console.debug(\"Bokeh: injecting link tag for BokehJS stylesheet: \", url);\n      document.body.appendChild(element);\n    }\n\n    for (let i = 0; i < js_urls.length; i++) {\n      const url = js_urls[i];\n      const element = document.createElement('script');\n      element.onload = on_load;\n      element.onerror = on_error.bind(null, url);\n      element.async = false;\n      element.src = url;\n      console.debug(\"Bokeh: injecting script tag for BokehJS library: \", url);\n      document.head.appendChild(element);\n    }\n  };\n\n  function inject_raw_css(css) {\n    const element = document.createElement(\"style\");\n    element.appendChild(document.createTextNode(css));\n    document.body.appendChild(element);\n  }\n\n  const js_urls = [\"https://cdn.bokeh.org/bokeh/release/bokeh-3.3.0.min.js\", \"https://cdn.bokeh.org/bokeh/release/bokeh-gl-3.3.0.min.js\", \"https://cdn.bokeh.org/bokeh/release/bokeh-widgets-3.3.0.min.js\", \"https://cdn.bokeh.org/bokeh/release/bokeh-tables-3.3.0.min.js\", \"https://cdn.bokeh.org/bokeh/release/bokeh-mathjax-3.3.0.min.js\"];\n  const css_urls = [];\n\n  const inline_js = [    function(Bokeh) {\n      Bokeh.set_log_level(\"info\");\n    },\nfunction(Bokeh) {\n    }\n  ];\n\n  function run_inline_js() {\n    if (root.Bokeh !== undefined || force === true) {\n          for (let i = 0; i < inline_js.length; i++) {\n      inline_js[i].call(root, root.Bokeh);\n    }\nif (force === true) {\n        display_loaded();\n      }} else if (Date.now() < root._bokeh_timeout) {\n      setTimeout(run_inline_js, 100);\n    } else if (!root._bokeh_failed_load) {\n      console.log(\"Bokeh: BokehJS failed to load within specified timeout.\");\n      root._bokeh_failed_load = true;\n    } else if (force !== true) {\n      const cell = $(document.getElementById(\"a4318122-cc95-47e4-b5cf-5224b7921e54\")).parents('.cell').data().cell;\n      cell.output_area.append_execute_result(NB_LOAD_WARNING)\n    }\n  }\n\n  if (root._bokeh_is_loading === 0) {\n    console.debug(\"Bokeh: BokehJS loaded, going straight to plotting\");\n    run_inline_js();\n  } else {\n    load_libs(css_urls, js_urls, function() {\n      console.debug(\"Bokeh: BokehJS plotting callback run at\", now());\n      run_inline_js();\n    });\n  }\n}(window));"
     },
     "metadata": {},
     "output_type": "display_data"
    },
    {
     "data": {
      "text/html": [
       "\n",
       "  <div id=\"ad1ea709-d187-469e-988f-dd4ae1f5fce6\" data-root-id=\"p1001\" style=\"display: contents;\"></div>\n"
      ]
     },
     "metadata": {},
     "output_type": "display_data"
    },
    {
     "data": {
      "application/javascript": [
       "(function(root) {\n",
       "  function embed_document(root) {\n",
       "  const docs_json = {\"d3ceafa8-be80-46ab-9f2c-9ce778cc6a52\":{\"version\":\"3.3.0\",\"title\":\"Bokeh Application\",\"roots\":[{\"type\":\"object\",\"name\":\"Figure\",\"id\":\"p1001\",\"attributes\":{\"x_range\":{\"type\":\"object\",\"name\":\"DataRange1d\",\"id\":\"p1002\"},\"y_range\":{\"type\":\"object\",\"name\":\"DataRange1d\",\"id\":\"p1003\"},\"x_scale\":{\"type\":\"object\",\"name\":\"LinearScale\",\"id\":\"p1011\"},\"y_scale\":{\"type\":\"object\",\"name\":\"LinearScale\",\"id\":\"p1012\"},\"title\":{\"type\":\"object\",\"name\":\"Title\",\"id\":\"p1004\",\"attributes\":{\"text\":\"Input & Output Signal\"}},\"renderers\":[{\"type\":\"object\",\"name\":\"GlyphRenderer\",\"id\":\"p1036\",\"attributes\":{\"data_source\":{\"type\":\"object\",\"name\":\"ColumnDataSource\",\"id\":\"p1030\",\"attributes\":{\"selected\":{\"type\":\"object\",\"name\":\"Selection\",\"id\":\"p1031\",\"attributes\":{\"indices\":[],\"line_indices\":[]}},\"selection_policy\":{\"type\":\"object\",\"name\":\"UnionRenderers\",\"id\":\"p1032\"},\"data\":{\"type\":\"map\",\"entries\":[[\"x\",{\"type\":\"ndarray\",\"array\":{\"type\":\"bytes\",\"data\":\"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\"},\"shape\":[3072],\"dtype\":\"float64\",\"order\":\"little\"}],[\"y\",{\"type\":\"ndarray\",\"array\":{\"type\":\"bytes\",\"data\":\"AAAAAAAAAAAAAAAAAAAAAAAAAAAAAAAAAAAAAAAAAAAAAAAAAAAAAAAAAAAAAAAAAAAAAAAAAAAAAAAAAAAAAAAAAAAAAAAAAAAAAAAAAAAAAAAAAAAAAAAAAAAAAAAAAAAAAAAAAAAAAAAAAAAAAAAAAAAAAAAAAAAAAAAAAAAAAAAAAAAAAAAAAAAAAAAAAAAAAAAAAAAAAAAAAAAAAAAAAAAAAAAAAAAAAAAAAAAAAAAAAAAAAAAAAAAAAAAAAAAAAAAAAAAAAAAAAAAAAAAAAAAAAAAAAAAAAAAAAAAAAAAAAAAAAAAAAAAAAAAAAAAAAAAAAAAAAAAAAAAAAAAAAAAAAAAAAAAAAAAAAAAAAAAAAAAAAAAAAAAAAAAAAAAAAAAAAAAAAAAAAAAAAAAAAAAAAAAAAAAAAAAAAAAAAAAAAAAAAAAAAAAAAAAAAAAAAAAAAAAAAAAAAAAAAAAAAAAAAAAAAAAAAAAAAAAAAAAAAAAAAAAAAAAAAAAAAAAAAAAAAAAAAAAAAAAAAAAAAAAAAAAAAAAAAAAAAAAAAAAAAAAAAAAAAAAAAAAAAAAAAAAAAAAAAAAAAAAAAAAAAAAAAAAAAAAAAAAAAAAAAAAAAAAAAAAAAAAAAAAAAAAAAAAAAAAAAAAAAAAAAAAAAAAAAAAAAAAAAAAAAAAAAAAAAAAAAAAAAAAAAAAAAAAAAAAAAAAAAAAAAAAAAAAAAAAAAAAAAAAAAAAAAAAAAAAAAAAAAAAAAAAAAAAAAAAAAAAAAAAAAAAAAAAAAAAAAAAAAAAAAAAAAAAAAAAAAAAAAAAAAAAAAAAAAAAAAAAAAAAAAAAAAAAAAAAAAAAAAAAAAAAAAAAAAAAAAAAAAAAAAAAAAAAAAAAAAAAAAAAAAAAAAAAAAAAAAAAAAAAAAAAAAAAAAAAAAAAAAAAAAAAAAAAAAAAAAAAAAAAAAAAAAAAAAAAAAAAAAAAAAAAAAAAAAAAAAAAAAAAAAAAAAAAAAAAAAAAAAAAAAAAAAAAAAAAAAAAAAAAAAAAAAAAAAAAAAAAAAAAAAAAAAAAAAAAAAAAAAAAAAAAAAAAAAAAAAAAAAAAAAAAAAAAAAAAAAAAAAAAAAAAAAAAAAAAAAAAAAAAAAAAAAAAAAAAAAAAAAAAAAAAAAAAAAAAAAAAAAAAAAAAAAAAAAAAAAAAAAAAAAAAAAAAAAAAAAAAAAAAAAAAAAAAAAAAAAAAAAAAAAAAAAAAAAAAAAAAAAAAAAAAAAAAAAAAAAAAAAAAAAAAAAAAAAAAAAAAAAAAAAAAAAAAAAAAAAAAAAAAAAAAAAAAAAAAAAAAAAAAAAAAAAAAAAAAAAAAAAAAAAAAAAAAAAAAAAAAAAAAAAAAAAAAAAAAAAAAAAAAAAAAAAAAAAAAAAAAAAAAAAAAAAAAAAAAAAAAAAAAAAAAAAAAAAAAAAAAAAAAAAAAAAAAAAAAAAAAAAAAAAAAAAAAAAAAAAAAAAAAAAAAAAAAAAAAAAAAAAAAAAAAAAAAAAAAAAAAAAAAAAAAAAAAAAAAAAAAAAAAAAAAAAAAAAAAAAAAAAAAAAAAAAAAAAAAAAAAAAAAAAAAAAAAAAAAAAAAAAAAAAAAAAAAAAAAAAAAAAAAAAAAAAAAAAAAAAAAAAAAAAAAAAAAAAAAAAAAAAAAAAAAAAAAAAAAAAAAAAAAAAAAAAAAAAAAAAAAAAAAAAAAAAAAAAAAAAAAAAAAAAAAAAAAAAAAAAAAAAAAAAAAAAAAAAAAAAAAAAAAAAAAAAAAAAAAAAAAAAAAAAAAAAAAAAAAAAAAAAAAAAAAAAAAAAAAAAAAAAAAAAAAAAAAAAAAAAAAAAAAAAAAAAAAAAAAAAAAAAAAAAAAAAAAAAAAAAAAAAAAAAAAAAAAAAAAAAAAAAAAAAAAAAAAAAAAAAAAAAAAAAAAAAAAAAAAAAAAAAAAAAAAAAAAAAAAAAAAAAAAAAAAAAAAAAAAAAAAAAAAAAAAAAAAAAAAAAAAAAAAAAAAAAAAAAAAAAAAAAAAAAAAAAAAAAAAAAAAAAAAAAAAAAAAAAAAAAAAAAAAAAAAAAAAAAAAAAAAAAAAAAAAAAAAAAAAAAAAAAAAAAAAAAAAAAAAAAAAAAAAAAAAAAAAAAAAAAAAAAAAAAAAAAAAAAAAAAAAAAAAAAAAAAAAAAAAAAAAAAAAAAAAAAAAAAAAAAAAAAAAAAAAAAAAAAAAAAAAAAAAAAAAAAAAAAAAAAAAAAAAAAAAAAAAAAAAAAAAAAAAAAAAAAAAAAAAAAAAAAAAAAAAAAAAAAAAAAAAAAAAAAAAAAAAAAAAAAAAAAAAAAAAAAAAAAAAAAAAAAAAAAAAAAAAAAAAAAAAAAAAAAAAAAAAAAAAAAAAAAAAAAAAAAAAAAAAAAAAAAAAAAAAAAAAAAAAAAAAAAAAAAAAAAAAAAAAAAAAAAAAAAAAAAAAAAAAAAAAAAAAAAAAAAAAAAAAAAAAAAAAAAAAAAAAAAAAAAAAAAAAAAAAAAAAAAAAAAAAAAAAAAAAAAAAAAAAAAAAAAAAAAAAAAAAAAAAAAAAAAAAAAAAAAAAAAAAAAAAAAAAAAAAAAAAAAAAAAAAAAAAAAAAAAAAAAAAAAAAAAAAAAAAAAAAAAAAAAAAAAAAAAAAAAAAAAAAAAAAAAAAAAAAAAAAAAAAAAAAAAAAAAAAAAAAAAAAAAAAAAAAAAAAAAAAAAAAAAAAAAAAAAAAAAAAAAAAAAAAAAAAAAAAAAAAAAAAAAAAAAAAAAAAAAAAAAAAAAAAAAAAAAAAAAAAAAAAAAAAAAAAAAAAAAAAAAAAAAAAAAAAAAAAAAAAAAAAAAAAAAAAAAAAAAAAAAAAAAAAAAAAAAAAAAAAAAAAAAAAAAAAAAAAAAAAAAAAAAAAAAAAAAAAAAAAAAAAAAAAAAAAAAAAAAAAAAAAAAAAAAAAAAAAAAAAAAAAAAAAAAAAAAAAAAAAAAAAAAAAAAAAAAAAAAAAAAAAAAAAAAAAAAAAAAAAAAAAAAAAAAAAAAAAAAAAAAAAAAAAAAAAAAAAAAAAAAAAAAAAAAAAAAAAAAAAAAAAAAAAAAAAAAAAAAAAAAAAAAAAAAAAAAAAAAAAAAAAAAAAAAAAAAAAAAAAAAAAAAAAAAAAAAAAAAAAAAAAAAAAAAAAAAAAAAAAAAAAAAAAAAAAAAAAAAAAAAAAAAAAAAAAAAAAAAAAAAAAAAAAAAAAAAAAAAAAAAAAAAAAAAAAAAAAAAAAAAAAAAAAAAAAAAAAAAAAAAAAAAAAAAAAAAAAAAAAAAAAAAAAAAAAAAAAAAAAAAAAAAAAAAAAAAAAAAAAAAAAAAAAAAAAAAAAAAAAAAAAAAAAAAAAAAAAAAAAAAAAAAAAAAAAAAAAAAAAAAAAAAAAAAAAAAAAAAAAAAAAAAAAAAAAAAAAAAAAAAAAAAAAAAAAAAAAAAAAAAAAAAAAAAAAAAAAAAAAAAAAAAAAAAAAAAAAAAAAAAAAAAAAAAAAAAAAAAAAAAAAAAAAAAAAAAAAAAAAAAAAAAAAAAAAAAAAAAAAAAAAAAAAAAAAAAAAAAAAAAAAAAAAAAAAAAAAAAAAAAAAAAAAAAAAAAAAAAAAAAAAAAAAAAAAAAAAAAAAAAAAAAAAAAAAAAAAAAAAAAAAAAAAAAAAAAAAAAAAAAAAAAAAAAAAAAAAAAAAAAAAAAAAAAAAAAAAAAAAAAAAAAAAAAAAAAAAAAAAAAAAAAAAAAAAAAAAAAAAAAAAAAAAAAAAAAAAAAAAAAAAAAAAAAAAAAAAAAAAAAAAAAAAAAAAAAAAAAAAAAAAAAAAAAAAAAAAAAAAAAAAAAAAAAAAAAAAAAAAAAAAAAAAAAAAAAAAAAAAAAAAAAAAAAAAAAAAAAAAAAAAAAAAAAAAAAAAAAAAAAAAAAAAAAAAAAAAAAAAAAAAAAAAAAAAAAAAAAAAAAAAAAAAAAAAAAAAAAAAAAAAAAAAAAAAAAAAAAAAAAAAAAAAAAAAAAAAAAAAAAAAAAAAAAAAAAAAAAAAAAAAAAAAAAAAAAAAAAAAAAAAAAAAAAAAAAAAAAAAAAAAAAAAAAAAAAAAAAAAAAAAAAAAAAAAAAAAAAAAAAAAAAAAAAAAAAAAAAAAAAAAAAAAAAAAAAAAAAAAAAAAAAAAAAAAAAAAAAAAAAAAAAAAAAAAAAAAAAAAAAAAAAAAAAAAAAAAAAAAAAAAAAAAAAAAAAAAAAAAAAAAAAAAAAAAAAAAAAAAAAAAAAAAAAAAAAAAAAAAAAAAAAAAAAAAAAAAAAAAAAAAAAAAAAAAAAAAAAAAAAAAAAAAAAAAAAAAAAAAAAAAAAAAAAAAAAAAAAAAAAAAAAAAAAAAAAAAAAAAAAAAAAAAAAAAAAAAAAAAAAAAAAAAAAAAAAAAAAAAAAAAAAAAAAAAAAAAAAAAAAAAAAAAAAAAAAAAAAAAAAAAAAAAAAAAAAAAAAAAAAAAAAAAAAAAAAAAAAAAAAAAAAAAAAAAAAAAAAAAAAAAAAAAAAAAAAAAAAAAAAAAAAAAAAAAAAAAAAAAAAAAAAAAAAAAAAAAAAAAAAAAAAAAAAAAAAAAAAAAAAAAAAAAAAAAAAAAAAAAAAAAAAAAAAAAAAAAAAAAAAAAAAAAAAAAAAAAAAAAAAAAAAAAAAAAAAAAAAAAAAAAAAAAAAAAAAAAAAAAAAAAAAAAAAAAAAAAAAAAAAAAAAAAAAAAAAAAAAAAAAAAAAAAAAAAAAAAAAAAAAAAAAAAAAAAAAAAAAAAAAAAAAAAAAAAAAAAAAAAAAAAAAAAAAAAAAAAAAAAAAAAAAAAAAAAAAAAAAAAAAAAAAAAAAAAAAAAAAAAAAAAAAAAAAAAAAAAAAAAAAAAAAAAAAAAAAAAAAAAAAAAAAAAAAAAAAAAAAAAAAAAAAAAAAAAAAAAAAAAAAAAAAAAAAAAAAAAAAAAAAAAAAAAAAAAAAAAAAAAAAAAAAAAAAAAAAAAAAAAAAAAAAAAAAAAAAAAAAAAAAAAAAAAAAAAAAAAAAAAAAAAAAAAAAAAAAAAAAAAAAAAAAAAAAAAAAAAAAAAAAAAAAAAAAAAAAAAAAAAAAAAAAAAAAAAAAAAAAAAAAAAAAAAAAAAAAAAAAAAAAAAAAAAAAAAAAAAAAAAAAAAAAAAAAAAAAAAAAAAAAAAAAAAAAAAAAAAAAAAAAAAAAAAAAAAAAAAAAAAAAAAAAAAAAAAAAAAAAAAAAAAAAAAAAAAAAAAAAAAAAAAAAAAAAAAAAAAAAAAAAAAAAAAAAAAAAAAAAAAAAAAAAAAAAAAAAAAAAAAAAAAAAAAAAAAAAAAAAAAAAAAAAAAAAAAAAAAAAAAAAAAAAAAAAAAAAAAAAAAAAAAAAAAAAAAAAAAAAAAAAAAAAAAAAAAAAAAAAAAAAAAAAAAAAAAAAAAAAAAAAAAAAAAAAAAAAAAAAAAAAAAAAAAAAAAAAAAAAAAAAAAAAAAAAAAAAAAAAAAAAAAAAAAAAAAAAAAAAAAAAAAAAAAAAAAAAAAAAAAAAAAAAAAAAAAAAAAAAAAAAAAAAAAAAAAAAAAAAAAAAAAAAAAAAAAAAAAAAAAAAAAAAAAAAAAAAAAAAAAAAAAAAAAAAAAAAAAAAAAAAAAAAAAAAAAAAAAAAAAAAAAAAAAAAAAAAAAAAAAAAAAAAAAAAAAAAAAAAAAAAAAAAAAAAAAAAAAAAAAAAAAAAAAAAAAAAAAAAAAAAAAAAAAAAAAAAAAAAAAAAAAAAAAAAAAAAAAAAAAAAAAAAAAAAAAAAAAAAAAAAAAAAAAAAAAAAAAAAAAAAAAAAAAAAAAAAAAAAAAAAAAAAAAAAAAAAAAAAAAAAAAAAAAAAAAAAAAAAAAAAAAAAAAAAAAAAAAAAAAAAAAAAAAAAAAAAAAAAAAAAAAAAAAAAAAAAAAAAAAAAAAAAAAAAAAAAAAAAAAAAAAAAAAAAAAAAAAAAAAAAAAAAAAAAAAAAAAAAAAAAAAAAAAAAAAAAAAAAAAAAAAAAAAAAAAAAAAAAAAAAAAAAAAAAAAAAAAAAAAAAAAAAAAAAAAAAAAAAAAAAAAAAAAAAAAAAAAAAAAAAAAAAAAAAAAAAAAAAAAAAAAAAAAAAAAAAAAAAAAAAAAAAAAAAAAAAAAAAAAAAAAAAAAAAAAAAAAAAAAAAAAAAAAAAAAAAAAAAAAAAAAAAAAAAAAAAAAAAAAAAAAAAAAAAAAAAAAAAAAAAAAAAAAAAAAAAAAAAAAAAAAAAAAAAAAAAAAAAAAAAAAAAAAAAAAAAAAAAAAAAAAAAAAAAAAAAAAAAAAAAAAAAAAAAAAAAAAAAAAAAAAAAAAAAAAAAAAAAAAAAAAAAAAAAAAAAAAAAAAAAAAAAAAAAAAAAAAAAAAAAAAAAAAAAAAAAAAAAAAAAAAAAAAAAAAAAAAAAAAAAAAAAAAAAAAAAAAAAAAAAAAAAAAAAAAAAAAAAAAAAAAAAAAAAAAAAAAAAAAAAAAAAAAAAAAAAAAAAAAAAAAAAAAAAAAAAAAAAAAAAAAAAAAAAAAAAAAAAAAAAAAAAAAAAAAAAAAAAAAAAAAAAAAAAAAAAAAAAAAAAAAAAAAAAAAAAAAAAAAAAAAAAAAAAAAAAAAAAAAAAAAAAAAAAAAAAAAAAAAAAAAAAAAAAAAAAAAAAAAAAAAAAAAAAAAAAAAAAAAAAAAAAAAAAAAAAAAAAAAAAAAAAAAAAAAAAAAAAAAAAAAAAAAAAAAAAAAAAAAAAAAAAAAAAAAAAAAAAAAAAAAAAAAAAAAAAAAAAAAAAAAAAAAAAAAAAAAAAAAAAAAAAAAAAAAAAAAAAAAAAAAAAAAAAAAAAAAAAAAAAAAAAAAAAAAAAAAAAAAAAAAAAAAAAAAAAAAAAAAAAAAAAAAAAAAAAAAAAAAAAAAAAAAAAAAAAAAAAAAAAAAAAAAAAAAAAAAAAAAAAAAAAAAAAAAAAAAAAAAAAAAAAAAAAAAAAAAAAAAAAAAAAAAAAAAAAAAAAAAAAAAAAAAAAAAAAQAAAAEAAAABAAAAAAAAAAAAAAAAAAAAAAAAAAAAAAAAAAAAAAAAAAAAAAAAAAAAAAAAAAAAAAAAAAAAAAAAAAAAAAAAAAAAAAAAAAAAAAAAAAAAAAAAAAAAAAAAAAAAAAAAAAAAAAAAAAAAAAAAAAAAAAAAAAAAAAAAAP//////////////////////////AAAAAAAAAAAAAAAAAAAAAAAAAAAAAAAAAQAAAAEAAAABAAAAAQAAAAIAAAACAAAAAgAAAAEAAAABAAAAAQAAAAAAAAAAAAAAAAAAAAAAAAAAAAAAAAAAAAAAAAAAAAAAAAAAAAAAAAAAAAAAAAAAAAAAAAABAAAAAQAAAAEAAAABAAAAAQAAAAEAAAAAAAAAAAAAAP/////+/////f////v////6////+f////n////4////+P////j////5////+v////v////9/////////wAAAAACAAAABAAAAAUAAAAHAAAACAAAAAgAAAAIAAAACAAAAAcAAAAGAAAABAAAAAIAAAABAAAAAAAAAP/////+/////v////////8AAAAAAQAAAAMAAAAGAAAACQAAAAwAAAAOAAAAEQAAABIAAAASAAAAEAAAAA4AAAAJAAAAAwAAAP3////0////6v///+D////W////zP///8T///++////uv///7n///+7////wf///8v////Z////6v////7///8TAAAAKwAAAEMAAABbAAAAcQAAAIMAAACSAAAAnAAAAKAAAACdAAAAlAAAAIMAAABrAAAATQAAACkAAAAAAAAA1v///6j///97////T////yj///8G////6/7//9n+///R/v//1f7//+b+//8D////Lv///2f///+t////AAAAAGIAAADQAAAATAEAANQBAABnAgAABwMAALIDAABoBAAAKAUAAPMFAADIBgAApQcAAIoIAAB0CQAAYQoAAE8LAAA5DAAAHQ0AAPQNAAC7DgAAaw8AAP4PAABvEAAAthAAANAQAAC3EAAAZRAAANoPAAARDwAADA4AAMwMAABTCwAApwkAAM8HAADUBQAAvwMAAJ0BAAB8////Zv3//2v7//+X+f//+ff//5v2//+I9f//yfT//2P0//9a9P//rvT//171//9j9v//t/f//035//8a+///D/3//xv///8tAQAANQMAACAFAADgBgAAZQgAAKIJAACMCgAAHQsAAE8LAAAhCwAAlQoAAK8JAAB4CAAA+QYAAD8FAABZAwAAVwEAAEr///9A/f//TPv//335///h9///hfb//3L1//+y9P//SfT//zn0//+E9P//J/X//x32//9g9///5vj//6f6//+W/P//qP7//9AAAAADAwAANQUAAFkHAABmCQAAUgsAABMNAACkDgAA/Q8AABsRAAD4EQAAlBIAAOwSAAACEwAA1RIAAGcSAAC8EQAA1RAAALkPAABrDgAA8AwAAFALAACPCQAAtwcAAMwFAADZAwAA5AEAAPf///8Y/v//UPz//6j6//8o+f//1ff//7f2///U9f//L/X//8z0//+t9P//1PT//z/1///s9f//2fb//wD4//9c+f//5vr//5b8//9j/v//RQAAADMCAAAkBAAADgYAAOkHAACtCQAAUQsAANEMAAAlDgAASQ8AADkQAADzEAAAdREAAL0RAADNEQAApREAAEcRAAC1EAAA8g8AAAIPAADpDQAAqwwAAE0LAADUCQAARQgAAKUGAAD6BAAASQMAAJcBAADs////Sv7//7f8//84+///0vn//4j4//9e9///Vvb//3L1//+z9P//GvT//6Xz//9T8///IvP//w7z//8U8///L/P//1nz//+P8///yvP//wb0//8+9P//bfT//5H0//+m9P//qvT//570//+B9P//VfT//xz0///b8///lvP//1Lz//8V8///5PL//8by///A8v//2PL//xPz//908////fP//7L0//+R9f//m/b//8z3//8i+f//l/r//yf8///K/f//ef///y0BAADfAgAAhgQAAB0GAACbBwAA/AgAADkKAABQCwAAPQwAAP4MAACUDQAA/w0AAEAOAABcDgAAVQ4AADAOAADzDQAAog0AAEQNAADdDAAAcwwAAAsMAACpCwAAUAsAAAQLAADHCgAAmgoAAHwKAABuCgAAbwoAAHsKAACSCgAAsAoAANIKAAD0CgAAFQsAADELAABFCwAAUQsAAFILAABICwAANQsAABcLAADzCgAAyQoAAJ0KAAByCgAATQoAADAKAAAgCgAAIAoAADIKAABZCgAAlQoAAOgKAABOCwAAyAsAAE8MAADhDAAAdw0AAAkOAACRDgAABg8AAGAPAACXDwAAow8AAH4PAAAiDwAAig4AALUNAACiDAAAUwsAAMsJAAARCAAALgYAACoEAAATAgAA9v///9/9///e+///APr//1X4///p9v//xvX///f0//+B9P//afT//7H0//9V9f//Ufb//573//8w+f//+/r//+/8///8/v//EAEAABsDAAALBQAAzwYAAFgIAACYCQAAhwoAABoLAABPCwAAIgsAAJcKAACxCQAAeggAAPoGAAA/BQAAWAMAAFUBAABH////Pf3//0n7//96+f//3/f//4P2//9y9f//svT//0r0//889P//ifT//y31//8k9v//Z/f//+74//+u+v//nfz//67+///VAAAABwMAADcFAABaBwAAZgkAAFALAAAQDQAAoA4AAPgPAAAVEQAA8hEAAI0SAADmEgAA/BIAAM8SAABiEgAAuBEAANIQAAC3DwAAaQ4AAPAMAABQCwAAkAkAALgHAADOBQAA2gMAAOUBAAD4////Gf7//1H8//+p+v//KPn//9X3//+39v//0/X//y71///M9P//rfT//9T0//8/9f//7fX//9n2//8B+P//Xfn//+f6//+X/P//ZP7//0YAAAA0AgAAJQQAAA8GAADpBwAArQkAAFELAADRDAAAJA4AAEgPAAA5EAAA8hAAAHQRAAC8EQAAzBEAAKQRAABGEQAAtBAAAPIPAAACDwAA6Q0AAKsMAABNCwAA1AkAAEUIAAClBgAA+gQAAEgDAACXAQAA6////0n+//+3/P//OPv//9L5//+I+P//Xvf//1b2//9y9f//tPT//xr0//+l8///VPP//yPz//8P8///FfP//y/z//9a8///kPP//8vz//8H9P//PvT//230//+R9P//pvT//6r0//+d9P//gPT//1T0//8c9P//2/P//5bz//9S8///FfP//+Ty///G8v//wPL//9jy//8T8///dPP///3z//+y9P//kfX//5v2///M9///Ivn//5f6//8m/P//yf3//3n///8sAQAA3gIAAIYEAAAdBgAAmwcAAPwIAAA5CgAAUAsAAD0MAAD+DAAAlA0AAP8NAABBDgAAXA4AAFUOAAAxDgAA8w0AAKMNAABEDQAA3QwAAHMMAAALDAAAqQsAAFALAAAECwAAxwoAAJkKAAB8CgAAbgoAAG8KAAB7CgAAkgoAALAKAADSCgAA9AoAABULAAAxCwAARQsAAFELAABSCwAASAsAADULAAAXCwAA8woAAMkKAACdCgAAcgoAAE0KAAAwCgAAIAoAAB8KAAAyCgAAWQoAAJUKAADoCgAATwsAAMgLAABQDAAA4QwAAHcNAAAJDgAAkQ4AAAYPAABgDwAAlw8AAKMPAAB+DwAAIg8AAIoOAAC1DQAAogwAAFMLAADLCQAAEQgAAC4GAAAqBAAAEwIAAPb////f/f//3vv//wH6//9V+P//6fb//8b1///39P//gfT//2n0//+w9P//VfX//1H2//+e9///MPn///r6///v/P///P7//xABAAAbAwAACwUAAM8GAABYCAAAmAkAAIcKAAAaCwAATwsAACILAACXCgAAsgkAAHoIAAD6BgAAQAUAAFkDAABVAQAAR////z39//9J+///evn//973//+D9v//cfX//7L0//9K9P//PPT//4n0//8t9f//JPb//2f3///u+P//rvr//538//+u/v//1QAAAAcDAAA3BQAAWgcAAGYJAABQCwAAEA0AAKAOAAD4DwAAFBEAAPIRAACNEgAA5hIAAPwSAADPEgAAYhIAALcRAADSEAAAtw8AAGkOAADwDAAAUAsAAJAJAAC4BwAAzgUAANoDAADlAQAA+P///xn+//9R/P//qfr//yj5///V9///t/b//9P1//8u9f//zPT//630///U9P//P/X//+31///Z9v//Afj//135///n+v//l/z//2T+//9GAAAANAIAACUEAAAPBgAA6QcAAK0JAABRCwAA0AwAACQOAABIDwAAOBAAAPIQAAB0EQAAvBEAAMwRAACkEQAARhEAALQQAADyDwAAAg8AAOkNAACrDAAATQsAANQJAABFCAAApQYAAPoEAABIAwAAlwEAAOv///9J/v//t/z//zj7///S+f//iPj//173//9W9v//cvX//7P0//8a9P//pvP//1Tz//8j8///D/P//xXz//8v8///WvP//5Dz///L8///B/T//z70//9u9P//kfT//6b0//+q9P//nfT//4D0//9U9P//HPT//9vz//+W8///UvP//xXz///k8v//xvL//8Dy///Y8v//E/P//3Tz///+8///svT//5H1//+b9v//zPf//yL5//+X+v//Jvz//8n9//95////LAEAAN4CAACGBAAAHQYAAJsHAAD8CAAAOQoAAFALAAA9DAAA/gwAAJQNAAD/DQAAQQ4AAFwOAABVDgAAMQ4AAPMNAACjDQAARA0AAN0MAABzDAAACwwAAKgLAABQCwAABAsAAMcKAACZCgAAfAoAAG4KAABvCgAAewoAAJIKAACwCgAA0goAAPQKAAAVCwAAMQsAAEULAABRCwAAUgsAAEgLAAA1CwAAFwsAAPMKAADJCgAAnQoAAHIKAABNCgAAMAoAACAKAAAfCgAAMgoAAFkKAACVCgAA6AoAAE8LAADICwAAUAwAAOEMAAB3DQAACQ4AAJEOAAAGDwAAYA8AAJcPAACkDwAAfg8AACIPAACKDgAAtQ0AAKIMAABTCwAAywkAABEIAAAtBgAAKgQAABMCAAD2////3/3//977//8B+v//Vfj//+n2///G9f//9/T//4H0//9p9P//sfT//1X1//9R9v//nvf//zD5///6+v//7/z///z+//8QAQAAGwMAAAsFAADPBgAAWAgAAJgJAACHCgAAGgsAAE8LAAAiCwAAlwoAALIJAAB6CAAA+gYAAEAFAABZAwAAVQEAAEf///89/f//Sfv//3r5///e9///g/b//3H1//+y9P//SvT//zz0//+J9P//LfX//yT2//9n9///7vj//676//+d/P//rv7//9UAAAAHAwAANwUAAFoHAABmCQAAUAsAABANAACgDgAA+A8AABQRAADyEQAAjRIAAOYSAAD8EgAAzxIAAGISAAC3EQAA0hAAALcPAABpDgAA8AwAAFALAACQCQAAuAcAAM4FAADaAwAA5QEAAPj///8Z/v//Ufz//6n6//8o+f//1ff//7f2///T9f//LvX//8z0//+t9P//1PT//z/1///t9f//2fb//wH4//9d+f//5/r//5f8//9k/v//RgAAADQCAAAlBAAADwYAAOkHAACtCQAAUQsAANAMAAAkDgAASA8AADgQAADyEAAAdBEAALwRAADMEQAApBEAAEYRAAC0EAAA8g8AAAIPAADpDQAAqwwAAE0LAADUCQAARQgAAKUGAAD6BAAASQMAAJcBAADs////Sf7//7f8//84+///0vn//4j4//9e9///Vvb//3L1//+z9P//GvT//6Xz//9U8///I/P//w/z//8V8///L/P//1rz//+Q8///y/P//wf0//8+9P//bvT//5H0//+m9P//qvT//530//+A9P//VPT//xz0///b8///lvP//1Lz//8V8///5PL//8by///A8v//2PL//xPz//908////vP//7L0//+R9f//m/b//8z3//8i+f//l/r//yb8///J/f//ef///ywBAADeAgAAhgQAAB0GAACbBwAA/AgAADkKAABQCwAAPQwAAP4MAACUDQAA/w0AAEEOAABcDgAAVQ4AADEOAADzDQAAow0AAEQNAADdDAAAcwwAAAsMAACoCwAAUAsAAAQLAADHCgAAmQoAAHwKAABuCgAAbgoAAHsKAACSCgAAsAoAANIKAAD0CgAAFQsAADELAABFCwAAUQsAAFILAABICwAANQsAABcLAADzCgAAyQoAAJ0KAAByCgAATQoAADAKAAAgCgAAHwoAADIKAABZCgAAlQoAAOgKAABPCwAAyAsAAFAMAADhDAAAdw0AAAkOAACRDgAABg8AAGAPAACXDwAApA8AAH4PAAAiDwAAig4AALUNAACiDAAAUwsAAMsJAAARCAAALQYAACoEAAATAgAA9v///9/9///e+///APr//1X4///p9v//xvX///f0//+B9P//afT//7H0//9V9f//Ufb//573//8w+f//+vr//+/8///8/v//EAEAABsDAAALBQAAzwYAAFgIAACYCQAAhwoAABoLAABPCwAAIgsAAJcKAACyCQAAeggAAPoGAABABQAAWQMAAFUBAABH////Pf3//0n7//96+f//3vf//4P2//9x9f//svT//0r0//889P//ifT//y31//8k9v//Z/f//+74//+u+v//nfz//67+///VAAAABwMAADcFAABaBwAAZgkAAFALAAAQDQAAoA4AAPgPAAAUEQAA8hEAAI0SAADmEgAA/BIAAM8SAABiEgAAtxEAANIQAAC3DwAAaQ4AAPAMAABQCwAAkAkAALgHAADOBQAA2gMAAOUBAAD4////Gf7//1H8//+p+v//KPn//9X3//+39v//0/X//y71///M9P//rfT//9T0//8/9f//7fX//9n2//8B+P//Xfn//+f6//+X/P//ZP7//0YAAAA0AgAAJQQAAA8GAADpBwAArQkAAFELAADRDAAAJA4AAEgPAAA4EAAA8hAAAHQRAAC8EQAAzBEAAKQRAABGEQAAtBAAAPIPAAACDwAA6Q0AAKsMAABNCwAA1AkAAEUIAAClBgAA+gQAAEkDAACXAQAA7P///0n+//+3/P//OPv//9L5//+I+P//Xvf//1b2//9y9f//s/T//xr0//+l8///VPP//yPz//8P8///FfP//y/z//9a8///kPP//8vz//8H9P//PvT//270//+R9P//pvT//6r0//+d9P//gPT//1T0//8c9P//2/P//5bz//9S8///FfP//+Ty///G8v//wPL//9jy//8T8///dPP///7z//+y9P//kfX//5v2///M9///Ivn//5f6//8m/P//yf3//3n///8sAQAA3gIAAIYEAAAdBgAAmwcAAPwIAAA5CgAAUAsAAD0MAAD+DAAAlA0AAP8NAABBDgAAXA4AAFUOAAAxDgAA8w0AAKMNAABEDQAA3QwAAHMMAAALDAAAqQsAAFALAAAECwAAxwoAAJkKAAB8CgAAbgoAAG4KAAB7CgAAkgoAALAKAADRCgAA9AoAABULAAAxCwAARQsAAFELAABSCwAASAsAADULAAAXCwAA8woAAMkKAACdCgAAcgoAAE0KAAAwCgAAIAoAAB8KAAAyCgAAWQoAAJUKAADoCgAATwsAAMgLAABQDAAA4QwAAHcNAAAJDgAAkQ4AAAYPAABgDwAAlw8AAKQPAAB+DwAAIg8AAIoOAAC1DQAAogwAAFMLAADLCQAAEQgAAC0GAAAqBAAAEwIAAPb////f/f//3vv//wD6//9V+P//6fb//8b1///39P//gfT//2n0//+x9P//VfX//1H2//+e9///MPn///r6///v/P///P7//xABAAAbAwAACwUAAM8GAABYCAAAmAkAAIcKAAAaCwAATwsAACILAACXCgAAsgkAAHoIAAD6BgAAQAUAAFkDAABVAQAAR////z39//9J+///evn//9/3//+D9v//cfX//7L0//9K9P//PPT//4n0//8t9f//JPb//2f3///u+P//rvr//538//+u/v//1QAAAAcDAAA3BQAAWgcAAGYJAABQCwAAEA0AAKAOAAD4DwAAFBEAAPIRAACNEgAA5hIAAPwSAADPEgAAYhIAALcRAADSEAAAtw8AAGkOAADwDAAAUAsAAJAJAAC4BwAAzgUAANoDAADlAQAA+P///xn+//9R/P//qfr//yj5///V9///t/b//9P1//8u9f//zPT//630///U9P//P/X//+31///Z9v//Afj//135///n+v//l/z//2T+//9GAAAANAIAACUEAAAPBgAA6QcAAK0JAABRCwAA0QwAACQOAABIDwAAOBAAAPIQAAB0EQAAvBEAAMwRAACkEQAARhEAALQQAADyDwAAAg8AAOkNAACrDAAATQsAANQJAABFCAAApQYAAPoEAABJAwAAlwEAAOz///9J/v//t/z//zj7///S+f//iPj//173//9W9v//cvX//7T0//8a9P//pfP//1Tz//8j8///D/P//xXz//8v8///WvP//5Dz///L8///B/T//z70//9t9P//kfT//6X0//+q9P//nfT//4D0//9U9P//HPT//9vz//+W8///UvP//xXz///k8v//xvL//8Dy///Y8v//E/P//3Tz///+8///svT//5H1//+b9v//zPf//yL5//+X+v//Jvz//8n9//95////LAEAAN4CAACGBAAAHQYAAJsHAAD8CAAAOQoAAFALAAA9DAAA/gwAAJQNAAD/DQAAQQ4AAFwOAABVDgAAMQ4AAPMNAACjDQAARA0AAN0MAABzDAAACwwAAKgLAABQCwAABAsAAMcKAACZCgAAfAoAAG4KAABuCgAAewoAAJIKAACwCgAA0goAAPQKAAAVCwAAMQsAAEULAABRCwAAUgsAAEgLAAA1CwAAFwsAAPMKAADJCgAAnQoAAHIKAABNCgAAMAoAACAKAAAfCgAAMgoAAFkKAACVCgAA6AoAAE8LAADICwAAUAwAAOEMAAB3DQAACQ4AAJEOAAAGDwAAYA8AAJcPAACkDwAAfg8AACIPAACKDgAAtQ0AAKIMAABTCwAAywkAABEIAAAtBgAAKgQAABMCAAD2////3/3//977//8B+v//Vfj//+n2///G9f//9/T//4H0//9p9P//\"},\"shape\":[3072],\"dtype\":\"int32\",\"order\":\"little\"}]]}}},\"view\":{\"type\":\"object\",\"name\":\"CDSView\",\"id\":\"p1037\",\"attributes\":{\"filter\":{\"type\":\"object\",\"name\":\"AllIndices\",\"id\":\"p1038\"}}},\"glyph\":{\"type\":\"object\",\"name\":\"Line\",\"id\":\"p1033\",\"attributes\":{\"x\":{\"type\":\"field\",\"field\":\"x\"},\"y\":{\"type\":\"field\",\"field\":\"y\"},\"line_color\":\"blue\",\"line_width\":3}},\"nonselection_glyph\":{\"type\":\"object\",\"name\":\"Line\",\"id\":\"p1034\",\"attributes\":{\"x\":{\"type\":\"field\",\"field\":\"x\"},\"y\":{\"type\":\"field\",\"field\":\"y\"},\"line_color\":\"blue\",\"line_alpha\":0.1,\"line_width\":3}},\"muted_glyph\":{\"type\":\"object\",\"name\":\"Line\",\"id\":\"p1035\",\"attributes\":{\"x\":{\"type\":\"field\",\"field\":\"x\"},\"y\":{\"type\":\"field\",\"field\":\"y\"},\"line_color\":\"blue\",\"line_alpha\":0.2,\"line_width\":3}}}}],\"toolbar\":{\"type\":\"object\",\"name\":\"Toolbar\",\"id\":\"p1010\",\"attributes\":{\"tools\":[{\"type\":\"object\",\"name\":\"PanTool\",\"id\":\"p1023\"},{\"type\":\"object\",\"name\":\"WheelZoomTool\",\"id\":\"p1024\",\"attributes\":{\"renderers\":\"auto\"}},{\"type\":\"object\",\"name\":\"BoxZoomTool\",\"id\":\"p1025\",\"attributes\":{\"overlay\":{\"type\":\"object\",\"name\":\"BoxAnnotation\",\"id\":\"p1026\",\"attributes\":{\"syncable\":false,\"level\":\"overlay\",\"visible\":false,\"left_units\":\"canvas\",\"right_units\":\"canvas\",\"top_units\":\"canvas\",\"bottom_units\":\"canvas\",\"line_color\":\"black\",\"line_alpha\":1.0,\"line_width\":2,\"line_dash\":[4,4],\"fill_color\":\"lightgrey\",\"fill_alpha\":0.5}}}},{\"type\":\"object\",\"name\":\"SaveTool\",\"id\":\"p1027\"},{\"type\":\"object\",\"name\":\"ResetTool\",\"id\":\"p1028\"},{\"type\":\"object\",\"name\":\"HelpTool\",\"id\":\"p1029\"}]}},\"left\":[{\"type\":\"object\",\"name\":\"LinearAxis\",\"id\":\"p1018\",\"attributes\":{\"ticker\":{\"type\":\"object\",\"name\":\"BasicTicker\",\"id\":\"p1019\",\"attributes\":{\"mantissas\":[1,2,5]}},\"formatter\":{\"type\":\"object\",\"name\":\"BasicTickFormatter\",\"id\":\"p1020\"},\"major_label_policy\":{\"type\":\"object\",\"name\":\"AllLabels\",\"id\":\"p1021\"}}}],\"below\":[{\"type\":\"object\",\"name\":\"LinearAxis\",\"id\":\"p1013\",\"attributes\":{\"ticker\":{\"type\":\"object\",\"name\":\"BasicTicker\",\"id\":\"p1014\",\"attributes\":{\"mantissas\":[1,2,5]}},\"formatter\":{\"type\":\"object\",\"name\":\"BasicTickFormatter\",\"id\":\"p1015\"},\"major_label_policy\":{\"type\":\"object\",\"name\":\"AllLabels\",\"id\":\"p1016\"}}}],\"center\":[{\"type\":\"object\",\"name\":\"Grid\",\"id\":\"p1017\",\"attributes\":{\"axis\":{\"id\":\"p1013\"}}},{\"type\":\"object\",\"name\":\"Grid\",\"id\":\"p1022\",\"attributes\":{\"dimension\":1,\"axis\":{\"id\":\"p1018\"}}},{\"type\":\"object\",\"name\":\"Legend\",\"id\":\"p1039\",\"attributes\":{\"items\":[{\"type\":\"object\",\"name\":\"LegendItem\",\"id\":\"p1040\",\"attributes\":{\"label\":{\"type\":\"value\",\"value\":\"Input Signal\"},\"renderers\":[{\"id\":\"p1036\"}]}}]}}]}}]}};\n",
       "  const render_items = [{\"docid\":\"d3ceafa8-be80-46ab-9f2c-9ce778cc6a52\",\"roots\":{\"p1001\":\"ad1ea709-d187-469e-988f-dd4ae1f5fce6\"},\"root_ids\":[\"p1001\"]}];\n",
       "  root.Bokeh.embed.embed_items_notebook(docs_json, render_items);\n",
       "  }\n",
       "  if (root.Bokeh !== undefined) {\n",
       "    embed_document(root);\n",
       "  } else {\n",
       "    let attempts = 0;\n",
       "    const timer = setInterval(function(root) {\n",
       "      if (root.Bokeh !== undefined) {\n",
       "        clearInterval(timer);\n",
       "        embed_document(root);\n",
       "      } else {\n",
       "        attempts++;\n",
       "        if (attempts > 100) {\n",
       "          clearInterval(timer);\n",
       "          console.log(\"Bokeh: ERROR: Unable to run BokehJS code because BokehJS library is missing\");\n",
       "        }\n",
       "      }\n",
       "    }, 10, root)\n",
       "  }\n",
       "})(window);"
      ],
      "application/vnd.bokehjs_exec.v0+json": ""
     },
     "metadata": {
      "application/vnd.bokehjs_exec.v0+json": {
       "id": "p1001"
      }
     },
     "output_type": "display_data"
    }
   ],
   "source": [
    "data = pull_sock.recv()\n",
    "data = np.frombuffer(data, dtype=np.complex64, count=1024*3) # Read 128 Symbols\n",
    "data = np.array(data)\n",
    "data = data.astype('complex64')*(2**fin_fBits)\n",
    "xi = data.real\n",
    "xq = data.imag\n",
    "xi = xi.astype(np.int32)\n",
    "xq = xq.astype(np.int32)\n",
    "xiq = (xi<<16) + xq\n",
    "plot_time(xi)"
   ]
  },
  {
   "cell_type": "markdown",
   "metadata": {},
   "source": [
    "### DMA Transfer the Sample buffer from ARM Processor to the HLS QPSK Demodulator"
   ]
  },
  {
   "cell_type": "code",
   "execution_count": 6,
   "metadata": {},
   "outputs": [
    {
     "name": "stdout",
     "output_type": "stream",
     "text": [
      "NumSamples = 3072\n",
      "NumSymboles = 48\n",
      "Done tranfer in_buffer\n",
      "Done send channel wait\n",
      "DMA Transfer Execution Time  : 0.0039823055267333984  sec\n",
      "Sync Lock Indecator  : 1\n",
      "Symbols in the Buffer: 82\n"
     ]
    }
   ],
   "source": [
    "# 16 Samples Per Symbol, therefore create read buffer /16\n",
    "SamplesPerSym = 16\n",
    "NumSamples = len(xiq)\n",
    "NumSymbols = int(NumSamples/SamplesPerSym/4)\n",
    "print(\"NumSamples = \" + str(NumSamples))\n",
    "print(\"NumSymboles = \" + str(NumSymbols))\n",
    "\n",
    "# Clear the buffer write address\n",
    "qpsk_demod.mmio.write(qpsk_regmap.RegMap.WR_RAM_ADDR_CTRL_ADDR,1)\n",
    "\n",
    "# Configure Sync Word\n",
    "qpsk_demod.mmio.write(qpsk_regmap.RegMap.SYNC_RESET_ADDR,1)\n",
    "qpsk_demod.mmio.write(qpsk_regmap.RegMap.SYNC_WORD_ADDR,0xDEADBEEF)\n",
    "\n",
    "# Allocate buffers for the input and output signals\n",
    "in_buffer = allocate(shape=(NumSamples,), dtype=np.int32)\n",
    "\n",
    "# Copy the samples to the in_buffer\n",
    "np.copyto(in_buffer,xiq)\n",
    "\n",
    "# Start HLS QPSK Demodulator\n",
    "qpsk_demod.mmio.write(qpsk_regmap.RegMap.AP_CONTROL_ADDR,0)\n",
    "qpsk_demod.mmio.write(qpsk_regmap.RegMap.AP_CONTROL_ADDR,1)\n",
    "\n",
    "# Trigger the DMA transfer and wait for the result\n",
    "import time\n",
    "start_time = time.time()\n",
    "dma.sendchannel.transfer(in_buffer)\n",
    "print(\"Done tranfer in_buffer\")\n",
    "dma.sendchannel.wait()\n",
    "print(\"Done send channel wait\")\n",
    "\n",
    "stop_time = time.time()\n",
    "hw_exec_time = stop_time-start_time\n",
    "\n",
    "print('DMA Transfer Execution Time  :',hw_exec_time,' sec')\n",
    "\n",
    "# Plot to the notebook\n",
    "#plot_time(t,samples,2000,out_signal=out_buffer)\n",
    "\n",
    "# Free the buffers\n",
    "in_buffer.close()\n",
    "\n",
    "print(\"Sync Lock Indecator  : \" + str(qpsk_demod.mmio.read(qpsk_regmap.RegMap.SYNC_LOCK_ADDR)))\n",
    "print(\"Symbols in the Buffer: \" + str(qpsk_demod.mmio.read(qpsk_regmap.RegMap.WR_RAM_ADDR)))\n"
   ]
  },
  {
   "cell_type": "markdown",
   "metadata": {},
   "source": [
    "### Read QPSK Demodulator Output Buffer"
   ]
  },
  {
   "cell_type": "code",
   "execution_count": 7,
   "metadata": {},
   "outputs": [
    {
     "name": "stdout",
     "output_type": "stream",
     "text": [
      "Number of DWORDs to Read: 5\n",
      "0xdeadbeef\n",
      "0xdeadbeef\n",
      "0xdeadbeef\n",
      "0xdeadbeef\n",
      "0xdeadbeef\n"
     ]
    }
   ],
   "source": [
    "rd_len = int(qpsk_demod.mmio.read(qpsk_regmap.RegMap.WR_RAM_ADDR)/SamplesPerSym)\n",
    "print(\"Number of DWORDs to Read: \" + str(rd_len))\n",
    "dout = []\n",
    "for i in range(rd_len):\n",
    "    qpsk_demod.mmio.write(qpsk_regmap.RegMap.RD_RAM_ADDR_ADDR,i)\n",
    "    dout.append(qpsk_demod.mmio.read(qpsk_regmap.RegMap.RD_RAM_DATA_ADDR))\n",
    "    \n",
    "for i in dout:\n",
    "    print(str(hex(i)))"
   ]
  },
  {
   "cell_type": "markdown",
   "metadata": {},
   "source": [
    "#### Clear QPSK Demodulator Output Buffer Pointer"
   ]
  },
  {
   "cell_type": "code",
   "execution_count": null,
   "metadata": {},
   "outputs": [],
   "source": [
    "print(\"WR Capture Address: \" + str(qpsk_demod.mmio.read(qpsk_regmap.RegMap.WR_RAM_ADDR)))\n",
    "print(\"RD Capture Address: \" + str(qpsk_demod.mmio.read(qpsk_regmap.RegMap.RD_RAM_ADDR_ADDR)))\n",
    "qpsk_demod.mmio.write(qpsk_regmap.RegMap.WR_RAM_ADDR_CTRL_ADDR,1)\n",
    "print(\"WR Capture Address: \" + str(qpsk_demod.mmio.read(qpsk_regmap.RegMap.WR_RAM_ADDR)))\n",
    "print(\"SYNC Lock         : \" + str(qpsk_demod.mmio.read(qpsk_regmap.RegMap.SYNC_LOCK_ADDR)))\n",
    "qpsk_demod.mmio.write(qpsk_regmap.RegMap.SYNC_RESET_ADDR,1)\n",
    "print(\"SYNC Lock         : \" + str(qpsk_demod.mmio.read(qpsk_regmap.RegMap.SYNC_LOCK_ADDR)))"
   ]
  },
  {
   "cell_type": "code",
   "execution_count": null,
   "metadata": {},
   "outputs": [],
   "source": []
  }
 ],
 "metadata": {
  "kernelspec": {
   "display_name": "Python 3 (ipykernel)",
   "language": "python",
   "name": "python3"
  },
  "language_info": {
   "codemirror_mode": {
    "name": "ipython",
    "version": 3
   },
   "file_extension": ".py",
   "mimetype": "text/x-python",
   "name": "python",
   "nbconvert_exporter": "python",
   "pygments_lexer": "ipython3",
   "version": "3.10.12"
  }
 },
 "nbformat": 4,
 "nbformat_minor": 4
}
