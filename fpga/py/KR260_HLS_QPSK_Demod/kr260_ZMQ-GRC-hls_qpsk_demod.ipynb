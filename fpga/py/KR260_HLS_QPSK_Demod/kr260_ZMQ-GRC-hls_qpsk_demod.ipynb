{
 "cells": [
  {
   "cell_type": "markdown",
   "metadata": {},
   "source": [
    "# KR260 HLS QPSK Demod with GNURadio\n",
    "\n",
    "## Setup\n",
    "\n",
    "### Mounting Development Machine\n",
    "This notebook utilizes `sshfs` to mount the development directory on the KR260 board to avoid transferring files bewteen machines.  \n",
    "\n",
    "The development machine that was used to build the KR260 FPGA image is named `dev-wks`.  To mount the development directory on `dev-wks`, first will need to create a folder to mount the directory, then execute the following from the Jupyter Terminal:\n",
    "\n",
    "```bash\n",
    "cd /home/root/jupyter_notebooks\n",
    "mkdir puch\n",
    "sshfs sdr@dev-wks:/home/sdr/workspace/puch-workspace/HLS-QPSK-Demod-Baseband_002 /home/root/jupyter_notebooks/puch\n",
    "```\n",
    "\n",
    "If `sshfs` is not installed, then execute `sudo apt install sshfs` on the Jupyter Terminal.\n",
    "\n",
    "### Unmounting Development Machine\n",
    "To unmount the directory\n",
    "` fusermount -u /home/root/jupyter_notebooks/dev-wks/`\n",
    "\n",
    "\n",
    "### Plot function for use in this notebook\n",
    "The first code block below defines a function that we will use for plotting data throughout this notebook. Note that the function has a `n_samples` argument so that we can limit the number of samples to plot. Plotting more than a few thousand samples can be very slow and consume a lot of RAM.\n",
    "\n",
    "### Requirements\n",
    "Install the following:\n",
    "\n",
    "```bash\n",
    "pip install ipympl\n",
    "pip install ipywidgets\n",
    "pip install jupyter_bokeh\n",
    "```"
   ]
  },
  {
   "cell_type": "markdown",
   "metadata": {},
   "source": [
    "# Initilize\n",
    "\n",
    "#### Bokeh Plot Function"
   ]
  },
  {
   "cell_type": "code",
   "execution_count": 1,
   "metadata": {},
   "outputs": [],
   "source": [
    "from bokeh.plotting import figure, output_file, show\n",
    "from bokeh.io import output_notebook, show\n",
    "import numpy as np\n",
    "import math\n",
    "import zmq\n",
    "import sys\n",
    "import ipywidgets as widgets\n",
    "from ipywidgets import HBox, VBox\n",
    "import threading\n",
    "\n",
    "def plot_time(in_signal,out_signal=None):\n",
    "    t = np.linspace(0,len(in_signal),len(in_signal))\n",
    "    output_notebook()\n",
    "    p = figure(title = \"Input & Output Signal\")\n",
    "    \n",
    "    if out_signal is not None:\n",
    "        p.line(t,out_signal,legend_label=\"Output Signal\",line_color=\"red\",line_width=1)\n",
    "    p.line(t,in_signal,legend_label=\"Input Signal\",line_color=\"blue\",line_width=3)\n",
    "    show(p)"
   ]
  },
  {
   "cell_type": "markdown",
   "metadata": {},
   "source": [
    "### Create a PUSH Socket\n"
   ]
  },
  {
   "cell_type": "code",
   "execution_count": null,
   "metadata": {},
   "outputs": [],
   "source": [
    "_PROTOCOL = \"tcp://\"\n",
    "_SERVER = \"192.168.1.233\"          # PYNQ Board\n",
    "_PUSH_PORT = \":20000\"\n",
    "_PUSH_ADDR = _PROTOCOL + _SERVER + _PUSH_PORT\n",
    "push_context = zmq.Context()\n",
    "push_sock = push_context.socket (zmq.PUSH)\n",
    "rc = push_sock.bind (_PUSH_ADDR)\n"
   ]
  },
  {
   "cell_type": "markdown",
   "metadata": {},
   "source": [
    "### Create a PULL Socket"
   ]
  },
  {
   "cell_type": "code",
   "execution_count": 2,
   "metadata": {},
   "outputs": [],
   "source": [
    "_PROTOCOL = \"tcp://\"\n",
    "_SERVER = \"192.168.1.13\"          # Host Computer\n",
    "_PULL_PORT = \":10000\"\n",
    "_PULL_ADDR = _PROTOCOL + _SERVER + _PULL_PORT\n",
    "pull_context = zmq.Context()\n",
    "pull_sock = pull_context.socket (zmq.PULL)\n",
    "pull_sock.setsockopt(zmq.RCVBUF, 1024*1024)\n",
    "rc = pull_sock.connect (_PULL_ADDR)"
   ]
  },
  {
   "cell_type": "markdown",
   "metadata": {},
   "source": [
    "#### Load Overlay"
   ]
  },
  {
   "cell_type": "code",
   "execution_count": 3,
   "metadata": {},
   "outputs": [
    {
     "data": {
      "application/javascript": [
       "\n",
       "try {\n",
       "require(['notebook/js/codecell'], function(codecell) {\n",
       "  codecell.CodeCell.options_default.highlight_modes[\n",
       "      'magic_text/x-csrc'] = {'reg':[/^%%microblaze/]};\n",
       "  Jupyter.notebook.events.one('kernel_ready.Kernel', function(){\n",
       "      Jupyter.notebook.get_cells().map(function(cell){\n",
       "          if (cell.cell_type == 'code'){ cell.auto_highlight(); } }) ;\n",
       "  });\n",
       "});\n",
       "} catch (e) {};\n"
      ]
     },
     "metadata": {},
     "output_type": "display_data"
    },
    {
     "data": {
      "application/javascript": [
       "\n",
       "try {\n",
       "require(['notebook/js/codecell'], function(codecell) {\n",
       "  codecell.CodeCell.options_default.highlight_modes[\n",
       "      'magic_text/x-csrc'] = {'reg':[/^%%pybind11/]};\n",
       "  Jupyter.notebook.events.one('kernel_ready.Kernel', function(){\n",
       "      Jupyter.notebook.get_cells().map(function(cell){\n",
       "          if (cell.cell_type == 'code'){ cell.auto_highlight(); } }) ;\n",
       "  });\n",
       "});\n",
       "} catch (e) {};\n"
      ]
     },
     "metadata": {},
     "output_type": "display_data"
    }
   ],
   "source": [
    "from pynq import Overlay\n",
    "from pynq import allocate\n",
    "from pynq import MMIO\n",
    "import pynq.lib.dma\n",
    "import time\n",
    "\n",
    "#import Python library from repo:\n",
    "import sys\n",
    "sys.path.append('/home/root/jupyter_notebooks/puch/')\n",
    "import fpga.py.puch as puch\n",
    "import fpga.lib.timestamp.sw.timestamp_regmap as timestamp_regmap\n",
    "import fpga.lib.led_reg.sw.led_regmap as led_regmap\n",
    "import fpga.lib.HLS_QPSK_Demod.sw.qpsk_regmap as qpsk_regmap\n",
    "\n",
    "\n",
    "# Load the overlay\n",
    "overlay = Overlay('../../overlays/KR260_HLS_QPSK_Demod/output/kr260_hls_qpsk_demod.bit')\n",
    "\n",
    "# Assign blocks to short vars\n",
    "dma          = overlay.axi_dma_0\n",
    "led_module   = overlay.led_reg_0\n",
    "timestamp    = overlay.Timestamp_0\n",
    "qpsk_demod   = overlay.QPSK_Demod_Top_0\n",
    "\n",
    "# Configure QPSK Syncword, and reset sync lock\n",
    "qpsk_demod.mmio.write(qpsk_regmap.RegMap.SYNC_WORD_ADDR,0xDEADBEEF)\n",
    "qpsk_demod.mmio.write(qpsk_regmap.RegMap.SYNC_RESET_ADDR,1)"
   ]
  },
  {
   "cell_type": "markdown",
   "metadata": {},
   "source": [
    "##### Print out the register map for DMA and HLS Gain Blocks"
   ]
  },
  {
   "cell_type": "code",
   "execution_count": null,
   "metadata": {},
   "outputs": [],
   "source": [
    "overlay.ip_dict"
   ]
  },
  {
   "cell_type": "markdown",
   "metadata": {},
   "source": [
    "##### Display Time Stamp Register\n",
    "The time stamp is burned into the FPGA during the build process"
   ]
  },
  {
   "cell_type": "code",
   "execution_count": 4,
   "metadata": {},
   "outputs": [
    {
     "name": "stdout",
     "output_type": "stream",
     "text": [
      "FPGA Build Timestamp:  2025/3/19 9:46:56\n"
     ]
    }
   ],
   "source": [
    "print(\"FPGA Build Timestamp:  \" + puch.get_timestamp_str(timestamp))"
   ]
  },
  {
   "cell_type": "markdown",
   "metadata": {},
   "source": [
    "##### Toggle USER_LED[1:0] on/off"
   ]
  },
  {
   "cell_type": "code",
   "execution_count": null,
   "metadata": {},
   "outputs": [],
   "source": [
    "for i in range(10):\n",
    "    led_module.mmio.write(led_regmap.RegMap.USER_LEDS_ADDR,0x1)\n",
    "    time.sleep(0.25)\n",
    "    led_module.mmio.write(led_regmap.RegMap.USER_LEDS_ADDR,0x2)\n",
    "    time.sleep(0.25)\n",
    "led_module.mmio.write(led_regmap.RegMap.USER_LEDS_ADDR,0x0)"
   ]
  },
  {
   "cell_type": "markdown",
   "metadata": {},
   "source": [
    "### Configure the QPSK Demod Control Register\n",
    "\n",
    "Want to enable auto restart, so the FPGA block will always be read to receive samples\n"
   ]
  },
  {
   "cell_type": "code",
   "execution_count": 5,
   "metadata": {},
   "outputs": [
    {
     "name": "stdout",
     "output_type": "stream",
     "text": [
      "F_IN : (16, 12)\n",
      "F_IN : (16, 12)\n"
     ]
    }
   ],
   "source": [
    "fin_tBits, fin_fBits = puch.get_format(qpsk_demod,qpsk_regmap.RegMap.F_IN_ADDR)\n",
    "print(\"F_IN : (\" + str(fin_tBits) + \", \" + str(fin_fBits) + \")\")\n",
    "fout_tBits, fout_fBits = puch.get_format(qpsk_demod,qpsk_regmap.RegMap.F_OUT_ADDR)\n",
    "print(\"F_IN : (\" + str(fout_tBits) + \", \" + str(fout_fBits) + \")\")"
   ]
  },
  {
   "cell_type": "markdown",
   "metadata": {},
   "source": [
    "### Read I/Q from ZMQ Socket from GNURadio"
   ]
  },
  {
   "cell_type": "code",
   "execution_count": 18,
   "metadata": {},
   "outputs": [
    {
     "data": {
      "text/html": [
       "<style>\n",
       "        .bk-notebook-logo {\n",
       "            display: block;\n",
       "            width: 20px;\n",
       "            height: 20px;\n",
       "            background-image: url(data:image/png;base64,iVBORw0KGgoAAAANSUhEUgAAABQAAAAUCAYAAACNiR0NAAAABHNCSVQICAgIfAhkiAAAAAlwSFlzAAALEgAACxIB0t1+/AAAABx0RVh0U29mdHdhcmUAQWRvYmUgRmlyZXdvcmtzIENTNui8sowAAAOkSURBVDiNjZRtaJVlGMd/1/08zzln5zjP1LWcU9N0NkN8m2CYjpgQYQXqSs0I84OLIC0hkEKoPtiH3gmKoiJDU7QpLgoLjLIQCpEsNJ1vqUOdO7ppbuec5+V+rj4ctwzd8IIbbi6u+8f1539dt3A78eXC7QizUF7gyV1fD1Yqg4JWz84yffhm0qkFqBogB9rM8tZdtwVsPUhWhGcFJngGeWrPzHm5oaMmkfEg1usvLFyc8jLRqDOMru7AyC8saQr7GG7f5fvDeH7Ej8CM66nIF+8yngt6HWaKh7k49Soy9nXurCi1o3qUbS3zWfrYeQDTB/Qj6kX6Ybhw4B+bOYoLKCC9H3Nu/leUTZ1JdRWkkn2ldcCamzrcf47KKXdAJllSlxAOkRgyHsGC/zRday5Qld9DyoM4/q/rUoy/CXh3jzOu3bHUVZeU+DEn8FInkPBFlu3+nW3Nw0mk6vCDiWg8CeJaxEwuHS3+z5RgY+YBR6V1Z1nxSOfoaPa4LASWxxdNp+VWTk7+4vzaou8v8PN+xo+KY2xsw6une2frhw05CTYOmQvsEhjhWjn0bmXPjpE1+kplmmkP3suftwTubK9Vq22qKmrBhpY4jvd5afdRA3wGjFAgcnTK2s4hY0/GPNIb0nErGMCRxWOOX64Z8RAC4oCXdklmEvcL8o0BfkNK4lUg9HTl+oPlQxdNo3Mg4Nv175e/1LDGzZen30MEjRUtmXSfiTVu1kK8W4txyV6BMKlbgk3lMwYCiusNy9fVfvvwMxv8Ynl6vxoByANLTWplvuj/nF9m2+PDtt1eiHPBr1oIfhCChQMBw6Aw0UulqTKZdfVvfG7VcfIqLG9bcldL/+pdWTLxLUy8Qq38heUIjh4XlzZxzQm19lLFlr8vdQ97rjZVOLf8nclzckbcD4wxXMidpX30sFd37Fv/GtwwhzhxGVAprjbg0gCAEeIgwCZyTV2Z1REEW8O4py0wsjeloKoMr6iCY6dP92H6Vw/oTyICIthibxjm/DfN9lVz8IqtqKYLUXfoKVMVQVVJOElGjrnnUt9T9wbgp8AyYKaGlqingHZU/uG2NTZSVqwHQTWkx9hxjkpWDaCg6Ckj5qebgBVbT3V3NNXMSiWSDdGV3hrtzla7J+duwPOToIg42ChPQOQjspnSlp1V+Gjdged7+8UN5CRAV7a5EdFNwCjEaBR27b3W890TE7g24NAP/mMDXRWrGoFPQI9ls/MWO2dWFAar/xcOIImbbpA3zgAAAABJRU5ErkJggg==);\n",
       "        }\n",
       "    </style>\n",
       "    <div>\n",
       "        <a href=\"https://bokeh.org\" target=\"_blank\" class=\"bk-notebook-logo\"></a>\n",
       "        <span id=\"a0bf9ea3-d21f-4f69-b43f-e7fb1cd9ffce\">Loading BokehJS ...</span>\n",
       "    </div>\n"
      ]
     },
     "metadata": {},
     "output_type": "display_data"
    },
    {
     "data": {
      "application/javascript": [
       "(function(root) {\n",
       "  function now() {\n",
       "    return new Date();\n",
       "  }\n",
       "\n",
       "  const force = true;\n",
       "\n",
       "  if (typeof root._bokeh_onload_callbacks === \"undefined\" || force === true) {\n",
       "    root._bokeh_onload_callbacks = [];\n",
       "    root._bokeh_is_loading = undefined;\n",
       "  }\n",
       "\n",
       "const JS_MIME_TYPE = 'application/javascript';\n",
       "  const HTML_MIME_TYPE = 'text/html';\n",
       "  const EXEC_MIME_TYPE = 'application/vnd.bokehjs_exec.v0+json';\n",
       "  const CLASS_NAME = 'output_bokeh rendered_html';\n",
       "\n",
       "  /**\n",
       "   * Render data to the DOM node\n",
       "   */\n",
       "  function render(props, node) {\n",
       "    const script = document.createElement(\"script\");\n",
       "    node.appendChild(script);\n",
       "  }\n",
       "\n",
       "  /**\n",
       "   * Handle when an output is cleared or removed\n",
       "   */\n",
       "  function handleClearOutput(event, handle) {\n",
       "    function drop(id) {\n",
       "      const view = Bokeh.index.get_by_id(id)\n",
       "      if (view != null) {\n",
       "        view.model.document.clear()\n",
       "        Bokeh.index.delete(view)\n",
       "      }\n",
       "    }\n",
       "\n",
       "    const cell = handle.cell;\n",
       "\n",
       "    const id = cell.output_area._bokeh_element_id;\n",
       "    const server_id = cell.output_area._bokeh_server_id;\n",
       "\n",
       "    // Clean up Bokeh references\n",
       "    if (id != null) {\n",
       "      drop(id)\n",
       "    }\n",
       "\n",
       "    if (server_id !== undefined) {\n",
       "      // Clean up Bokeh references\n",
       "      const cmd_clean = \"from bokeh.io.state import curstate; print(curstate().uuid_to_server['\" + server_id + \"'].get_sessions()[0].document.roots[0]._id)\";\n",
       "      cell.notebook.kernel.execute(cmd_clean, {\n",
       "        iopub: {\n",
       "          output: function(msg) {\n",
       "            const id = msg.content.text.trim()\n",
       "            drop(id)\n",
       "          }\n",
       "        }\n",
       "      });\n",
       "      // Destroy server and session\n",
       "      const cmd_destroy = \"import bokeh.io.notebook as ion; ion.destroy_server('\" + server_id + \"')\";\n",
       "      cell.notebook.kernel.execute(cmd_destroy);\n",
       "    }\n",
       "  }\n",
       "\n",
       "  /**\n",
       "   * Handle when a new output is added\n",
       "   */\n",
       "  function handleAddOutput(event, handle) {\n",
       "    const output_area = handle.output_area;\n",
       "    const output = handle.output;\n",
       "\n",
       "    // limit handleAddOutput to display_data with EXEC_MIME_TYPE content only\n",
       "    if ((output.output_type != \"display_data\") || (!Object.prototype.hasOwnProperty.call(output.data, EXEC_MIME_TYPE))) {\n",
       "      return\n",
       "    }\n",
       "\n",
       "    const toinsert = output_area.element.find(\".\" + CLASS_NAME.split(' ')[0]);\n",
       "\n",
       "    if (output.metadata[EXEC_MIME_TYPE][\"id\"] !== undefined) {\n",
       "      toinsert[toinsert.length - 1].firstChild.textContent = output.data[JS_MIME_TYPE];\n",
       "      // store reference to embed id on output_area\n",
       "      output_area._bokeh_element_id = output.metadata[EXEC_MIME_TYPE][\"id\"];\n",
       "    }\n",
       "    if (output.metadata[EXEC_MIME_TYPE][\"server_id\"] !== undefined) {\n",
       "      const bk_div = document.createElement(\"div\");\n",
       "      bk_div.innerHTML = output.data[HTML_MIME_TYPE];\n",
       "      const script_attrs = bk_div.children[0].attributes;\n",
       "      for (let i = 0; i < script_attrs.length; i++) {\n",
       "        toinsert[toinsert.length - 1].firstChild.setAttribute(script_attrs[i].name, script_attrs[i].value);\n",
       "        toinsert[toinsert.length - 1].firstChild.textContent = bk_div.children[0].textContent\n",
       "      }\n",
       "      // store reference to server id on output_area\n",
       "      output_area._bokeh_server_id = output.metadata[EXEC_MIME_TYPE][\"server_id\"];\n",
       "    }\n",
       "  }\n",
       "\n",
       "  function register_renderer(events, OutputArea) {\n",
       "\n",
       "    function append_mime(data, metadata, element) {\n",
       "      // create a DOM node to render to\n",
       "      const toinsert = this.create_output_subarea(\n",
       "        metadata,\n",
       "        CLASS_NAME,\n",
       "        EXEC_MIME_TYPE\n",
       "      );\n",
       "      this.keyboard_manager.register_events(toinsert);\n",
       "      // Render to node\n",
       "      const props = {data: data, metadata: metadata[EXEC_MIME_TYPE]};\n",
       "      render(props, toinsert[toinsert.length - 1]);\n",
       "      element.append(toinsert);\n",
       "      return toinsert\n",
       "    }\n",
       "\n",
       "    /* Handle when an output is cleared or removed */\n",
       "    events.on('clear_output.CodeCell', handleClearOutput);\n",
       "    events.on('delete.Cell', handleClearOutput);\n",
       "\n",
       "    /* Handle when a new output is added */\n",
       "    events.on('output_added.OutputArea', handleAddOutput);\n",
       "\n",
       "    /**\n",
       "     * Register the mime type and append_mime function with output_area\n",
       "     */\n",
       "    OutputArea.prototype.register_mime_type(EXEC_MIME_TYPE, append_mime, {\n",
       "      /* Is output safe? */\n",
       "      safe: true,\n",
       "      /* Index of renderer in `output_area.display_order` */\n",
       "      index: 0\n",
       "    });\n",
       "  }\n",
       "\n",
       "  // register the mime type if in Jupyter Notebook environment and previously unregistered\n",
       "  if (root.Jupyter !== undefined) {\n",
       "    const events = require('base/js/events');\n",
       "    const OutputArea = require('notebook/js/outputarea').OutputArea;\n",
       "\n",
       "    if (OutputArea.prototype.mime_types().indexOf(EXEC_MIME_TYPE) == -1) {\n",
       "      register_renderer(events, OutputArea);\n",
       "    }\n",
       "  }\n",
       "  if (typeof (root._bokeh_timeout) === \"undefined\" || force === true) {\n",
       "    root._bokeh_timeout = Date.now() + 5000;\n",
       "    root._bokeh_failed_load = false;\n",
       "  }\n",
       "\n",
       "  const NB_LOAD_WARNING = {'data': {'text/html':\n",
       "     \"<div style='background-color: #fdd'>\\n\"+\n",
       "     \"<p>\\n\"+\n",
       "     \"BokehJS does not appear to have successfully loaded. If loading BokehJS from CDN, this \\n\"+\n",
       "     \"may be due to a slow or bad network connection. Possible fixes:\\n\"+\n",
       "     \"</p>\\n\"+\n",
       "     \"<ul>\\n\"+\n",
       "     \"<li>re-rerun `output_notebook()` to attempt to load from CDN again, or</li>\\n\"+\n",
       "     \"<li>use INLINE resources instead, as so:</li>\\n\"+\n",
       "     \"</ul>\\n\"+\n",
       "     \"<code>\\n\"+\n",
       "     \"from bokeh.resources import INLINE\\n\"+\n",
       "     \"output_notebook(resources=INLINE)\\n\"+\n",
       "     \"</code>\\n\"+\n",
       "     \"</div>\"}};\n",
       "\n",
       "  function display_loaded() {\n",
       "    const el = document.getElementById(\"a0bf9ea3-d21f-4f69-b43f-e7fb1cd9ffce\");\n",
       "    if (el != null) {\n",
       "      el.textContent = \"BokehJS is loading...\";\n",
       "    }\n",
       "    if (root.Bokeh !== undefined) {\n",
       "      if (el != null) {\n",
       "        el.textContent = \"BokehJS \" + root.Bokeh.version + \" successfully loaded.\";\n",
       "      }\n",
       "    } else if (Date.now() < root._bokeh_timeout) {\n",
       "      setTimeout(display_loaded, 100)\n",
       "    }\n",
       "  }\n",
       "\n",
       "  function run_callbacks() {\n",
       "    try {\n",
       "      root._bokeh_onload_callbacks.forEach(function(callback) {\n",
       "        if (callback != null)\n",
       "          callback();\n",
       "      });\n",
       "    } finally {\n",
       "      delete root._bokeh_onload_callbacks\n",
       "    }\n",
       "    console.debug(\"Bokeh: all callbacks have finished\");\n",
       "  }\n",
       "\n",
       "  function load_libs(css_urls, js_urls, callback) {\n",
       "    if (css_urls == null) css_urls = [];\n",
       "    if (js_urls == null) js_urls = [];\n",
       "\n",
       "    root._bokeh_onload_callbacks.push(callback);\n",
       "    if (root._bokeh_is_loading > 0) {\n",
       "      console.debug(\"Bokeh: BokehJS is being loaded, scheduling callback at\", now());\n",
       "      return null;\n",
       "    }\n",
       "    if (js_urls == null || js_urls.length === 0) {\n",
       "      run_callbacks();\n",
       "      return null;\n",
       "    }\n",
       "    console.debug(\"Bokeh: BokehJS not loaded, scheduling load and callback at\", now());\n",
       "    root._bokeh_is_loading = css_urls.length + js_urls.length;\n",
       "\n",
       "    function on_load() {\n",
       "      root._bokeh_is_loading--;\n",
       "      if (root._bokeh_is_loading === 0) {\n",
       "        console.debug(\"Bokeh: all BokehJS libraries/stylesheets loaded\");\n",
       "        run_callbacks()\n",
       "      }\n",
       "    }\n",
       "\n",
       "    function on_error(url) {\n",
       "      console.error(\"failed to load \" + url);\n",
       "    }\n",
       "\n",
       "    for (let i = 0; i < css_urls.length; i++) {\n",
       "      const url = css_urls[i];\n",
       "      const element = document.createElement(\"link\");\n",
       "      element.onload = on_load;\n",
       "      element.onerror = on_error.bind(null, url);\n",
       "      element.rel = \"stylesheet\";\n",
       "      element.type = \"text/css\";\n",
       "      element.href = url;\n",
       "      console.debug(\"Bokeh: injecting link tag for BokehJS stylesheet: \", url);\n",
       "      document.body.appendChild(element);\n",
       "    }\n",
       "\n",
       "    for (let i = 0; i < js_urls.length; i++) {\n",
       "      const url = js_urls[i];\n",
       "      const element = document.createElement('script');\n",
       "      element.onload = on_load;\n",
       "      element.onerror = on_error.bind(null, url);\n",
       "      element.async = false;\n",
       "      element.src = url;\n",
       "      console.debug(\"Bokeh: injecting script tag for BokehJS library: \", url);\n",
       "      document.head.appendChild(element);\n",
       "    }\n",
       "  };\n",
       "\n",
       "  function inject_raw_css(css) {\n",
       "    const element = document.createElement(\"style\");\n",
       "    element.appendChild(document.createTextNode(css));\n",
       "    document.body.appendChild(element);\n",
       "  }\n",
       "\n",
       "  const js_urls = [\"https://cdn.bokeh.org/bokeh/release/bokeh-3.3.0.min.js\", \"https://cdn.bokeh.org/bokeh/release/bokeh-gl-3.3.0.min.js\", \"https://cdn.bokeh.org/bokeh/release/bokeh-widgets-3.3.0.min.js\", \"https://cdn.bokeh.org/bokeh/release/bokeh-tables-3.3.0.min.js\", \"https://cdn.bokeh.org/bokeh/release/bokeh-mathjax-3.3.0.min.js\"];\n",
       "  const css_urls = [];\n",
       "\n",
       "  const inline_js = [    function(Bokeh) {\n",
       "      Bokeh.set_log_level(\"info\");\n",
       "    },\n",
       "function(Bokeh) {\n",
       "    }\n",
       "  ];\n",
       "\n",
       "  function run_inline_js() {\n",
       "    if (root.Bokeh !== undefined || force === true) {\n",
       "          for (let i = 0; i < inline_js.length; i++) {\n",
       "      inline_js[i].call(root, root.Bokeh);\n",
       "    }\n",
       "if (force === true) {\n",
       "        display_loaded();\n",
       "      }} else if (Date.now() < root._bokeh_timeout) {\n",
       "      setTimeout(run_inline_js, 100);\n",
       "    } else if (!root._bokeh_failed_load) {\n",
       "      console.log(\"Bokeh: BokehJS failed to load within specified timeout.\");\n",
       "      root._bokeh_failed_load = true;\n",
       "    } else if (force !== true) {\n",
       "      const cell = $(document.getElementById(\"a0bf9ea3-d21f-4f69-b43f-e7fb1cd9ffce\")).parents('.cell').data().cell;\n",
       "      cell.output_area.append_execute_result(NB_LOAD_WARNING)\n",
       "    }\n",
       "  }\n",
       "\n",
       "  if (root._bokeh_is_loading === 0) {\n",
       "    console.debug(\"Bokeh: BokehJS loaded, going straight to plotting\");\n",
       "    run_inline_js();\n",
       "  } else {\n",
       "    load_libs(css_urls, js_urls, function() {\n",
       "      console.debug(\"Bokeh: BokehJS plotting callback run at\", now());\n",
       "      run_inline_js();\n",
       "    });\n",
       "  }\n",
       "}(window));"
      ],
      "application/vnd.bokehjs_load.v0+json": "(function(root) {\n  function now() {\n    return new Date();\n  }\n\n  const force = true;\n\n  if (typeof root._bokeh_onload_callbacks === \"undefined\" || force === true) {\n    root._bokeh_onload_callbacks = [];\n    root._bokeh_is_loading = undefined;\n  }\n\n\n  if (typeof (root._bokeh_timeout) === \"undefined\" || force === true) {\n    root._bokeh_timeout = Date.now() + 5000;\n    root._bokeh_failed_load = false;\n  }\n\n  const NB_LOAD_WARNING = {'data': {'text/html':\n     \"<div style='background-color: #fdd'>\\n\"+\n     \"<p>\\n\"+\n     \"BokehJS does not appear to have successfully loaded. If loading BokehJS from CDN, this \\n\"+\n     \"may be due to a slow or bad network connection. Possible fixes:\\n\"+\n     \"</p>\\n\"+\n     \"<ul>\\n\"+\n     \"<li>re-rerun `output_notebook()` to attempt to load from CDN again, or</li>\\n\"+\n     \"<li>use INLINE resources instead, as so:</li>\\n\"+\n     \"</ul>\\n\"+\n     \"<code>\\n\"+\n     \"from bokeh.resources import INLINE\\n\"+\n     \"output_notebook(resources=INLINE)\\n\"+\n     \"</code>\\n\"+\n     \"</div>\"}};\n\n  function display_loaded() {\n    const el = document.getElementById(\"a0bf9ea3-d21f-4f69-b43f-e7fb1cd9ffce\");\n    if (el != null) {\n      el.textContent = \"BokehJS is loading...\";\n    }\n    if (root.Bokeh !== undefined) {\n      if (el != null) {\n        el.textContent = \"BokehJS \" + root.Bokeh.version + \" successfully loaded.\";\n      }\n    } else if (Date.now() < root._bokeh_timeout) {\n      setTimeout(display_loaded, 100)\n    }\n  }\n\n  function run_callbacks() {\n    try {\n      root._bokeh_onload_callbacks.forEach(function(callback) {\n        if (callback != null)\n          callback();\n      });\n    } finally {\n      delete root._bokeh_onload_callbacks\n    }\n    console.debug(\"Bokeh: all callbacks have finished\");\n  }\n\n  function load_libs(css_urls, js_urls, callback) {\n    if (css_urls == null) css_urls = [];\n    if (js_urls == null) js_urls = [];\n\n    root._bokeh_onload_callbacks.push(callback);\n    if (root._bokeh_is_loading > 0) {\n      console.debug(\"Bokeh: BokehJS is being loaded, scheduling callback at\", now());\n      return null;\n    }\n    if (js_urls == null || js_urls.length === 0) {\n      run_callbacks();\n      return null;\n    }\n    console.debug(\"Bokeh: BokehJS not loaded, scheduling load and callback at\", now());\n    root._bokeh_is_loading = css_urls.length + js_urls.length;\n\n    function on_load() {\n      root._bokeh_is_loading--;\n      if (root._bokeh_is_loading === 0) {\n        console.debug(\"Bokeh: all BokehJS libraries/stylesheets loaded\");\n        run_callbacks()\n      }\n    }\n\n    function on_error(url) {\n      console.error(\"failed to load \" + url);\n    }\n\n    for (let i = 0; i < css_urls.length; i++) {\n      const url = css_urls[i];\n      const element = document.createElement(\"link\");\n      element.onload = on_load;\n      element.onerror = on_error.bind(null, url);\n      element.rel = \"stylesheet\";\n      element.type = \"text/css\";\n      element.href = url;\n      console.debug(\"Bokeh: injecting link tag for BokehJS stylesheet: \", url);\n      document.body.appendChild(element);\n    }\n\n    for (let i = 0; i < js_urls.length; i++) {\n      const url = js_urls[i];\n      const element = document.createElement('script');\n      element.onload = on_load;\n      element.onerror = on_error.bind(null, url);\n      element.async = false;\n      element.src = url;\n      console.debug(\"Bokeh: injecting script tag for BokehJS library: \", url);\n      document.head.appendChild(element);\n    }\n  };\n\n  function inject_raw_css(css) {\n    const element = document.createElement(\"style\");\n    element.appendChild(document.createTextNode(css));\n    document.body.appendChild(element);\n  }\n\n  const js_urls = [\"https://cdn.bokeh.org/bokeh/release/bokeh-3.3.0.min.js\", \"https://cdn.bokeh.org/bokeh/release/bokeh-gl-3.3.0.min.js\", \"https://cdn.bokeh.org/bokeh/release/bokeh-widgets-3.3.0.min.js\", \"https://cdn.bokeh.org/bokeh/release/bokeh-tables-3.3.0.min.js\", \"https://cdn.bokeh.org/bokeh/release/bokeh-mathjax-3.3.0.min.js\"];\n  const css_urls = [];\n\n  const inline_js = [    function(Bokeh) {\n      Bokeh.set_log_level(\"info\");\n    },\nfunction(Bokeh) {\n    }\n  ];\n\n  function run_inline_js() {\n    if (root.Bokeh !== undefined || force === true) {\n          for (let i = 0; i < inline_js.length; i++) {\n      inline_js[i].call(root, root.Bokeh);\n    }\nif (force === true) {\n        display_loaded();\n      }} else if (Date.now() < root._bokeh_timeout) {\n      setTimeout(run_inline_js, 100);\n    } else if (!root._bokeh_failed_load) {\n      console.log(\"Bokeh: BokehJS failed to load within specified timeout.\");\n      root._bokeh_failed_load = true;\n    } else if (force !== true) {\n      const cell = $(document.getElementById(\"a0bf9ea3-d21f-4f69-b43f-e7fb1cd9ffce\")).parents('.cell').data().cell;\n      cell.output_area.append_execute_result(NB_LOAD_WARNING)\n    }\n  }\n\n  if (root._bokeh_is_loading === 0) {\n    console.debug(\"Bokeh: BokehJS loaded, going straight to plotting\");\n    run_inline_js();\n  } else {\n    load_libs(css_urls, js_urls, function() {\n      console.debug(\"Bokeh: BokehJS plotting callback run at\", now());\n      run_inline_js();\n    });\n  }\n}(window));"
     },
     "metadata": {},
     "output_type": "display_data"
    },
    {
     "data": {
      "text/html": [
       "\n",
       "  <div id=\"c7632ed2-88fc-427f-9543-b947c6dd8348\" data-root-id=\"p1169\" style=\"display: contents;\"></div>\n"
      ]
     },
     "metadata": {},
     "output_type": "display_data"
    },
    {
     "data": {
      "application/javascript": [
       "(function(root) {\n",
       "  function embed_document(root) {\n",
       "  const docs_json = {\"000d7948-2349-4569-b34f-024e0b99915b\":{\"version\":\"3.3.0\",\"title\":\"Bokeh Application\",\"roots\":[{\"type\":\"object\",\"name\":\"Figure\",\"id\":\"p1169\",\"attributes\":{\"x_range\":{\"type\":\"object\",\"name\":\"DataRange1d\",\"id\":\"p1170\"},\"y_range\":{\"type\":\"object\",\"name\":\"DataRange1d\",\"id\":\"p1171\"},\"x_scale\":{\"type\":\"object\",\"name\":\"LinearScale\",\"id\":\"p1179\"},\"y_scale\":{\"type\":\"object\",\"name\":\"LinearScale\",\"id\":\"p1180\"},\"title\":{\"type\":\"object\",\"name\":\"Title\",\"id\":\"p1172\",\"attributes\":{\"text\":\"Input & Output Signal\"}},\"renderers\":[{\"type\":\"object\",\"name\":\"GlyphRenderer\",\"id\":\"p1204\",\"attributes\":{\"data_source\":{\"type\":\"object\",\"name\":\"ColumnDataSource\",\"id\":\"p1198\",\"attributes\":{\"selected\":{\"type\":\"object\",\"name\":\"Selection\",\"id\":\"p1199\",\"attributes\":{\"indices\":[],\"line_indices\":[]}},\"selection_policy\":{\"type\":\"object\",\"name\":\"UnionRenderers\",\"id\":\"p1200\"},\"data\":{\"type\":\"map\",\"entries\":[[\"x\",{\"type\":\"ndarray\",\"array\":{\"type\":\"bytes\",\"data\":\"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\"},\"shape\":[2048],\"dtype\":\"float64\",\"order\":\"little\"}],[\"y\",{\"type\":\"ndarray\",\"array\":{\"type\":\"bytes\",\"data\":\"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\"},\"shape\":[2048],\"dtype\":\"int32\",\"order\":\"little\"}]]}}},\"view\":{\"type\":\"object\",\"name\":\"CDSView\",\"id\":\"p1205\",\"attributes\":{\"filter\":{\"type\":\"object\",\"name\":\"AllIndices\",\"id\":\"p1206\"}}},\"glyph\":{\"type\":\"object\",\"name\":\"Line\",\"id\":\"p1201\",\"attributes\":{\"x\":{\"type\":\"field\",\"field\":\"x\"},\"y\":{\"type\":\"field\",\"field\":\"y\"},\"line_color\":\"blue\",\"line_width\":3}},\"nonselection_glyph\":{\"type\":\"object\",\"name\":\"Line\",\"id\":\"p1202\",\"attributes\":{\"x\":{\"type\":\"field\",\"field\":\"x\"},\"y\":{\"type\":\"field\",\"field\":\"y\"},\"line_color\":\"blue\",\"line_alpha\":0.1,\"line_width\":3}},\"muted_glyph\":{\"type\":\"object\",\"name\":\"Line\",\"id\":\"p1203\",\"attributes\":{\"x\":{\"type\":\"field\",\"field\":\"x\"},\"y\":{\"type\":\"field\",\"field\":\"y\"},\"line_color\":\"blue\",\"line_alpha\":0.2,\"line_width\":3}}}}],\"toolbar\":{\"type\":\"object\",\"name\":\"Toolbar\",\"id\":\"p1178\",\"attributes\":{\"tools\":[{\"type\":\"object\",\"name\":\"PanTool\",\"id\":\"p1191\"},{\"type\":\"object\",\"name\":\"WheelZoomTool\",\"id\":\"p1192\",\"attributes\":{\"renderers\":\"auto\"}},{\"type\":\"object\",\"name\":\"BoxZoomTool\",\"id\":\"p1193\",\"attributes\":{\"overlay\":{\"type\":\"object\",\"name\":\"BoxAnnotation\",\"id\":\"p1194\",\"attributes\":{\"syncable\":false,\"level\":\"overlay\",\"visible\":false,\"left_units\":\"canvas\",\"right_units\":\"canvas\",\"top_units\":\"canvas\",\"bottom_units\":\"canvas\",\"line_color\":\"black\",\"line_alpha\":1.0,\"line_width\":2,\"line_dash\":[4,4],\"fill_color\":\"lightgrey\",\"fill_alpha\":0.5}}}},{\"type\":\"object\",\"name\":\"SaveTool\",\"id\":\"p1195\"},{\"type\":\"object\",\"name\":\"ResetTool\",\"id\":\"p1196\"},{\"type\":\"object\",\"name\":\"HelpTool\",\"id\":\"p1197\"}]}},\"left\":[{\"type\":\"object\",\"name\":\"LinearAxis\",\"id\":\"p1186\",\"attributes\":{\"ticker\":{\"type\":\"object\",\"name\":\"BasicTicker\",\"id\":\"p1187\",\"attributes\":{\"mantissas\":[1,2,5]}},\"formatter\":{\"type\":\"object\",\"name\":\"BasicTickFormatter\",\"id\":\"p1188\"},\"major_label_policy\":{\"type\":\"object\",\"name\":\"AllLabels\",\"id\":\"p1189\"}}}],\"below\":[{\"type\":\"object\",\"name\":\"LinearAxis\",\"id\":\"p1181\",\"attributes\":{\"ticker\":{\"type\":\"object\",\"name\":\"BasicTicker\",\"id\":\"p1182\",\"attributes\":{\"mantissas\":[1,2,5]}},\"formatter\":{\"type\":\"object\",\"name\":\"BasicTickFormatter\",\"id\":\"p1183\"},\"major_label_policy\":{\"type\":\"object\",\"name\":\"AllLabels\",\"id\":\"p1184\"}}}],\"center\":[{\"type\":\"object\",\"name\":\"Grid\",\"id\":\"p1185\",\"attributes\":{\"axis\":{\"id\":\"p1181\"}}},{\"type\":\"object\",\"name\":\"Grid\",\"id\":\"p1190\",\"attributes\":{\"dimension\":1,\"axis\":{\"id\":\"p1186\"}}},{\"type\":\"object\",\"name\":\"Legend\",\"id\":\"p1207\",\"attributes\":{\"items\":[{\"type\":\"object\",\"name\":\"LegendItem\",\"id\":\"p1208\",\"attributes\":{\"label\":{\"type\":\"value\",\"value\":\"Input Signal\"},\"renderers\":[{\"id\":\"p1204\"}]}}]}}]}}]}};\n",
       "  const render_items = [{\"docid\":\"000d7948-2349-4569-b34f-024e0b99915b\",\"roots\":{\"p1169\":\"c7632ed2-88fc-427f-9543-b947c6dd8348\"},\"root_ids\":[\"p1169\"]}];\n",
       "  root.Bokeh.embed.embed_items_notebook(docs_json, render_items);\n",
       "  }\n",
       "  if (root.Bokeh !== undefined) {\n",
       "    embed_document(root);\n",
       "  } else {\n",
       "    let attempts = 0;\n",
       "    const timer = setInterval(function(root) {\n",
       "      if (root.Bokeh !== undefined) {\n",
       "        clearInterval(timer);\n",
       "        embed_document(root);\n",
       "      } else {\n",
       "        attempts++;\n",
       "        if (attempts > 100) {\n",
       "          clearInterval(timer);\n",
       "          console.log(\"Bokeh: ERROR: Unable to run BokehJS code because BokehJS library is missing\");\n",
       "        }\n",
       "      }\n",
       "    }, 10, root)\n",
       "  }\n",
       "})(window);"
      ],
      "application/vnd.bokehjs_exec.v0+json": ""
     },
     "metadata": {
      "application/vnd.bokehjs_exec.v0+json": {
       "id": "p1169"
      }
     },
     "output_type": "display_data"
    }
   ],
   "source": [
    "data = pull_sock.recv()\n",
    "data = np.frombuffer(data, dtype=np.complex64, count=1024*2) # Read 128 Symbols\n",
    "data = np.array(data)\n",
    "data = data.astype('complex64')*(2**fin_fBits)\n",
    "xi = data.real\n",
    "xq = data.imag\n",
    "xi = xi.astype(np.int32)\n",
    "xq = xq.astype(np.int32)\n",
    "xiq = (xi<<16) + xq\n",
    "plot_time(xi)"
   ]
  },
  {
   "cell_type": "markdown",
   "metadata": {},
   "source": [
    "### DMA Transfer the Sample buffer from ARM Processor to the HLS QPSK Demodulator"
   ]
  },
  {
   "cell_type": "code",
   "execution_count": 14,
   "metadata": {},
   "outputs": [
    {
     "name": "stdout",
     "output_type": "stream",
     "text": [
      "NumSamples = 2048\n",
      "NumSymboles = 32\n",
      "Done tranfer in_buffer\n",
      "Done send channel wait\n",
      "DMA Transfer Execution Time  : 0.0028269290924072266  sec\n",
      "Sync Lock Indecator  : 1\n",
      "Symbols in the Buffer: 102\n"
     ]
    }
   ],
   "source": [
    "# 16 Samples Per Symbol, therefore create read buffer /16\n",
    "SamplesPerSym = 16\n",
    "NumSamples = len(xiq)\n",
    "NumSymbols = int(NumSamples/SamplesPerSym/4)\n",
    "print(\"NumSamples = \" + str(NumSamples))\n",
    "print(\"NumSymboles = \" + str(NumSymbols))\n",
    "\n",
    "# Clear the buffer write address\n",
    "qpsk_demod.mmio.write(qpsk_regmap.RegMap.WR_RAM_ADDR_CTRL_ADDR,1)\n",
    "\n",
    "# Configure Sync Word\n",
    "qpsk_demod.mmio.write(qpsk_regmap.RegMap.SYNC_RESET_ADDR,1)\n",
    "qpsk_demod.mmio.write(qpsk_regmap.RegMap.SYNC_WORD_ADDR,0xDEADBEEF)\n",
    "\n",
    "# Allocate buffers for the input and output signals\n",
    "in_buffer = allocate(shape=(NumSamples,), dtype=np.int32)\n",
    "\n",
    "# Copy the samples to the in_buffer\n",
    "np.copyto(in_buffer,xiq)\n",
    "\n",
    "# Start HLS QPSK Demodulator\n",
    "qpsk_demod.mmio.write(qpsk_regmap.RegMap.AP_CONTROL_ADDR,0)\n",
    "qpsk_demod.mmio.write(qpsk_regmap.RegMap.AP_CONTROL_ADDR,1)\n",
    "\n",
    "# Trigger the DMA transfer and wait for the result\n",
    "import time\n",
    "start_time = time.time()\n",
    "dma.sendchannel.transfer(in_buffer)\n",
    "print(\"Done tranfer in_buffer\")\n",
    "dma.sendchannel.wait()\n",
    "print(\"Done send channel wait\")\n",
    "\n",
    "stop_time = time.time()\n",
    "hw_exec_time = stop_time-start_time\n",
    "\n",
    "print('DMA Transfer Execution Time  :',hw_exec_time,' sec')\n",
    "\n",
    "# Plot to the notebook\n",
    "#plot_time(t,samples,2000,out_signal=out_buffer)\n",
    "\n",
    "# Free the buffers\n",
    "in_buffer.close()\n",
    "\n",
    "print(\"Sync Lock Indecator  : \" + str(qpsk_demod.mmio.read(qpsk_regmap.RegMap.SYNC_LOCK_ADDR)))\n",
    "print(\"Symbols in the Buffer: \" + str(qpsk_demod.mmio.read(qpsk_regmap.RegMap.WR_RAM_ADDR)))\n"
   ]
  },
  {
   "cell_type": "markdown",
   "metadata": {},
   "source": [
    "### Read QPSK Demodulator Output Buffer"
   ]
  },
  {
   "cell_type": "code",
   "execution_count": 15,
   "metadata": {},
   "outputs": [
    {
     "name": "stdout",
     "output_type": "stream",
     "text": [
      "Number of DWORDs to Read: 6\n",
      "0xdeadbeef\n",
      "0xdeadbeef\n",
      "0xdeadbeef\n",
      "0xdeadbeef\n",
      "0xdeadbeef\n",
      "0xdeadbeef\n"
     ]
    }
   ],
   "source": [
    "rd_len = int(qpsk_demod.mmio.read(qpsk_regmap.RegMap.WR_RAM_ADDR)/SamplesPerSym)\n",
    "print(\"Number of DWORDs to Read: \" + str(rd_len))\n",
    "dout = []\n",
    "for i in range(rd_len):\n",
    "    qpsk_demod.mmio.write(qpsk_regmap.RegMap.RD_RAM_ADDR_ADDR,i)\n",
    "    dout.append(qpsk_demod.mmio.read(qpsk_regmap.RegMap.RD_RAM_DATA_ADDR))\n",
    "    \n",
    "for i in dout:\n",
    "    print(str(hex(i)))"
   ]
  },
  {
   "cell_type": "markdown",
   "metadata": {},
   "source": [
    "#### Clear QPSK Demodulator Output Buffer Pointer"
   ]
  },
  {
   "cell_type": "code",
   "execution_count": null,
   "metadata": {},
   "outputs": [],
   "source": [
    "print(\"WR Capture Address: \" + str(qpsk_demod.mmio.read(qpsk_regmap.RegMap.WR_RAM_ADDR)))\n",
    "print(\"RD Capture Address: \" + str(qpsk_demod.mmio.read(qpsk_regmap.RegMap.RD_RAM_ADDR_ADDR)))\n",
    "qpsk_demod.mmio.write(qpsk_regmap.RegMap.WR_RAM_ADDR_CTRL_ADDR,1)\n",
    "print(\"WR Capture Address: \" + str(qpsk_demod.mmio.read(qpsk_regmap.RegMap.WR_RAM_ADDR)))\n",
    "print(\"SYNC Lock         : \" + str(qpsk_demod.mmio.read(qpsk_regmap.RegMap.SYNC_LOCK_ADDR)))\n",
    "qpsk_demod.mmio.write(qpsk_regmap.RegMap.SYNC_RESET_ADDR,1)\n",
    "print(\"SYNC Lock         : \" + str(qpsk_demod.mmio.read(qpsk_regmap.RegMap.SYNC_LOCK_ADDR)))"
   ]
  },
  {
   "cell_type": "code",
   "execution_count": null,
   "metadata": {},
   "outputs": [],
   "source": []
  }
 ],
 "metadata": {
  "kernelspec": {
   "display_name": "Python 3 (ipykernel)",
   "language": "python",
   "name": "python3"
  },
  "language_info": {
   "codemirror_mode": {
    "name": "ipython",
    "version": 3
   },
   "file_extension": ".py",
   "mimetype": "text/x-python",
   "name": "python",
   "nbconvert_exporter": "python",
   "pygments_lexer": "ipython3",
   "version": "3.10.12"
  }
 },
 "nbformat": 4,
 "nbformat_minor": 4
}
