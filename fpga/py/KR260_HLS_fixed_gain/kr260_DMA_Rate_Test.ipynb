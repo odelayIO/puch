{
 "cells": [
  {
   "cell_type": "markdown",
   "metadata": {
    "extensions": {
     "jupyter_dashboards": {
      "activeView": "grid_default",
      "views": {
       "grid_default": {
        "col": null,
        "height": 2,
        "hidden": true,
        "locked": true,
        "row": null,
        "width": 2
       }
      }
     }
    }
   },
   "source": [
    "## KR260 HLS Configurable Fixed Gain with AXI Streaming Interface\n",
    "This tutorial demonstrates how to accelerate a Python function on the KR260 using PYNQ, and how to interface with a Vitis HLS modules which has a AXI Streaming interface with an AXI Lite interface for Status/Control\n",
    "\n",
    "### Plot function for use in this notebook\n",
    "The first code block below defines a function that we will use for plotting data throughout this notebook. Note that the function has a `n_samples` argument so that we can limit the number of samples to plot. Plotting more than a few thousand samples can be very slow and consume a lot of RAM.\n",
    "\n",
    "### Requirements\n",
    "Install the following:\n",
    "\n",
    "```bash\n",
    "pip install ipympl\n",
    "pip install ipywidgets\n",
    "pip install jupyter_bokeh\n",
    "```"
   ]
  },
  {
   "cell_type": "markdown",
   "metadata": {
    "extensions": {
     "jupyter_dashboards": {
      "activeView": "grid_default",
      "views": {
       "grid_default": {
        "col": null,
        "height": 2,
        "hidden": true,
        "locked": true,
        "row": null,
        "width": 2
       }
      }
     }
    }
   },
   "source": [
    "# Start of Demo Application\n",
    "\n",
    "#### Bokeh Plot Function"
   ]
  },
  {
   "cell_type": "markdown",
   "metadata": {
    "extensions": {
     "jupyter_dashboards": {
      "activeView": "grid_default",
      "views": {
       "grid_default": {
        "col": null,
        "height": 2,
        "hidden": true,
        "locked": true,
        "row": null,
        "width": 2
       }
      }
     }
    }
   },
   "source": [
    "### Hardware HLS Gain Block Implementation\n",
    "##### Load Overlay"
   ]
  },
  {
   "cell_type": "code",
   "execution_count": 1,
   "metadata": {
    "extensions": {
     "jupyter_dashboards": {
      "activeView": "grid_default",
      "views": {
       "grid_default": {
        "col": null,
        "height": 2,
        "hidden": true,
        "locked": true,
        "row": null,
        "width": 2
       }
      }
     }
    }
   },
   "outputs": [
    {
     "data": {
      "application/javascript": [
       "\n",
       "try {\n",
       "require(['notebook/js/codecell'], function(codecell) {\n",
       "  codecell.CodeCell.options_default.highlight_modes[\n",
       "      'magic_text/x-csrc'] = {'reg':[/^%%microblaze/]};\n",
       "  Jupyter.notebook.events.one('kernel_ready.Kernel', function(){\n",
       "      Jupyter.notebook.get_cells().map(function(cell){\n",
       "          if (cell.cell_type == 'code'){ cell.auto_highlight(); } }) ;\n",
       "  });\n",
       "});\n",
       "} catch (e) {};\n"
      ]
     },
     "metadata": {},
     "output_type": "display_data"
    },
    {
     "data": {
      "application/javascript": [
       "\n",
       "try {\n",
       "require(['notebook/js/codecell'], function(codecell) {\n",
       "  codecell.CodeCell.options_default.highlight_modes[\n",
       "      'magic_text/x-csrc'] = {'reg':[/^%%pybind11/]};\n",
       "  Jupyter.notebook.events.one('kernel_ready.Kernel', function(){\n",
       "      Jupyter.notebook.get_cells().map(function(cell){\n",
       "          if (cell.cell_type == 'code'){ cell.auto_highlight(); } }) ;\n",
       "  });\n",
       "});\n",
       "} catch (e) {};\n"
      ]
     },
     "metadata": {},
     "output_type": "display_data"
    },
    {
     "data": {
      "text/html": [
       "<style>\n",
       "        .bk-notebook-logo {\n",
       "            display: block;\n",
       "            width: 20px;\n",
       "            height: 20px;\n",
       "            background-image: url(data:image/png;base64,iVBORw0KGgoAAAANSUhEUgAAABQAAAAUCAYAAACNiR0NAAAABHNCSVQICAgIfAhkiAAAAAlwSFlzAAALEgAACxIB0t1+/AAAABx0RVh0U29mdHdhcmUAQWRvYmUgRmlyZXdvcmtzIENTNui8sowAAAOkSURBVDiNjZRtaJVlGMd/1/08zzln5zjP1LWcU9N0NkN8m2CYjpgQYQXqSs0I84OLIC0hkEKoPtiH3gmKoiJDU7QpLgoLjLIQCpEsNJ1vqUOdO7ppbuec5+V+rj4ctwzd8IIbbi6u+8f1539dt3A78eXC7QizUF7gyV1fD1Yqg4JWz84yffhm0qkFqBogB9rM8tZdtwVsPUhWhGcFJngGeWrPzHm5oaMmkfEg1usvLFyc8jLRqDOMru7AyC8saQr7GG7f5fvDeH7Ej8CM66nIF+8yngt6HWaKh7k49Soy9nXurCi1o3qUbS3zWfrYeQDTB/Qj6kX6Ybhw4B+bOYoLKCC9H3Nu/leUTZ1JdRWkkn2ldcCamzrcf47KKXdAJllSlxAOkRgyHsGC/zRday5Qld9DyoM4/q/rUoy/CXh3jzOu3bHUVZeU+DEn8FInkPBFlu3+nW3Nw0mk6vCDiWg8CeJaxEwuHS3+z5RgY+YBR6V1Z1nxSOfoaPa4LASWxxdNp+VWTk7+4vzaou8v8PN+xo+KY2xsw6une2frhw05CTYOmQvsEhjhWjn0bmXPjpE1+kplmmkP3suftwTubK9Vq22qKmrBhpY4jvd5afdRA3wGjFAgcnTK2s4hY0/GPNIb0nErGMCRxWOOX64Z8RAC4oCXdklmEvcL8o0BfkNK4lUg9HTl+oPlQxdNo3Mg4Nv175e/1LDGzZen30MEjRUtmXSfiTVu1kK8W4txyV6BMKlbgk3lMwYCiusNy9fVfvvwMxv8Ynl6vxoByANLTWplvuj/nF9m2+PDtt1eiHPBr1oIfhCChQMBw6Aw0UulqTKZdfVvfG7VcfIqLG9bcldL/+pdWTLxLUy8Qq38heUIjh4XlzZxzQm19lLFlr8vdQ97rjZVOLf8nclzckbcD4wxXMidpX30sFd37Fv/GtwwhzhxGVAprjbg0gCAEeIgwCZyTV2Z1REEW8O4py0wsjeloKoMr6iCY6dP92H6Vw/oTyICIthibxjm/DfN9lVz8IqtqKYLUXfoKVMVQVVJOElGjrnnUt9T9wbgp8AyYKaGlqingHZU/uG2NTZSVqwHQTWkx9hxjkpWDaCg6Ckj5qebgBVbT3V3NNXMSiWSDdGV3hrtzla7J+duwPOToIg42ChPQOQjspnSlp1V+Gjdged7+8UN5CRAV7a5EdFNwCjEaBR27b3W890TE7g24NAP/mMDXRWrGoFPQI9ls/MWO2dWFAar/xcOIImbbpA3zgAAAABJRU5ErkJggg==);\n",
       "        }\n",
       "    </style>\n",
       "    <div>\n",
       "        <a href=\"https://bokeh.org\" target=\"_blank\" class=\"bk-notebook-logo\"></a>\n",
       "        <span id=\"p1001\">Loading BokehJS ...</span>\n",
       "    </div>\n"
      ]
     },
     "metadata": {},
     "output_type": "display_data"
    },
    {
     "data": {
      "application/javascript": [
       "(function(root) {\n",
       "  function now() {\n",
       "    return new Date();\n",
       "  }\n",
       "\n",
       "  const force = true;\n",
       "\n",
       "  if (typeof root._bokeh_onload_callbacks === \"undefined\" || force === true) {\n",
       "    root._bokeh_onload_callbacks = [];\n",
       "    root._bokeh_is_loading = undefined;\n",
       "  }\n",
       "\n",
       "const JS_MIME_TYPE = 'application/javascript';\n",
       "  const HTML_MIME_TYPE = 'text/html';\n",
       "  const EXEC_MIME_TYPE = 'application/vnd.bokehjs_exec.v0+json';\n",
       "  const CLASS_NAME = 'output_bokeh rendered_html';\n",
       "\n",
       "  /**\n",
       "   * Render data to the DOM node\n",
       "   */\n",
       "  function render(props, node) {\n",
       "    const script = document.createElement(\"script\");\n",
       "    node.appendChild(script);\n",
       "  }\n",
       "\n",
       "  /**\n",
       "   * Handle when an output is cleared or removed\n",
       "   */\n",
       "  function handleClearOutput(event, handle) {\n",
       "    const cell = handle.cell;\n",
       "\n",
       "    const id = cell.output_area._bokeh_element_id;\n",
       "    const server_id = cell.output_area._bokeh_server_id;\n",
       "    // Clean up Bokeh references\n",
       "    if (id != null && id in Bokeh.index) {\n",
       "      Bokeh.index[id].model.document.clear();\n",
       "      delete Bokeh.index[id];\n",
       "    }\n",
       "\n",
       "    if (server_id !== undefined) {\n",
       "      // Clean up Bokeh references\n",
       "      const cmd_clean = \"from bokeh.io.state import curstate; print(curstate().uuid_to_server['\" + server_id + \"'].get_sessions()[0].document.roots[0]._id)\";\n",
       "      cell.notebook.kernel.execute(cmd_clean, {\n",
       "        iopub: {\n",
       "          output: function(msg) {\n",
       "            const id = msg.content.text.trim();\n",
       "            if (id in Bokeh.index) {\n",
       "              Bokeh.index[id].model.document.clear();\n",
       "              delete Bokeh.index[id];\n",
       "            }\n",
       "          }\n",
       "        }\n",
       "      });\n",
       "      // Destroy server and session\n",
       "      const cmd_destroy = \"import bokeh.io.notebook as ion; ion.destroy_server('\" + server_id + \"')\";\n",
       "      cell.notebook.kernel.execute(cmd_destroy);\n",
       "    }\n",
       "  }\n",
       "\n",
       "  /**\n",
       "   * Handle when a new output is added\n",
       "   */\n",
       "  function handleAddOutput(event, handle) {\n",
       "    const output_area = handle.output_area;\n",
       "    const output = handle.output;\n",
       "\n",
       "    // limit handleAddOutput to display_data with EXEC_MIME_TYPE content only\n",
       "    if ((output.output_type != \"display_data\") || (!Object.prototype.hasOwnProperty.call(output.data, EXEC_MIME_TYPE))) {\n",
       "      return\n",
       "    }\n",
       "\n",
       "    const toinsert = output_area.element.find(\".\" + CLASS_NAME.split(' ')[0]);\n",
       "\n",
       "    if (output.metadata[EXEC_MIME_TYPE][\"id\"] !== undefined) {\n",
       "      toinsert[toinsert.length - 1].firstChild.textContent = output.data[JS_MIME_TYPE];\n",
       "      // store reference to embed id on output_area\n",
       "      output_area._bokeh_element_id = output.metadata[EXEC_MIME_TYPE][\"id\"];\n",
       "    }\n",
       "    if (output.metadata[EXEC_MIME_TYPE][\"server_id\"] !== undefined) {\n",
       "      const bk_div = document.createElement(\"div\");\n",
       "      bk_div.innerHTML = output.data[HTML_MIME_TYPE];\n",
       "      const script_attrs = bk_div.children[0].attributes;\n",
       "      for (let i = 0; i < script_attrs.length; i++) {\n",
       "        toinsert[toinsert.length - 1].firstChild.setAttribute(script_attrs[i].name, script_attrs[i].value);\n",
       "        toinsert[toinsert.length - 1].firstChild.textContent = bk_div.children[0].textContent\n",
       "      }\n",
       "      // store reference to server id on output_area\n",
       "      output_area._bokeh_server_id = output.metadata[EXEC_MIME_TYPE][\"server_id\"];\n",
       "    }\n",
       "  }\n",
       "\n",
       "  function register_renderer(events, OutputArea) {\n",
       "\n",
       "    function append_mime(data, metadata, element) {\n",
       "      // create a DOM node to render to\n",
       "      const toinsert = this.create_output_subarea(\n",
       "        metadata,\n",
       "        CLASS_NAME,\n",
       "        EXEC_MIME_TYPE\n",
       "      );\n",
       "      this.keyboard_manager.register_events(toinsert);\n",
       "      // Render to node\n",
       "      const props = {data: data, metadata: metadata[EXEC_MIME_TYPE]};\n",
       "      render(props, toinsert[toinsert.length - 1]);\n",
       "      element.append(toinsert);\n",
       "      return toinsert\n",
       "    }\n",
       "\n",
       "    /* Handle when an output is cleared or removed */\n",
       "    events.on('clear_output.CodeCell', handleClearOutput);\n",
       "    events.on('delete.Cell', handleClearOutput);\n",
       "\n",
       "    /* Handle when a new output is added */\n",
       "    events.on('output_added.OutputArea', handleAddOutput);\n",
       "\n",
       "    /**\n",
       "     * Register the mime type and append_mime function with output_area\n",
       "     */\n",
       "    OutputArea.prototype.register_mime_type(EXEC_MIME_TYPE, append_mime, {\n",
       "      /* Is output safe? */\n",
       "      safe: true,\n",
       "      /* Index of renderer in `output_area.display_order` */\n",
       "      index: 0\n",
       "    });\n",
       "  }\n",
       "\n",
       "  // register the mime type if in Jupyter Notebook environment and previously unregistered\n",
       "  if (root.Jupyter !== undefined) {\n",
       "    const events = require('base/js/events');\n",
       "    const OutputArea = require('notebook/js/outputarea').OutputArea;\n",
       "\n",
       "    if (OutputArea.prototype.mime_types().indexOf(EXEC_MIME_TYPE) == -1) {\n",
       "      register_renderer(events, OutputArea);\n",
       "    }\n",
       "  }\n",
       "  if (typeof (root._bokeh_timeout) === \"undefined\" || force === true) {\n",
       "    root._bokeh_timeout = Date.now() + 5000;\n",
       "    root._bokeh_failed_load = false;\n",
       "  }\n",
       "\n",
       "  const NB_LOAD_WARNING = {'data': {'text/html':\n",
       "     \"<div style='background-color: #fdd'>\\n\"+\n",
       "     \"<p>\\n\"+\n",
       "     \"BokehJS does not appear to have successfully loaded. If loading BokehJS from CDN, this \\n\"+\n",
       "     \"may be due to a slow or bad network connection. Possible fixes:\\n\"+\n",
       "     \"</p>\\n\"+\n",
       "     \"<ul>\\n\"+\n",
       "     \"<li>re-rerun `output_notebook()` to attempt to load from CDN again, or</li>\\n\"+\n",
       "     \"<li>use INLINE resources instead, as so:</li>\\n\"+\n",
       "     \"</ul>\\n\"+\n",
       "     \"<code>\\n\"+\n",
       "     \"from bokeh.resources import INLINE\\n\"+\n",
       "     \"output_notebook(resources=INLINE)\\n\"+\n",
       "     \"</code>\\n\"+\n",
       "     \"</div>\"}};\n",
       "\n",
       "  function display_loaded() {\n",
       "    const el = document.getElementById(\"p1001\");\n",
       "    if (el != null) {\n",
       "      el.textContent = \"BokehJS is loading...\";\n",
       "    }\n",
       "    if (root.Bokeh !== undefined) {\n",
       "      if (el != null) {\n",
       "        el.textContent = \"BokehJS \" + root.Bokeh.version + \" successfully loaded.\";\n",
       "      }\n",
       "    } else if (Date.now() < root._bokeh_timeout) {\n",
       "      setTimeout(display_loaded, 100)\n",
       "    }\n",
       "  }\n",
       "\n",
       "  function run_callbacks() {\n",
       "    try {\n",
       "      root._bokeh_onload_callbacks.forEach(function(callback) {\n",
       "        if (callback != null)\n",
       "          callback();\n",
       "      });\n",
       "    } finally {\n",
       "      delete root._bokeh_onload_callbacks\n",
       "    }\n",
       "    console.debug(\"Bokeh: all callbacks have finished\");\n",
       "  }\n",
       "\n",
       "  function load_libs(css_urls, js_urls, callback) {\n",
       "    if (css_urls == null) css_urls = [];\n",
       "    if (js_urls == null) js_urls = [];\n",
       "\n",
       "    root._bokeh_onload_callbacks.push(callback);\n",
       "    if (root._bokeh_is_loading > 0) {\n",
       "      console.debug(\"Bokeh: BokehJS is being loaded, scheduling callback at\", now());\n",
       "      return null;\n",
       "    }\n",
       "    if (js_urls == null || js_urls.length === 0) {\n",
       "      run_callbacks();\n",
       "      return null;\n",
       "    }\n",
       "    console.debug(\"Bokeh: BokehJS not loaded, scheduling load and callback at\", now());\n",
       "    root._bokeh_is_loading = css_urls.length + js_urls.length;\n",
       "\n",
       "    function on_load() {\n",
       "      root._bokeh_is_loading--;\n",
       "      if (root._bokeh_is_loading === 0) {\n",
       "        console.debug(\"Bokeh: all BokehJS libraries/stylesheets loaded\");\n",
       "        run_callbacks()\n",
       "      }\n",
       "    }\n",
       "\n",
       "    function on_error(url) {\n",
       "      console.error(\"failed to load \" + url);\n",
       "    }\n",
       "\n",
       "    for (let i = 0; i < css_urls.length; i++) {\n",
       "      const url = css_urls[i];\n",
       "      const element = document.createElement(\"link\");\n",
       "      element.onload = on_load;\n",
       "      element.onerror = on_error.bind(null, url);\n",
       "      element.rel = \"stylesheet\";\n",
       "      element.type = \"text/css\";\n",
       "      element.href = url;\n",
       "      console.debug(\"Bokeh: injecting link tag for BokehJS stylesheet: \", url);\n",
       "      document.body.appendChild(element);\n",
       "    }\n",
       "\n",
       "    for (let i = 0; i < js_urls.length; i++) {\n",
       "      const url = js_urls[i];\n",
       "      const element = document.createElement('script');\n",
       "      element.onload = on_load;\n",
       "      element.onerror = on_error.bind(null, url);\n",
       "      element.async = false;\n",
       "      element.src = url;\n",
       "      console.debug(\"Bokeh: injecting script tag for BokehJS library: \", url);\n",
       "      document.head.appendChild(element);\n",
       "    }\n",
       "  };\n",
       "\n",
       "  function inject_raw_css(css) {\n",
       "    const element = document.createElement(\"style\");\n",
       "    element.appendChild(document.createTextNode(css));\n",
       "    document.body.appendChild(element);\n",
       "  }\n",
       "\n",
       "  const js_urls = [\"https://cdn.bokeh.org/bokeh/release/bokeh-3.1.0.min.js\", \"https://cdn.bokeh.org/bokeh/release/bokeh-gl-3.1.0.min.js\", \"https://cdn.bokeh.org/bokeh/release/bokeh-widgets-3.1.0.min.js\", \"https://cdn.bokeh.org/bokeh/release/bokeh-tables-3.1.0.min.js\", \"https://cdn.bokeh.org/bokeh/release/bokeh-mathjax-3.1.0.min.js\"];\n",
       "  const css_urls = [];\n",
       "\n",
       "  const inline_js = [    function(Bokeh) {\n",
       "      Bokeh.set_log_level(\"info\");\n",
       "    },\n",
       "function(Bokeh) {\n",
       "    }\n",
       "  ];\n",
       "\n",
       "  function run_inline_js() {\n",
       "    if (root.Bokeh !== undefined || force === true) {\n",
       "          for (let i = 0; i < inline_js.length; i++) {\n",
       "      inline_js[i].call(root, root.Bokeh);\n",
       "    }\n",
       "if (force === true) {\n",
       "        display_loaded();\n",
       "      }} else if (Date.now() < root._bokeh_timeout) {\n",
       "      setTimeout(run_inline_js, 100);\n",
       "    } else if (!root._bokeh_failed_load) {\n",
       "      console.log(\"Bokeh: BokehJS failed to load within specified timeout.\");\n",
       "      root._bokeh_failed_load = true;\n",
       "    } else if (force !== true) {\n",
       "      const cell = $(document.getElementById(\"p1001\")).parents('.cell').data().cell;\n",
       "      cell.output_area.append_execute_result(NB_LOAD_WARNING)\n",
       "    }\n",
       "  }\n",
       "\n",
       "  if (root._bokeh_is_loading === 0) {\n",
       "    console.debug(\"Bokeh: BokehJS loaded, going straight to plotting\");\n",
       "    run_inline_js();\n",
       "  } else {\n",
       "    load_libs(css_urls, js_urls, function() {\n",
       "      console.debug(\"Bokeh: BokehJS plotting callback run at\", now());\n",
       "      run_inline_js();\n",
       "    });\n",
       "  }\n",
       "}(window));"
      ],
      "application/vnd.bokehjs_load.v0+json": "(function(root) {\n  function now() {\n    return new Date();\n  }\n\n  const force = true;\n\n  if (typeof root._bokeh_onload_callbacks === \"undefined\" || force === true) {\n    root._bokeh_onload_callbacks = [];\n    root._bokeh_is_loading = undefined;\n  }\n\n\n  if (typeof (root._bokeh_timeout) === \"undefined\" || force === true) {\n    root._bokeh_timeout = Date.now() + 5000;\n    root._bokeh_failed_load = false;\n  }\n\n  const NB_LOAD_WARNING = {'data': {'text/html':\n     \"<div style='background-color: #fdd'>\\n\"+\n     \"<p>\\n\"+\n     \"BokehJS does not appear to have successfully loaded. If loading BokehJS from CDN, this \\n\"+\n     \"may be due to a slow or bad network connection. Possible fixes:\\n\"+\n     \"</p>\\n\"+\n     \"<ul>\\n\"+\n     \"<li>re-rerun `output_notebook()` to attempt to load from CDN again, or</li>\\n\"+\n     \"<li>use INLINE resources instead, as so:</li>\\n\"+\n     \"</ul>\\n\"+\n     \"<code>\\n\"+\n     \"from bokeh.resources import INLINE\\n\"+\n     \"output_notebook(resources=INLINE)\\n\"+\n     \"</code>\\n\"+\n     \"</div>\"}};\n\n  function display_loaded() {\n    const el = document.getElementById(\"p1001\");\n    if (el != null) {\n      el.textContent = \"BokehJS is loading...\";\n    }\n    if (root.Bokeh !== undefined) {\n      if (el != null) {\n        el.textContent = \"BokehJS \" + root.Bokeh.version + \" successfully loaded.\";\n      }\n    } else if (Date.now() < root._bokeh_timeout) {\n      setTimeout(display_loaded, 100)\n    }\n  }\n\n  function run_callbacks() {\n    try {\n      root._bokeh_onload_callbacks.forEach(function(callback) {\n        if (callback != null)\n          callback();\n      });\n    } finally {\n      delete root._bokeh_onload_callbacks\n    }\n    console.debug(\"Bokeh: all callbacks have finished\");\n  }\n\n  function load_libs(css_urls, js_urls, callback) {\n    if (css_urls == null) css_urls = [];\n    if (js_urls == null) js_urls = [];\n\n    root._bokeh_onload_callbacks.push(callback);\n    if (root._bokeh_is_loading > 0) {\n      console.debug(\"Bokeh: BokehJS is being loaded, scheduling callback at\", now());\n      return null;\n    }\n    if (js_urls == null || js_urls.length === 0) {\n      run_callbacks();\n      return null;\n    }\n    console.debug(\"Bokeh: BokehJS not loaded, scheduling load and callback at\", now());\n    root._bokeh_is_loading = css_urls.length + js_urls.length;\n\n    function on_load() {\n      root._bokeh_is_loading--;\n      if (root._bokeh_is_loading === 0) {\n        console.debug(\"Bokeh: all BokehJS libraries/stylesheets loaded\");\n        run_callbacks()\n      }\n    }\n\n    function on_error(url) {\n      console.error(\"failed to load \" + url);\n    }\n\n    for (let i = 0; i < css_urls.length; i++) {\n      const url = css_urls[i];\n      const element = document.createElement(\"link\");\n      element.onload = on_load;\n      element.onerror = on_error.bind(null, url);\n      element.rel = \"stylesheet\";\n      element.type = \"text/css\";\n      element.href = url;\n      console.debug(\"Bokeh: injecting link tag for BokehJS stylesheet: \", url);\n      document.body.appendChild(element);\n    }\n\n    for (let i = 0; i < js_urls.length; i++) {\n      const url = js_urls[i];\n      const element = document.createElement('script');\n      element.onload = on_load;\n      element.onerror = on_error.bind(null, url);\n      element.async = false;\n      element.src = url;\n      console.debug(\"Bokeh: injecting script tag for BokehJS library: \", url);\n      document.head.appendChild(element);\n    }\n  };\n\n  function inject_raw_css(css) {\n    const element = document.createElement(\"style\");\n    element.appendChild(document.createTextNode(css));\n    document.body.appendChild(element);\n  }\n\n  const js_urls = [\"https://cdn.bokeh.org/bokeh/release/bokeh-3.1.0.min.js\", \"https://cdn.bokeh.org/bokeh/release/bokeh-gl-3.1.0.min.js\", \"https://cdn.bokeh.org/bokeh/release/bokeh-widgets-3.1.0.min.js\", \"https://cdn.bokeh.org/bokeh/release/bokeh-tables-3.1.0.min.js\", \"https://cdn.bokeh.org/bokeh/release/bokeh-mathjax-3.1.0.min.js\"];\n  const css_urls = [];\n\n  const inline_js = [    function(Bokeh) {\n      Bokeh.set_log_level(\"info\");\n    },\nfunction(Bokeh) {\n    }\n  ];\n\n  function run_inline_js() {\n    if (root.Bokeh !== undefined || force === true) {\n          for (let i = 0; i < inline_js.length; i++) {\n      inline_js[i].call(root, root.Bokeh);\n    }\nif (force === true) {\n        display_loaded();\n      }} else if (Date.now() < root._bokeh_timeout) {\n      setTimeout(run_inline_js, 100);\n    } else if (!root._bokeh_failed_load) {\n      console.log(\"Bokeh: BokehJS failed to load within specified timeout.\");\n      root._bokeh_failed_load = true;\n    } else if (force !== true) {\n      const cell = $(document.getElementById(\"p1001\")).parents('.cell').data().cell;\n      cell.output_area.append_execute_result(NB_LOAD_WARNING)\n    }\n  }\n\n  if (root._bokeh_is_loading === 0) {\n    console.debug(\"Bokeh: BokehJS loaded, going straight to plotting\");\n    run_inline_js();\n  } else {\n    load_libs(css_urls, js_urls, function() {\n      console.debug(\"Bokeh: BokehJS plotting callback run at\", now());\n      run_inline_js();\n    });\n  }\n}(window));"
     },
     "metadata": {},
     "output_type": "display_data"
    }
   ],
   "source": [
    "from pynq import Overlay\n",
    "from pynq import allocate\n",
    "from pynq import MMIO\n",
    "import pynq.lib.dma\n",
    "import time\n",
    "import numpy as np\n",
    "import math\n",
    "import led_regmap\n",
    "from bokeh.plotting import figure, output_file, show\n",
    "from bokeh.io import output_notebook, show\n",
    "\n",
    "output_notebook()\n",
    "\n",
    "# Load the overlay\n",
    "overlay = Overlay('/home/root/jupyter_notebooks/kr260_hls_fixed_gain_stream/kr260_hls_fixed_gain_stream.bit')\n",
    "\n",
    "# Assign blocks to short vars\n",
    "dma          = overlay.axi_dma_0\n",
    "gain_module  = overlay.axi_fixed_gain_stream_0\n",
    "led_module   = overlay.led_reg_0"
   ]
  },
  {
   "cell_type": "markdown",
   "metadata": {
    "extensions": {
     "jupyter_dashboards": {
      "activeView": "grid_default",
      "views": {
       "grid_default": {
        "col": null,
        "height": 2,
        "hidden": true,
        "locked": true,
        "row": null,
        "width": 2
       }
      }
     }
    }
   },
   "source": [
    "##### Configure the GAIN register Control Register\n",
    "Want to enable auto restart, so the FPGA block will always be read to receive samples"
   ]
  },
  {
   "cell_type": "code",
   "execution_count": 2,
   "metadata": {
    "extensions": {
     "jupyter_dashboards": {
      "activeView": "grid_default",
      "views": {
       "grid_default": {
        "col": null,
        "height": 2,
        "hidden": true,
        "locked": true,
        "row": null,
        "width": 2
       }
      }
     }
    }
   },
   "outputs": [
    {
     "data": {
      "text/plain": [
       "Register(AP_START=1, AP_DONE=0, AP_IDLE=0, AP_READY=0, RESERVED_1=0, AUTO_RESTART=1, RESERVED_2=0, INTERRUPT=0, RESERVED_3=0)"
      ]
     },
     "execution_count": 2,
     "metadata": {},
     "output_type": "execute_result"
    }
   ],
   "source": [
    "gain_module.register_map.CTRL.AUTO_RESTART=1\n",
    "gain_module.register_map.CTRL.AP_START=1\n",
    "gain_module.register_map.CTRL"
   ]
  },
  {
   "cell_type": "markdown",
   "metadata": {
    "extensions": {
     "jupyter_dashboards": {
      "activeView": "grid_default",
      "views": {
       "grid_default": {
        "col": null,
        "height": 2,
        "hidden": true,
        "locked": true,
        "row": null,
        "width": 2
       }
      }
     }
    }
   },
   "source": [
    "##### Configure the GAIN register Value Register"
   ]
  },
  {
   "cell_type": "code",
   "execution_count": 3,
   "metadata": {
    "extensions": {
     "jupyter_dashboards": {
      "activeView": "grid_default",
      "views": {
       "grid_default": {
        "col": null,
        "height": 2,
        "hidden": true,
        "locked": true,
        "row": null,
        "width": 2
       }
      }
     }
    }
   },
   "outputs": [
    {
     "name": "stdout",
     "output_type": "stream",
     "text": [
      "Gain Register : 1\n"
     ]
    }
   ],
   "source": [
    "gain_module.write(gain_module.register_map.gain.address,1)\n",
    "print(\"Gain Register : \" + str(gain_module.read(gain_module.register_map.gain.address)))"
   ]
  },
  {
   "cell_type": "markdown",
   "metadata": {
    "extensions": {
     "jupyter_dashboards": {
      "activeView": "grid_default",
      "views": {
       "grid_default": {
        "col": null,
        "height": 2,
        "hidden": true,
        "locked": true,
        "row": null,
        "width": 2
       }
      }
     }
    }
   },
   "source": [
    "### DMA Transfer the Sinewave buffer from ARM Processor to the FPGA HLS Gain Block, and plot"
   ]
  },
  {
   "cell_type": "code",
   "execution_count": 6,
   "metadata": {
    "extensions": {
     "jupyter_dashboards": {
      "activeView": "grid_default",
      "views": {
       "grid_default": {
        "col": null,
        "height": 2,
        "hidden": true,
        "locked": true,
        "row": null,
        "width": 2
       }
      }
     }
    }
   },
   "outputs": [
    {
     "name": "stdout",
     "output_type": "stream",
     "text": [
      "Gain Register                : 1\n",
      "DMA Transfer Size            : 1024\n",
      "Min Value                    : 3.4737586975097657e-06 ms\n",
      "Max Value                    : 1.3709068298339844e-05 ms\n",
      "Min Tranfer Rate             : 23.90242669078261 Mbps\n",
      "Max Tranfer Rate             : 94.33009847083046 Mbps\n",
      "Min Tranfer Rate             : 0.7469508340869566 MSPS\n",
      "Max Tranfer Rate             : 2.947815577213452 MSPS\n",
      "Number of Bad Blocks         : 0\n",
      "Number of Good Blocks        : 1024\n",
      "Total Bit Transferred        : 33554432\n"
     ]
    },
    {
     "data": {
      "text/html": [
       "\n",
       "  <div id=\"7ba32ce0-8f9e-459b-b242-0b4999988329\" data-root-id=\"p1432\" style=\"display: contents;\"></div>\n"
      ]
     },
     "metadata": {},
     "output_type": "display_data"
    },
    {
     "data": {
      "application/javascript": [
       "(function(root) {\n",
       "  function embed_document(root) {\n",
       "  const docs_json = {\"abd9335b-2d10-4898-94a1-95fa263a13e3\":{\"version\":\"3.1.0\",\"title\":\"Bokeh Application\",\"defs\":[],\"roots\":[{\"type\":\"object\",\"name\":\"Figure\",\"id\":\"p1432\",\"attributes\":{\"x_range\":{\"type\":\"object\",\"name\":\"DataRange1d\",\"id\":\"p1434\"},\"y_range\":{\"type\":\"object\",\"name\":\"DataRange1d\",\"id\":\"p1433\"},\"x_scale\":{\"type\":\"object\",\"name\":\"LinearScale\",\"id\":\"p1446\"},\"y_scale\":{\"type\":\"object\",\"name\":\"LinearScale\",\"id\":\"p1448\"},\"title\":{\"type\":\"object\",\"name\":\"Title\",\"id\":\"p1435\",\"attributes\":{\"text\":\"Block Transfer Rates\"}},\"renderers\":[{\"type\":\"object\",\"name\":\"GlyphRenderer\",\"id\":\"p1485\",\"attributes\":{\"data_source\":{\"type\":\"object\",\"name\":\"ColumnDataSource\",\"id\":\"p1479\",\"attributes\":{\"selected\":{\"type\":\"object\",\"name\":\"Selection\",\"id\":\"p1480\",\"attributes\":{\"indices\":[],\"line_indices\":[]}},\"selection_policy\":{\"type\":\"object\",\"name\":\"UnionRenderers\",\"id\":\"p1481\"},\"data\":{\"type\":\"map\",\"entries\":[[\"x\",{\"type\":\"ndarray\",\"array\":{\"type\":\"bytes\",\"data\":\"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\"},\"shape\":[1024],\"dtype\":\"int32\",\"order\":\"little\"}],[\"y\",[0.0009605884552001953,0.00036716461181640625,0.00035881996154785156,0.00035452842712402344,0.0003561973571777344,0.00035381317138671875,0.0003554821014404297,0.0003554821014404297,0.0003554821014404297,0.00035643577575683594,0.00035500526428222656,0.00035452842712402344,0.00036263465881347656,0.00036072731018066406,0.0003705024719238281,0.00036263465881347656,0.0003638267517089844,0.00036144256591796875,0.0003688335418701172,0.0003635883331298828,0.00036334991455078125,0.0003581047058105469,0.0003559589385986328,0.00035643577575683594,0.0003554821014404297,0.0003552436828613281,0.0003559589385986328,0.0003540515899658203,0.00035572052001953125,0.00035643577575683594,0.0003559589385986328,0.000354766845703125,0.0003552436828613281,0.0003554821014404297,0.0003561973571777344,0.0003561973571777344,0.00035643577575683594,0.0003566741943359375,0.00035500526428222656,0.0003552436828613281,0.00035572052001953125,0.0003554821014404297,0.00036025047302246094,0.00035572052001953125,0.0003573894500732422,0.00035572052001953125,0.0003561973571777344,0.00035691261291503906,0.00035643577575683594,0.0003795623779296875,0.00035762786865234375,0.0003561973571777344,0.0003571510314941406,0.0003559589385986328,0.00035691261291503906,0.00035572052001953125,0.0003712177276611328,0.00035691261291503906,0.0003571510314941406,0.00035500526428222656,0.0003552436828613281,0.000354766845703125,0.0003566741943359375,0.0004088878631591797,0.0003559589385986328,0.0003552436828613281,0.0003571510314941406,0.00035572052001953125,0.0003561973571777344,0.0003559589385986328,0.00037407875061035156,0.00035572052001953125,0.00035500526428222656,0.00035500526428222656,0.00035834312438964844,0.0003561973571777344,0.0003554821014404297,0.0003733634948730469,0.00035643577575683594,0.00035572052001953125,0.00035643577575683594,0.00035572052001953125,0.0003578662872314453,0.0003561973571777344,0.0003566741943359375,0.00035643577575683594,0.0003561973571777344,0.00035452842712402344,0.00035691261291503906,0.00035452842712402344,0.0003571510314941406,0.000354766845703125,0.0003566741943359375,0.0003554821014404297,0.00035452842712402344,0.00035452842712402344,0.0003554821014404297,0.0003552436828613281,0.0003571510314941406,0.0003561973571777344,0.0003566741943359375,0.00035572052001953125,0.00035643577575683594,0.0003566741943359375,0.0003571510314941406,0.00035500526428222656,0.00037169456481933594,0.0003566741943359375,0.00035691261291503906,0.000354766845703125,0.0003554821014404297,0.0003561973571777344,0.00035572052001953125,0.0003693103790283203,0.00035643577575683594,0.00035572052001953125,0.0003554821014404297,0.0003554821014404297,0.0003559589385986328,0.00035500526428222656,0.0003714561462402344,0.00035500526428222656,0.00035691261291503906,0.00035500526428222656,0.0003552436828613281,0.00035643577575683594,0.0003542900085449219,0.00037169456481933594,0.00035572052001953125,0.000354766845703125,0.00035691261291503906,0.0003561973571777344,0.0003571510314941406,0.000354766845703125,0.00037550926208496094,0.0003554821014404297,0.00035572052001953125,0.00035452842712402344,0.0003566741943359375,0.00035452842712402344,0.0003561973571777344,0.00035643577575683594,0.00035691261291503906,0.0003552436828613281,0.0003561973571777344,0.0003554821014404297,0.0003559589385986328,0.0003566741943359375,0.0003552436828613281,0.0003561973571777344,0.0003566741943359375,0.0003554821014404297,0.0003559589385986328,0.00035572052001953125,0.0003578662872314453,0.0003559589385986328,0.0003571510314941406,0.0003559589385986328,0.0003552436828613281,0.00035643577575683594,0.0003561973571777344,0.0003566741943359375,0.00035762786865234375,0.0003693103790283203,0.00035691261291503906,0.000354766845703125,0.000354766845703125,0.0003559589385986328,0.0003561973571777344,0.0003561973571777344,0.0003733634948730469,0.0003566741943359375,0.0003571510314941406,0.000354766845703125,0.0003554821014404297,0.00035572052001953125,0.00035643577575683594,0.0013709068298339844,0.0007452964782714844,0.0003924369812011719,0.00042128562927246094,0.00036644935607910156,0.00036644935607910156,0.00036454200744628906,0.00036144256591796875,0.0003635883331298828,0.00036406517028808594,0.00038504600524902344,0.00035834312438964844,0.0003571510314941406,0.0003554821014404297,0.0003559589385986328,0.0003559589385986328,0.00035762786865234375,0.0003561973571777344,0.00035691261291503906,0.00035500526428222656,0.0003573894500732422,0.0003559589385986328,0.0003561973571777344,0.00035572052001953125,0.00035858154296875,0.00035643577575683594,0.0003561973571777344,0.00035643577575683594,0.0003559589385986328,0.0003561973571777344,0.0003559589385986328,0.0003600120544433594,0.00035858154296875,0.00035572052001953125,0.0003566741943359375,0.0003559589385986328,0.00035643577575683594,0.0003559589385986328,0.0003578662872314453,0.0003552436828613281,0.0003578662872314453,0.0003561973571777344,0.00035691261291503906,0.0003573894500732422,0.0003559589385986328,0.000370025634765625,0.000354766845703125,0.00035643577575683594,0.00035834312438964844,0.00035643577575683594,0.0003554821014404297,0.0003559589385986328,0.0003724098205566406,0.00035572052001953125,0.0003559589385986328,0.00035572052001953125,0.00035691261291503906,0.000354766845703125,0.0003561973571777344,0.00034737586975097656,0.0003552436828613281,0.0003573894500732422,0.00035572052001953125,0.0003552436828613281,0.0003571510314941406,0.0003552436828613281,0.0003712177276611328,0.0003573894500732422,0.0003571510314941406,0.000354766845703125,0.00035643577575683594,0.0003566741943359375,0.00035643577575683594,0.0003554821014404297,0.0003571510314941406,0.0003552436828613281,0.0003561973571777344,0.000354766845703125,0.00035500526428222656,0.00035572052001953125,0.0003573894500732422,0.0003552436828613281,0.0003566741943359375,0.0003554821014404297,0.0003581047058105469,0.00035643577575683594,0.0003566741943359375,0.0003566741943359375,0.00035881996154785156,0.0003561973571777344,0.0003571510314941406,0.0003559589385986328,0.00035643577575683594,0.0003561973571777344,0.00035643577575683594,0.0003726482391357422,0.0003573894500732422,0.0003559589385986328,0.00035500526428222656,0.0003559589385986328,0.0003554821014404297,0.00035643577575683594,0.00037026405334472656,0.0003571510314941406,0.00035834312438964844,0.0003552436828613281,0.0003559589385986328,0.0003554821014404297,0.0003559589385986328,0.0003714561462402344,0.0003561973571777344,0.0003559589385986328,0.00035643577575683594,0.0003554821014404297,0.00035500526428222656,0.00035452842712402344,0.0003490447998046875,0.0003561973571777344,0.00035500526428222656,0.00035572052001953125,0.00035572052001953125,0.0003561973571777344,0.00039458274841308594,0.0003724098205566406,0.00035691261291503906,0.00035643577575683594,0.00035572052001953125,0.0003559589385986328,0.0003573894500732422,0.00035762786865234375,0.0003712177276611328,0.0003581047058105469,0.0003578662872314453,0.0003566741943359375,0.0003571510314941406,0.0003566741943359375,0.0003578662872314453,0.0003578662872314453,0.0003590583801269531,0.0003578662872314453,0.0003578662872314453,0.0003573894500732422,0.00035643577575683594,0.0003554821014404297,0.0003581047058105469,0.00035691261291503906,0.00035572052001953125,0.00035500526428222656,0.000354766845703125,0.0003559589385986328,0.0003566741943359375,0.00035691261291503906,0.0003581047058105469,0.0003561973571777344,0.00035691261291503906,0.00035572052001953125,0.000354766845703125,0.00035691261291503906,0.00035643577575683594,0.0003731250762939453,0.0003581047058105469,0.00035762786865234375,0.0003561973571777344,0.0003581047058105469,0.0003566741943359375,0.0003552436828613281,0.0003695487976074219,0.0003559589385986328,0.0003566741943359375,0.0003561973571777344,0.0003566741943359375,0.0003561973571777344,0.00035858154296875,0.0004303455352783203,0.00035643577575683594,0.0003554821014404297,0.0003566741943359375,0.0003561973571777344,0.00035572052001953125,0.0003554821014404297,0.0003705024719238281,0.0003571510314941406,0.0003561973571777344,0.0003552436828613281,0.0003571510314941406,0.0003561973571777344,0.0003559589385986328,0.0003726482391357422,0.00035572052001953125,0.00035572052001953125,0.0003566741943359375,0.0003559589385986328,0.00035691261291503906,0.00035643577575683594,0.00036907196044921875,0.00035500526428222656,0.00035762786865234375,0.0003566741943359375,0.00035858154296875,0.0003559589385986328,0.0003592967987060547,0.0003712177276611328,0.0003571510314941406,0.0003552436828613281,0.00035643577575683594,0.00035643577575683594,0.0003561973571777344,0.0003559589385986328,0.00035762786865234375,0.0003554821014404297,0.00035691261291503906,0.00035643577575683594,0.0003571510314941406,0.00035762786865234375,0.0003566741943359375,0.00035643577575683594,0.0003592967987060547,0.0003561973571777344,0.0003561973571777344,0.0003554821014404297,0.00035572052001953125,0.0003561973571777344,0.00035500526428222656,0.0003590583801269531,0.00035691261291503906,0.0003561973571777344,0.0003561973571777344,0.0003566741943359375,0.00035572052001953125,0.00035834312438964844,0.0003695487976074219,0.0003561973571777344,0.00035762786865234375,0.00035572052001953125,0.00035572052001953125,0.00035643577575683594,0.0003561973571777344,0.00036907196044921875,0.0003559589385986328,0.0003566741943359375,0.00035858154296875,0.0003559589385986328,0.00035691261291503906,0.00035643577575683594,0.00037980079650878906,0.0003554821014404297,0.0003571510314941406,0.00035643577575683594,0.00035691261291503906,0.0003573894500732422,0.0003609657287597656,0.0003528594970703125,0.00036072731018066406,0.0003619194030761719,0.00035691261291503906,0.0003566741943359375,0.0003554821014404297,0.00035572052001953125,0.0003688335418701172,0.0003571510314941406,0.0003604888916015625,0.0003561973571777344,0.00035572052001953125,0.0003559589385986328,0.0003573894500732422,0.0003705024719238281,0.00035691261291503906,0.00035381317138671875,0.0003542900085449219,0.00035381317138671875,0.00035452842712402344,0.00035572052001953125,0.0003554821014404297,0.0003552436828613281,0.000354766845703125,0.0003540515899658203,0.0003571510314941406,0.0003552436828613281,0.0003540515899658203,0.0003552436828613281,0.0003581047058105469,0.00035500526428222656,0.00035572052001953125,0.00035500526428222656,0.0003554821014404297,0.00035452842712402344,0.0003552436828613281,0.0003552436828613281,0.0003561973571777344,0.0003554821014404297,0.0003559589385986328,0.0003554821014404297,0.000354766845703125,0.0003533363342285156,0.000370025634765625,0.0003566741943359375,0.00035572052001953125,0.0003559589385986328,0.00035500526428222656,0.0003554821014404297,0.000354766845703125,0.0003695487976074219,0.00035572052001953125,0.0003559589385986328,0.0003552436828613281,0.0003552436828613281,0.00035572052001953125,0.000354766845703125,0.0003726482391357422,0.00035643577575683594,0.00035572052001953125,0.00035572052001953125,0.0003578662872314453,0.0003554821014404297,0.00035500526428222656,0.0003681182861328125,0.00035572052001953125,0.00035572052001953125,0.0003561973571777344,0.0003552436828613281,0.0003571510314941406,0.00035643577575683594,0.0003554821014404297,0.0003554821014404297,0.0003566741943359375,0.0003554821014404297,0.000354766845703125,0.0003561973571777344,0.0003573894500732422,0.000354766845703125,0.0003554821014404297,0.00035691261291503906,0.0003542900085449219,0.0003554821014404297,0.0003554821014404297,0.00035500526428222656,0.00035572052001953125,0.00036525726318359375,0.0003561973571777344,0.0003552436828613281,0.0003559589385986328,0.0003559589385986328,0.000354766845703125,0.00035500526428222656,0.0003573894500732422,0.0003566741943359375,0.0003554821014404297,0.00035643577575683594,0.0003559589385986328,0.0003559589385986328,0.00035572052001953125,0.0003676414489746094,0.0003566741943359375,0.00035572052001953125,0.000354766845703125,0.00035500526428222656,0.000354766845703125,0.0003552436828613281,0.0004191398620605469,0.000354766845703125,0.0003566741943359375,0.0003554821014404297,0.00035643577575683594,0.00035452842712402344,0.000354766845703125,0.0003802776336669922,0.00035452842712402344,0.0003554821014404297,0.0003561973571777344,0.000354766845703125,0.000354766845703125,0.00035452842712402344,0.00035071372985839844,0.0003554821014404297,0.0003552436828613281,0.000354766845703125,0.00035572052001953125,0.00035452842712402344,0.0003566741943359375,0.0003685951232910156,0.0003554821014404297,0.0003554821014404297,0.00035572052001953125,0.00035309791564941406,0.00035762786865234375,0.0003559589385986328,0.0003552436828613281,0.0003561973571777344,0.0003554821014404297,0.0003561973571777344,0.00035572052001953125,0.0003559589385986328,0.00035691261291503906,0.0003554821014404297,0.00035572052001953125,0.00035452842712402344,0.00035500526428222656,0.0003561973571777344,0.0003561973571777344,0.0003554821014404297,0.0003566741943359375,0.0003578662872314453,0.0003559589385986328,0.0003561973571777344,0.0003559589385986328,0.0003566741943359375,0.00035572052001953125,0.00035762786865234375,0.0003695487976074219,0.00035500526428222656,0.0003552436828613281,0.0003559589385986328,0.00035643577575683594,0.00035452842712402344,0.0003542900085449219,0.00036978721618652344,0.0003573894500732422,0.000354766845703125,0.0003540515899658203,0.0003542900085449219,0.0003554821014404297,0.000354766845703125,0.00037169456481933594,0.00035691261291503906,0.0003573894500732422,0.0003542900085449219,0.0003571510314941406,0.0003561973571777344,0.0003566741943359375,0.0003571510314941406,0.00035643577575683594,0.0003559589385986328,0.0003566741943359375,0.0003554821014404297,0.0003554821014404297,0.0003559589385986328,0.0003693103790283203,0.00035691261291503906,0.0003561973571777344,0.0003559589385986328,0.00035572052001953125,0.00035643577575683594,0.00035643577575683594,0.0003552436828613281,0.0003561973571777344,0.0003566741943359375,0.00035762786865234375,0.00035572052001953125,0.0003578662872314453,0.0003561973571777344,0.00035691261291503906,0.00035643577575683594,0.0003566741943359375,0.0003559589385986328,0.0003561973571777344,0.000354766845703125,0.0003561973571777344,0.0003561973571777344,0.0003571510314941406,0.0003561973571777344,0.0003566741943359375,0.0003561973571777344,0.00035572052001953125,0.0003542900085449219,0.00035691261291503906,0.0003573894500732422,0.0003542900085449219,0.0003554821014404297,0.00035643577575683594,0.000354766845703125,0.00035452842712402344,0.000354766845703125,0.0003712177276611328,0.00035572052001953125,0.00035643577575683594,0.00035643577575683594,0.0003554821014404297,0.00035452842712402344,0.0003561973571777344,0.0003714561462402344,0.0003571510314941406,0.00035643577575683594,0.00035572052001953125,0.00035452842712402344,0.00035572052001953125,0.00035500526428222656,0.0003485679626464844,0.0003559589385986328,0.0003571510314941406,0.0003559589385986328,0.0003552436828613281,0.00035643577575683594,0.0003566741943359375,0.0003688335418701172,0.0003552436828613281,0.0003552436828613281,0.0003573894500732422,0.0003554821014404297,0.0003554821014404297,0.0003566741943359375,0.0003681182861328125,0.00035572052001953125,0.0003561973571777344,0.0003552436828613281,0.00035643577575683594,0.0003578662872314453,0.0003561973571777344,0.00035762786865234375,0.00035691261291503906,0.0003566741943359375,0.00035643577575683594,0.0003559589385986328,0.0003566741943359375,0.00035643577575683594,0.00035762786865234375,0.00035643577575683594,0.0003581047058105469,0.0003566741943359375,0.0003554821014404297,0.00035572052001953125,0.00035691261291503906,0.0003561973571777344,0.00035762786865234375,0.0003573894500732422,0.00035572052001953125,0.00035572052001953125,0.00035572052001953125,0.00035500526428222656,0.0003581047058105469,0.0003731250762939453,0.0003559589385986328,0.0003552436828613281,0.0003554821014404297,0.0003540515899658203,0.00035572052001953125,0.00035643577575683594,0.0003731250762939453,0.00035691261291503906,0.00035572052001953125,0.0003561973571777344,0.0003561973571777344,0.0003554821014404297,0.0003566741943359375,0.00040984153747558594,0.0003566741943359375,0.0003552436828613281,0.00035691261291503906,0.00035572052001953125,0.0003561973571777344,0.0003554821014404297,0.0003502368927001953,0.00035762786865234375,0.00035691261291503906,0.00035643577575683594,0.00035691261291503906,0.0003552436828613281,0.00035691261291503906,0.0003688335418701172,0.00035643577575683594,0.0003566741943359375,0.0003561973571777344,0.0003533363342285156,0.0003566741943359375,0.0003571510314941406,0.0003559589385986328,0.00036025047302246094,0.0003566741943359375,0.0003566741943359375,0.00035691261291503906,0.00035500526428222656,0.00035572052001953125,0.0003571510314941406,0.00035691261291503906,0.0003581047058105469,0.00035691261291503906,0.00035643577575683594,0.00035500526428222656,0.0003566741943359375,0.0003566741943359375,0.0003554821014404297,0.0003566741943359375,0.0003559589385986328,0.00035643577575683594,0.0003559589385986328,0.00035691261291503906,0.0003566741943359375,0.00035953521728515625,0.0003566741943359375,0.0003552436828613281,0.0003552436828613281,0.00035572052001953125,0.0003561973571777344,0.0003561973571777344,0.00037026405334472656,0.0003561973571777344,0.0003566741943359375,0.0003566741943359375,0.0003554821014404297,0.0003554821014404297,0.00035572052001953125,0.00037026405334472656,0.0003561973571777344,0.00035691261291503906,0.0003552436828613281,0.00035691261291503906,0.000354766845703125,0.0003554821014404297,0.00037169456481933594,0.0003559589385986328,0.00035643577575683594,0.00035643577575683594,0.0003554821014404297,0.0003554821014404297,0.00035500526428222656,0.00037217140197753906,0.00035643577575683594,0.00035762786865234375,0.00035762786865234375,0.0003552436828613281,0.00035572052001953125,0.0003566741943359375,0.00036787986755371094,0.00035691261291503906,0.0003552436828613281,0.00035572052001953125,0.00035691261291503906,0.0003554821014404297,0.00035500526428222656,0.00035500526428222656,0.0003566741943359375,0.00035572052001953125,0.0003552436828613281,0.00035691261291503906,0.0003559589385986328,0.0003571510314941406,0.0003561973571777344,0.00035691261291503906,0.0003566741943359375,0.0003573894500732422,0.00035762786865234375,0.00035762786865234375,0.0003571510314941406,0.0003554821014404297,0.00035762786865234375,0.00035691261291503906,0.0003581047058105469,0.00035762786865234375,0.0003571510314941406,0.00035762786865234375,0.0003554821014404297,0.0003573894500732422,0.0003554821014404297,0.00035572052001953125,0.0003561973571777344,0.0003566741943359375,0.00035452842712402344,0.0003566741943359375,0.0003685951232910156,0.0003554821014404297,0.0003554821014404297,0.0003561973571777344,0.000354766845703125,0.0003559589385986328,0.0003559589385986328,0.0003726482391357422,0.0003571510314941406,0.0003559589385986328,0.0003554821014404297,0.00035500526428222656,0.00035572052001953125,0.00036025047302246094,0.0003895759582519531,0.00036597251892089844,0.0003609657287597656,0.00036334991455078125,0.0003650188446044922,0.0003631114959716797,0.0003666877746582031,0.0004115104675292969,0.0003666877746582031,0.0003662109375,0.00035691261291503906,0.0003581047058105469,0.0003559589385986328,0.00035691261291503906,0.00035643577575683594,0.0003571510314941406,0.000354766845703125,0.00035762786865234375,0.00035452842712402344,0.0003559589385986328,0.00035643577575683594,0.0003705024719238281,0.0003566741943359375,0.00035691261291503906,0.0003554821014404297,0.00035643577575683594,0.0003566741943359375,0.0003559589385986328,0.0003685951232910156,0.00035643577575683594,0.0003561973571777344,0.00035691261291503906,0.00035691261291503906,0.00036215782165527344,0.00035572052001953125,0.0003731250762939453,0.00035691261291503906,0.0003566741943359375,0.0003571510314941406,0.0003571510314941406,0.0003559589385986328,0.00035691261291503906,0.0003516674041748047,0.000354766845703125,0.0003561973571777344,0.00035643577575683594,0.0003552436828613281,0.00035691261291503906,0.0003566741943359375,0.00037169456481933594,0.0003559589385986328,0.0003566741943359375,0.00035643577575683594,0.0003559589385986328,0.00035452842712402344,0.00035572052001953125,0.00035691261291503906,0.00035762786865234375,0.0003573894500732422,0.0003566741943359375,0.00035762786865234375,0.0003559589385986328,0.00035500526428222656,0.00035691261291503906,0.00035691261291503906,0.00035762786865234375,0.000354766845703125,0.00035500526428222656,0.00035452842712402344,0.00035572052001953125,0.0003561973571777344,0.00035858154296875,0.00035500526428222656,0.0003581047058105469,0.00035762786865234375,0.00035572052001953125,0.00035643577575683594,0.0003561973571777344,0.000354766845703125,0.00035572052001953125,0.00035500526428222656,0.0003571510314941406,0.00035643577575683594,0.0003552436828613281,0.0003561973571777344,0.0003578662872314453,0.00035691261291503906,0.0003552436828613281,0.000354766845703125,0.00036334991455078125,0.0003604888916015625,0.0003600120544433594,0.0003733634948730469,0.0003561973571777344,0.0003559589385986328,0.0003561973571777344,0.00035572052001953125,0.00035881996154785156,0.00035572052001953125,0.00036907196044921875,0.0003554821014404297,0.00035572052001953125,0.0003566741943359375,0.000354766845703125,0.00035500526428222656,0.00036263465881347656,0.0003902912139892578,0.0003635883331298828,0.0003612041473388672,0.0003638267517089844,0.0003638267517089844,0.00036525726318359375,0.0003685951232910156,0.00042247772216796875,0.00036525726318359375,0.0003654956817626953,0.00035834312438964844,0.00035500526428222656,0.0003573894500732422,0.0003552436828613281,0.00035762786865234375,0.0003573894500732422,0.00035381317138671875,0.00035500526428222656,0.0003540515899658203,0.0003554821014404297,0.00035643577575683594,0.00035953521728515625,0.0003552436828613281,0.0003561973571777344,0.000354766845703125,0.0003552436828613281,0.00035643577575683594,0.0003554821014404297,0.0003731250762939453,0.00035691261291503906,0.00035643577575683594,0.00035762786865234375,0.0003542900085449219,0.0003559589385986328,0.000354766845703125,0.0003752708435058594,0.0003561973571777344,0.0003552436828613281,0.00035500526428222656,0.00035643577575683594,0.0003554821014404297,0.00035572052001953125,0.00037288665771484375,0.0003561973571777344,0.00035572052001953125,0.0003561973571777344,0.0003566741943359375,0.0003578662872314453,0.00035572052001953125,0.0003724098205566406,0.0003552436828613281,0.00035643577575683594,0.00035572052001953125,0.00035500526428222656,0.00035500526428222656,0.0003561973571777344,0.000370025634765625,0.00035691261291503906,0.0003566741943359375,0.0003554821014404297,0.00035500526428222656,0.0003559589385986328,0.0003554821014404297,0.0003554821014404297,0.00035691261291503906,0.00035500526428222656,0.0003561973571777344,0.00035691261291503906,0.0003559589385986328,0.0003540515899658203]]]}}},\"view\":{\"type\":\"object\",\"name\":\"CDSView\",\"id\":\"p1486\",\"attributes\":{\"filter\":{\"type\":\"object\",\"name\":\"AllIndices\",\"id\":\"p1487\"}}},\"glyph\":{\"type\":\"object\",\"name\":\"Line\",\"id\":\"p1482\",\"attributes\":{\"x\":{\"type\":\"field\",\"field\":\"x\"},\"y\":{\"type\":\"field\",\"field\":\"y\"},\"line_color\":\"blue\",\"line_width\":2}},\"nonselection_glyph\":{\"type\":\"object\",\"name\":\"Line\",\"id\":\"p1483\",\"attributes\":{\"x\":{\"type\":\"field\",\"field\":\"x\"},\"y\":{\"type\":\"field\",\"field\":\"y\"},\"line_color\":\"blue\",\"line_alpha\":0.1,\"line_width\":2}},\"muted_glyph\":{\"type\":\"object\",\"name\":\"Line\",\"id\":\"p1484\",\"attributes\":{\"x\":{\"type\":\"field\",\"field\":\"x\"},\"y\":{\"type\":\"field\",\"field\":\"y\"},\"line_color\":\"blue\",\"line_alpha\":0.2,\"line_width\":2}}}}],\"toolbar\":{\"type\":\"object\",\"name\":\"Toolbar\",\"id\":\"p1440\",\"attributes\":{\"tools\":[{\"type\":\"object\",\"name\":\"PanTool\",\"id\":\"p1464\"},{\"type\":\"object\",\"name\":\"WheelZoomTool\",\"id\":\"p1465\"},{\"type\":\"object\",\"name\":\"BoxZoomTool\",\"id\":\"p1466\",\"attributes\":{\"overlay\":{\"type\":\"object\",\"name\":\"BoxAnnotation\",\"id\":\"p1467\",\"attributes\":{\"syncable\":false,\"level\":\"overlay\",\"visible\":false,\"left_units\":\"canvas\",\"right_units\":\"canvas\",\"bottom_units\":\"canvas\",\"top_units\":\"canvas\",\"line_color\":\"black\",\"line_alpha\":1.0,\"line_width\":2,\"line_dash\":[4,4],\"fill_color\":\"lightgrey\",\"fill_alpha\":0.5}}}},{\"type\":\"object\",\"name\":\"SaveTool\",\"id\":\"p1468\"},{\"type\":\"object\",\"name\":\"ResetTool\",\"id\":\"p1469\"},{\"type\":\"object\",\"name\":\"HelpTool\",\"id\":\"p1470\"}]}},\"left\":[{\"type\":\"object\",\"name\":\"LinearAxis\",\"id\":\"p1457\",\"attributes\":{\"ticker\":{\"type\":\"object\",\"name\":\"BasicTicker\",\"id\":\"p1460\",\"attributes\":{\"mantissas\":[1,2,5]}},\"formatter\":{\"type\":\"object\",\"name\":\"BasicTickFormatter\",\"id\":\"p1459\"},\"axis_label\":\"Transfer Rate (sec)\",\"major_label_policy\":{\"type\":\"object\",\"name\":\"AllLabels\",\"id\":\"p1458\"}}}],\"below\":[{\"type\":\"object\",\"name\":\"LinearAxis\",\"id\":\"p1450\",\"attributes\":{\"ticker\":{\"type\":\"object\",\"name\":\"BasicTicker\",\"id\":\"p1453\",\"attributes\":{\"mantissas\":[1,2,5]}},\"formatter\":{\"type\":\"object\",\"name\":\"BasicTickFormatter\",\"id\":\"p1452\"},\"axis_label\":\"Block Index\",\"major_label_policy\":{\"type\":\"object\",\"name\":\"AllLabels\",\"id\":\"p1451\"}}}],\"center\":[{\"type\":\"object\",\"name\":\"Grid\",\"id\":\"p1456\",\"attributes\":{\"axis\":{\"id\":\"p1450\"}}},{\"type\":\"object\",\"name\":\"Grid\",\"id\":\"p1463\",\"attributes\":{\"dimension\":1,\"axis\":{\"id\":\"p1457\"}}}]}}],\"callbacks\":{\"type\":\"map\"}}};\n",
       "  const render_items = [{\"docid\":\"abd9335b-2d10-4898-94a1-95fa263a13e3\",\"roots\":{\"p1432\":\"7ba32ce0-8f9e-459b-b242-0b4999988329\"},\"root_ids\":[\"p1432\"]}];\n",
       "  root.Bokeh.embed.embed_items_notebook(docs_json, render_items);\n",
       "  }\n",
       "  if (root.Bokeh !== undefined) {\n",
       "    embed_document(root);\n",
       "  } else {\n",
       "    let attempts = 0;\n",
       "    const timer = setInterval(function(root) {\n",
       "      if (root.Bokeh !== undefined) {\n",
       "        clearInterval(timer);\n",
       "        embed_document(root);\n",
       "      } else {\n",
       "        attempts++;\n",
       "        if (attempts > 100) {\n",
       "          clearInterval(timer);\n",
       "          console.log(\"Bokeh: ERROR: Unable to run BokehJS code because BokehJS library is missing\");\n",
       "        }\n",
       "      }\n",
       "    }, 10, root)\n",
       "  }\n",
       "})(window);"
      ],
      "application/vnd.bokehjs_exec.v0+json": ""
     },
     "metadata": {
      "application/vnd.bokehjs_exec.v0+json": {
       "id": "p1432"
      }
     },
     "output_type": "display_data"
    }
   ],
   "source": [
    "dma_block_size = 2**10;\n",
    "iter_num = 2**10\n",
    "rng = np.random.default_rng()\n",
    "block_data = rng.integers(low=0, high=2^16, size=dma_block_size)\n",
    "returned_data = rng.integers(low=0, high=2^16, size=dma_block_size)\n",
    "\n",
    "# Read Gain Register\n",
    "print(\"Gain Register                : \" + str(gain_module.read(gain_module.register_map.gain.address)))\n",
    "print(\"DMA Transfer Size            : \" + str(len(block_data)))\n",
    "\n",
    "# Allocate buffers for the input and output signals\n",
    "in_buffer = allocate(shape=(dma_block_size,), dtype=np.int32)\n",
    "out_buffer = allocate(shape=(dma_block_size,), dtype=np.int32)\n",
    "\n",
    "good_blocks = 0\n",
    "bad_blocks = 0\n",
    "time_log = []\n",
    "p = figure(title = \"Block Transfer Rates\", x_axis_label = 'Block Index', y_axis_label = 'Transfer Rate (sec)')\n",
    "for i in range(iter_num):\n",
    "    # Copy the samples to the in_buffer\n",
    "    block_data = rng.integers(low=0, high=2^16, size=dma_block_size)\n",
    "    \n",
    "    start_time = time.time()\n",
    "    np.copyto(in_buffer,block_data)\n",
    "    \n",
    "    dma.sendchannel.transfer(in_buffer)\n",
    "    dma.recvchannel.transfer(out_buffer)\n",
    "    dma.sendchannel.wait()\n",
    "    dma.recvchannel.wait()\n",
    "    \n",
    "    stop_time = time.time()\n",
    "    np.copyto(returned_data,out_buffer)\n",
    "    \n",
    "    hw_exec_time = stop_time-start_time\n",
    "    time_log.append(hw_exec_time)\n",
    "    \n",
    "    if(np.array_equal(block_data,returned_data)):\n",
    "        good_blocks += 1\n",
    "    else:\n",
    "        bad_blocks += 1\n",
    "        \n",
    "\n",
    "print(\"Min Value                    : \"+str(min(time_log)/2**3)+\" ms\")\n",
    "print(\"Max Value                    : \"+str(max(time_log)/2**3)+\" ms\")\n",
    "print(\"Min Tranfer Rate             : \"+str(32*dma_block_size/max(time_log)/1e6)+\" Mbps\")\n",
    "print(\"Max Tranfer Rate             : \"+str(32*dma_block_size/min(time_log)/1e6)+\" Mbps\")\n",
    "print(\"Min Tranfer Rate             : \"+str(32*dma_block_size/max(time_log)/1e6/32)+\" MSPS\")\n",
    "print(\"Max Tranfer Rate             : \"+str(32*dma_block_size/min(time_log)/1e6/32)+\" MSPS\")\n",
    "print(\"Number of Bad Blocks         : \"+str(bad_blocks))\n",
    "print(\"Number of Good Blocks        : \"+str(good_blocks))\n",
    "print(\"Total Bit Transferred        : \"+str((bad_blocks+good_blocks)*dma_block_size*32))\n",
    "\n",
    "p = figure(title = \"Block Transfer Rates\", x_axis_label = 'Block Index', y_axis_label = 'Transfer Rate (sec)')\n",
    "x=np.arange(0,len(time_log))\n",
    "p.line(x,time_log,line_color=\"blue\",line_width=2)\n",
    "show(p)\n",
    "\n",
    "\n",
    "# Free the buffers\n",
    "in_buffer.close()\n",
    "out_buffer.close()"
   ]
  },
  {
   "cell_type": "code",
   "execution_count": null,
   "metadata": {
    "extensions": {
     "jupyter_dashboards": {
      "activeView": "grid_default",
      "views": {
       "grid_default": {
        "col": null,
        "height": 2,
        "hidden": true,
        "locked": true,
        "row": null,
        "width": 2
       }
      }
     }
    },
    "tags": []
   },
   "outputs": [],
   "source": [
    "output_notebook()\n",
    "p = figure(title = \"Block Transfer Rates\", x_axis_label = 'Block Index', y_axis_label = 'Transfer Rate (sec)')\n",
    "x=np.arange(0,len(time_log))\n",
    "p.line(x,time_log,line_color=\"blue\",line_width=2)\n",
    "show(p)"
   ]
  },
  {
   "cell_type": "code",
   "execution_count": null,
   "metadata": {
    "extensions": {
     "jupyter_dashboards": {
      "activeView": "grid_default",
      "views": {
       "grid_default": {
        "col": null,
        "height": 2,
        "hidden": true,
        "locked": true,
        "row": null,
        "width": 2
       }
      }
     }
    }
   },
   "outputs": [],
   "source": []
  }
 ],
 "metadata": {
  "extensions": {
   "jupyter_dashboards": {
    "activeView": "grid_default",
    "version": 1,
    "views": {
     "grid_default": {
      "cellMargin": 2,
      "defaultCellHeight": 40,
      "maxColumns": 12,
      "name": "grid",
      "type": "grid"
     }
    }
   }
  },
  "kernelspec": {
   "display_name": "Python 3 (ipykernel)",
   "language": "python",
   "name": "python3"
  },
  "language_info": {
   "codemirror_mode": {
    "name": "ipython",
    "version": 3
   },
   "file_extension": ".py",
   "mimetype": "text/x-python",
   "name": "python",
   "nbconvert_exporter": "python",
   "pygments_lexer": "ipython3",
   "version": "3.10.6"
  }
 },
 "nbformat": 4,
 "nbformat_minor": 4
}
