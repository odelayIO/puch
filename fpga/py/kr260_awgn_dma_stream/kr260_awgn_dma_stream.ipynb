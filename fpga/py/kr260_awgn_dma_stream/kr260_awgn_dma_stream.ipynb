{
 "cells": [
  {
   "cell_type": "markdown",
   "metadata": {},
   "source": [
    "## KR260 AWGN DMA Stream\n",
    "\n",
    "\n",
    "### Plot function for use in this notebook\n",
    "The first code block below defines a function that we will use for plotting data throughout this notebook. Note that the function has a `n_samples` argument so that we can limit the number of samples to plot. Plotting more than a few thousand samples can be very slow and consume a lot of RAM.\n",
    "\n",
    "### Requirements\n",
    "Install the following:\n",
    "\n",
    "```bash\n",
    "pip install ipympl\n",
    "pip install ipywidgets\n",
    "pip install jupyter_bokeh\n",
    "```"
   ]
  },
  {
   "cell_type": "markdown",
   "metadata": {},
   "source": [
    "# Initilize\n",
    "\n",
    "#### Bokeh Plot Function"
   ]
  },
  {
   "cell_type": "code",
   "execution_count": 1,
   "metadata": {},
   "outputs": [],
   "source": [
    "from bokeh.plotting import figure, output_file, show\n",
    "from bokeh.io import output_notebook, show\n",
    "import numpy as np\n",
    "import math\n",
    "\n",
    "\n",
    "def plot_time(in_signal,out_signal=None):\n",
    "    t = np.linspace(0,len(in_signal),len(in_signal))\n",
    "    output_notebook()\n",
    "    p = figure(title = \"Input & Output Signal\")\n",
    "    \n",
    "    if out_signal is not None:\n",
    "        p.line(t,out_signal,legend_label=\"Output Signal\",line_color=\"red\",line_width=1)\n",
    "    p.line(t,in_signal,legend_label=\"Input Signal\",line_color=\"blue\",line_width=3)\n",
    "    show(p)"
   ]
  },
  {
   "cell_type": "markdown",
   "metadata": {},
   "source": [
    "#### Load Overlay"
   ]
  },
  {
   "cell_type": "code",
   "execution_count": 2,
   "metadata": {},
   "outputs": [
    {
     "data": {
      "application/javascript": [
       "\n",
       "try {\n",
       "require(['notebook/js/codecell'], function(codecell) {\n",
       "  codecell.CodeCell.options_default.highlight_modes[\n",
       "      'magic_text/x-csrc'] = {'reg':[/^%%microblaze/]};\n",
       "  Jupyter.notebook.events.one('kernel_ready.Kernel', function(){\n",
       "      Jupyter.notebook.get_cells().map(function(cell){\n",
       "          if (cell.cell_type == 'code'){ cell.auto_highlight(); } }) ;\n",
       "  });\n",
       "});\n",
       "} catch (e) {};\n"
      ]
     },
     "metadata": {},
     "output_type": "display_data"
    },
    {
     "data": {
      "application/javascript": [
       "\n",
       "try {\n",
       "require(['notebook/js/codecell'], function(codecell) {\n",
       "  codecell.CodeCell.options_default.highlight_modes[\n",
       "      'magic_text/x-csrc'] = {'reg':[/^%%pybind11/]};\n",
       "  Jupyter.notebook.events.one('kernel_ready.Kernel', function(){\n",
       "      Jupyter.notebook.get_cells().map(function(cell){\n",
       "          if (cell.cell_type == 'code'){ cell.auto_highlight(); } }) ;\n",
       "  });\n",
       "});\n",
       "} catch (e) {};\n"
      ]
     },
     "metadata": {},
     "output_type": "display_data"
    }
   ],
   "source": [
    "from pynq import Overlay\n",
    "from pynq import allocate\n",
    "from pynq import MMIO\n",
    "import pynq.lib.dma\n",
    "import time\n",
    "import kria\n",
    "import timestamp_regmap\n",
    "import led_regmap\n",
    "import awgn_regmap\n",
    "\n",
    "# Load the overlay\n",
    "overlay = Overlay('/home/root/jupyter_notebooks/kr260_awgn_dma_stream/kr260_awgn_dma_stream.bit')\n",
    "\n",
    "# Assign blocks to short vars\n",
    "dma          = overlay.axi_dma_0\n",
    "led_module   = overlay.led_reg_0\n",
    "timestamp    = overlay.Timestamp_0\n",
    "awgn         = overlay.gng_top_0"
   ]
  },
  {
   "cell_type": "markdown",
   "metadata": {},
   "source": [
    "##### Print out the register map for DMA and HLS Gain Blocks"
   ]
  },
  {
   "cell_type": "code",
   "execution_count": null,
   "metadata": {},
   "outputs": [],
   "source": [
    "overlay.ip_dict"
   ]
  },
  {
   "cell_type": "code",
   "execution_count": null,
   "metadata": {},
   "outputs": [],
   "source": [
    "dma.register_map"
   ]
  },
  {
   "cell_type": "markdown",
   "metadata": {},
   "source": [
    "##### Display Time Stamp Register\n",
    "The time stamp is burned into the FPGA during the build process"
   ]
  },
  {
   "cell_type": "code",
   "execution_count": 215,
   "metadata": {},
   "outputs": [
    {
     "name": "stdout",
     "output_type": "stream",
     "text": [
      "FPGA Build Timestamp:  2025/2/11 17:2:23\n"
     ]
    }
   ],
   "source": [
    "print(\"FPGA Build Timestamp:  \" + kria.get_timestamp_str(timestamp))"
   ]
  },
  {
   "cell_type": "markdown",
   "metadata": {},
   "source": [
    "##### Toggle USER_LED[1:0] on/off"
   ]
  },
  {
   "cell_type": "code",
   "execution_count": 91,
   "metadata": {},
   "outputs": [],
   "source": [
    "for i in range(10):\n",
    "    led_module.mmio.write(led_regmap.RegMap.USER_LEDS_ADDR,0x1)\n",
    "    time.sleep(0.25)\n",
    "    led_module.mmio.write(led_regmap.RegMap.USER_LEDS_ADDR,0x2)\n",
    "    time.sleep(0.25)\n",
    "led_module.mmio.write(led_regmap.RegMap.USER_LEDS_ADDR,0x0)"
   ]
  },
  {
   "cell_type": "markdown",
   "metadata": {},
   "source": [
    "##### Display AWGN Block Parameters"
   ]
  },
  {
   "cell_type": "code",
   "execution_count": 4,
   "metadata": {},
   "outputs": [
    {
     "name": "stdout",
     "output_type": "stream",
     "text": [
      "Noise Gain = 0\n",
      "Noise Gain = 4\n",
      "AWGN Enable = 0\n",
      "AWGN Enable = 1\n"
     ]
    }
   ],
   "source": [
    "print(\"Noise Gain = \" + str(awgn.read(awgn_regmap.RegMap.AWGN_NOISE_GAIN_ADDR)))\n",
    "awgn.write(awgn_regmap.RegMap.AWGN_NOISE_GAIN_ADDR,4)\n",
    "print(\"Noise Gain = \" + str(awgn.read(awgn_regmap.RegMap.AWGN_NOISE_GAIN_ADDR)))\n",
    "print(\"AWGN Enable = \" + str(awgn.read(awgn_regmap.RegMap.AWGN_ENABLE_ADDR)))\n",
    "awgn.write(awgn_regmap.RegMap.AWGN_ENABLE_ADDR,1)\n",
    "print(\"AWGN Enable = \" + str(awgn.read(awgn_regmap.RegMap.AWGN_ENABLE_ADDR)))"
   ]
  },
  {
   "cell_type": "code",
   "execution_count": 5,
   "metadata": {},
   "outputs": [
    {
     "name": "stdout",
     "output_type": "stream",
     "text": [
      "F_IN : (16, 14)\n",
      "F_OUT : (16, 14)\n",
      "F_AWGN : (16, 11)\n"
     ]
    },
    {
     "data": {
      "text/plain": [
       "int"
      ]
     },
     "execution_count": 5,
     "metadata": {},
     "output_type": "execute_result"
    }
   ],
   "source": [
    "#awgn.write(gain_module.register_map.gain.address,4)\n",
    "tBits, fBits = kria.get_format(awgn,awgn_regmap.RegMap.F_IN_ADDR)\n",
    "print(\"F_IN : (\" + str(tBits) + \", \" + str(fBits) + \")\")\n",
    "tBits, fBits = kria.get_format(awgn,awgn_regmap.RegMap.F_OUT_ADDR)\n",
    "print(\"F_OUT : (\" + str(tBits) + \", \" + str(fBits) + \")\")\n",
    "tBits, fBits = kria.get_format(awgn,awgn_regmap.RegMap.F_AWGN_ADDR)\n",
    "print(\"F_AWGN : (\" + str(tBits) + \", \" + str(fBits) + \")\")\n",
    "\n",
    "type(fBits)"
   ]
  },
  {
   "cell_type": "markdown",
   "metadata": {},
   "source": [
    "### DMA Transfer the Sample buffer from ARM Processor to the AWGN FPGA Module, and plot"
   ]
  },
  {
   "cell_type": "code",
   "execution_count": 34,
   "metadata": {},
   "outputs": [
    {
     "name": "stdout",
     "output_type": "stream",
     "text": [
      "Number of samples:  2000\n",
      "AWGN Gain           : 0.39990234375\n",
      "AWGN Enable         : 1\n",
      "DMA Transfer Size   : 2000\n",
      "DMA Transfer Execution Time  : 0.0018918514251708984  sec\n"
     ]
    },
    {
     "data": {
      "text/html": [
       "<style>\n",
       "        .bk-notebook-logo {\n",
       "            display: block;\n",
       "            width: 20px;\n",
       "            height: 20px;\n",
       "            background-image: url(data:image/png;base64,iVBORw0KGgoAAAANSUhEUgAAABQAAAAUCAYAAACNiR0NAAAABHNCSVQICAgIfAhkiAAAAAlwSFlzAAALEgAACxIB0t1+/AAAABx0RVh0U29mdHdhcmUAQWRvYmUgRmlyZXdvcmtzIENTNui8sowAAAOkSURBVDiNjZRtaJVlGMd/1/08zzln5zjP1LWcU9N0NkN8m2CYjpgQYQXqSs0I84OLIC0hkEKoPtiH3gmKoiJDU7QpLgoLjLIQCpEsNJ1vqUOdO7ppbuec5+V+rj4ctwzd8IIbbi6u+8f1539dt3A78eXC7QizUF7gyV1fD1Yqg4JWz84yffhm0qkFqBogB9rM8tZdtwVsPUhWhGcFJngGeWrPzHm5oaMmkfEg1usvLFyc8jLRqDOMru7AyC8saQr7GG7f5fvDeH7Ej8CM66nIF+8yngt6HWaKh7k49Soy9nXurCi1o3qUbS3zWfrYeQDTB/Qj6kX6Ybhw4B+bOYoLKCC9H3Nu/leUTZ1JdRWkkn2ldcCamzrcf47KKXdAJllSlxAOkRgyHsGC/zRday5Qld9DyoM4/q/rUoy/CXh3jzOu3bHUVZeU+DEn8FInkPBFlu3+nW3Nw0mk6vCDiWg8CeJaxEwuHS3+z5RgY+YBR6V1Z1nxSOfoaPa4LASWxxdNp+VWTk7+4vzaou8v8PN+xo+KY2xsw6une2frhw05CTYOmQvsEhjhWjn0bmXPjpE1+kplmmkP3suftwTubK9Vq22qKmrBhpY4jvd5afdRA3wGjFAgcnTK2s4hY0/GPNIb0nErGMCRxWOOX64Z8RAC4oCXdklmEvcL8o0BfkNK4lUg9HTl+oPlQxdNo3Mg4Nv175e/1LDGzZen30MEjRUtmXSfiTVu1kK8W4txyV6BMKlbgk3lMwYCiusNy9fVfvvwMxv8Ynl6vxoByANLTWplvuj/nF9m2+PDtt1eiHPBr1oIfhCChQMBw6Aw0UulqTKZdfVvfG7VcfIqLG9bcldL/+pdWTLxLUy8Qq38heUIjh4XlzZxzQm19lLFlr8vdQ97rjZVOLf8nclzckbcD4wxXMidpX30sFd37Fv/GtwwhzhxGVAprjbg0gCAEeIgwCZyTV2Z1REEW8O4py0wsjeloKoMr6iCY6dP92H6Vw/oTyICIthibxjm/DfN9lVz8IqtqKYLUXfoKVMVQVVJOElGjrnnUt9T9wbgp8AyYKaGlqingHZU/uG2NTZSVqwHQTWkx9hxjkpWDaCg6Ckj5qebgBVbT3V3NNXMSiWSDdGV3hrtzla7J+duwPOToIg42ChPQOQjspnSlp1V+Gjdged7+8UN5CRAV7a5EdFNwCjEaBR27b3W890TE7g24NAP/mMDXRWrGoFPQI9ls/MWO2dWFAar/xcOIImbbpA3zgAAAABJRU5ErkJggg==);\n",
       "        }\n",
       "    </style>\n",
       "    <div>\n",
       "        <a href=\"https://bokeh.org\" target=\"_blank\" class=\"bk-notebook-logo\"></a>\n",
       "        <span id=\"c9ea0f42-d35d-4d47-a69a-27033e130eb6\">Loading BokehJS ...</span>\n",
       "    </div>\n"
      ]
     },
     "metadata": {},
     "output_type": "display_data"
    },
    {
     "data": {
      "application/javascript": [
       "(function(root) {\n",
       "  function now() {\n",
       "    return new Date();\n",
       "  }\n",
       "\n",
       "  const force = true;\n",
       "\n",
       "  if (typeof root._bokeh_onload_callbacks === \"undefined\" || force === true) {\n",
       "    root._bokeh_onload_callbacks = [];\n",
       "    root._bokeh_is_loading = undefined;\n",
       "  }\n",
       "\n",
       "const JS_MIME_TYPE = 'application/javascript';\n",
       "  const HTML_MIME_TYPE = 'text/html';\n",
       "  const EXEC_MIME_TYPE = 'application/vnd.bokehjs_exec.v0+json';\n",
       "  const CLASS_NAME = 'output_bokeh rendered_html';\n",
       "\n",
       "  /**\n",
       "   * Render data to the DOM node\n",
       "   */\n",
       "  function render(props, node) {\n",
       "    const script = document.createElement(\"script\");\n",
       "    node.appendChild(script);\n",
       "  }\n",
       "\n",
       "  /**\n",
       "   * Handle when an output is cleared or removed\n",
       "   */\n",
       "  function handleClearOutput(event, handle) {\n",
       "    function drop(id) {\n",
       "      const view = Bokeh.index.get_by_id(id)\n",
       "      if (view != null) {\n",
       "        view.model.document.clear()\n",
       "        Bokeh.index.delete(view)\n",
       "      }\n",
       "    }\n",
       "\n",
       "    const cell = handle.cell;\n",
       "\n",
       "    const id = cell.output_area._bokeh_element_id;\n",
       "    const server_id = cell.output_area._bokeh_server_id;\n",
       "\n",
       "    // Clean up Bokeh references\n",
       "    if (id != null) {\n",
       "      drop(id)\n",
       "    }\n",
       "\n",
       "    if (server_id !== undefined) {\n",
       "      // Clean up Bokeh references\n",
       "      const cmd_clean = \"from bokeh.io.state import curstate; print(curstate().uuid_to_server['\" + server_id + \"'].get_sessions()[0].document.roots[0]._id)\";\n",
       "      cell.notebook.kernel.execute(cmd_clean, {\n",
       "        iopub: {\n",
       "          output: function(msg) {\n",
       "            const id = msg.content.text.trim()\n",
       "            drop(id)\n",
       "          }\n",
       "        }\n",
       "      });\n",
       "      // Destroy server and session\n",
       "      const cmd_destroy = \"import bokeh.io.notebook as ion; ion.destroy_server('\" + server_id + \"')\";\n",
       "      cell.notebook.kernel.execute(cmd_destroy);\n",
       "    }\n",
       "  }\n",
       "\n",
       "  /**\n",
       "   * Handle when a new output is added\n",
       "   */\n",
       "  function handleAddOutput(event, handle) {\n",
       "    const output_area = handle.output_area;\n",
       "    const output = handle.output;\n",
       "\n",
       "    // limit handleAddOutput to display_data with EXEC_MIME_TYPE content only\n",
       "    if ((output.output_type != \"display_data\") || (!Object.prototype.hasOwnProperty.call(output.data, EXEC_MIME_TYPE))) {\n",
       "      return\n",
       "    }\n",
       "\n",
       "    const toinsert = output_area.element.find(\".\" + CLASS_NAME.split(' ')[0]);\n",
       "\n",
       "    if (output.metadata[EXEC_MIME_TYPE][\"id\"] !== undefined) {\n",
       "      toinsert[toinsert.length - 1].firstChild.textContent = output.data[JS_MIME_TYPE];\n",
       "      // store reference to embed id on output_area\n",
       "      output_area._bokeh_element_id = output.metadata[EXEC_MIME_TYPE][\"id\"];\n",
       "    }\n",
       "    if (output.metadata[EXEC_MIME_TYPE][\"server_id\"] !== undefined) {\n",
       "      const bk_div = document.createElement(\"div\");\n",
       "      bk_div.innerHTML = output.data[HTML_MIME_TYPE];\n",
       "      const script_attrs = bk_div.children[0].attributes;\n",
       "      for (let i = 0; i < script_attrs.length; i++) {\n",
       "        toinsert[toinsert.length - 1].firstChild.setAttribute(script_attrs[i].name, script_attrs[i].value);\n",
       "        toinsert[toinsert.length - 1].firstChild.textContent = bk_div.children[0].textContent\n",
       "      }\n",
       "      // store reference to server id on output_area\n",
       "      output_area._bokeh_server_id = output.metadata[EXEC_MIME_TYPE][\"server_id\"];\n",
       "    }\n",
       "  }\n",
       "\n",
       "  function register_renderer(events, OutputArea) {\n",
       "\n",
       "    function append_mime(data, metadata, element) {\n",
       "      // create a DOM node to render to\n",
       "      const toinsert = this.create_output_subarea(\n",
       "        metadata,\n",
       "        CLASS_NAME,\n",
       "        EXEC_MIME_TYPE\n",
       "      );\n",
       "      this.keyboard_manager.register_events(toinsert);\n",
       "      // Render to node\n",
       "      const props = {data: data, metadata: metadata[EXEC_MIME_TYPE]};\n",
       "      render(props, toinsert[toinsert.length - 1]);\n",
       "      element.append(toinsert);\n",
       "      return toinsert\n",
       "    }\n",
       "\n",
       "    /* Handle when an output is cleared or removed */\n",
       "    events.on('clear_output.CodeCell', handleClearOutput);\n",
       "    events.on('delete.Cell', handleClearOutput);\n",
       "\n",
       "    /* Handle when a new output is added */\n",
       "    events.on('output_added.OutputArea', handleAddOutput);\n",
       "\n",
       "    /**\n",
       "     * Register the mime type and append_mime function with output_area\n",
       "     */\n",
       "    OutputArea.prototype.register_mime_type(EXEC_MIME_TYPE, append_mime, {\n",
       "      /* Is output safe? */\n",
       "      safe: true,\n",
       "      /* Index of renderer in `output_area.display_order` */\n",
       "      index: 0\n",
       "    });\n",
       "  }\n",
       "\n",
       "  // register the mime type if in Jupyter Notebook environment and previously unregistered\n",
       "  if (root.Jupyter !== undefined) {\n",
       "    const events = require('base/js/events');\n",
       "    const OutputArea = require('notebook/js/outputarea').OutputArea;\n",
       "\n",
       "    if (OutputArea.prototype.mime_types().indexOf(EXEC_MIME_TYPE) == -1) {\n",
       "      register_renderer(events, OutputArea);\n",
       "    }\n",
       "  }\n",
       "  if (typeof (root._bokeh_timeout) === \"undefined\" || force === true) {\n",
       "    root._bokeh_timeout = Date.now() + 5000;\n",
       "    root._bokeh_failed_load = false;\n",
       "  }\n",
       "\n",
       "  const NB_LOAD_WARNING = {'data': {'text/html':\n",
       "     \"<div style='background-color: #fdd'>\\n\"+\n",
       "     \"<p>\\n\"+\n",
       "     \"BokehJS does not appear to have successfully loaded. If loading BokehJS from CDN, this \\n\"+\n",
       "     \"may be due to a slow or bad network connection. Possible fixes:\\n\"+\n",
       "     \"</p>\\n\"+\n",
       "     \"<ul>\\n\"+\n",
       "     \"<li>re-rerun `output_notebook()` to attempt to load from CDN again, or</li>\\n\"+\n",
       "     \"<li>use INLINE resources instead, as so:</li>\\n\"+\n",
       "     \"</ul>\\n\"+\n",
       "     \"<code>\\n\"+\n",
       "     \"from bokeh.resources import INLINE\\n\"+\n",
       "     \"output_notebook(resources=INLINE)\\n\"+\n",
       "     \"</code>\\n\"+\n",
       "     \"</div>\"}};\n",
       "\n",
       "  function display_loaded() {\n",
       "    const el = document.getElementById(\"c9ea0f42-d35d-4d47-a69a-27033e130eb6\");\n",
       "    if (el != null) {\n",
       "      el.textContent = \"BokehJS is loading...\";\n",
       "    }\n",
       "    if (root.Bokeh !== undefined) {\n",
       "      if (el != null) {\n",
       "        el.textContent = \"BokehJS \" + root.Bokeh.version + \" successfully loaded.\";\n",
       "      }\n",
       "    } else if (Date.now() < root._bokeh_timeout) {\n",
       "      setTimeout(display_loaded, 100)\n",
       "    }\n",
       "  }\n",
       "\n",
       "  function run_callbacks() {\n",
       "    try {\n",
       "      root._bokeh_onload_callbacks.forEach(function(callback) {\n",
       "        if (callback != null)\n",
       "          callback();\n",
       "      });\n",
       "    } finally {\n",
       "      delete root._bokeh_onload_callbacks\n",
       "    }\n",
       "    console.debug(\"Bokeh: all callbacks have finished\");\n",
       "  }\n",
       "\n",
       "  function load_libs(css_urls, js_urls, callback) {\n",
       "    if (css_urls == null) css_urls = [];\n",
       "    if (js_urls == null) js_urls = [];\n",
       "\n",
       "    root._bokeh_onload_callbacks.push(callback);\n",
       "    if (root._bokeh_is_loading > 0) {\n",
       "      console.debug(\"Bokeh: BokehJS is being loaded, scheduling callback at\", now());\n",
       "      return null;\n",
       "    }\n",
       "    if (js_urls == null || js_urls.length === 0) {\n",
       "      run_callbacks();\n",
       "      return null;\n",
       "    }\n",
       "    console.debug(\"Bokeh: BokehJS not loaded, scheduling load and callback at\", now());\n",
       "    root._bokeh_is_loading = css_urls.length + js_urls.length;\n",
       "\n",
       "    function on_load() {\n",
       "      root._bokeh_is_loading--;\n",
       "      if (root._bokeh_is_loading === 0) {\n",
       "        console.debug(\"Bokeh: all BokehJS libraries/stylesheets loaded\");\n",
       "        run_callbacks()\n",
       "      }\n",
       "    }\n",
       "\n",
       "    function on_error(url) {\n",
       "      console.error(\"failed to load \" + url);\n",
       "    }\n",
       "\n",
       "    for (let i = 0; i < css_urls.length; i++) {\n",
       "      const url = css_urls[i];\n",
       "      const element = document.createElement(\"link\");\n",
       "      element.onload = on_load;\n",
       "      element.onerror = on_error.bind(null, url);\n",
       "      element.rel = \"stylesheet\";\n",
       "      element.type = \"text/css\";\n",
       "      element.href = url;\n",
       "      console.debug(\"Bokeh: injecting link tag for BokehJS stylesheet: \", url);\n",
       "      document.body.appendChild(element);\n",
       "    }\n",
       "\n",
       "    for (let i = 0; i < js_urls.length; i++) {\n",
       "      const url = js_urls[i];\n",
       "      const element = document.createElement('script');\n",
       "      element.onload = on_load;\n",
       "      element.onerror = on_error.bind(null, url);\n",
       "      element.async = false;\n",
       "      element.src = url;\n",
       "      console.debug(\"Bokeh: injecting script tag for BokehJS library: \", url);\n",
       "      document.head.appendChild(element);\n",
       "    }\n",
       "  };\n",
       "\n",
       "  function inject_raw_css(css) {\n",
       "    const element = document.createElement(\"style\");\n",
       "    element.appendChild(document.createTextNode(css));\n",
       "    document.body.appendChild(element);\n",
       "  }\n",
       "\n",
       "  const js_urls = [\"https://cdn.bokeh.org/bokeh/release/bokeh-3.3.0.min.js\", \"https://cdn.bokeh.org/bokeh/release/bokeh-gl-3.3.0.min.js\", \"https://cdn.bokeh.org/bokeh/release/bokeh-widgets-3.3.0.min.js\", \"https://cdn.bokeh.org/bokeh/release/bokeh-tables-3.3.0.min.js\", \"https://cdn.bokeh.org/bokeh/release/bokeh-mathjax-3.3.0.min.js\"];\n",
       "  const css_urls = [];\n",
       "\n",
       "  const inline_js = [    function(Bokeh) {\n",
       "      Bokeh.set_log_level(\"info\");\n",
       "    },\n",
       "function(Bokeh) {\n",
       "    }\n",
       "  ];\n",
       "\n",
       "  function run_inline_js() {\n",
       "    if (root.Bokeh !== undefined || force === true) {\n",
       "          for (let i = 0; i < inline_js.length; i++) {\n",
       "      inline_js[i].call(root, root.Bokeh);\n",
       "    }\n",
       "if (force === true) {\n",
       "        display_loaded();\n",
       "      }} else if (Date.now() < root._bokeh_timeout) {\n",
       "      setTimeout(run_inline_js, 100);\n",
       "    } else if (!root._bokeh_failed_load) {\n",
       "      console.log(\"Bokeh: BokehJS failed to load within specified timeout.\");\n",
       "      root._bokeh_failed_load = true;\n",
       "    } else if (force !== true) {\n",
       "      const cell = $(document.getElementById(\"c9ea0f42-d35d-4d47-a69a-27033e130eb6\")).parents('.cell').data().cell;\n",
       "      cell.output_area.append_execute_result(NB_LOAD_WARNING)\n",
       "    }\n",
       "  }\n",
       "\n",
       "  if (root._bokeh_is_loading === 0) {\n",
       "    console.debug(\"Bokeh: BokehJS loaded, going straight to plotting\");\n",
       "    run_inline_js();\n",
       "  } else {\n",
       "    load_libs(css_urls, js_urls, function() {\n",
       "      console.debug(\"Bokeh: BokehJS plotting callback run at\", now());\n",
       "      run_inline_js();\n",
       "    });\n",
       "  }\n",
       "}(window));"
      ],
      "application/vnd.bokehjs_load.v0+json": "(function(root) {\n  function now() {\n    return new Date();\n  }\n\n  const force = true;\n\n  if (typeof root._bokeh_onload_callbacks === \"undefined\" || force === true) {\n    root._bokeh_onload_callbacks = [];\n    root._bokeh_is_loading = undefined;\n  }\n\n\n  if (typeof (root._bokeh_timeout) === \"undefined\" || force === true) {\n    root._bokeh_timeout = Date.now() + 5000;\n    root._bokeh_failed_load = false;\n  }\n\n  const NB_LOAD_WARNING = {'data': {'text/html':\n     \"<div style='background-color: #fdd'>\\n\"+\n     \"<p>\\n\"+\n     \"BokehJS does not appear to have successfully loaded. If loading BokehJS from CDN, this \\n\"+\n     \"may be due to a slow or bad network connection. Possible fixes:\\n\"+\n     \"</p>\\n\"+\n     \"<ul>\\n\"+\n     \"<li>re-rerun `output_notebook()` to attempt to load from CDN again, or</li>\\n\"+\n     \"<li>use INLINE resources instead, as so:</li>\\n\"+\n     \"</ul>\\n\"+\n     \"<code>\\n\"+\n     \"from bokeh.resources import INLINE\\n\"+\n     \"output_notebook(resources=INLINE)\\n\"+\n     \"</code>\\n\"+\n     \"</div>\"}};\n\n  function display_loaded() {\n    const el = document.getElementById(\"c9ea0f42-d35d-4d47-a69a-27033e130eb6\");\n    if (el != null) {\n      el.textContent = \"BokehJS is loading...\";\n    }\n    if (root.Bokeh !== undefined) {\n      if (el != null) {\n        el.textContent = \"BokehJS \" + root.Bokeh.version + \" successfully loaded.\";\n      }\n    } else if (Date.now() < root._bokeh_timeout) {\n      setTimeout(display_loaded, 100)\n    }\n  }\n\n  function run_callbacks() {\n    try {\n      root._bokeh_onload_callbacks.forEach(function(callback) {\n        if (callback != null)\n          callback();\n      });\n    } finally {\n      delete root._bokeh_onload_callbacks\n    }\n    console.debug(\"Bokeh: all callbacks have finished\");\n  }\n\n  function load_libs(css_urls, js_urls, callback) {\n    if (css_urls == null) css_urls = [];\n    if (js_urls == null) js_urls = [];\n\n    root._bokeh_onload_callbacks.push(callback);\n    if (root._bokeh_is_loading > 0) {\n      console.debug(\"Bokeh: BokehJS is being loaded, scheduling callback at\", now());\n      return null;\n    }\n    if (js_urls == null || js_urls.length === 0) {\n      run_callbacks();\n      return null;\n    }\n    console.debug(\"Bokeh: BokehJS not loaded, scheduling load and callback at\", now());\n    root._bokeh_is_loading = css_urls.length + js_urls.length;\n\n    function on_load() {\n      root._bokeh_is_loading--;\n      if (root._bokeh_is_loading === 0) {\n        console.debug(\"Bokeh: all BokehJS libraries/stylesheets loaded\");\n        run_callbacks()\n      }\n    }\n\n    function on_error(url) {\n      console.error(\"failed to load \" + url);\n    }\n\n    for (let i = 0; i < css_urls.length; i++) {\n      const url = css_urls[i];\n      const element = document.createElement(\"link\");\n      element.onload = on_load;\n      element.onerror = on_error.bind(null, url);\n      element.rel = \"stylesheet\";\n      element.type = \"text/css\";\n      element.href = url;\n      console.debug(\"Bokeh: injecting link tag for BokehJS stylesheet: \", url);\n      document.body.appendChild(element);\n    }\n\n    for (let i = 0; i < js_urls.length; i++) {\n      const url = js_urls[i];\n      const element = document.createElement('script');\n      element.onload = on_load;\n      element.onerror = on_error.bind(null, url);\n      element.async = false;\n      element.src = url;\n      console.debug(\"Bokeh: injecting script tag for BokehJS library: \", url);\n      document.head.appendChild(element);\n    }\n  };\n\n  function inject_raw_css(css) {\n    const element = document.createElement(\"style\");\n    element.appendChild(document.createTextNode(css));\n    document.body.appendChild(element);\n  }\n\n  const js_urls = [\"https://cdn.bokeh.org/bokeh/release/bokeh-3.3.0.min.js\", \"https://cdn.bokeh.org/bokeh/release/bokeh-gl-3.3.0.min.js\", \"https://cdn.bokeh.org/bokeh/release/bokeh-widgets-3.3.0.min.js\", \"https://cdn.bokeh.org/bokeh/release/bokeh-tables-3.3.0.min.js\", \"https://cdn.bokeh.org/bokeh/release/bokeh-mathjax-3.3.0.min.js\"];\n  const css_urls = [];\n\n  const inline_js = [    function(Bokeh) {\n      Bokeh.set_log_level(\"info\");\n    },\nfunction(Bokeh) {\n    }\n  ];\n\n  function run_inline_js() {\n    if (root.Bokeh !== undefined || force === true) {\n          for (let i = 0; i < inline_js.length; i++) {\n      inline_js[i].call(root, root.Bokeh);\n    }\nif (force === true) {\n        display_loaded();\n      }} else if (Date.now() < root._bokeh_timeout) {\n      setTimeout(run_inline_js, 100);\n    } else if (!root._bokeh_failed_load) {\n      console.log(\"Bokeh: BokehJS failed to load within specified timeout.\");\n      root._bokeh_failed_load = true;\n    } else if (force !== true) {\n      const cell = $(document.getElementById(\"c9ea0f42-d35d-4d47-a69a-27033e130eb6\")).parents('.cell').data().cell;\n      cell.output_area.append_execute_result(NB_LOAD_WARNING)\n    }\n  }\n\n  if (root._bokeh_is_loading === 0) {\n    console.debug(\"Bokeh: BokehJS loaded, going straight to plotting\");\n    run_inline_js();\n  } else {\n    load_libs(css_urls, js_urls, function() {\n      console.debug(\"Bokeh: BokehJS plotting callback run at\", now());\n      run_inline_js();\n    });\n  }\n}(window));"
     },
     "metadata": {},
     "output_type": "display_data"
    },
    {
     "data": {
      "text/html": [
       "\n",
       "  <div id=\"d4d7b035-31b1-4f0f-8a51-efddca51e420\" data-root-id=\"p2485\" style=\"display: contents;\"></div>\n"
      ]
     },
     "metadata": {},
     "output_type": "display_data"
    },
    {
     "data": {
      "application/javascript": [
       "(function(root) {\n",
       "  function embed_document(root) {\n",
       "  const docs_json = {\"29a0a207-3d16-41de-b7fc-aa2200021c1d\":{\"version\":\"3.3.0\",\"title\":\"Bokeh Application\",\"roots\":[{\"type\":\"object\",\"name\":\"Figure\",\"id\":\"p2485\",\"attributes\":{\"x_range\":{\"type\":\"object\",\"name\":\"DataRange1d\",\"id\":\"p2486\"},\"y_range\":{\"type\":\"object\",\"name\":\"DataRange1d\",\"id\":\"p2487\"},\"x_scale\":{\"type\":\"object\",\"name\":\"LinearScale\",\"id\":\"p2495\"},\"y_scale\":{\"type\":\"object\",\"name\":\"LinearScale\",\"id\":\"p2496\"},\"title\":{\"type\":\"object\",\"name\":\"Title\",\"id\":\"p2488\",\"attributes\":{\"text\":\"Input & Output Signal\"}},\"renderers\":[{\"type\":\"object\",\"name\":\"GlyphRenderer\",\"id\":\"p2520\",\"attributes\":{\"data_source\":{\"type\":\"object\",\"name\":\"ColumnDataSource\",\"id\":\"p2514\",\"attributes\":{\"selected\":{\"type\":\"object\",\"name\":\"Selection\",\"id\":\"p2515\",\"attributes\":{\"indices\":[],\"line_indices\":[]}},\"selection_policy\":{\"type\":\"object\",\"name\":\"UnionRenderers\",\"id\":\"p2516\"},\"data\":{\"type\":\"map\",\"entries\":[[\"x\",{\"type\":\"ndarray\",\"array\":{\"type\":\"bytes\",\"data\":\"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\"},\"shape\":[2000],\"dtype\":\"float64\",\"order\":\"little\"}],[\"y\",[0.3505859375,0.39678955078125,-0.42657470703125,-0.26361083984375,0.28265380859375,0.050048828125,-0.4720458984375,-0.45953369140625,-0.447021484375,-0.43450927734375,-0.42205810546875,-0.40960693359375,-0.39715576171875,-0.384765625,-0.37237548828125,-0.3599853515625,-0.34765625,-0.33538818359375,0.2467041015625,0.2794189453125,0.7208251953125,0.58062744140625,0.83349609375,0.48614501953125,0.4019775390625,0.5853271484375,0.3809814453125,0.387939453125,0.2137451171875,0.57220458984375,0.16058349609375,0.5955810546875,0.212158203125,-0.04144287109375,0.20880126953125,0.74407958984375,0.53228759765625,0.1256103515625,0.67877197265625,0.587890625,0.64532470703125,0.64697265625,-0.00225830078125,0.086181640625,-0.359130859375,-0.2640380859375,0.7724609375,0.61248779296875,0.9735107421875,0.9295654296875,0.4349365234375,0.777587890625,0.841796875,0.65203857421875,0.091064453125,0.58514404296875,0.99908447265625,0.65899658203125,0.47747802734375,0.32275390625,0.25042724609375,0.743408203125,0.494140625,0.80426025390625,0.40631103515625,0.66351318359375,0.67791748046875,1.31378173828125,0.50909423828125,1.73602294921875,0.80419921875,0.9224853515625,0.0513916015625,1.18310546875,1.313232421875,0.4813232421875,-0.0548095703125,0.807373046875,1.3623046875,0.2999267578125,0.76519775390625,1.3563232421875,1.24713134765625,0.9273681640625,1.10406494140625,0.47540283203125,1.00970458984375,1.61029052734375,0.501220703125,0.39300537109375,1.09619140625,0.85345458984375,0.54461669921875,0.63507080078125,0.869384765625,0.82720947265625,1.145263671875,0.686767578125,0.55181884765625,0.69464111328125,0.9393310546875,0.037841796875,1.56689453125,0.85064697265625,1.015625,0.27960205078125,0.85736083984375,0.7445068359375,1.77410888671875,1.39727783203125,1.87139892578125,0.78729248046875,1.12725830078125,0.5682373046875,0.88983154296875,1.6072998046875,1.47991943359375,0.92803955078125,0.9990234375,0.67633056640625,1.13177490234375,1.99993896484375,0.949462890625,1.4097900390625,1.9876708984375,0.79150390625,1.7572021484375,1.1929931640625,1.674560546875,0.73846435546875,1.69818115234375,0.37408447265625,1.083984375,0.68975830078125,0.57659912109375,0.6512451171875,0.47576904296875,0.3138427734375,0.59259033203125,1.04168701171875,0.72930908203125,0.43634033203125,0.73162841796875,0.6180419921875,1.59222412109375,0.80792236328125,1.9306640625,1.55914306640625,0.96728515625,1.075439453125,0.6336669921875,0.98370361328125,1.52740478515625,0.997802734375,1.739501953125,1.15386962890625,1.298095703125,0.97052001953125,1.98504638671875,1.47161865234375,0.61328125,1.11761474609375,0.599365234375,0.56634521484375,1.26312255859375,0.45977783203125,0.68267822265625,1.4962158203125,0.79010009765625,0.6551513671875,0.54058837890625,1.7628173828125,1.20263671875,-0.029052734375,0.1175537109375,0.3680419921875,0.737548828125,0.71923828125,0.6387939453125,0.6007080078125,1.16455078125,1.10467529296875,0.78741455078125,1.12921142578125,0.47039794921875,0.97308349609375,-0.13861083984375,0.83453369140625,1.1044921875,0.797607421875,-0.20806884765625,0.890625,0.33392333984375,0.89483642578125,1.16217041015625,-0.11456298828125,0.348876953125,0.48797607421875,1.2998046875,0.197021484375,0.9993896484375,0.1649169921875,0.9119873046875,1.03729248046875,0.88818359375,0.5264892578125,1.197021484375,1.023193359375,0.78485107421875,0.7724609375,0.89727783203125,0.294921875,0.34722900390625,0.7266845703125,0.10797119140625,0.34271240234375,0.49298095703125,1.15435791015625,0.383056640625,0.2947998046875,0.34613037109375,0.90228271484375,0.2181396484375,0.910888671875,0.4957275390625,0.0882568359375,0.6949462890625,0.07989501953125,0.068359375,0.45904541015625,0.5567626953125,-0.1336669921875,0.2955322265625,-0.02825927734375,0.10107421875,0.1263427734375,0.29022216796875,0.2978515625,0.63604736328125,0.17535400390625,-0.52996826171875,-0.04388427734375,0.340087890625,0.18499755859375,0.0289306640625,0.196533203125,0.04827880859375,0.02056884765625,0.31903076171875,0.02520751953125,-0.193359375,0.23846435546875,-0.06756591796875,0.51654052734375,-0.14447021484375,0.219970703125,-0.0518798828125,-0.26995849609375,-0.481689453125,-0.27349853515625,0.53778076171875,0.52435302734375,-0.85675048828125,-0.189453125,0.38409423828125,-0.4300537109375,-0.06982421875,-0.86090087890625,-0.3790283203125,-0.6612548828125,-0.4146728515625,-0.72808837890625,-1.24560546875,-1.12628173828125,-0.7886962890625,-0.2332763671875,-0.6094970703125,-0.421630859375,-0.4637451171875,-1.04876708984375,-0.30804443359375,-0.8284912109375,0.087158203125,-0.78131103515625,-0.37872314453125,-0.35687255859375,-0.63287353515625,-0.3170166015625,-0.95855712890625,-0.80712890625,-0.61456298828125,-0.62255859375,-0.78338623046875,-0.859619140625,-0.406494140625,-0.9180908203125,-0.07421875,-0.75213623046875,-0.7767333984375,-0.3612060546875,-0.2723388671875,-1.112548828125,-0.0888671875,-0.87420654296875,-1.444091796875,-0.77947998046875,-1.31011962890625,-0.95343017578125,-0.29974365234375,-0.3251953125,-0.93304443359375,-0.618408203125,-0.470703125,-0.54937744140625,-1.12896728515625,-1.02484130859375,-0.37322998046875,-0.27911376953125,-1.44854736328125,-0.66375732421875,0.36962890625,-0.6324462890625,-1.1837158203125,-0.1064453125,-0.076904296875,-0.4837646484375,-0.3739013671875,-0.823486328125,-0.35107421875,-1.3331298828125,-1.05377197265625,-0.9036865234375,-0.95367431640625,-1.1173095703125,-1.42193603515625,-1.03057861328125,-1.13714599609375,-0.34320068359375,0.087646484375,-0.67279052734375,-0.59423828125,-0.93353271484375,-0.30633544921875,-0.80938720703125,-0.617919921875,-1.42486572265625,-0.834716796875,-1.367919921875,-0.83843994140625,-1.04083251953125,-1.5911865234375,-1.434814453125,-1.400390625,-1.48590087890625,-1.2744140625,-0.62042236328125,-1.47357177734375,-0.0780029296875,-1.06219482421875,-1.44073486328125,-0.21905517578125,-1.02459716796875,-1.32794189453125,-0.5413818359375,-1.17889404296875,-1.4564208984375,-1.98870849609375,-0.46612548828125,-1.5390625,-0.77984619140625,-0.99505615234375,-1.06024169921875,-0.884033203125,-1.0401611328125,-0.7591552734375,-1.552734375,-0.6512451171875,-0.8052978515625,-1.475341796875,-1.34393310546875,-0.93988037109375,-1.34039306640625,-0.9013671875,-1.12969970703125,-0.38665771484375,-0.7977294921875,-0.80389404296875,-1.0013427734375,-0.51251220703125,-0.78387451171875,-1.22833251953125,-0.68243408203125,-0.91131591796875,-1.4774169921875,-0.73870849609375,-1.23370361328125,-0.5244140625,-0.15240478515625,-0.3974609375,-0.995849609375,-1.3909912109375,-1.21417236328125,-0.50103759765625,-0.906005859375,-1.563232421875,-0.70025634765625,-0.861083984375,-0.78790283203125,-0.45623779296875,-1.05511474609375,-1.31005859375,-1.22454833984375,-0.447509765625,-1.32171630859375,-0.92132568359375,-1.37579345703125,-1.05084228515625,-1.0655517578125,-1.38336181640625,-1.5706787109375,0.03167724609375,-1.0123291015625,-1.1240234375,-1.233642578125,-0.7801513671875,-0.5906982421875,-0.688232421875,-0.88671875,-1.2423095703125,-0.9425048828125,-0.59375,-0.79461669921875,-0.98663330078125,-1.30645751953125,-0.64569091796875,-0.46087646484375,-1.56597900390625,-0.16168212890625,-0.3544921875,-0.556396484375,-0.38470458984375,0.01513671875,-0.23431396484375,-0.57550048828125,-0.45318603515625,-1.08563232421875,0.117431640625,-0.31317138671875,-0.0634765625,-0.281982421875,0.2979736328125,-0.8714599609375,-0.4085693359375,-0.87176513671875,-0.45166015625,-0.5924072265625,-0.437744140625,-0.295166015625,-0.46356201171875,-0.43505859375,-0.11846923828125,-0.693359375,-0.29351806640625,-0.6842041015625,-0.50689697265625,-0.92181396484375,-0.70098876953125,-0.82867431640625,-0.533447265625,-0.5584716796875,-0.20208740234375,-0.42669677734375,-0.2767333984375,-0.523193359375,0.0272216796875,-0.1741943359375,-0.4259033203125,0.20574951171875,-0.427734375,-0.59039306640625,-1.2593994140625,-0.4864501953125,0.3763427734375,-0.18658447265625,-0.9150390625,-0.0662841796875,-0.37030029296875,0.1025390625,-0.32696533203125,-0.64459228515625,-0.58721923828125,-0.42095947265625,0.736572265625,-0.87005615234375,-0.2833251953125,0.419677734375,-0.17572021484375,0.09466552734375,-0.15545654296875,-0.46417236328125,-0.279296875,0.34796142578125,0.51434326171875,-0.18255615234375,0.30853271484375,-0.483154296875,-0.2474365234375,0.46917724609375,-0.455322265625,0.13140869140625,0.58721923828125,0.46734619140625,-0.04949951171875,0.0849609375,0.14080810546875,0.6771240234375,-0.08203125,-0.25579833984375,0.4898681640625,-0.2840576171875,0.4127197265625,0.82183837890625,0.724609375,-0.03778076171875,1.2027587890625,0.3201904296875,-0.0321044921875,-0.050048828125,0.1282958984375,0.41497802734375,0.70501708984375,-0.0411376953125,-0.313720703125,0.32476806640625,0.65264892578125,0.27337646484375,-0.06829833984375,0.6690673828125,0.32867431640625,0.2587890625,-0.39227294921875,0.45361328125,0.87322998046875,0.540771484375,0.067626953125,-0.2132568359375,0.26171875,-0.07257080078125,0.0750732421875,0.9598388671875,-0.0474853515625,1.160400390625,0.86572265625,0.62078857421875,1.212646484375,0.54266357421875,0.95172119140625,0.50323486328125,0.30364990234375,0.38330078125,0.32171630859375,1.366455078125,0.94970703125,1.65435791015625,0.19781494140625,0.78900146484375,1.01336669921875,1.30303955078125,0.32891845703125,0.41180419921875,0.15869140625,1.3604736328125,0.7852783203125,0.44189453125,0.955810546875,0.7030029296875,-0.2056884765625,0.696044921875,1.4501953125,0.6822509765625,-0.23480224609375,0.8167724609375,1.22222900390625,0.7584228515625,1.07135009765625,-0.11883544921875,0.27777099609375,1.45550537109375,1.606201171875,0.52484130859375,1.19921875,1.03704833984375,0.15594482421875,1.24200439453125,1.186279296875,0.47515869140625,1.083251953125,1.622314453125,1.58746337890625,1.31964111328125,0.6751708984375,0.543701171875,0.9892578125,0.10797119140625,1.0869140625,0.63165283203125,0.57269287109375,1.1024169921875,1.12469482421875,1.68878173828125,0.46612548828125,0.48797607421875,1.01788330078125,1.1214599609375,0.54510498046875,1.0667724609375,0.66693115234375,0.66436767578125,0.78271484375,0.82769775390625,0.85394287109375,0.94549560546875,1.178955078125,0.5577392578125,1.0360107421875,0.9814453125,0.7650146484375,0.7843017578125,1.452392578125,0.85809326171875,1.02581787109375,1.18609619140625,0.60791015625,0.56622314453125,1.03802490234375,1.1092529296875,1.29461669921875,1.1141357421875,0.01641845703125,0.62469482421875,0.80206298828125,0.60137939453125,0.97723388671875,0.6072998046875,0.63421630859375,0.74444580078125,1.68505859375,1.11529541015625,1.15283203125,1.241455078125,1.0321044921875,1.04913330078125,0.35601806640625,0.737548828125,1.331787109375,0.97076416015625,0.525634765625,0.46075439453125,0.33856201171875,1.67572021484375,1.314453125,0.91693115234375,0.732666015625,0.80169677734375,-0.01129150390625,0.45440673828125,0.56500244140625,0.8492431640625,0.89996337890625,0.6654052734375,1.38677978515625,0.7603759765625,1.27294921875,0.590576171875,1.1810302734375,0.9261474609375,0.863525390625,1.04248046875,1.3927001953125,1.1866455078125,1.52685546875,1.22235107421875,1.08917236328125,1.18389892578125,1.00555419921875,1.09710693359375,0.80035400390625,1.09478759765625,1.89501953125,0.722900390625,0.53021240234375,0.494140625,0.85150146484375,0.48175048828125,0.76226806640625,0.97283935546875,0.489990234375,0.11102294921875,0.51171875,0.995361328125,0.4481201171875,0.0604248046875,0.4808349609375,0.14764404296875,0.04833984375,1.4005126953125,-0.222900390625,0.905517578125,0.46893310546875,0.2421875,0.45343017578125,1.05419921875,1.74127197265625,0.6134033203125,0.90533447265625,-0.08697509765625,0.33038330078125,0.73834228515625,0.515380859375,-0.1617431640625,-0.54302978515625,0.69378662109375,-0.3175048828125,0.731201171875,0.2320556640625,1.0726318359375,0.6402587890625,0.09649658203125,0.392578125,-0.04388427734375,-0.1693115234375,0.4483642578125,0.4229736328125,-0.01116943359375,0.32373046875,0.5994873046875,0.10272216796875,-0.26123046875,-0.85174560546875,-0.25970458984375,-0.25653076171875,-0.27093505859375,0.397705078125,0.15521240234375,0.3458251953125,-0.136474609375,-0.06939697265625,-0.09954833984375,0.44793701171875,-0.11737060546875,0.15576171875,-0.27423095703125,0.17950439453125,-0.10113525390625,-0.71575927734375,0.064208984375,0.6043701171875,-0.08001708984375,0.492431640625,-0.00347900390625,-0.08233642578125,-0.29010009765625,0.01629638671875,-0.580078125,0.27862548828125,0.1485595703125,-1.2373046875,-0.05865478515625,-0.3228759765625,-1.4537353515625,0.3514404296875,-0.11383056640625,-0.2255859375,-0.23175048828125,-0.5211181640625,-0.8992919921875,0.2874755859375,-1.202392578125,0.1241455078125,-0.46966552734375,-0.80755615234375,-0.2327880859375,-0.471435546875,-0.67291259765625,0.30242919921875,-0.18890380859375,-0.47271728515625,-0.9224853515625,0.11810302734375,-0.4833984375,-0.89923095703125,-0.779296875,-0.26824951171875,-0.756103515625,-0.233154296875,-1.4307861328125,-0.57568359375,-0.85614013671875,-0.9891357421875,-0.3548583984375,-0.5667724609375,-0.802978515625,-0.44873046875,-0.61883544921875,-0.110595703125,-0.26629638671875,-1.43365478515625,-0.81475830078125,-0.98577880859375,-0.60498046875,-0.60687255859375,-0.253662109375,-0.85400390625,-0.77789306640625,-0.52935791015625,-0.36273193359375,-0.84588623046875,-1.63262939453125,-1.21856689453125,-0.77313232421875,-0.54638671875,-0.8248291015625,-0.8751220703125,-0.19140625,-0.921630859375,-0.2567138671875,-0.5267333984375,-0.671142578125,-0.80322265625,0.1263427734375,-1.24176025390625,-0.8031005859375,-0.76812744140625,-0.7857666015625,-0.78619384765625,-1.01446533203125,-1.25921630859375,-0.24749755859375,-0.867919921875,-0.33392333984375,-0.66552734375,-0.55853271484375,-0.54852294921875,-0.55743408203125,-1.020263671875,-0.95855712890625,-0.977294921875,-0.918701171875,-1.53375244140625,-1.86798095703125,-1.3260498046875,-1.361083984375,-1.3349609375,-0.97369384765625,-0.9970703125,-0.58819580078125,-0.74896240234375,-1.7254638671875,-0.88104248046875,-1.40411376953125,-0.34796142578125,-1.21502685546875,-1.25958251953125,-0.9139404296875,-1.89764404296875,-0.8836669921875,-0.81048583984375,-1.05548095703125,-1.0673828125,-0.51617431640625,-1.13079833984375,-0.94256591796875,-0.832275390625,-0.9439697265625,-1.5775146484375,-1.056640625,-1.7401123046875,-0.9273681640625,-0.499267578125,-0.77752685546875,-1.36566162109375,-1.09674072265625,-0.77880859375,-1.20440673828125,-0.60052490234375,-0.7996826171875,-1.35906982421875,-1.1322021484375,-0.50518798828125,-0.94744873046875,-0.78350830078125,-0.87921142578125,-1.23992919921875,-1.2454833984375,-0.89837646484375,-1.19171142578125,-0.97216796875,-1.15093994140625,-0.02783203125,-1.067626953125,-1.5697021484375,-1.78448486328125,-0.62408447265625,-1.019775390625,-0.853271484375,-0.61676025390625,-0.787353515625,-0.40899658203125,-0.51092529296875,-1.25531005859375,-1.130859375,-1.17083740234375,-0.602783203125,-0.82855224609375,-0.92327880859375,-1.15069580078125,-1.39996337890625,-1.5123291015625,-1.30084228515625,-0.6072998046875,-1.42047119140625,-0.9053955078125,-0.6884765625,-1.307373046875,-1.3704833984375,-0.9466552734375,-0.939697265625,-0.8916015625,-0.6778564453125,0.1092529296875,-1.08642578125,-0.64617919921875,-0.49542236328125,-0.85723876953125,-1.31903076171875,-0.40521240234375,-1.39312744140625,-0.79498291015625,-0.873046875,-0.270751953125,-0.90472412109375,-0.3125,-1.54583740234375,-0.16632080078125,-0.29010009765625,0.09942626953125,-1.191650390625,0.10186767578125,0.04150390625,-0.737548828125,-0.1849365234375,-1.7230224609375,-0.1165771484375,-0.14178466796875,-0.923828125,-0.2037353515625,-0.468994140625,-0.827392578125,-0.92401123046875,-0.02392578125,0.05828857421875,-0.640625,-0.84381103515625,-0.5225830078125,-0.45074462890625,-0.57220458984375,-0.65362548828125,-0.04840087890625,-0.440673828125,-0.8656005859375,-0.08245849609375,-0.54974365234375,0.3292236328125,-0.136962890625,-0.3990478515625,-0.1600341796875,-0.8385009765625,-0.33087158203125,-0.5517578125,0.67083740234375,-0.0382080078125,-0.2188720703125,-0.3248291015625,0.04241943359375,-0.3046875,-0.5052490234375,-0.55926513671875,0.01123046875,-0.08770751953125,0.10150146484375,-0.29620361328125,-0.51910400390625,0.131103515625,0.32232666015625,-0.2056884765625,-0.434814453125,0.20806884765625,-0.07672119140625,-0.12615966796875,-0.17266845703125,-0.23095703125,0.03057861328125,0.13787841796875,0.70025634765625,0.46282958984375,-0.335693359375,0.1334228515625,0.29193115234375,-0.234130859375,-0.12493896484375,0.09356689453125,0.40435791015625,0.84942626953125,0.4345703125,0.47967529296875,0.3074951171875,0.22705078125,-0.07513427734375,-0.4232177734375,-0.7655029296875,0.3052978515625,0.12164306640625,0.36767578125,0.02960205078125,-0.2264404296875,0.3363037109375,-0.3709716796875,0.612548828125,0.3875732421875,0.17132568359375,0.01849365234375,0.3656005859375,0.299072265625,0.60552978515625,-0.16522216796875,0.85931396484375,0.60552978515625,0.6983642578125,0.12408447265625,0.64892578125,0.55841064453125,0.88671875,0.79559326171875,0.399658203125,1.187255859375,0.1260986328125,1.693359375,0.71258544921875,0.0072021484375,0.9207763671875,0.6092529296875,-0.010986328125,0.56396484375,0.43914794921875,0.414794921875,0.77117919921875,0.58111572265625,0.56671142578125,0.77825927734375,0.1337890625,0.59124755859375,1.536376953125,0.291015625,1.08306884765625,0.30474853515625,1.06829833984375,0.01190185546875,0.66534423828125,0.06622314453125,-0.17510986328125,1.02587890625,0.7027587890625,0.8824462890625,0.884765625,1.037353515625,0.5257568359375,0.9300537109375,0.366943359375,0.90185546875,0.8302001953125,0.49810791015625,0.4471435546875,0.97076416015625,0.7047119140625,0.89654541015625,0.92315673828125,0.85443115234375,0.94915771484375,0.692138671875,1.99993896484375,1.00927734375,1.44866943359375,1.39324951171875,1.62481689453125,0.984619140625,0.40875244140625,1.382568359375,1.944580078125,0.40728759765625,0.83721923828125,1.4002685546875,0.450439453125,0.650390625,1.14849853515625,0.9541015625,1.67022705078125,0.72357177734375,1.1102294921875,1.18280029296875,1.22149658203125,1.66778564453125,1.74237060546875,0.94366455078125,1.4832763671875,1.09979248046875,0.9310302734375,0.95697021484375,1.15899658203125,0.84619140625,0.66851806640625,1.43646240234375,1.38299560546875,1.454833984375,0.8936767578125,1.1175537109375,1.4404296875,0.8431396484375,0.6104736328125,0.949462890625,0.81610107421875,0.94232177734375,0.83062744140625,0.45458984375,1.17462158203125,1.03460693359375,0.5628662109375,0.37518310546875,1.2694091796875,0.70391845703125,1.54608154296875,0.71856689453125,1.38946533203125,1.02264404296875,1.0550537109375,1.58001708984375,1.17657470703125,0.8603515625,1.00006103515625,0.4755859375,0.698486328125,1.0653076171875,1.27764892578125,0.84527587890625,0.939208984375,0.195556640625,1.05377197265625,1.036376953125,1.20050048828125,0.54803466796875,1.13323974609375,0.97802734375,0.80169677734375,0.818603515625,0.17523193359375,0.76605224609375,1.02813720703125,1.07476806640625,1.0821533203125,0.92779541015625,0.3358154296875,0.34967041015625,0.7100830078125,0.30126953125,0.833740234375,0.5013427734375,0.5364990234375,0.717529296875,1.001953125,1.0098876953125,0.8756103515625,0.55224609375,1.08563232421875,0.72589111328125,0.79473876953125,1.11834716796875,0.02874755859375,0.77496337890625,0.84722900390625,0.859375,1.095458984375,0.74163818359375,0.1923828125,0.93841552734375,1.48712158203125,0.45172119140625,0.63836669921875,0.997314453125,0.03973388671875,0.63037109375,0.180908203125,0.4471435546875,0.9876708984375,0.8143310546875,0.49920654296875,0.298828125,1.2501220703125,0.151611328125,0.147216796875,0.65789794921875,0.35400390625,0.60186767578125,0.34326171875,0.91314697265625,0.3536376953125,0.26470947265625,0.34515380859375,-0.09783935546875,0.78912353515625,0.336669921875,0.8992919921875,-0.06109619140625,-0.01324462890625,0.4940185546875,-0.499267578125,0.0040283203125,0.6014404296875,0.4171142578125,0.63214111328125,0.33154296875,-0.18353271484375,-0.1409912109375,0.1734619140625,-0.0194091796875,-0.15618896484375,0.25341796875,0.5257568359375,0.49725341796875,0.14453125,-0.62078857421875,0.73248291015625,-0.08660888671875,0.18511962890625,0.588134765625,0.38275146484375,0.7633056640625,0.170166015625,-0.00640869140625,0.00250244140625,0.25994873046875,-0.13201904296875,0.21337890625,0.08172607421875,0.12042236328125,0.21868896484375,0.77447509765625,0.520751953125,-0.1500244140625,0.04254150390625,-0.666259765625,-1.07720947265625,0.27655029296875,-0.76519775390625,-1.70880126953125,0.54443359375,-0.64031982421875,-0.6346435546875,0.1318359375,-1.17584228515625,0.3983154296875,-0.7174072265625,-0.4234619140625,0.19964599609375,-0.65087890625,-0.68829345703125,-0.6378173828125,-0.9554443359375,-0.9298095703125,-0.617431640625,-0.7943115234375,-0.25384521484375,-0.26165771484375,-0.3035888671875,-0.161376953125,0.03753662109375,-0.09991455078125,-1.13958740234375,-0.64752197265625,0.2489013671875,-0.05523681640625,-0.3466796875,-1.04327392578125,-0.62158203125,-0.60174560546875,0.070556640625,-0.816650390625,-0.0836181640625,-0.90576171875,-0.55926513671875,-0.5526123046875,-0.7342529296875,-0.6546630859375,-0.892333984375,-0.46240234375,-0.49481201171875,-0.848876953125,-0.70428466796875,-0.39801025390625,-0.25177001953125,-0.56732177734375,-0.220703125,-0.70550537109375,-0.953857421875,-0.900390625,-0.10357666015625,-0.43365478515625,-0.82904052734375,-0.21453857421875,-0.12481689453125,-0.17901611328125,-1.41229248046875,-0.6533203125,-0.5802001953125,-1.3394775390625,-0.47705078125,-1.284423828125,-0.7791748046875,-0.4998779296875,-1.089599609375,-0.99169921875,-0.7681884765625,-0.58990478515625,-0.6302490234375,-0.50933837890625,-1.2593994140625,-1.00152587890625,-0.47540283203125,-0.09906005859375,-0.68353271484375,-0.664794921875,-0.85101318359375,-1.8603515625,-0.25579833984375,-1.31170654296875,-0.75323486328125,-1.250732421875,-0.98931884765625,-1.121826171875,-1.273681640625,-0.43707275390625,-1.55255126953125,-0.3157958984375,-0.885009765625,-1.47412109375,-1.09576416015625,-0.30908203125,-0.71319580078125,-0.50823974609375,-1.9344482421875,-0.23114013671875,-0.00372314453125,-0.81378173828125,-1.15936279296875,-0.67120361328125,-0.6756591796875,-1.42547607421875,-0.4788818359375,-1.02093505859375,-0.82403564453125,-0.98828125,-1.00103759765625,-1.24603271484375,-1.26678466796875,-0.572509765625,-0.4859619140625,-1.6864013671875,-0.4013671875,-1.3411865234375,-0.2672119140625,-0.869873046875,-0.24285888671875,-0.83099365234375,-1.19146728515625,-0.74951171875,-0.32989501953125,-1.47064208984375,-0.8192138671875,-0.91717529296875,-0.8958740234375,-1.00079345703125,-0.82733154296875,-1.44366455078125,-0.54180908203125,-0.82244873046875,-0.9896240234375,-0.78900146484375,-0.99493408203125,-1.2890625,-0.85357666015625,-1.73095703125,-1.006591796875,0.1383056640625,-0.71710205078125,-1.50787353515625,-0.679443359375,-1.375244140625,-1.21881103515625,-1.937255859375,-0.58819580078125,-0.77166748046875,-0.28070068359375,-1.11328125,-0.42376708984375,-0.303466796875,-0.09075927734375,-0.49700927734375,-0.61309814453125,-0.91607666015625,-0.9010009765625,-0.41754150390625,-0.7210693359375,-0.84429931640625,-1.3658447265625,-0.9833984375,-1.043701171875,-0.1531982421875,-1.3963623046875,-1.067138671875,-0.6435546875,-1.0323486328125,-1.0767822265625,-0.6533203125,-0.42108154296875,-0.73077392578125,-0.36505126953125,-1.16571044921875,-1.11468505859375,-0.51324462890625,-1.08941650390625,-1.04345703125,-0.751708984375,-1.49066162109375,-0.84619140625,-0.31976318359375,-1.17120361328125,-0.76080322265625,-0.70477294921875,-0.755126953125,-0.75067138671875,-0.5341796875,-0.788818359375,-0.6488037109375,-0.4881591796875,-0.1947021484375,-1.14617919921875,-0.51220703125,-0.5699462890625,-0.514404296875,-1.351318359375,-0.38787841796875,-0.66357421875,-0.08184814453125,-0.64794921875,-0.75836181640625,-0.8375244140625,-0.28570556640625,-1.06634521484375,-0.52667236328125,0.54144287109375,-0.185302734375,-0.3074951171875,-0.40032958984375,-0.13421630859375,-1.0989990234375,-0.131103515625,-1.2452392578125,0.5787353515625,-0.4180908203125,-1.18438720703125,0.92578125,-0.09381103515625,-0.2144775390625,-0.2384033203125,-1.1119384765625,-0.83062744140625,0.482421875,-0.1614990234375,-0.13006591796875,-0.2607421875,-0.77960205078125,0.08636474609375,-0.32696533203125,0.90716552734375,-0.152099609375,0.30474853515625,0.2547607421875,0.052490234375,-0.15911865234375,0.10638427734375,-0.18963623046875,0.42840576171875,0.1015625,0.82452392578125,-0.14776611328125,0.30084228515625,-0.14605712890625,0.236572265625,0.1158447265625,-0.00592041015625,0.198974609375,0.62213134765625,0.03839111328125,-0.37738037109375,0.75079345703125,0.1044921875,-0.23760986328125,-0.3468017578125,-0.7099609375,0.16021728515625,-0.0233154296875,0.3101806640625,0.1837158203125,-0.42474365234375,-0.10400390625,-0.09881591796875,0.2965087890625,0.6507568359375,0.3082275390625,0.584228515625,0.1947021484375,0.58782958984375,0.87786865234375,1.4442138671875,-0.591064453125,-0.04241943359375,0.04718017578125,0.39056396484375,0.11920166015625,0.4791259765625,0.11334228515625,0.70263671875,0.87481689453125,0.43310546875,0.22332763671875,0.396240234375,1.140869140625,0.2100830078125,1.208984375,0.99871826171875,0.6580810546875,0.4876708984375,0.4246826171875,0.136962890625,0.92578125,0.24725341796875,0.149658203125,0.19061279296875,0.60992431640625,1.10089111328125,1.52288818359375,0.82958984375,0.90277099609375,1.152587890625,0.4638671875,1.25982666015625,0.41998291015625,1.15325927734375,0.66961669921875,1.25811767578125,0.81768798828125,0.42303466796875,0.12060546875,0.6607666015625,1.3399658203125,1.46142578125,1.584716796875,1.2117919921875,1.1136474609375,0.429443359375,0.51025390625,0.9293212890625,1.15484619140625,0.3133544921875,1.49273681640625,0.8375244140625,0.63824462890625,1.51495361328125,1.50970458984375,-0.01666259765625,1.411865234375,0.77337646484375,0.90966796875,0.87054443359375,0.42987060546875,1.01446533203125,1.435302734375,0.46832275390625,1.449462890625,0.715576171875,1.07916259765625,1.16339111328125,0.4720458984375,1.015380859375,1.66845703125,0.48297119140625,1.45703125,0.82061767578125,1.16497802734375,1.5526123046875,0.89373779296875,1.14532470703125,0.92559814453125,0.65447998046875,0.57012939453125,1.0672607421875,0.66424560546875,0.4510498046875,0.95404052734375,1.50518798828125,1.39111328125,0.83160400390625,0.23187255859375,0.13836669921875,1.155029296875,0.6300048828125,0.3563232421875,0.35009765625,1.3890380859375,0.1646728515625,1.489990234375,1.00360107421875,0.81927490234375,0.59869384765625,0.76513671875,1.17218017578125,0.99749755859375,0.4085693359375,0.81951904296875,0.4246826171875,1.68682861328125,0.32244873046875,0.85870361328125,1.38409423828125,1.08270263671875,1.2503662109375,0.55267333984375,1.11651611328125,0.861328125,1.20074462890625,0.97314453125,0.864013671875,1.0418701171875,1.05596923828125,0.74810791015625,0.882568359375,0.653564453125,0.88238525390625,1.552978515625,0.36456298828125,1.22283935546875,0.85540771484375,1.2353515625,1.48626708984375,0.682373046875,1.31292724609375,1.17230224609375,0.53302001953125,0.62261962890625,0.5626220703125,0.95806884765625,1.1263427734375,0.78326416015625,0.9254150390625,0.7001953125,0.159423828125,0.7645263671875,1.1756591796875,0.705810546875,-0.00537109375,0.2955322265625,0.8287353515625,0.64404296875,0.15008544921875,1.26397705078125,1.03546142578125,1.35174560546875,1.79144287109375,0.40728759765625,1.20465087890625,0.064453125,-0.295654296875,1.53656005859375,0.1162109375,1.10491943359375,0.25958251953125,0.14410400390625,0.71209716796875,0.670166015625,1.18572998046875,1.0224609375,1.349853515625,0.5936279296875,0.5999755859375,1.3353271484375,1.04998779296875,0.71728515625,0.8262939453125,0.621337890625,0.513427734375,0.15301513671875,0.3056640625,0.15167236328125,0.40380859375,0.62261962890625,0.5313720703125,0.61968994140625,-0.08648681640625,0.30157470703125,-0.58685302734375,-0.507080078125,-0.1373291015625,0.03314208984375,0.50091552734375,0.0550537109375,0.529052734375,0.5679931640625,-0.0587158203125,0.1671142578125,0.72540283203125,-0.13916015625,0.31060791015625,0.0220947265625,0.3516845703125,1.0992431640625,-0.17376708984375,-0.1171875,0.3782958984375,0.51434326171875,-0.40625,1.18389892578125,0.48590087890625,0.19561767578125,0.62994384765625,0.308837890625,0.53607177734375,-0.0369873046875,-0.440185546875,0.00189208984375,0.74566650390625,0.27215576171875,0.19073486328125,0.36083984375,-0.00469970703125,-0.09344482421875,-0.28863525390625,-0.15570068359375,-0.113525390625,-0.5689697265625,0.34918212890625,-0.239013671875,-1.09088134765625,-0.21905517578125,0.06585693359375,-0.09014892578125,-0.1533203125,-0.27703857421875,-0.3948974609375,-0.35400390625,-0.29840087890625,-0.7452392578125,-0.3453369140625,0.0643310546875,-0.04254150390625,-0.3818359375,-0.07061767578125,-0.5948486328125,0.5557861328125,-0.2891845703125,-0.335693359375,-0.3280029296875,0.22711181640625,-0.10784912109375,-0.4085693359375,-0.388916015625,-0.78131103515625,-1.21807861328125,-0.19671630859375,-1.06011962890625,-0.4034423828125,-0.36724853515625,-0.34521484375,-0.65557861328125,-0.6103515625,-0.82537841796875,-0.674560546875,-0.797119140625,-0.8238525390625,-0.3291015625,0.02520751953125,-0.8597412109375,0.0230712890625,-0.3646240234375,-0.884033203125,-0.70166015625,-0.98455810546875,-0.167236328125,-0.22137451171875,-0.14752197265625,-0.09014892578125,-0.02337646484375,-1.2373046875,-0.73431396484375,-0.335205078125,-0.84228515625,-0.21783447265625,-0.44244384765625,-1.42132568359375,-0.52459716796875,-0.45098876953125,-0.46124267578125,-0.10174560546875,-0.82763671875,-0.6744384765625,-0.4561767578125,-1.0205078125,-0.957763671875,-0.1888427734375,-1.7010498046875,-1.462158203125,-0.341796875,-0.8536376953125,-0.59478759765625,-1.5584716796875,-0.70318603515625,-0.5758056640625,-1.03619384765625,-0.63018798828125,-1.04241943359375,-0.27874755859375,-1.563720703125,-1.01654052734375,-0.54345703125,-0.92083740234375,-0.13494873046875,-1.07403564453125,-0.680419921875,-0.17388916015625,-1.307373046875,-1.891357421875,-0.71099853515625,-1.25811767578125,-0.5115966796875,-0.754638671875,0.10693359375,-1.41021728515625,-0.94970703125,-1.84454345703125,-1.66302490234375,-0.9637451171875,-0.16180419921875,-0.91827392578125,-1.15362548828125,-0.83465576171875,-1.49151611328125,-1.1234130859375,-0.51629638671875,-0.6014404296875,-1.54632568359375,-0.25811767578125,-1.05615234375,-0.56842041015625,-1.24066162109375,-0.92840576171875,-1.871337890625,-1.2305908203125,-1.7635498046875,-0.68798828125,-1.6678466796875,-1.4884033203125,-0.969970703125,-0.92938232421875,-1.11273193359375,-0.31109619140625,-0.59912109375,-1.37677001953125,-1.45648193359375,-1.5364990234375,-1.15740966796875,-1.2435302734375,-1.69122314453125,-0.94744873046875,-1.09942626953125,-0.86846923828125,-0.95184326171875,-0.8094482421875,-0.70452880859375,-0.87579345703125,-0.58154296875,-0.99615478515625,-1.22021484375,-0.649169921875,-1.2615966796875,-0.75421142578125,-1.84478759765625,-0.801513671875,-1.581787109375,-0.99029541015625,-0.871337890625,-1.18731689453125,-1.36053466796875,-0.48773193359375,-0.91064453125,-1.43841552734375,-0.884033203125,-0.53363037109375,-1.45111083984375,-1.14678955078125,-0.96197509765625,-1.0928955078125,-1.16705322265625,-0.2288818359375,0.35638427734375,-0.3990478515625,-0.47802734375,-0.864013671875,-0.6517333984375,-1.1239013671875,-0.512939453125,-1.10546875,-0.1324462890625,-1.1798095703125,-0.36279296875,-1.36639404296875,-1.16632080078125,-1.14971923828125,-0.48260498046875,-0.85443115234375,-0.96051025390625,-0.92388916015625,-0.63720703125,-0.234619140625,-1.12542724609375,-1.51123046875,-0.69769287109375,-0.10186767578125,-1.25543212890625,-0.93182373046875,-0.198974609375,-1.16619873046875,-0.2861328125,-1.020263671875,-0.5374755859375,-0.5609130859375,-1.0404052734375,-0.96746826171875,-0.9501953125,-0.8409423828125,-0.392333984375,-0.673583984375,-0.29315185546875,-0.39501953125,-0.91876220703125,-0.53515625,-0.41949462890625,-0.1925048828125,-1.24468994140625,0.17974853515625,-0.63360595703125,-0.93756103515625,-0.627197265625,0.1954345703125,-0.91497802734375,-0.91204833984375,-1.2567138671875,-0.933349609375,-0.0557861328125,-0.3768310546875,-0.1075439453125,-0.65655517578125,0.4921875,0.46185302734375,-0.2335205078125,0.0218505859375,0.3753662109375,0.54193115234375,-0.611328125,-0.5794677734375,-0.25946044921875,0.0185546875,-0.81866455078125,-0.10992431640625,0.13543701171875,-0.50494384765625,0.088134765625,-0.35003662109375,0.0018310546875,0.480712890625,-0.38909912109375,0.60589599609375,0.43536376953125,-0.13409423828125]]]}}},\"view\":{\"type\":\"object\",\"name\":\"CDSView\",\"id\":\"p2521\",\"attributes\":{\"filter\":{\"type\":\"object\",\"name\":\"AllIndices\",\"id\":\"p2522\"}}},\"glyph\":{\"type\":\"object\",\"name\":\"Line\",\"id\":\"p2517\",\"attributes\":{\"x\":{\"type\":\"field\",\"field\":\"x\"},\"y\":{\"type\":\"field\",\"field\":\"y\"},\"line_color\":\"red\"}},\"nonselection_glyph\":{\"type\":\"object\",\"name\":\"Line\",\"id\":\"p2518\",\"attributes\":{\"x\":{\"type\":\"field\",\"field\":\"x\"},\"y\":{\"type\":\"field\",\"field\":\"y\"},\"line_color\":\"red\",\"line_alpha\":0.1}},\"muted_glyph\":{\"type\":\"object\",\"name\":\"Line\",\"id\":\"p2519\",\"attributes\":{\"x\":{\"type\":\"field\",\"field\":\"x\"},\"y\":{\"type\":\"field\",\"field\":\"y\"},\"line_color\":\"red\",\"line_alpha\":0.2}}}},{\"type\":\"object\",\"name\":\"GlyphRenderer\",\"id\":\"p2531\",\"attributes\":{\"data_source\":{\"type\":\"object\",\"name\":\"ColumnDataSource\",\"id\":\"p2525\",\"attributes\":{\"selected\":{\"type\":\"object\",\"name\":\"Selection\",\"id\":\"p2526\",\"attributes\":{\"indices\":[],\"line_indices\":[]}},\"selection_policy\":{\"type\":\"object\",\"name\":\"UnionRenderers\",\"id\":\"p2527\"},\"data\":{\"type\":\"map\",\"entries\":[[\"x\",{\"type\":\"ndarray\",\"array\":{\"type\":\"bytes\",\"data\":\"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\"},\"shape\":[2000],\"dtype\":\"float64\",\"order\":\"little\"}],[\"y\",{\"type\":\"ndarray\",\"array\":{\"type\":\"bytes\",\"data\":\"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\"},\"shape\":[2000],\"dtype\":\"float64\",\"order\":\"little\"}]]}}},\"view\":{\"type\":\"object\",\"name\":\"CDSView\",\"id\":\"p2532\",\"attributes\":{\"filter\":{\"type\":\"object\",\"name\":\"AllIndices\",\"id\":\"p2533\"}}},\"glyph\":{\"type\":\"object\",\"name\":\"Line\",\"id\":\"p2528\",\"attributes\":{\"x\":{\"type\":\"field\",\"field\":\"x\"},\"y\":{\"type\":\"field\",\"field\":\"y\"},\"line_color\":\"blue\",\"line_width\":3}},\"nonselection_glyph\":{\"type\":\"object\",\"name\":\"Line\",\"id\":\"p2529\",\"attributes\":{\"x\":{\"type\":\"field\",\"field\":\"x\"},\"y\":{\"type\":\"field\",\"field\":\"y\"},\"line_color\":\"blue\",\"line_alpha\":0.1,\"line_width\":3}},\"muted_glyph\":{\"type\":\"object\",\"name\":\"Line\",\"id\":\"p2530\",\"attributes\":{\"x\":{\"type\":\"field\",\"field\":\"x\"},\"y\":{\"type\":\"field\",\"field\":\"y\"},\"line_color\":\"blue\",\"line_alpha\":0.2,\"line_width\":3}}}}],\"toolbar\":{\"type\":\"object\",\"name\":\"Toolbar\",\"id\":\"p2494\",\"attributes\":{\"tools\":[{\"type\":\"object\",\"name\":\"PanTool\",\"id\":\"p2507\"},{\"type\":\"object\",\"name\":\"WheelZoomTool\",\"id\":\"p2508\",\"attributes\":{\"renderers\":\"auto\"}},{\"type\":\"object\",\"name\":\"BoxZoomTool\",\"id\":\"p2509\",\"attributes\":{\"overlay\":{\"type\":\"object\",\"name\":\"BoxAnnotation\",\"id\":\"p2510\",\"attributes\":{\"syncable\":false,\"level\":\"overlay\",\"visible\":false,\"left_units\":\"canvas\",\"right_units\":\"canvas\",\"top_units\":\"canvas\",\"bottom_units\":\"canvas\",\"line_color\":\"black\",\"line_alpha\":1.0,\"line_width\":2,\"line_dash\":[4,4],\"fill_color\":\"lightgrey\",\"fill_alpha\":0.5}}}},{\"type\":\"object\",\"name\":\"SaveTool\",\"id\":\"p2511\"},{\"type\":\"object\",\"name\":\"ResetTool\",\"id\":\"p2512\"},{\"type\":\"object\",\"name\":\"HelpTool\",\"id\":\"p2513\"}]}},\"left\":[{\"type\":\"object\",\"name\":\"LinearAxis\",\"id\":\"p2502\",\"attributes\":{\"ticker\":{\"type\":\"object\",\"name\":\"BasicTicker\",\"id\":\"p2503\",\"attributes\":{\"mantissas\":[1,2,5]}},\"formatter\":{\"type\":\"object\",\"name\":\"BasicTickFormatter\",\"id\":\"p2504\"},\"major_label_policy\":{\"type\":\"object\",\"name\":\"AllLabels\",\"id\":\"p2505\"}}}],\"below\":[{\"type\":\"object\",\"name\":\"LinearAxis\",\"id\":\"p2497\",\"attributes\":{\"ticker\":{\"type\":\"object\",\"name\":\"BasicTicker\",\"id\":\"p2498\",\"attributes\":{\"mantissas\":[1,2,5]}},\"formatter\":{\"type\":\"object\",\"name\":\"BasicTickFormatter\",\"id\":\"p2499\"},\"major_label_policy\":{\"type\":\"object\",\"name\":\"AllLabels\",\"id\":\"p2500\"}}}],\"center\":[{\"type\":\"object\",\"name\":\"Grid\",\"id\":\"p2501\",\"attributes\":{\"axis\":{\"id\":\"p2497\"}}},{\"type\":\"object\",\"name\":\"Grid\",\"id\":\"p2506\",\"attributes\":{\"dimension\":1,\"axis\":{\"id\":\"p2502\"}}},{\"type\":\"object\",\"name\":\"Legend\",\"id\":\"p2523\",\"attributes\":{\"items\":[{\"type\":\"object\",\"name\":\"LegendItem\",\"id\":\"p2524\",\"attributes\":{\"label\":{\"type\":\"value\",\"value\":\"Output Signal\"},\"renderers\":[{\"id\":\"p2520\"}]}},{\"type\":\"object\",\"name\":\"LegendItem\",\"id\":\"p2534\",\"attributes\":{\"label\":{\"type\":\"value\",\"value\":\"Input Signal\"},\"renderers\":[{\"id\":\"p2531\"}]}}]}}]}}]}};\n",
       "  const render_items = [{\"docid\":\"29a0a207-3d16-41de-b7fc-aa2200021c1d\",\"roots\":{\"p2485\":\"d4d7b035-31b1-4f0f-8a51-efddca51e420\"},\"root_ids\":[\"p2485\"]}];\n",
       "  root.Bokeh.embed.embed_items_notebook(docs_json, render_items);\n",
       "  }\n",
       "  if (root.Bokeh !== undefined) {\n",
       "    embed_document(root);\n",
       "  } else {\n",
       "    let attempts = 0;\n",
       "    const timer = setInterval(function(root) {\n",
       "      if (root.Bokeh !== undefined) {\n",
       "        clearInterval(timer);\n",
       "        embed_document(root);\n",
       "      } else {\n",
       "        attempts++;\n",
       "        if (attempts > 100) {\n",
       "          clearInterval(timer);\n",
       "          console.log(\"Bokeh: ERROR: Unable to run BokehJS code because BokehJS library is missing\");\n",
       "        }\n",
       "      }\n",
       "    }, 10, root)\n",
       "  }\n",
       "})(window);"
      ],
      "application/vnd.bokehjs_exec.v0+json": ""
     },
     "metadata": {
      "application/vnd.bokehjs_exec.v0+json": {
       "id": "p2485"
      }
     },
     "output_type": "display_data"
    }
   ],
   "source": [
    "awgn_gain = 0.4\n",
    "\n",
    "# Generate input samples\n",
    "fin_tBits, fin_fBits = kria.get_format(awgn,awgn_regmap.RegMap.F_IN_ADDR)\n",
    "fout_tBits, fout_fBits = kria.get_format(awgn,awgn_regmap.RegMap.F_OUT_ADDR)\n",
    "awgn_tBits, awgn_fBits = kria.get_format(awgn,awgn_regmap.RegMap.F_AWGN_ADDR)\n",
    "\n",
    "#n = 1024\n",
    "#samples = np.ones(n) * 2**(fin_fBits)\n",
    "#samples = samples.astype(np.int32)\n",
    "\n",
    "# Create Sine Wave\n",
    "T = 0.00002\n",
    "# Sampling frequency\n",
    "fs = 100e6\n",
    "# Number of samples\n",
    "n = int(T * fs)\n",
    "# Time vector in seconds\n",
    "t = np.linspace(0, T, n, endpoint=False)\n",
    "# Samples of the signal\n",
    "samples = np.sin(0.2e6*2*np.pi*t) \n",
    "# Convert samples to 32-bit integers\n",
    "print('Number of samples: ',len(samples))\n",
    "samples = samples * 2**(fin_fBits)\n",
    "samples = samples.astype(np.int32)\n",
    "#plot_time(samples)\n",
    "\n",
    "# Read Gain Register\n",
    "\n",
    "awgn.write(awgn_regmap.RegMap.AWGN_NOISE_GAIN_ADDR,int(awgn_gain*(2**awgn_fBits)))\n",
    "awgn.write(awgn_regmap.RegMap.AWGN_ENABLE_ADDR,1)\n",
    "\n",
    "\n",
    "print(\"AWGN Gain           : \" + str(awgn.read(awgn_regmap.RegMap.AWGN_NOISE_GAIN_ADDR)/(2**awgn_fBits)))\n",
    "print(\"AWGN Enable         : \" + str(awgn.read(awgn_regmap.RegMap.AWGN_ENABLE_ADDR)))\n",
    "print(\"DMA Transfer Size   : \" + str(len(samples)))\n",
    "\n",
    "# Allocate buffers for the input and output signals\n",
    "in_buffer = allocate(shape=(len(samples),), dtype=np.int32)\n",
    "out_buffer = allocate(shape=(len(samples),), dtype=np.int32)\n",
    "\n",
    "# Copy the samples to the in_buffer\n",
    "np.copyto(in_buffer,samples)\n",
    "\n",
    "# Trigger the DMA transfer and wait for the result\n",
    "import time\n",
    "start_time = time.time()\n",
    "dma.sendchannel.transfer(in_buffer)\n",
    "#print('Submit sending the transfer into in_buffer')\n",
    "dma.recvchannel.transfer(out_buffer)\n",
    "#print('Submit receiving the transfer from out_buffer')\n",
    "dma.sendchannel.wait()\n",
    "#print('Done Sending the transfer to in_buffer')\n",
    "dma.recvchannel.wait()\n",
    "#print('Done receiving the transfer from out_buffer')\n",
    "stop_time = time.time()\n",
    "hw_exec_time = stop_time-start_time\n",
    "\n",
    "print('DMA Transfer Execution Time  :',hw_exec_time,' sec')\n",
    "\n",
    "# Plot to the notebook\n",
    "#plot_time(t,samples,2000,out_signal=out_buffer)\n",
    "\n",
    "# Free the buffers\n",
    "in_buffer.close()\n",
    "out_buffer.close()\n",
    "t = (out_buffer & 0xFFFF)\n",
    "out_fp = []\n",
    "for x in t:\n",
    "    if(x>(2**(fout_tBits-1))):\n",
    "          x = x - (2**(fout_tBits))\n",
    "    out_fp.append(x/(2**fout_fBits))\n",
    "plot_time(samples/(2**fout_fBits),out_fp)"
   ]
  },
  {
   "cell_type": "code",
   "execution_count": 94,
   "metadata": {},
   "outputs": [],
   "source": [
    "del in_buffer, out_buffer"
   ]
  },
  {
   "cell_type": "code",
   "execution_count": null,
   "metadata": {},
   "outputs": [],
   "source": []
  }
 ],
 "metadata": {
  "kernelspec": {
   "display_name": "Python 3 (ipykernel)",
   "language": "python",
   "name": "python3"
  },
  "language_info": {
   "codemirror_mode": {
    "name": "ipython",
    "version": 3
   },
   "file_extension": ".py",
   "mimetype": "text/x-python",
   "name": "python",
   "nbconvert_exporter": "python",
   "pygments_lexer": "ipython3",
   "version": "3.10.12"
  }
 },
 "nbformat": 4,
 "nbformat_minor": 4
}
