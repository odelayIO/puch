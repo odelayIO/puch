{
 "cells": [
  {
   "cell_type": "markdown",
   "metadata": {},
   "source": [
    "## KR260 AWGN DMA Stream\n",
    "\n",
    "\n",
    "### Plot function for use in this notebook\n",
    "The first code block below defines a function that we will use for plotting data throughout this notebook. Note that the function has a `n_samples` argument so that we can limit the number of samples to plot. Plotting more than a few thousand samples can be very slow and consume a lot of RAM.\n",
    "\n",
    "### Requirements\n",
    "Install the following:\n",
    "\n",
    "```bash\n",
    "pip install ipympl\n",
    "pip install ipywidgets\n",
    "pip install jupyter_bokeh\n",
    "```"
   ]
  },
  {
   "cell_type": "markdown",
   "metadata": {},
   "source": [
    "# Initilize\n",
    "\n",
    "#### Bokeh Plot Function"
   ]
  },
  {
   "cell_type": "code",
   "execution_count": 210,
   "metadata": {},
   "outputs": [],
   "source": [
    "from bokeh.plotting import figure, output_file, show\n",
    "from bokeh.io import output_notebook, show\n",
    "import numpy as np\n",
    "import math\n",
    "\n",
    "\n",
    "def plot_time(in_signal,out_signal=None):\n",
    "    t = np.linspace(0,len(in_signal),len(in_signal))\n",
    "    output_notebook()\n",
    "    p = figure(title = \"Input & Output Signal\")\n",
    "    \n",
    "    if out_signal is not None:\n",
    "        p.line(t,out_signal,legend_label=\"Output Signal\",line_color=\"red\",line_width=1)\n",
    "    p.line(t,in_signal,legend_label=\"Input Signal\",line_color=\"blue\",line_width=3)\n",
    "    show(p)"
   ]
  },
  {
   "cell_type": "markdown",
   "metadata": {},
   "source": [
    "#### Load Overlay"
   ]
  },
  {
   "cell_type": "code",
   "execution_count": 190,
   "metadata": {},
   "outputs": [],
   "source": [
    "from pynq import Overlay\n",
    "from pynq import allocate\n",
    "from pynq import MMIO\n",
    "import pynq.lib.dma\n",
    "import time\n",
    "import kria\n",
    "import timestamp_regmap\n",
    "import led_regmap\n",
    "import awgn_regmap\n",
    "\n",
    "# Load the overlay\n",
    "overlay = Overlay('/home/root/jupyter_notebooks/kr260_awgn_dma_stream/kr260_awgn_dma_stream.bit')\n",
    "\n",
    "# Assign blocks to short vars\n",
    "dma          = overlay.axi_dma_0\n",
    "led_module   = overlay.led_reg_0\n",
    "timestamp    = overlay.Timestamp_0\n",
    "awgn         = overlay.gng_top_0"
   ]
  },
  {
   "cell_type": "markdown",
   "metadata": {},
   "source": [
    "##### Print out the register map for DMA and HLS Gain Blocks"
   ]
  },
  {
   "cell_type": "code",
   "execution_count": null,
   "metadata": {},
   "outputs": [],
   "source": [
    "overlay.ip_dict"
   ]
  },
  {
   "cell_type": "code",
   "execution_count": null,
   "metadata": {},
   "outputs": [],
   "source": [
    "dma.register_map"
   ]
  },
  {
   "cell_type": "markdown",
   "metadata": {},
   "source": [
    "##### Display Time Stamp Register\n",
    "The time stamp is burned into the FPGA during the build process"
   ]
  },
  {
   "cell_type": "code",
   "execution_count": 191,
   "metadata": {},
   "outputs": [
    {
     "name": "stdout",
     "output_type": "stream",
     "text": [
      "FPGA Build Timestamp:  2025/2/11 17:2:23\n"
     ]
    }
   ],
   "source": [
    "print(\"FPGA Build Timestamp:  \" + kria.get_timestamp_str(timestamp))"
   ]
  },
  {
   "cell_type": "markdown",
   "metadata": {},
   "source": [
    "##### Toggle USER_LED[1:0] on/off"
   ]
  },
  {
   "cell_type": "code",
   "execution_count": 91,
   "metadata": {},
   "outputs": [],
   "source": [
    "for i in range(10):\n",
    "    led_module.mmio.write(led_regmap.RegMap.USER_LEDS_ADDR,0x1)\n",
    "    time.sleep(0.25)\n",
    "    led_module.mmio.write(led_regmap.RegMap.USER_LEDS_ADDR,0x2)\n",
    "    time.sleep(0.25)\n",
    "led_module.mmio.write(led_regmap.RegMap.USER_LEDS_ADDR,0x0)"
   ]
  },
  {
   "cell_type": "markdown",
   "metadata": {},
   "source": [
    "##### Display AWGN Block Parameters"
   ]
  },
  {
   "cell_type": "code",
   "execution_count": 192,
   "metadata": {},
   "outputs": [
    {
     "name": "stdout",
     "output_type": "stream",
     "text": [
      "Noise Gain = 0\n",
      "Noise Gain = 4\n",
      "AWGN Enable = 0\n",
      "AWGN Enable = 1\n"
     ]
    }
   ],
   "source": [
    "print(\"Noise Gain = \" + str(awgn.read(awgn_regmap.RegMap.AWGN_NOISE_GAIN_ADDR)))\n",
    "awgn.write(awgn_regmap.RegMap.AWGN_NOISE_GAIN_ADDR,4)\n",
    "print(\"Noise Gain = \" + str(awgn.read(awgn_regmap.RegMap.AWGN_NOISE_GAIN_ADDR)))\n",
    "print(\"AWGN Enable = \" + str(awgn.read(awgn_regmap.RegMap.AWGN_ENABLE_ADDR)))\n",
    "awgn.write(awgn_regmap.RegMap.AWGN_ENABLE_ADDR,1)\n",
    "print(\"AWGN Enable = \" + str(awgn.read(awgn_regmap.RegMap.AWGN_ENABLE_ADDR)))"
   ]
  },
  {
   "cell_type": "code",
   "execution_count": 193,
   "metadata": {},
   "outputs": [
    {
     "name": "stdout",
     "output_type": "stream",
     "text": [
      "F_IN : (16, 14)\n",
      "F_OUT : (16, 14)\n",
      "F_AWGN : (16, 11)\n"
     ]
    },
    {
     "data": {
      "text/plain": [
       "int"
      ]
     },
     "execution_count": 193,
     "metadata": {},
     "output_type": "execute_result"
    }
   ],
   "source": [
    "#awgn.write(gain_module.register_map.gain.address,4)\n",
    "tBits, fBits = kria.get_format(awgn,awgn_regmap.RegMap.F_IN_ADDR)\n",
    "print(\"F_IN : (\" + str(tBits) + \", \" + str(fBits) + \")\")\n",
    "tBits, fBits = kria.get_format(awgn,awgn_regmap.RegMap.F_OUT_ADDR)\n",
    "print(\"F_OUT : (\" + str(tBits) + \", \" + str(fBits) + \")\")\n",
    "tBits, fBits = kria.get_format(awgn,awgn_regmap.RegMap.F_AWGN_ADDR)\n",
    "print(\"F_AWGN : (\" + str(tBits) + \", \" + str(fBits) + \")\")\n",
    "\n",
    "type(fBits)"
   ]
  },
  {
   "cell_type": "markdown",
   "metadata": {},
   "source": [
    "### DMA Transfer the Sample buffer from ARM Processor to the AWGN FPGA Module, and plot"
   ]
  },
  {
   "cell_type": "code",
   "execution_count": 212,
   "metadata": {},
   "outputs": [
    {
     "name": "stdout",
     "output_type": "stream",
     "text": [
      "Number of samples:  2000\n",
      "AWGN Gain           : 0.2998046875\n",
      "AWGN Enable         : 1\n",
      "DMA Transfer Size   : 2000\n",
      "DMA Transfer Execution Time  : 0.002215862274169922  sec\n"
     ]
    },
    {
     "data": {
      "text/html": [
       "<style>\n",
       "        .bk-notebook-logo {\n",
       "            display: block;\n",
       "            width: 20px;\n",
       "            height: 20px;\n",
       "            background-image: url(data:image/png;base64,iVBORw0KGgoAAAANSUhEUgAAABQAAAAUCAYAAACNiR0NAAAABHNCSVQICAgIfAhkiAAAAAlwSFlzAAALEgAACxIB0t1+/AAAABx0RVh0U29mdHdhcmUAQWRvYmUgRmlyZXdvcmtzIENTNui8sowAAAOkSURBVDiNjZRtaJVlGMd/1/08zzln5zjP1LWcU9N0NkN8m2CYjpgQYQXqSs0I84OLIC0hkEKoPtiH3gmKoiJDU7QpLgoLjLIQCpEsNJ1vqUOdO7ppbuec5+V+rj4ctwzd8IIbbi6u+8f1539dt3A78eXC7QizUF7gyV1fD1Yqg4JWz84yffhm0qkFqBogB9rM8tZdtwVsPUhWhGcFJngGeWrPzHm5oaMmkfEg1usvLFyc8jLRqDOMru7AyC8saQr7GG7f5fvDeH7Ej8CM66nIF+8yngt6HWaKh7k49Soy9nXurCi1o3qUbS3zWfrYeQDTB/Qj6kX6Ybhw4B+bOYoLKCC9H3Nu/leUTZ1JdRWkkn2ldcCamzrcf47KKXdAJllSlxAOkRgyHsGC/zRday5Qld9DyoM4/q/rUoy/CXh3jzOu3bHUVZeU+DEn8FInkPBFlu3+nW3Nw0mk6vCDiWg8CeJaxEwuHS3+z5RgY+YBR6V1Z1nxSOfoaPa4LASWxxdNp+VWTk7+4vzaou8v8PN+xo+KY2xsw6une2frhw05CTYOmQvsEhjhWjn0bmXPjpE1+kplmmkP3suftwTubK9Vq22qKmrBhpY4jvd5afdRA3wGjFAgcnTK2s4hY0/GPNIb0nErGMCRxWOOX64Z8RAC4oCXdklmEvcL8o0BfkNK4lUg9HTl+oPlQxdNo3Mg4Nv175e/1LDGzZen30MEjRUtmXSfiTVu1kK8W4txyV6BMKlbgk3lMwYCiusNy9fVfvvwMxv8Ynl6vxoByANLTWplvuj/nF9m2+PDtt1eiHPBr1oIfhCChQMBw6Aw0UulqTKZdfVvfG7VcfIqLG9bcldL/+pdWTLxLUy8Qq38heUIjh4XlzZxzQm19lLFlr8vdQ97rjZVOLf8nclzckbcD4wxXMidpX30sFd37Fv/GtwwhzhxGVAprjbg0gCAEeIgwCZyTV2Z1REEW8O4py0wsjeloKoMr6iCY6dP92H6Vw/oTyICIthibxjm/DfN9lVz8IqtqKYLUXfoKVMVQVVJOElGjrnnUt9T9wbgp8AyYKaGlqingHZU/uG2NTZSVqwHQTWkx9hxjkpWDaCg6Ckj5qebgBVbT3V3NNXMSiWSDdGV3hrtzla7J+duwPOToIg42ChPQOQjspnSlp1V+Gjdged7+8UN5CRAV7a5EdFNwCjEaBR27b3W890TE7g24NAP/mMDXRWrGoFPQI9ls/MWO2dWFAar/xcOIImbbpA3zgAAAABJRU5ErkJggg==);\n",
       "        }\n",
       "    </style>\n",
       "    <div>\n",
       "        <a href=\"https://bokeh.org\" target=\"_blank\" class=\"bk-notebook-logo\"></a>\n",
       "        <span id=\"e7650c71-0529-46ee-ac60-382c6c2ff5c0\">Loading BokehJS ...</span>\n",
       "    </div>\n"
      ]
     },
     "metadata": {},
     "output_type": "display_data"
    },
    {
     "data": {
      "application/javascript": [
       "(function(root) {\n",
       "  function now() {\n",
       "    return new Date();\n",
       "  }\n",
       "\n",
       "  const force = true;\n",
       "\n",
       "  if (typeof root._bokeh_onload_callbacks === \"undefined\" || force === true) {\n",
       "    root._bokeh_onload_callbacks = [];\n",
       "    root._bokeh_is_loading = undefined;\n",
       "  }\n",
       "\n",
       "const JS_MIME_TYPE = 'application/javascript';\n",
       "  const HTML_MIME_TYPE = 'text/html';\n",
       "  const EXEC_MIME_TYPE = 'application/vnd.bokehjs_exec.v0+json';\n",
       "  const CLASS_NAME = 'output_bokeh rendered_html';\n",
       "\n",
       "  /**\n",
       "   * Render data to the DOM node\n",
       "   */\n",
       "  function render(props, node) {\n",
       "    const script = document.createElement(\"script\");\n",
       "    node.appendChild(script);\n",
       "  }\n",
       "\n",
       "  /**\n",
       "   * Handle when an output is cleared or removed\n",
       "   */\n",
       "  function handleClearOutput(event, handle) {\n",
       "    function drop(id) {\n",
       "      const view = Bokeh.index.get_by_id(id)\n",
       "      if (view != null) {\n",
       "        view.model.document.clear()\n",
       "        Bokeh.index.delete(view)\n",
       "      }\n",
       "    }\n",
       "\n",
       "    const cell = handle.cell;\n",
       "\n",
       "    const id = cell.output_area._bokeh_element_id;\n",
       "    const server_id = cell.output_area._bokeh_server_id;\n",
       "\n",
       "    // Clean up Bokeh references\n",
       "    if (id != null) {\n",
       "      drop(id)\n",
       "    }\n",
       "\n",
       "    if (server_id !== undefined) {\n",
       "      // Clean up Bokeh references\n",
       "      const cmd_clean = \"from bokeh.io.state import curstate; print(curstate().uuid_to_server['\" + server_id + \"'].get_sessions()[0].document.roots[0]._id)\";\n",
       "      cell.notebook.kernel.execute(cmd_clean, {\n",
       "        iopub: {\n",
       "          output: function(msg) {\n",
       "            const id = msg.content.text.trim()\n",
       "            drop(id)\n",
       "          }\n",
       "        }\n",
       "      });\n",
       "      // Destroy server and session\n",
       "      const cmd_destroy = \"import bokeh.io.notebook as ion; ion.destroy_server('\" + server_id + \"')\";\n",
       "      cell.notebook.kernel.execute(cmd_destroy);\n",
       "    }\n",
       "  }\n",
       "\n",
       "  /**\n",
       "   * Handle when a new output is added\n",
       "   */\n",
       "  function handleAddOutput(event, handle) {\n",
       "    const output_area = handle.output_area;\n",
       "    const output = handle.output;\n",
       "\n",
       "    // limit handleAddOutput to display_data with EXEC_MIME_TYPE content only\n",
       "    if ((output.output_type != \"display_data\") || (!Object.prototype.hasOwnProperty.call(output.data, EXEC_MIME_TYPE))) {\n",
       "      return\n",
       "    }\n",
       "\n",
       "    const toinsert = output_area.element.find(\".\" + CLASS_NAME.split(' ')[0]);\n",
       "\n",
       "    if (output.metadata[EXEC_MIME_TYPE][\"id\"] !== undefined) {\n",
       "      toinsert[toinsert.length - 1].firstChild.textContent = output.data[JS_MIME_TYPE];\n",
       "      // store reference to embed id on output_area\n",
       "      output_area._bokeh_element_id = output.metadata[EXEC_MIME_TYPE][\"id\"];\n",
       "    }\n",
       "    if (output.metadata[EXEC_MIME_TYPE][\"server_id\"] !== undefined) {\n",
       "      const bk_div = document.createElement(\"div\");\n",
       "      bk_div.innerHTML = output.data[HTML_MIME_TYPE];\n",
       "      const script_attrs = bk_div.children[0].attributes;\n",
       "      for (let i = 0; i < script_attrs.length; i++) {\n",
       "        toinsert[toinsert.length - 1].firstChild.setAttribute(script_attrs[i].name, script_attrs[i].value);\n",
       "        toinsert[toinsert.length - 1].firstChild.textContent = bk_div.children[0].textContent\n",
       "      }\n",
       "      // store reference to server id on output_area\n",
       "      output_area._bokeh_server_id = output.metadata[EXEC_MIME_TYPE][\"server_id\"];\n",
       "    }\n",
       "  }\n",
       "\n",
       "  function register_renderer(events, OutputArea) {\n",
       "\n",
       "    function append_mime(data, metadata, element) {\n",
       "      // create a DOM node to render to\n",
       "      const toinsert = this.create_output_subarea(\n",
       "        metadata,\n",
       "        CLASS_NAME,\n",
       "        EXEC_MIME_TYPE\n",
       "      );\n",
       "      this.keyboard_manager.register_events(toinsert);\n",
       "      // Render to node\n",
       "      const props = {data: data, metadata: metadata[EXEC_MIME_TYPE]};\n",
       "      render(props, toinsert[toinsert.length - 1]);\n",
       "      element.append(toinsert);\n",
       "      return toinsert\n",
       "    }\n",
       "\n",
       "    /* Handle when an output is cleared or removed */\n",
       "    events.on('clear_output.CodeCell', handleClearOutput);\n",
       "    events.on('delete.Cell', handleClearOutput);\n",
       "\n",
       "    /* Handle when a new output is added */\n",
       "    events.on('output_added.OutputArea', handleAddOutput);\n",
       "\n",
       "    /**\n",
       "     * Register the mime type and append_mime function with output_area\n",
       "     */\n",
       "    OutputArea.prototype.register_mime_type(EXEC_MIME_TYPE, append_mime, {\n",
       "      /* Is output safe? */\n",
       "      safe: true,\n",
       "      /* Index of renderer in `output_area.display_order` */\n",
       "      index: 0\n",
       "    });\n",
       "  }\n",
       "\n",
       "  // register the mime type if in Jupyter Notebook environment and previously unregistered\n",
       "  if (root.Jupyter !== undefined) {\n",
       "    const events = require('base/js/events');\n",
       "    const OutputArea = require('notebook/js/outputarea').OutputArea;\n",
       "\n",
       "    if (OutputArea.prototype.mime_types().indexOf(EXEC_MIME_TYPE) == -1) {\n",
       "      register_renderer(events, OutputArea);\n",
       "    }\n",
       "  }\n",
       "  if (typeof (root._bokeh_timeout) === \"undefined\" || force === true) {\n",
       "    root._bokeh_timeout = Date.now() + 5000;\n",
       "    root._bokeh_failed_load = false;\n",
       "  }\n",
       "\n",
       "  const NB_LOAD_WARNING = {'data': {'text/html':\n",
       "     \"<div style='background-color: #fdd'>\\n\"+\n",
       "     \"<p>\\n\"+\n",
       "     \"BokehJS does not appear to have successfully loaded. If loading BokehJS from CDN, this \\n\"+\n",
       "     \"may be due to a slow or bad network connection. Possible fixes:\\n\"+\n",
       "     \"</p>\\n\"+\n",
       "     \"<ul>\\n\"+\n",
       "     \"<li>re-rerun `output_notebook()` to attempt to load from CDN again, or</li>\\n\"+\n",
       "     \"<li>use INLINE resources instead, as so:</li>\\n\"+\n",
       "     \"</ul>\\n\"+\n",
       "     \"<code>\\n\"+\n",
       "     \"from bokeh.resources import INLINE\\n\"+\n",
       "     \"output_notebook(resources=INLINE)\\n\"+\n",
       "     \"</code>\\n\"+\n",
       "     \"</div>\"}};\n",
       "\n",
       "  function display_loaded() {\n",
       "    const el = document.getElementById(\"e7650c71-0529-46ee-ac60-382c6c2ff5c0\");\n",
       "    if (el != null) {\n",
       "      el.textContent = \"BokehJS is loading...\";\n",
       "    }\n",
       "    if (root.Bokeh !== undefined) {\n",
       "      if (el != null) {\n",
       "        el.textContent = \"BokehJS \" + root.Bokeh.version + \" successfully loaded.\";\n",
       "      }\n",
       "    } else if (Date.now() < root._bokeh_timeout) {\n",
       "      setTimeout(display_loaded, 100)\n",
       "    }\n",
       "  }\n",
       "\n",
       "  function run_callbacks() {\n",
       "    try {\n",
       "      root._bokeh_onload_callbacks.forEach(function(callback) {\n",
       "        if (callback != null)\n",
       "          callback();\n",
       "      });\n",
       "    } finally {\n",
       "      delete root._bokeh_onload_callbacks\n",
       "    }\n",
       "    console.debug(\"Bokeh: all callbacks have finished\");\n",
       "  }\n",
       "\n",
       "  function load_libs(css_urls, js_urls, callback) {\n",
       "    if (css_urls == null) css_urls = [];\n",
       "    if (js_urls == null) js_urls = [];\n",
       "\n",
       "    root._bokeh_onload_callbacks.push(callback);\n",
       "    if (root._bokeh_is_loading > 0) {\n",
       "      console.debug(\"Bokeh: BokehJS is being loaded, scheduling callback at\", now());\n",
       "      return null;\n",
       "    }\n",
       "    if (js_urls == null || js_urls.length === 0) {\n",
       "      run_callbacks();\n",
       "      return null;\n",
       "    }\n",
       "    console.debug(\"Bokeh: BokehJS not loaded, scheduling load and callback at\", now());\n",
       "    root._bokeh_is_loading = css_urls.length + js_urls.length;\n",
       "\n",
       "    function on_load() {\n",
       "      root._bokeh_is_loading--;\n",
       "      if (root._bokeh_is_loading === 0) {\n",
       "        console.debug(\"Bokeh: all BokehJS libraries/stylesheets loaded\");\n",
       "        run_callbacks()\n",
       "      }\n",
       "    }\n",
       "\n",
       "    function on_error(url) {\n",
       "      console.error(\"failed to load \" + url);\n",
       "    }\n",
       "\n",
       "    for (let i = 0; i < css_urls.length; i++) {\n",
       "      const url = css_urls[i];\n",
       "      const element = document.createElement(\"link\");\n",
       "      element.onload = on_load;\n",
       "      element.onerror = on_error.bind(null, url);\n",
       "      element.rel = \"stylesheet\";\n",
       "      element.type = \"text/css\";\n",
       "      element.href = url;\n",
       "      console.debug(\"Bokeh: injecting link tag for BokehJS stylesheet: \", url);\n",
       "      document.body.appendChild(element);\n",
       "    }\n",
       "\n",
       "    for (let i = 0; i < js_urls.length; i++) {\n",
       "      const url = js_urls[i];\n",
       "      const element = document.createElement('script');\n",
       "      element.onload = on_load;\n",
       "      element.onerror = on_error.bind(null, url);\n",
       "      element.async = false;\n",
       "      element.src = url;\n",
       "      console.debug(\"Bokeh: injecting script tag for BokehJS library: \", url);\n",
       "      document.head.appendChild(element);\n",
       "    }\n",
       "  };\n",
       "\n",
       "  function inject_raw_css(css) {\n",
       "    const element = document.createElement(\"style\");\n",
       "    element.appendChild(document.createTextNode(css));\n",
       "    document.body.appendChild(element);\n",
       "  }\n",
       "\n",
       "  const js_urls = [\"https://cdn.bokeh.org/bokeh/release/bokeh-3.3.0.min.js\", \"https://cdn.bokeh.org/bokeh/release/bokeh-gl-3.3.0.min.js\", \"https://cdn.bokeh.org/bokeh/release/bokeh-widgets-3.3.0.min.js\", \"https://cdn.bokeh.org/bokeh/release/bokeh-tables-3.3.0.min.js\", \"https://cdn.bokeh.org/bokeh/release/bokeh-mathjax-3.3.0.min.js\"];\n",
       "  const css_urls = [];\n",
       "\n",
       "  const inline_js = [    function(Bokeh) {\n",
       "      Bokeh.set_log_level(\"info\");\n",
       "    },\n",
       "function(Bokeh) {\n",
       "    }\n",
       "  ];\n",
       "\n",
       "  function run_inline_js() {\n",
       "    if (root.Bokeh !== undefined || force === true) {\n",
       "          for (let i = 0; i < inline_js.length; i++) {\n",
       "      inline_js[i].call(root, root.Bokeh);\n",
       "    }\n",
       "if (force === true) {\n",
       "        display_loaded();\n",
       "      }} else if (Date.now() < root._bokeh_timeout) {\n",
       "      setTimeout(run_inline_js, 100);\n",
       "    } else if (!root._bokeh_failed_load) {\n",
       "      console.log(\"Bokeh: BokehJS failed to load within specified timeout.\");\n",
       "      root._bokeh_failed_load = true;\n",
       "    } else if (force !== true) {\n",
       "      const cell = $(document.getElementById(\"e7650c71-0529-46ee-ac60-382c6c2ff5c0\")).parents('.cell').data().cell;\n",
       "      cell.output_area.append_execute_result(NB_LOAD_WARNING)\n",
       "    }\n",
       "  }\n",
       "\n",
       "  if (root._bokeh_is_loading === 0) {\n",
       "    console.debug(\"Bokeh: BokehJS loaded, going straight to plotting\");\n",
       "    run_inline_js();\n",
       "  } else {\n",
       "    load_libs(css_urls, js_urls, function() {\n",
       "      console.debug(\"Bokeh: BokehJS plotting callback run at\", now());\n",
       "      run_inline_js();\n",
       "    });\n",
       "  }\n",
       "}(window));"
      ],
      "application/vnd.bokehjs_load.v0+json": "(function(root) {\n  function now() {\n    return new Date();\n  }\n\n  const force = true;\n\n  if (typeof root._bokeh_onload_callbacks === \"undefined\" || force === true) {\n    root._bokeh_onload_callbacks = [];\n    root._bokeh_is_loading = undefined;\n  }\n\n\n  if (typeof (root._bokeh_timeout) === \"undefined\" || force === true) {\n    root._bokeh_timeout = Date.now() + 5000;\n    root._bokeh_failed_load = false;\n  }\n\n  const NB_LOAD_WARNING = {'data': {'text/html':\n     \"<div style='background-color: #fdd'>\\n\"+\n     \"<p>\\n\"+\n     \"BokehJS does not appear to have successfully loaded. If loading BokehJS from CDN, this \\n\"+\n     \"may be due to a slow or bad network connection. Possible fixes:\\n\"+\n     \"</p>\\n\"+\n     \"<ul>\\n\"+\n     \"<li>re-rerun `output_notebook()` to attempt to load from CDN again, or</li>\\n\"+\n     \"<li>use INLINE resources instead, as so:</li>\\n\"+\n     \"</ul>\\n\"+\n     \"<code>\\n\"+\n     \"from bokeh.resources import INLINE\\n\"+\n     \"output_notebook(resources=INLINE)\\n\"+\n     \"</code>\\n\"+\n     \"</div>\"}};\n\n  function display_loaded() {\n    const el = document.getElementById(\"e7650c71-0529-46ee-ac60-382c6c2ff5c0\");\n    if (el != null) {\n      el.textContent = \"BokehJS is loading...\";\n    }\n    if (root.Bokeh !== undefined) {\n      if (el != null) {\n        el.textContent = \"BokehJS \" + root.Bokeh.version + \" successfully loaded.\";\n      }\n    } else if (Date.now() < root._bokeh_timeout) {\n      setTimeout(display_loaded, 100)\n    }\n  }\n\n  function run_callbacks() {\n    try {\n      root._bokeh_onload_callbacks.forEach(function(callback) {\n        if (callback != null)\n          callback();\n      });\n    } finally {\n      delete root._bokeh_onload_callbacks\n    }\n    console.debug(\"Bokeh: all callbacks have finished\");\n  }\n\n  function load_libs(css_urls, js_urls, callback) {\n    if (css_urls == null) css_urls = [];\n    if (js_urls == null) js_urls = [];\n\n    root._bokeh_onload_callbacks.push(callback);\n    if (root._bokeh_is_loading > 0) {\n      console.debug(\"Bokeh: BokehJS is being loaded, scheduling callback at\", now());\n      return null;\n    }\n    if (js_urls == null || js_urls.length === 0) {\n      run_callbacks();\n      return null;\n    }\n    console.debug(\"Bokeh: BokehJS not loaded, scheduling load and callback at\", now());\n    root._bokeh_is_loading = css_urls.length + js_urls.length;\n\n    function on_load() {\n      root._bokeh_is_loading--;\n      if (root._bokeh_is_loading === 0) {\n        console.debug(\"Bokeh: all BokehJS libraries/stylesheets loaded\");\n        run_callbacks()\n      }\n    }\n\n    function on_error(url) {\n      console.error(\"failed to load \" + url);\n    }\n\n    for (let i = 0; i < css_urls.length; i++) {\n      const url = css_urls[i];\n      const element = document.createElement(\"link\");\n      element.onload = on_load;\n      element.onerror = on_error.bind(null, url);\n      element.rel = \"stylesheet\";\n      element.type = \"text/css\";\n      element.href = url;\n      console.debug(\"Bokeh: injecting link tag for BokehJS stylesheet: \", url);\n      document.body.appendChild(element);\n    }\n\n    for (let i = 0; i < js_urls.length; i++) {\n      const url = js_urls[i];\n      const element = document.createElement('script');\n      element.onload = on_load;\n      element.onerror = on_error.bind(null, url);\n      element.async = false;\n      element.src = url;\n      console.debug(\"Bokeh: injecting script tag for BokehJS library: \", url);\n      document.head.appendChild(element);\n    }\n  };\n\n  function inject_raw_css(css) {\n    const element = document.createElement(\"style\");\n    element.appendChild(document.createTextNode(css));\n    document.body.appendChild(element);\n  }\n\n  const js_urls = [\"https://cdn.bokeh.org/bokeh/release/bokeh-3.3.0.min.js\", \"https://cdn.bokeh.org/bokeh/release/bokeh-gl-3.3.0.min.js\", \"https://cdn.bokeh.org/bokeh/release/bokeh-widgets-3.3.0.min.js\", \"https://cdn.bokeh.org/bokeh/release/bokeh-tables-3.3.0.min.js\", \"https://cdn.bokeh.org/bokeh/release/bokeh-mathjax-3.3.0.min.js\"];\n  const css_urls = [];\n\n  const inline_js = [    function(Bokeh) {\n      Bokeh.set_log_level(\"info\");\n    },\nfunction(Bokeh) {\n    }\n  ];\n\n  function run_inline_js() {\n    if (root.Bokeh !== undefined || force === true) {\n          for (let i = 0; i < inline_js.length; i++) {\n      inline_js[i].call(root, root.Bokeh);\n    }\nif (force === true) {\n        display_loaded();\n      }} else if (Date.now() < root._bokeh_timeout) {\n      setTimeout(run_inline_js, 100);\n    } else if (!root._bokeh_failed_load) {\n      console.log(\"Bokeh: BokehJS failed to load within specified timeout.\");\n      root._bokeh_failed_load = true;\n    } else if (force !== true) {\n      const cell = $(document.getElementById(\"e7650c71-0529-46ee-ac60-382c6c2ff5c0\")).parents('.cell').data().cell;\n      cell.output_area.append_execute_result(NB_LOAD_WARNING)\n    }\n  }\n\n  if (root._bokeh_is_loading === 0) {\n    console.debug(\"Bokeh: BokehJS loaded, going straight to plotting\");\n    run_inline_js();\n  } else {\n    load_libs(css_urls, js_urls, function() {\n      console.debug(\"Bokeh: BokehJS plotting callback run at\", now());\n      run_inline_js();\n    });\n  }\n}(window));"
     },
     "metadata": {},
     "output_type": "display_data"
    },
    {
     "data": {
      "text/html": [
       "\n",
       "  <div id=\"fbfe7441-ddd8-421c-807f-6fee18a62032\" data-root-id=\"p7821\" style=\"display: contents;\"></div>\n"
      ]
     },
     "metadata": {},
     "output_type": "display_data"
    },
    {
     "data": {
      "application/javascript": [
       "(function(root) {\n",
       "  function embed_document(root) {\n",
       "  const docs_json = {\"4f5476e4-b050-45a0-84ab-3b905ea03035\":{\"version\":\"3.3.0\",\"title\":\"Bokeh Application\",\"roots\":[{\"type\":\"object\",\"name\":\"Figure\",\"id\":\"p7821\",\"attributes\":{\"x_range\":{\"type\":\"object\",\"name\":\"DataRange1d\",\"id\":\"p7822\"},\"y_range\":{\"type\":\"object\",\"name\":\"DataRange1d\",\"id\":\"p7823\"},\"x_scale\":{\"type\":\"object\",\"name\":\"LinearScale\",\"id\":\"p7831\"},\"y_scale\":{\"type\":\"object\",\"name\":\"LinearScale\",\"id\":\"p7832\"},\"title\":{\"type\":\"object\",\"name\":\"Title\",\"id\":\"p7824\",\"attributes\":{\"text\":\"Input & Output Signal\"}},\"renderers\":[{\"type\":\"object\",\"name\":\"GlyphRenderer\",\"id\":\"p7856\",\"attributes\":{\"data_source\":{\"type\":\"object\",\"name\":\"ColumnDataSource\",\"id\":\"p7850\",\"attributes\":{\"selected\":{\"type\":\"object\",\"name\":\"Selection\",\"id\":\"p7851\",\"attributes\":{\"indices\":[],\"line_indices\":[]}},\"selection_policy\":{\"type\":\"object\",\"name\":\"UnionRenderers\",\"id\":\"p7852\"},\"data\":{\"type\":\"map\",\"entries\":[[\"x\",{\"type\":\"ndarray\",\"array\":{\"type\":\"bytes\",\"data\":\"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\"},\"shape\":[2000],\"dtype\":\"float64\",\"order\":\"little\"}],[\"y\",[0.17236328125,-0.38055419921875,0.46307373046875,-0.00726318359375,0.30511474609375,-0.171142578125,0.2916259765625,0.30413818359375,0.316650390625,0.32916259765625,0.34161376953125,0.35406494140625,0.36651611328125,0.37890625,0.39129638671875,0.4036865234375,0.416015625,0.42828369140625,0.2847900390625,0.4610595703125,0.1436767578125,0.07232666015625,0.421875,0.54766845703125,0.3150634765625,0.2191162109375,0.3853759765625,0.597412109375,0.3289794921875,0.84515380859375,0.31048583984375,0.7523193359375,0.427978515625,0.76959228515625,-0.16619873046875,0.37884521484375,0.10699462890625,0.5167236328125,0.59039306640625,0.37548828125,0.40802001953125,0.455078125,0.99822998046875,0.296630859375,0.813720703125,0.6568603515625,0.08984375,0.37371826171875,0.6224365234375,0.9583740234375,1.0203857421875,0.598876953125,1.04833984375,0.37713623046875,0.927978515625,0.42205810546875,0.33892822265625,0.82550048828125,0.67425537109375,0.931640625,1.10882568359375,0.377685546875,0.1943359375,0.32086181640625,0.35748291015625,0.34417724609375,0.98309326171875,0.62481689453125,1.01446533203125,0.99725341796875,0.6171875,0.6148681640625,1.0382080078125,0.71337890625,0.627197265625,1.4324951171875,1.2738037109375,0.850830078125,0.2587890625,0.4390869140625,1.11822509765625,1.0228271484375,0.88238525390625,0.8438720703125,1.09771728515625,0.91778564453125,0.82269287109375,1.10052490234375,1.052001953125,1.24749755859375,0.90673828125,0.65032958984375,0.99627685546875,0.52960205078125,0.705322265625,0.97125244140625,0.854248046875,1.651611328125,1.61334228515625,0.92608642578125,0.7366943359375,1.088134765625,0.50146484375,0.94390869140625,0.84521484375,0.94610595703125,0.48968505859375,0.9158935546875,1.25897216796875,1.16632080078125,0.47735595703125,0.78387451171875,0.92364501953125,0.7835693359375,1.23162841796875,0.6043701171875,0.53167724609375,1.41729736328125,0.7890625,0.88092041015625,0.84368896484375,1.00701904296875,1.101318359375,1.0811767578125,1.7440185546875,1.5517578125,0.6878662109375,1.4205322265625,0.963623046875,1.49041748046875,0.85589599609375,1.33453369140625,1.09326171875,0.97344970703125,0.90179443359375,1.1424560546875,0.82391357421875,0.8450927734375,1.22247314453125,1.26873779296875,0.78497314453125,0.49884033203125,1.31414794921875,1.0213623046875,1.11663818359375,0.64483642578125,1.34814453125,0.85797119140625,1.5224609375,0.892822265625,0.4495849609375,1.45538330078125,0.87799072265625,0.607177734375,0.787841796875,1.13238525390625,0.767822265625,0.93389892578125,0.68572998046875,1.18011474609375,0.484375,0.81048583984375,1.077392578125,0.75335693359375,0.81341552734375,1.27569580078125,0.86236572265625,1.0396728515625,0.60308837890625,0.7010498046875,1.19049072265625,0.7681884765625,0.8115234375,0.480224609375,1.2938232421875,1.4110107421875,0.845947265625,0.0478515625,1.2403564453125,0.5899658203125,0.541015625,1.30535888671875,0.74639892578125,0.60089111328125,0.58367919921875,0.77874755859375,0.46343994140625,0.80328369140625,0.16015625,0.722900390625,1.43255615234375,0.8857421875,0.37591552734375,0.76397705078125,0.75885009765625,0.44354248046875,0.653076171875,0.64959716796875,0.7158203125,0.912841796875,0.6024169921875,0.3763427734375,0.1981201171875,0.60467529296875,0.15771484375,0.7515869140625,0.492919921875,0.787353515625,0.63299560546875,0.52001953125,1.14434814453125,0.63134765625,0.65972900390625,0.4727783203125,0.11431884765625,0.92718505859375,0.17608642578125,0.85308837890625,0.604248046875,-0.2242431640625,-0.28717041015625,0.08636474609375,0.3367919921875,0.126708984375,0.1978759765625,0.6463623046875,0.0640869140625,0.16827392578125,0.06982421875,0.40777587890625,0.4893798828125,0.1973876953125,0.5069580078125,0.27691650390625,0.4921875,0.0882568359375,0.39031982421875,0.4970703125,-0.44403076171875,-0.09466552734375,0.01446533203125,0.06402587890625,-0.411376953125,0.04437255859375,0.1641845703125,-0.193115234375,-0.13726806640625,0.76861572265625,-0.61309814453125,0.41241455078125,0.17724609375,-0.07159423828125,-0.40985107421875,-0.15435791015625,0.15972900390625,0.056884765625,0.2103271484375,-0.36859130859375,-0.054443359375,0.58441162109375,0.31610107421875,0.80364990234375,-0.45782470703125,-0.51953125,-0.06951904296875,-0.2322998046875,-0.20654296875,-0.34234619140625,-0.1636962890625,-0.4273681640625,-0.1656494140625,-0.18365478515625,0.43408203125,-0.69415283203125,-0.8682861328125,-0.2957763671875,-0.4849853515625,-0.347412109375,0.3917236328125,0.17779541015625,-0.59320068359375,-1.0579833984375,-0.674072265625,-0.26959228515625,-0.18487548828125,-0.19036865234375,-0.65093994140625,-0.3892822265625,-0.41705322265625,-0.61376953125,-0.66192626953125,-0.78662109375,-0.52020263671875,-1.421630859375,-0.430908203125,0.0130615234375,-0.01611328125,-1.03582763671875,0.0035400390625,-0.3060302734375,-0.3016357421875,-0.467041015625,-0.97216796875,-0.92401123046875,-0.586181640625,-0.30535888671875,-0.33258056640625,-0.78204345703125,-0.59613037109375,-0.4794921875,-0.32220458984375,-0.665771484375,-0.52734375,-1.28814697265625,-1.35260009765625,-0.84173583984375,-0.87225341796875,-0.19512939453125,-0.68438720703125,-0.97723388671875,-0.56640625,-0.8770751953125,-1.3062744140625,-0.68212890625,-1.279052734375,-0.0335693359375,-0.5242919921875,-0.760498046875,-0.5703125,-0.9439697265625,-0.72515869140625,-0.7996826171875,-1.03717041015625,-0.3111572265625,-0.80230712890625,-1.08966064453125,-0.76898193359375,-0.86175537109375,-0.712646484375,-1.57025146484375,-1.576171875,-0.91937255859375,-0.89031982421875,-0.82843017578125,-0.950439453125,-1.02886962890625,-0.654052734375,-0.834228515625,-0.74859619140625,-1.02911376953125,-1.0526123046875,-1.348388671875,-0.57177734375,-1.49761962890625,-1.02734375,-1.17559814453125,-0.90374755859375,-0.7601318359375,-0.97528076171875,-0.86895751953125,-1.05401611328125,-1.19549560546875,-0.66680908203125,-1.1771240234375,-1.51971435546875,-1.3675537109375,-1.09173583984375,-0.78204345703125,-1.01513671875,-1.28424072265625,-0.50384521484375,-1.13397216796875,-1.432861328125,-1.0045166015625,-0.4749755859375,-1.2431640625,-1.1160888671875,-0.6851806640625,-0.438720703125,-1.29364013671875,-0.96771240234375,-0.55279541015625,-1.30810546875,-0.95733642578125,-1.23724365234375,-0.9075927734375,-1.11737060546875,-0.7244873046875,-1.21905517578125,-0.69451904296875,-0.60186767578125,-1.27764892578125,-0.91180419921875,-0.9720458984375,-1.48480224609375,-1.10772705078125,-0.82470703125,-1.15191650390625,-0.85302734375,-1.063232421875,-1.1014404296875,-1.07354736328125,-0.92828369140625,-1.055908203125,-0.766845703125,-1.48248291015625,-1.117431640625,-0.36260986328125,-0.60467529296875,-0.93890380859375,-0.8134765625,-0.70501708984375,-0.620361328125,-1.11029052734375,-1.01702880859375,-0.68927001953125,-1.15777587890625,-1.2774658203125,-1.00836181640625,-0.8602294921875,-0.83062744140625,-1.1378173828125,-1.2958984375,-1.286376953125,-1.1732177734375,-1.2655029296875,-0.632568359375,-0.84228515625,-0.7769775390625,-0.8375244140625,-0.60009765625,-1.53826904296875,-0.66973876953125,-1.12384033203125,-0.13006591796875,-0.51849365234375,-1.02691650390625,-0.47418212890625,-0.57421875,-0.595458984375,-0.81634521484375,-0.38427734375,-0.59759521484375,-0.51544189453125,-0.83062744140625,-0.38983154296875,-0.111083984375,-0.38104248046875,-0.87744140625,-0.713623046875,-0.1312255859375,0.1051025390625,-1.3597412109375,-0.64959716796875,-0.42041015625,-0.3321533203125,-0.673095703125,0.008056640625,-0.95379638671875,-1.2646484375,-0.79962158203125,-0.2646484375,-0.20953369140625,-0.5435791015625,-0.43951416015625,0.01470947265625,0.03631591796875,-0.26129150390625,-0.159423828125,-0.4847412109375,-0.66839599609375,0.16217041015625,0.1754150390625,-0.237060546875,0.0609130859375,-0.2943115234375,0.0994873046875,0.12567138671875,-0.0859375,0.20452880859375,-0.0640869140625,-0.4732666015625,-0.2613525390625,-0.07232666015625,-0.5361328125,-0.2132568359375,-0.06951904296875,-0.4765625,-0.33038330078125,-0.45074462890625,0.32879638671875,-0.37847900390625,0.109619140625,0.07037353515625,-0.1436767578125,0.276611328125,-0.01898193359375,0.10980224609375,0.19805908203125,-0.26983642578125,-0.0419921875,-0.18621826171875,0.77459716796875,-0.48626708984375,0.17913818359375,0.432373046875,0.3614501953125,-0.07916259765625,-0.009521484375,0.02349853515625,-0.19451904296875,0.81353759765625,0.11700439453125,-0.09130859375,0.00750732421875,0.0155029296875,0.09814453125,-0.01751708984375,0.0440673828125,0.0582275390625,0.1636962890625,-0.53021240234375,0.1650390625,0.21856689453125,0.1241455078125,0.3138427734375,0.5562744140625,0.396728515625,0.2386474609375,0.41253662109375,0.36810302734375,-0.0465087890625,0.284912109375,0.58843994140625,0.02716064453125,-0.14019775390625,0.20318603515625,0.5977783203125,0.49420166015625,0.6943359375,0.91387939453125,0.30615234375,0.78826904296875,0.978271484375,0.585205078125,0.5323486328125,0.83056640625,0.45819091796875,0.2015380859375,0.6102294921875,0.6693115234375,0.387451171875,0.53955078125,1.06903076171875,0.875244140625,-0.05157470703125,0.93267822265625,0.98468017578125,0.10687255859375,0.82080078125,0.78997802734375,-0.104248046875,0.83447265625,0.58111572265625,0.63922119140625,1.04632568359375,0.70770263671875,0.91876220703125,0.37091064453125,0.67791748046875,1.10009765625,-0.0447998046875,0.8165283203125,1.1875,0.292724609375,0.6556396484375,0.5799560546875,0.757080078125,1.42724609375,0.4888916015625,0.38189697265625,0.5516357421875,0.99078369140625,0.8668212890625,0.85064697265625,0.47052001953125,0.89154052734375,0.52484130859375,0.990478515625,1.29827880859375,1.02783203125,0.72259521484375,0.71307373046875,0.93536376953125,1.270751953125,1.04888916015625,1.510009765625,0.947021484375,0.96441650390625,0.74053955078125,1.1458740234375,1.468994140625,0.93603515625,0.63531494140625,0.9013671875,0.99444580078125,0.69769287109375,1.1004638671875,0.94110107421875,1.11016845703125,1.37628173828125,1.36053466796875,0.64093017578125,0.6170654296875,0.82440185546875,1.0223388671875,1.01898193359375,0.92608642578125,0.9775390625,0.53131103515625,0.79779052734375,0.98602294921875,1.361083984375,0.9166259765625,0.8616943359375,0.99365234375,0.2615966796875,1.1539306640625,0.867431640625,0.99041748046875,0.94036865234375,1.02398681640625,1.23974609375,1.57501220703125,1.13665771484375,1.3431396484375,1.08514404296875,0.3006591796875,1.29278564453125,0.78582763671875,0.83770751953125,0.69366455078125,1.15545654296875,0.8568115234375,0.76800537109375,0.81231689453125,1.3564453125,1.11383056640625,1.05712890625,1.391357421875,1.3109130859375,1.09014892578125,0.87457275390625,0.729248046875,1.166748046875,0.72027587890625,1.171630859375,1.02911376953125,0.70477294921875,0.55462646484375,0.57080078125,0.61810302734375,0.540771484375,1.04144287109375,1.33343505859375,1.00128173828125,0.74078369140625,0.4918212890625,1.09039306640625,0.3680419921875,0.77740478515625,0.6241455078125,0.630859375,0.431396484375,0.8553466796875,1.2503662109375,0.995849609375,1.55908203125,0.5352783203125,1.0753173828125,0.26318359375,0.32928466796875,1.10284423828125,0.69610595703125,0.35614013671875,0.85443115234375,0.42828369140625,0.82183837890625,0.93896484375,0.655517578125,0.43060302734375,1.00732421875,0.49652099609375,0.31427001953125,0.43804931640625,0.33709716796875,1.157470703125,0.40155029296875,1.28466796875,-0.062255859375,0.4154052734375,0.8919677734375,0.4222412109375,0.75750732421875,0.384765625,0.2003173828125,0.888427734375,0.387451171875,0.40399169921875,0.2451171875,0.66046142578125,0.27783203125,0.57476806640625,0.4830322265625,0.59185791015625,0.29632568359375,0.57403564453125,-0.01995849609375,0.235107421875,0.8543701171875,0.88470458984375,0.62689208984375,0.1160888671875,0.754150390625,0.6885986328125,1.1971435546875,-0.0062255859375,0.20489501953125,-0.125,0.35943603515625,0.1744384765625,0.4849853515625,0.2525634765625,0.38531494140625,0.3291015625,1.1116943359375,0.61639404296875,-0.01123046875,0.17999267578125,-0.27923583984375,-0.09588623046875,-0.17132568359375,0.135009765625,0.14886474609375,0.0177001953125,0.614990234375,-0.02984619140625,-0.01507568359375,0.02069091796875,-0.15057373046875,0.56787109375,-0.57940673828125,-0.37811279296875,-0.08551025390625,0.25836181640625,0.514404296875,-0.0255126953125,0.01031494140625,0.309814453125,0.22650146484375,0.38446044921875,0.44818115234375,-0.14630126953125,-0.6611328125,-0.38787841796875,-0.4608154296875,0.46337890625,-0.04400634765625,-0.3961181640625,0.1507568359375,-0.7164306640625,-0.15679931640625,-0.38037109375,-0.65460205078125,-0.0914306640625,-0.1746826171875,-0.2193603515625,-0.412841796875,-0.5023193359375,-0.21673583984375,0.19293212890625,-0.4124755859375,-0.858642578125,-0.49566650390625,-0.62286376953125,-0.54144287109375,-0.76519775390625,-0.2227783203125,-0.39361572265625,-0.3125,-0.52081298828125,-0.53369140625,-0.48358154296875,-0.153564453125,-0.467041015625,-0.3873291015625,-0.765625,-0.56121826171875,-0.6595458984375,-0.6873779296875,-0.1473388671875,-0.885009765625,-0.37255859375,-0.17303466796875,-0.343994140625,-0.87860107421875,-0.87994384765625,-0.39434814453125,-0.65277099609375,-0.705078125,-0.98431396484375,-0.549072265625,-0.822265625,-0.75201416015625,-0.83355712890625,-0.81195068359375,-0.46746826171875,-0.70489501953125,-0.90948486328125,-0.76678466796875,-1.24462890625,-0.3165283203125,-0.6802978515625,-0.38037109375,-0.176513671875,-0.8167724609375,-0.9012451171875,-1.467529296875,-0.59619140625,-1.3189697265625,-1.14801025390625,-0.7088623046875,-0.93853759765625,-0.3692626953125,-0.78424072265625,-0.93829345703125,-0.78802490234375,-0.61077880859375,-0.583740234375,-0.46868896484375,-0.86865234375,-0.92816162109375,-0.73114013671875,-1.22637939453125,-0.742431640625,-0.84136962890625,-1.820556640625,-1.602294921875,-1.18365478515625,-1.46026611328125,-1.0535888671875,-1.334716796875,-0.70361328125,-1.39117431640625,-0.72216796875,-0.70294189453125,-1.32659912109375,-1.0535888671875,-0.47918701171875,-1.48370361328125,-0.86456298828125,-1.06658935546875,-1.02960205078125,-0.7020263671875,-1.78924560546875,-0.9989013671875,-0.97943115234375,-1.18292236328125,-1.1796875,-0.96685791015625,-1.08148193359375,-1.16033935546875,-0.889404296875,-1.1392822265625,-0.9744873046875,-1.080078125,-0.9554443359375,-1.0509033203125,-1.260009765625,-0.99871826171875,-0.82952880859375,-0.57427978515625,-0.66357421875,-1.13409423828125,-1.43499755859375,-1.1541748046875,-0.18328857421875,-1.5384521484375,-0.76007080078125,-0.90643310546875,-0.92413330078125,-1.14971923828125,-1.29168701171875,-0.2259521484375,-1.18988037109375,-0.33087158203125,-0.72509765625,-0.94683837890625,-1.275390625,-0.303466796875,-0.9212646484375,-1.11016845703125,-1.31207275390625,-1.171142578125,-1.425537109375,-0.56207275390625,-1.134033203125,-0.82305908203125,-0.95819091796875,-0.59661865234375,-0.48974609375,-0.24017333984375,-0.680908203125,-1.31634521484375,-0.70208740234375,-1.00665283203125,-0.61236572265625,-1.2974853515625,-0.79351806640625,-0.3358154296875,-1.09039306640625,-0.6690673828125,-0.89892578125,-0.678466796875,-0.3782958984375,-0.5584716796875,-0.513916015625,-0.3564453125,-1.1373291015625,-1.0889892578125,-0.64013671875,-0.59149169921875,-0.49102783203125,-0.10089111328125,-0.52117919921875,-0.76458740234375,-0.69781494140625,-0.12017822265625,-0.35986328125,-0.559326171875,-0.92572021484375,-0.80322265625,-1.10345458984375,-0.35723876953125,-0.74810791015625,-0.52264404296875,-0.538818359375,-1.09295654296875,-0.9375,-1.072021484375,-0.2786865234375,-0.6790771484375,-0.0687255859375,-1.06170654296875,-0.39599609375,-0.6900634765625,-0.584228515625,-0.861083984375,-0.67840576171875,-0.296875,-0.72296142578125,-0.60107421875,-0.07672119140625,-0.4249267578125,-0.44000244140625,-0.11859130859375,-1.16778564453125,-0.85552978515625,-0.387939453125,-0.4090576171875,0.05523681640625,-0.39056396484375,-0.9735107421875,-0.531494140625,-0.0894775390625,-0.7757568359375,-0.0318603515625,-0.80059814453125,0.04150390625,-0.27447509765625,-0.6798095703125,-0.0684814453125,-0.4913330078125,-0.43218994140625,-0.05517578125,-0.5823974609375,-0.12225341796875,-0.09765625,-0.27227783203125,-0.22515869140625,-0.00860595703125,-0.26226806640625,-0.067138671875,0.09381103515625,-0.5767822265625,0.044189453125,0.03912353515625,-0.16168212890625,0.01348876953125,0.29412841796875,-0.29443359375,0.17706298828125,0.27264404296875,0.29058837890625,-0.28619384765625,0.207275390625,0.4244384765625,-0.27740478515625,-0.323974609375,0.05767822265625,-0.04705810546875,0.04644775390625,0.14776611328125,0.1513671875,0.62615966796875,0.4071044921875,0.12890625,0.19586181640625,0.1231689453125,0.1988525390625,-0.1697998046875,-0.03851318359375,0.318359375,0.21124267578125,0.6612548828125,0.8592529296875,0.0611572265625,0.200439453125,0.7210693359375,0.76214599609375,0.50921630859375,0.1375732421875,-0.075927734375,0.50103759765625,0.87188720703125,0.41888427734375,0.85699462890625,0.5714111328125,0.27105712890625,0.69140625,0.99493408203125,0.21484375,0.52362060546875,0.667236328125,0.803955078125,0.3814697265625,0.73193359375,0.71014404296875,0.7821044921875,0.6307373046875,0.2230224609375,0.492919921875,1.03759765625,1.02801513671875,0.985595703125,0.36004638671875,-0.13031005859375,0.33868408203125,0.79925537109375,1.10107421875,0.97503662109375,0.801513671875,1.29345703125,1.38677978515625,0.72808837890625,0.77874755859375,0.46453857421875,0.70489501953125,0.04376220703125,0.83612060546875,0.60888671875,0.8111572265625,0.8765869140625,0.6220703125,0.875732421875,0.9197998046875,0.7313232421875,0.801025390625,1.02392578125,0.8443603515625,1.17486572265625,1.0814208984375,1.14068603515625,1.0596923828125,0.87603759765625,0.96856689453125,1.58685302734375,0.80657958984375,1.087158203125,0.72698974609375,1.271484375,0.80267333984375,0.89227294921875,0.04571533203125,0.797607421875,0.91070556640625,0.712158203125,0.876220703125,0.50347900390625,0.52130126953125,0.4461669921875,0.420654296875,0.97021484375,0.77301025390625,0.93359375,1.28155517578125,0.98333740234375,0.9920654296875,0.68280029296875,0.74786376953125,0.82745361328125,1.71746826171875,0.74591064453125,0.7440185546875,0.93963623046875,1.0491943359375,1.26751708984375,0.99053955078125,0.68408203125,0.97760009765625,1.22015380859375,1.25018310546875,0.767333984375,0.6431884765625,1.1160888671875,1.068359375,0.8997802734375,0.7901611328125,0.581298828125,0.66326904296875,1.15863037109375,1.03668212890625,0.25390625,0.81964111328125,1.53460693359375,1.2445068359375,0.61590576171875,0.4725341796875,0.60675048828125,1.06024169921875,1.47833251953125,1.26544189453125,0.96356201171875,1.1146240234375,0.63958740234375,1.24786376953125,1.09814453125,0.82769775390625,0.9443359375,0.606201171875,0.8294677734375,1.18341064453125,1.14898681640625,0.594482421875,1.060302734375,0.98541259765625,1.043212890625,1.14190673828125,1.23455810546875,0.90618896484375,1.005859375,0.95794677734375,1.428466796875,1.33636474609375,1.13909912109375,0.22344970703125,0.77008056640625,0.5123291015625,1.21978759765625,1.7806396484375,0.33306884765625,0.6016845703125,1.04833984375,0.617431640625,1.1649169921875,1.0301513671875,0.687744140625,1.28662109375,1.3946533203125,0.4259033203125,1.07373046875,0.61151123046875,0.86260986328125,0.56915283203125,0.49627685546875,0.83001708984375,0.60699462890625,0.53814697265625,0.8525390625,0.724365234375,0.89739990234375,1.26416015625,0.61468505859375,1.16925048828125,0.89703369140625,0.56365966796875,0.827880859375,0.34979248046875,0.71044921875,0.183837890625,0.1004638671875,0.3402099609375,0.9466552734375,0.57098388671875,0.19287109375,0.9219970703125,0.349853515625,0.358642578125,0.31072998046875,0.56640625,-0.11004638671875,0.67431640625,0.35211181640625,0.7706298828125,0.54254150390625,0.45452880859375,0.22735595703125,0.10552978515625,0.225341796875,1.0130615234375,0.38958740234375,0.60736083984375,-0.2125244140625,0.137939453125,0.4215087890625,0.3939208984375,0.3624267578125,0.04522705078125,0.6865234375,0.08404541015625,0.4415283203125,0.4693603515625,0.3863525390625,0.31646728515625,-0.10107421875,0.7362060546875,0.52313232421875,-0.0537109375,0.06524658203125,0.55816650390625,0.17510986328125,-0.38372802734375,-0.147705078125,0.17816162109375,0.0064697265625,0.378662109375,0.29730224609375,0.02838134765625,0.04461669921875,0.14727783203125,-0.43798828125,0.04022216796875,0.04376220703125,-0.24078369140625,-0.43792724609375,-0.648681640625,-0.1226806640625,-0.20355224609375,-0.166748046875,0.06732177734375,-0.00518798828125,0.37591552734375,0.05438232421875,-0.04638671875,-0.20965576171875,-0.3275146484375,-0.4384765625,-0.34088134765625,-0.0640869140625,-0.3350830078125,-0.3311767578125,0.00872802734375,0.4609375,-0.22491455078125,-0.6075439453125,0.0699462890625,-0.6485595703125,-0.473388671875,-0.4774169921875,0.01031494140625,-0.13568115234375,-0.7054443359375,-0.455322265625,0.20892333984375,-0.73956298828125,-0.32806396484375,-0.89556884765625,-0.7574462890625,-0.76861572265625,-0.51171875,-0.54278564453125,-0.58251953125,-0.90252685546875,-0.531005859375,-0.060302734375,-0.5806884765625,-0.23876953125,-0.18572998046875,-0.9051513671875,-0.9281005859375,-0.5096435546875,-0.527099609375,-0.26416015625,-0.65936279296875,-0.694580078125,-0.25262451171875,-0.96929931640625,-0.71954345703125,0.02154541015625,-0.650390625,-0.40228271484375,-0.222412109375,-1.21435546875,-0.47711181640625,-0.51080322265625,-0.43109130859375,-0.54168701171875,-0.78741455078125,-0.75030517578125,-0.65008544921875,-0.69140625,-0.5933837890625,-0.9361572265625,-0.75634765625,-0.597412109375,-0.6497802734375,-0.7923583984375,-0.764404296875,-1.19091796875,-0.7437744140625,-0.56011962890625,-0.5184326171875,-0.92095947265625,-1.6041259765625,-1.00592041015625,-1.05596923828125,-0.98187255859375,-1.03900146484375,-0.905029296875,-0.66400146484375,-0.9560546875,-0.44525146484375,-1.26092529296875,-0.72198486328125,-1.065673828125,-1.05181884765625,-0.609619140625,-1.022216796875,-1.26226806640625,-0.64630126953125,-1.0911865234375,-0.741455078125,-0.74609375,-1.31500244140625,-1.1591796875,-1.61456298828125,-1.13665771484375,-0.5125732421875,-0.90985107421875,-0.67755126953125,-0.61944580078125,-1.19891357421875,-0.67218017578125,-1.2860107421875,-1.14031982421875,-1.1722412109375,-0.34710693359375,-0.55010986328125,-0.90380859375,-0.81597900390625,-1.03411865234375,-1.38934326171875,-1.035400390625,-1.1002197265625,-1.1966552734375,-0.60400390625,-0.8377685546875,-0.8917236328125,-1.144287109375,-0.86151123046875,-1.17034912109375,-0.57916259765625,-1.3427734375,-0.86163330078125,-1.09564208984375,-1.1668701171875,-1.42059326171875,-0.8514404296875,-1.01934814453125,-0.09735107421875,-1.24005126953125,-0.61749267578125,-1.07098388671875,-1.3900146484375,-0.44769287109375,-1.18536376953125,-1.12255859375,-1.18951416015625,-1.16552734375,-0.384033203125,-1.5653076171875,-0.74346923828125,-1.11383056640625,-0.797119140625,-0.771240234375,-0.48101806640625,-0.421142578125,-0.84063720703125,-0.25213623046875,-0.55267333984375,-0.484375,-1.04583740234375,-1.006591796875,-1.64886474609375,-0.88470458984375,-1.24005126953125,-0.63336181640625,-1.2515869140625,-1.03179931640625,-0.9246826171875,-0.64849853515625,-0.6011962890625,-1.20458984375,-1.279541015625,-0.3988037109375,-0.6815185546875,-0.959228515625,-0.29052734375,-0.6422119140625,-0.4737548828125,-0.7587890625,-0.70184326171875,-0.21466064453125,-0.86749267578125,-0.08074951171875,-0.69036865234375,-1.15777587890625,-0.69293212890625,-0.74072265625,-1.136474609375,-0.70501708984375,-1.21044921875,-0.65667724609375,-0.59796142578125,-0.38531494140625,-0.47625732421875,-0.589111328125,-0.75897216796875,-0.01025390625,-0.345458984375,-0.5311279296875,-0.6077880859375,-0.8363037109375,-0.57928466796875,-0.576171875,-0.2086181640625,-0.324951171875,-0.441162109375,-0.78778076171875,-0.08935546875,-0.37335205078125,-0.552734375,-0.38922119140625,-0.3917236328125,-0.58404541015625,-0.56048583984375,0.04168701171875,-0.26080322265625,-0.688720703125,0.0440673828125,0.00494384765625,-0.78363037109375,-0.2225341796875,-0.092041015625,-0.2730712890625,-0.2943115234375,-0.1251220703125,-0.05792236328125,-0.25927734375,-0.13043212890625,-0.1861572265625,-0.4991455078125,-0.4742431640625,0.21673583984375,-0.240234375,-0.3616943359375,-0.21160888671875,-0.16064453125,-0.48028564453125,-0.14410400390625,0.11151123046875,-0.17730712890625,-0.610595703125,0.64801025390625,-0.0772705078125,0.137451171875,0.13726806640625,0.18011474609375,-0.30828857421875,-0.23028564453125,0.4033203125,0.31475830078125,-0.47393798828125,0.15093994140625,-0.16558837890625,0.122802734375,-0.0311279296875,0.31390380859375,0.337646484375,0.17974853515625,0.09796142578125,-0.03656005859375,0.09747314453125,0.50732421875,-0.24688720703125,0.2781982421875,0.521484375,0.25982666015625,-0.4119873046875,-0.2532958984375,0.3507080078125,-0.10736083984375,-0.28076171875,0.72979736328125,0.2637939453125,0.0926513671875,0.4356689453125,0.604248046875,0.5374755859375,0.10980224609375,-0.09088134765625,0.3826904296875,0.621826171875,0.21881103515625,0.36895751953125,0.52142333984375,0.45025634765625,0.6051025390625,0.50543212890625,0.34912109375,0.16680908203125,0.54443359375,0.71942138671875,0.394287109375,0.182373046875,1.0201416015625,0.44384765625,0.58026123046875,0.0653076171875,0.8685302734375,0.6781005859375,0.925048828125,0.3544921875,0.64569091796875,0.308837890625,0.84783935546875,-0.11810302734375,0.29473876953125,0.70306396484375,0.51025390625,0.92083740234375,0.596923828125,0.1884765625,0.41265869140625,1.00592041015625,0.36663818359375,0.75067138671875,0.82745361328125,0.74395751953125,0.67645263671875,0.91552734375,0.5465087890625,0.4014892578125,0.5029296875,-0.037841796875,1.0125732421875,0.7059326171875,0.376220703125,0.62451171875,0.8018798828125,0.95465087890625,1.2469482421875,0.67730712890625,0.6007080078125,0.62213134765625,0.34014892578125,0.85736083984375,0.75238037109375,1.229248046875,0.81048583984375,1.2431640625,0.82318115234375,0.28778076171875,1.20977783203125,0.978271484375,0.73980712890625,0.615966796875,0.602783203125,0.41998291015625,0.88165283203125,1.0784912109375,0.580810546875,0.7548828125,0.77398681640625,0.95068359375,0.73907470703125,0.73968505859375,1.3074951171875,1.08074951171875,1.50128173828125,0.59210205078125,1.13787841796875,0.61309814453125,1.5189208984375,1.11297607421875,0.6580810546875,0.69427490234375,0.84503173828125,0.82373046875,1.39117431640625,1.12640380859375,0.68621826171875,0.873291015625,1.1051025390625,0.8636474609375,0.77734375,0.7464599609375,1.7281494140625,0.506103515625,0.84735107421875,1.21331787109375,1.04156494140625,0.7919921875,1.03057861328125,0.78558349609375,0.9051513671875,1.26043701171875,1.1995849609375,0.72686767578125,1.39715576171875,0.97344970703125,1.12188720703125,1.10467529296875,1.0921630859375,1.06732177734375,0.94903564453125,1.26904296875,0.40631103515625,0.9345703125,1.137451171875,0.9188232421875,1.33135986328125,-0.08685302734375,0.326904296875,0.969970703125,1.01666259765625,0.781005859375,0.93194580078125,1.32537841796875,0.73284912109375,1.13330078125,0.88714599609375,0.764404296875,0.89300537109375,0.94183349609375,0.77520751953125,1.12799072265625,0.7847900390625,0.91900634765625,0.8328857421875,0.67193603515625,0.3111572265625,0.70166015625,0.143798828125,0.5291748046875,0.5848388671875,0.370361328125,0.7890625,1.2159423828125,0.8175048828125,0.80712890625,0.44696044921875,0.79083251953125,0.75616455078125,0.24334716796875,0.60980224609375,1.00543212890625,0.89801025390625,1.02783203125,1.158935546875,0.73675537109375,0.6103515625,1.23577880859375,0.70098876953125,0.80328369140625,0.86541748046875,0.593994140625,0.28729248046875,0.53857421875,1.311767578125,0.1741943359375,0.8768310546875,0.4598388671875,1.02117919921875,0.447265625,-0.5594482421875,0.779052734375,0.445068359375,0.58856201171875,0.87890625,0.14727783203125,0.0,0.10845947265625,0.7510986328125,0.29547119140625,0.55267333984375,0.05352783203125,-0.09710693359375,0.180908203125,0.9671630859375,-0.35699462890625,0.14398193359375,0.2332763671875,0.345947265625,0.6158447265625,0.9212646484375,0.2130126953125,0.19219970703125,-0.46484375,0.18853759765625,0.4576416015625,0.1729736328125,0.2056884765625,0.42633056640625,-0.12451171875,0.3636474609375,0.21551513671875,-0.091796875,0.15362548828125,0.24371337890625,0.30694580078125,0.06695556640625,0.515869140625,0.37054443359375,0.5845947265625,-0.189697265625,0.53265380859375,-0.21136474609375,0.32635498046875,0.29766845703125,0.044921875,0.09002685546875,0.23907470703125,-0.00494384765625,-1.00531005859375,-0.118896484375,-0.2276611328125,-0.09027099609375,-0.016845703125,0.14544677734375,-0.42462158203125,0.19378662109375,0.12078857421875,0.025390625,-0.16278076171875,-0.1268310546875,0.3828125,-0.36138916015625,-0.0904541015625,-0.5396728515625,-0.9830322265625,-0.38140869140625,-0.91943359375,-0.31475830078125,-0.4962158203125,-0.3397216796875,0.0452880859375,-0.114501953125,-0.3499755859375,-0.72064208984375,-0.20648193359375,-0.3963623046875,-0.484619140625,-0.25201416015625,-0.70196533203125,-0.28021240234375,0.03509521484375,-0.4625244140625,0.12005615234375,-0.31787109375,-0.02667236328125,-0.2919921875,-0.41180419921875,-0.160400390625,0.079345703125,-0.6461181640625,-0.166015625,-0.41912841796875,-0.6917724609375,-0.4412841796875,-1.0838623046875,-0.536376953125,-0.24951171875,-0.74578857421875,0.298095703125,-0.63348388671875,-1.23980712890625,-0.33868408203125,-0.38128662109375,-0.875,-0.74554443359375,-1.193115234375,-0.81396484375,-0.82183837890625,-0.95269775390625,-0.63958740234375,-1.02655029296875,-0.68682861328125,-0.32012939453125,-0.73504638671875,-0.61865234375,-0.7398681640625,-0.3858642578125,-0.51318359375,-1.070068359375,-1.1351318359375,-0.0643310546875,-0.911376953125,-0.6044921875,-0.8297119140625,-1.22808837890625,-0.5487060546875,-0.35699462890625,-0.8248291015625,-0.94000244140625,-0.78741455078125,-1.35296630859375,-0.75238037109375,-1.223388671875,-0.90911865234375,-1.4599609375,-0.87152099609375,-0.87615966796875,-0.94561767578125,-1.284912109375,-0.86578369140625,-1.301513671875,-0.891845703125,-1.34527587890625,-0.91046142578125,-0.9461669921875,-0.440673828125,-1.45849609375,-0.72515869140625,-0.83203125,-0.90118408203125,-1.23577880859375,-1.5101318359375,-0.80682373046875,-1.36358642578125,-0.72784423828125,-1.25701904296875,-0.94464111328125,-1.6947021484375,-0.75701904296875,-1.1746826171875,-1.39788818359375,-0.93243408203125,-1.04931640625,-1.16412353515625,-0.45697021484375,-1.23651123046875,-1.028564453125,-0.5787353515625,-0.9354248046875,-0.56689453125,-1.2664794921875,-0.9361572265625,-1.281005859375,-0.86151123046875,-0.91009521484375,-0.89605712890625,-1.1884765625,-1.02325439453125,-0.93988037109375,-1.2806396484375,-1.01727294921875,-0.8162841796875,-0.70391845703125,-1.25115966796875,-0.49591064453125,-0.78643798828125,-0.69256591796875,-1.0096435546875,-0.51263427734375,-1.02325439453125,-1.11083984375,-0.86285400390625,-1.3818359375,-0.443115234375,-0.4984130859375,-0.83331298828125,-1.13531494140625,-0.567626953125,-1.805419921875,-0.96051025390625,-1.228271484375,-0.80401611328125,-0.91717529296875,-1.14984130859375,-0.744140625,0.04644775390625,-0.997802734375,-1.01312255859375,-0.63275146484375,-0.43048095703125,-0.49713134765625,-0.7833251953125,-0.73199462890625,-0.6654052734375,-0.60260009765625,-0.4542236328125,-1.1328125,-0.780029296875,-1.2259521484375,-0.5330810546875,-0.768310546875,-1.17529296875,-0.2921142578125,-0.6553955078125,-0.33984375,-0.84588623046875,-1.18389892578125,-0.86798095703125,-1.05389404296875,-0.58734130859375,-0.91510009765625,-0.40142822265625,-0.34619140625,-1.044189453125,-0.34808349609375,-0.830078125,-0.84954833984375,-0.37628173828125,-0.41705322265625,-0.92645263671875,-1.107177734375,-1.16180419921875,-0.64990234375,-0.371826171875,-0.7669677734375,-0.3958740234375,-0.6829833984375,-0.86151123046875,-0.638671875,-0.5640869140625,-0.416259765625,-0.904541015625,-0.38739013671875,-0.6591796875,-0.58966064453125,-0.77490234375,-0.30181884765625,-0.5914306640625,-0.58258056640625,-0.76751708984375,-0.30841064453125,-0.50152587890625,0.135986328125,-0.7386474609375,0.03375244140625,0.09039306640625,-0.6571044921875,-0.885009765625,-0.2471923828125,-0.2762451171875,-0.7052001953125,-0.45440673828125,-0.52587890625,0.14739990234375,0.0906982421875,-0.1309814453125,0.3704833984375,0.04144287109375,0.04052734375,-0.2669677734375,-0.23358154296875,-0.330078125,0.06707763671875,-0.05621337890625,0.11785888671875,-0.70416259765625,-0.058349609375,0.12310791015625,-0.5718994140625,-0.798583984375,0.04205322265625,0.30560302734375,0.13409423828125,-0.25128173828125]]]}}},\"view\":{\"type\":\"object\",\"name\":\"CDSView\",\"id\":\"p7857\",\"attributes\":{\"filter\":{\"type\":\"object\",\"name\":\"AllIndices\",\"id\":\"p7858\"}}},\"glyph\":{\"type\":\"object\",\"name\":\"Line\",\"id\":\"p7853\",\"attributes\":{\"x\":{\"type\":\"field\",\"field\":\"x\"},\"y\":{\"type\":\"field\",\"field\":\"y\"},\"line_color\":\"red\"}},\"nonselection_glyph\":{\"type\":\"object\",\"name\":\"Line\",\"id\":\"p7854\",\"attributes\":{\"x\":{\"type\":\"field\",\"field\":\"x\"},\"y\":{\"type\":\"field\",\"field\":\"y\"},\"line_color\":\"red\",\"line_alpha\":0.1}},\"muted_glyph\":{\"type\":\"object\",\"name\":\"Line\",\"id\":\"p7855\",\"attributes\":{\"x\":{\"type\":\"field\",\"field\":\"x\"},\"y\":{\"type\":\"field\",\"field\":\"y\"},\"line_color\":\"red\",\"line_alpha\":0.2}}}},{\"type\":\"object\",\"name\":\"GlyphRenderer\",\"id\":\"p7867\",\"attributes\":{\"data_source\":{\"type\":\"object\",\"name\":\"ColumnDataSource\",\"id\":\"p7861\",\"attributes\":{\"selected\":{\"type\":\"object\",\"name\":\"Selection\",\"id\":\"p7862\",\"attributes\":{\"indices\":[],\"line_indices\":[]}},\"selection_policy\":{\"type\":\"object\",\"name\":\"UnionRenderers\",\"id\":\"p7863\"},\"data\":{\"type\":\"map\",\"entries\":[[\"x\",{\"type\":\"ndarray\",\"array\":{\"type\":\"bytes\",\"data\":\"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\"},\"shape\":[2000],\"dtype\":\"float64\",\"order\":\"little\"}],[\"y\",{\"type\":\"ndarray\",\"array\":{\"type\":\"bytes\",\"data\":\"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\"},\"shape\":[2000],\"dtype\":\"float64\",\"order\":\"little\"}]]}}},\"view\":{\"type\":\"object\",\"name\":\"CDSView\",\"id\":\"p7868\",\"attributes\":{\"filter\":{\"type\":\"object\",\"name\":\"AllIndices\",\"id\":\"p7869\"}}},\"glyph\":{\"type\":\"object\",\"name\":\"Line\",\"id\":\"p7864\",\"attributes\":{\"x\":{\"type\":\"field\",\"field\":\"x\"},\"y\":{\"type\":\"field\",\"field\":\"y\"},\"line_color\":\"blue\",\"line_width\":3}},\"nonselection_glyph\":{\"type\":\"object\",\"name\":\"Line\",\"id\":\"p7865\",\"attributes\":{\"x\":{\"type\":\"field\",\"field\":\"x\"},\"y\":{\"type\":\"field\",\"field\":\"y\"},\"line_color\":\"blue\",\"line_alpha\":0.1,\"line_width\":3}},\"muted_glyph\":{\"type\":\"object\",\"name\":\"Line\",\"id\":\"p7866\",\"attributes\":{\"x\":{\"type\":\"field\",\"field\":\"x\"},\"y\":{\"type\":\"field\",\"field\":\"y\"},\"line_color\":\"blue\",\"line_alpha\":0.2,\"line_width\":3}}}}],\"toolbar\":{\"type\":\"object\",\"name\":\"Toolbar\",\"id\":\"p7830\",\"attributes\":{\"tools\":[{\"type\":\"object\",\"name\":\"PanTool\",\"id\":\"p7843\"},{\"type\":\"object\",\"name\":\"WheelZoomTool\",\"id\":\"p7844\",\"attributes\":{\"renderers\":\"auto\"}},{\"type\":\"object\",\"name\":\"BoxZoomTool\",\"id\":\"p7845\",\"attributes\":{\"overlay\":{\"type\":\"object\",\"name\":\"BoxAnnotation\",\"id\":\"p7846\",\"attributes\":{\"syncable\":false,\"level\":\"overlay\",\"visible\":false,\"left_units\":\"canvas\",\"right_units\":\"canvas\",\"top_units\":\"canvas\",\"bottom_units\":\"canvas\",\"line_color\":\"black\",\"line_alpha\":1.0,\"line_width\":2,\"line_dash\":[4,4],\"fill_color\":\"lightgrey\",\"fill_alpha\":0.5}}}},{\"type\":\"object\",\"name\":\"SaveTool\",\"id\":\"p7847\"},{\"type\":\"object\",\"name\":\"ResetTool\",\"id\":\"p7848\"},{\"type\":\"object\",\"name\":\"HelpTool\",\"id\":\"p7849\"}]}},\"left\":[{\"type\":\"object\",\"name\":\"LinearAxis\",\"id\":\"p7838\",\"attributes\":{\"ticker\":{\"type\":\"object\",\"name\":\"BasicTicker\",\"id\":\"p7839\",\"attributes\":{\"mantissas\":[1,2,5]}},\"formatter\":{\"type\":\"object\",\"name\":\"BasicTickFormatter\",\"id\":\"p7840\"},\"major_label_policy\":{\"type\":\"object\",\"name\":\"AllLabels\",\"id\":\"p7841\"}}}],\"below\":[{\"type\":\"object\",\"name\":\"LinearAxis\",\"id\":\"p7833\",\"attributes\":{\"ticker\":{\"type\":\"object\",\"name\":\"BasicTicker\",\"id\":\"p7834\",\"attributes\":{\"mantissas\":[1,2,5]}},\"formatter\":{\"type\":\"object\",\"name\":\"BasicTickFormatter\",\"id\":\"p7835\"},\"major_label_policy\":{\"type\":\"object\",\"name\":\"AllLabels\",\"id\":\"p7836\"}}}],\"center\":[{\"type\":\"object\",\"name\":\"Grid\",\"id\":\"p7837\",\"attributes\":{\"axis\":{\"id\":\"p7833\"}}},{\"type\":\"object\",\"name\":\"Grid\",\"id\":\"p7842\",\"attributes\":{\"dimension\":1,\"axis\":{\"id\":\"p7838\"}}},{\"type\":\"object\",\"name\":\"Legend\",\"id\":\"p7859\",\"attributes\":{\"items\":[{\"type\":\"object\",\"name\":\"LegendItem\",\"id\":\"p7860\",\"attributes\":{\"label\":{\"type\":\"value\",\"value\":\"Output Signal\"},\"renderers\":[{\"id\":\"p7856\"}]}},{\"type\":\"object\",\"name\":\"LegendItem\",\"id\":\"p7870\",\"attributes\":{\"label\":{\"type\":\"value\",\"value\":\"Input Signal\"},\"renderers\":[{\"id\":\"p7867\"}]}}]}}]}}]}};\n",
       "  const render_items = [{\"docid\":\"4f5476e4-b050-45a0-84ab-3b905ea03035\",\"roots\":{\"p7821\":\"fbfe7441-ddd8-421c-807f-6fee18a62032\"},\"root_ids\":[\"p7821\"]}];\n",
       "  root.Bokeh.embed.embed_items_notebook(docs_json, render_items);\n",
       "  }\n",
       "  if (root.Bokeh !== undefined) {\n",
       "    embed_document(root);\n",
       "  } else {\n",
       "    let attempts = 0;\n",
       "    const timer = setInterval(function(root) {\n",
       "      if (root.Bokeh !== undefined) {\n",
       "        clearInterval(timer);\n",
       "        embed_document(root);\n",
       "      } else {\n",
       "        attempts++;\n",
       "        if (attempts > 100) {\n",
       "          clearInterval(timer);\n",
       "          console.log(\"Bokeh: ERROR: Unable to run BokehJS code because BokehJS library is missing\");\n",
       "        }\n",
       "      }\n",
       "    }, 10, root)\n",
       "  }\n",
       "})(window);"
      ],
      "application/vnd.bokehjs_exec.v0+json": ""
     },
     "metadata": {
      "application/vnd.bokehjs_exec.v0+json": {
       "id": "p7821"
      }
     },
     "output_type": "display_data"
    }
   ],
   "source": [
    "awgn_gain = 0.3\n",
    "\n",
    "# Generate input samples\n",
    "fin_tBits, fin_fBits = kria.get_format(awgn,awgn_regmap.RegMap.F_IN_ADDR)\n",
    "#n = 1024\n",
    "#samples = np.ones(n) * 2**(fin_fBits)\n",
    "#samples = samples.astype(np.int32)\n",
    "\n",
    "# Create Sine Wave\n",
    "T = 0.00002\n",
    "# Sampling frequency\n",
    "fs = 100e6\n",
    "# Number of samples\n",
    "n = int(T * fs)\n",
    "# Time vector in seconds\n",
    "t = np.linspace(0, T, n, endpoint=False)\n",
    "# Samples of the signal\n",
    "samples = np.sin(0.2e6*2*np.pi*t) \n",
    "# Convert samples to 32-bit integers\n",
    "print('Number of samples: ',len(samples))\n",
    "samples = samples * 2**(fBits)\n",
    "samples = samples.astype(np.int32)\n",
    "#plot_time(samples)\n",
    "\n",
    "# Read Gain Register\n",
    "awgn_tBits, awgn_fBits = kria.get_format(awgn,awgn_regmap.RegMap.F_AWGN_ADDR)\n",
    "awgn.write(awgn_regmap.RegMap.AWGN_NOISE_GAIN_ADDR,int(awgn_gain*(2**awgn_fBits)))\n",
    "awgn.write(awgn_regmap.RegMap.AWGN_ENABLE_ADDR,1)\n",
    "\n",
    "\n",
    "print(\"AWGN Gain           : \" + str(awgn.read(awgn_regmap.RegMap.AWGN_NOISE_GAIN_ADDR)/(2**awgn_fBits)))\n",
    "print(\"AWGN Enable         : \" + str(awgn.read(awgn_regmap.RegMap.AWGN_ENABLE_ADDR)))\n",
    "print(\"DMA Transfer Size   : \" + str(len(samples)))\n",
    "\n",
    "# Allocate buffers for the input and output signals\n",
    "in_buffer = allocate(shape=(len(samples),), dtype=np.int32)\n",
    "out_buffer = allocate(shape=(len(samples),), dtype=np.int32)\n",
    "\n",
    "# Copy the samples to the in_buffer\n",
    "np.copyto(in_buffer,samples)\n",
    "\n",
    "# Trigger the DMA transfer and wait for the result\n",
    "import time\n",
    "start_time = time.time()\n",
    "dma.sendchannel.transfer(in_buffer)\n",
    "#print('Submit sending the transfer into in_buffer')\n",
    "dma.recvchannel.transfer(out_buffer)\n",
    "#print('Submit receiving the transfer from out_buffer')\n",
    "dma.sendchannel.wait()\n",
    "#print('Done Sending the transfer to in_buffer')\n",
    "dma.recvchannel.wait()\n",
    "#print('Done receiving the transfer from out_buffer')\n",
    "stop_time = time.time()\n",
    "hw_exec_time = stop_time-start_time\n",
    "\n",
    "print('DMA Transfer Execution Time  :',hw_exec_time,' sec')\n",
    "\n",
    "# Plot to the notebook\n",
    "#plot_time(t,samples,2000,out_signal=out_buffer)\n",
    "\n",
    "# Free the buffers\n",
    "in_buffer.close()\n",
    "out_buffer.close()\n",
    "t = (out_buffer & 0xFFFF)\n",
    "out_fp = []\n",
    "for x in t:\n",
    "    if(x>(2**(tBits-1))):\n",
    "          x = x - (2**(tBits))\n",
    "    out_fp.append(x/(2**fBits))\n",
    "plot_time(samples/(2**fBits),out_fp)"
   ]
  },
  {
   "cell_type": "code",
   "execution_count": 94,
   "metadata": {},
   "outputs": [],
   "source": [
    "del in_buffer, out_buffer"
   ]
  },
  {
   "cell_type": "code",
   "execution_count": null,
   "metadata": {},
   "outputs": [],
   "source": []
  }
 ],
 "metadata": {
  "kernelspec": {
   "display_name": "Python 3 (ipykernel)",
   "language": "python",
   "name": "python3"
  },
  "language_info": {
   "codemirror_mode": {
    "name": "ipython",
    "version": 3
   },
   "file_extension": ".py",
   "mimetype": "text/x-python",
   "name": "python",
   "nbconvert_exporter": "python",
   "pygments_lexer": "ipython3",
   "version": "3.10.12"
  }
 },
 "nbformat": 4,
 "nbformat_minor": 4
}
