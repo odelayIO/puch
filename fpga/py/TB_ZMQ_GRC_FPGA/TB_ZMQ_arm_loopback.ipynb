{
 "cells": [
  {
   "cell_type": "markdown",
   "metadata": {},
   "source": [
    "### Initize puch and create object"
   ]
  },
  {
   "cell_type": "code",
   "execution_count": 1,
   "metadata": {},
   "outputs": [
    {
     "name": "stdout",
     "output_type": "stream",
     "text": [
      "opening fn_arm2fpga...\n",
      "opening fn_fpga2arm...\n",
      "Created Read Pipe: /home/xilinx/jupyter_notebooks/puch/fifo_arm2fpga\n",
      "Created Read Pipe: /home/xilinx/jupyter_notebooks/puch/fifo_fpga2arm\n"
     ]
    }
   ],
   "source": [
    "import matplotlib.pylab as plt\n",
    "import pandas as pd\n",
    "import numpy as np\n",
    "import time\n",
    "import ipywidgets as widgets\n",
    "from ipywidgets import HBox, VBox\n",
    "import puch\n",
    "import threading\n",
    "\n",
    "#puch_xfer = puch.puch(fn_arm2fpga=\"/home/xilinx/jupyter_notebooks/puch/fifo_arm2fpga\", fn_fpga2arm=\"/home/xilinx/jupyter_notebooks/puch/fifo_fpga2arm\")\n",
    "puch_xfer = puch.puch()"
   ]
  },
  {
   "cell_type": "markdown",
   "metadata": {},
   "source": [
    "### Simple Gain Control in Software"
   ]
  },
  {
   "cell_type": "code",
   "execution_count": null,
   "metadata": {},
   "outputs": [],
   "source": []
  },
  {
   "cell_type": "code",
   "execution_count": 13,
   "metadata": {},
   "outputs": [
    {
     "data": {
      "application/vnd.jupyter.widget-view+json": {
       "model_id": "06fe61c273c54aabb8e97ec30bc54a75",
       "version_major": 2,
       "version_minor": 0
      },
      "text/plain": [
       "FloatSlider(value=1.0, description='Signal Gain:', max=10.0, min=0.1)"
      ]
     },
     "metadata": {},
     "output_type": "display_data"
    }
   ],
   "source": [
    "slider = widgets.FloatSlider(min=0.1,max=10,value=1,description='Signal Gain:')\n",
    "display(slider)\n",
    "\n",
    "def slider_handler(change):\n",
    "    slider.value = change.new\n",
    "    \n",
    "slider.observe(slider_handler, names='value')\n",
    "\n",
    "def work(slider):\n",
    "    while True:\n",
    "        #print('start block transfer...')\n",
    "        cData = puch_xfer.read_fifo(N=2**16)\n",
    "        #print('Read')\n",
    "        puch_xfer.write_fifo(cData+slider.value) \n",
    "        #print('Write')\n",
    "        #time.sleep(0.01)\n",
    "        \n",
    "\n",
    "thread = threading.Thread(target=work, args=(slider,))\n",
    "thread.start()\n"
   ]
  },
  {
   "cell_type": "code",
   "execution_count": null,
   "metadata": {},
   "outputs": [],
   "source": []
  }
 ],
 "metadata": {
  "kernelspec": {
   "display_name": "Python 3",
   "language": "python",
   "name": "python3"
  },
  "language_info": {
   "codemirror_mode": {
    "name": "ipython",
    "version": 3
   },
   "file_extension": ".py",
   "mimetype": "text/x-python",
   "name": "python",
   "nbconvert_exporter": "python",
   "pygments_lexer": "ipython3",
   "version": "3.6.5"
  }
 },
 "nbformat": 4,
 "nbformat_minor": 4
}
